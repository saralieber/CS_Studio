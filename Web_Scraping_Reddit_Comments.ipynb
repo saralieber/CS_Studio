{
  "nbformat": 4,
  "nbformat_minor": 0,
  "metadata": {
    "colab": {
      "name": "Web_Scraping_Reddit_Comments.ipynb",
      "provenance": [],
      "authorship_tag": "ABX9TyOkKiB/L+tA+krpdY21IPHG",
      "include_colab_link": true
    },
    "kernelspec": {
      "name": "python3",
      "display_name": "Python 3"
    }
  },
  "cells": [
    {
      "cell_type": "markdown",
      "metadata": {
        "id": "view-in-github",
        "colab_type": "text"
      },
      "source": [
        "<a href=\"https://colab.research.google.com/github/saralieber/CS_Studio/blob/master/Web_Scraping_Reddit_Comments.ipynb\" target=\"_parent\"><img src=\"https://colab.research.google.com/assets/colab-badge.svg\" alt=\"Open In Colab\"/></a>"
      ]
    },
    {
      "cell_type": "code",
      "metadata": {
        "id": "akqPx_2b9-3F",
        "colab_type": "code",
        "colab": {
          "base_uri": "https://localhost:8080/",
          "height": 135
        },
        "outputId": "b0370759-4ebd-427c-c417-1126aba5f661"
      },
      "source": [
        "pip install praw"
      ],
      "execution_count": 2,
      "outputs": [
        {
          "output_type": "error",
          "ename": "SyntaxError",
          "evalue": "ignored",
          "traceback": [
            "\u001b[0;36m  File \u001b[0;32m\"<ipython-input-2-89379ad3abcb>\"\u001b[0;36m, line \u001b[0;32m1\u001b[0m\n\u001b[0;31m    pip install praw\u001b[0m\n\u001b[0m              ^\u001b[0m\n\u001b[0;31mSyntaxError\u001b[0m\u001b[0;31m:\u001b[0m invalid syntax\n"
          ]
        }
      ]
    },
    {
      "cell_type": "code",
      "metadata": {
        "id": "A-75Fq5q-HNd",
        "colab_type": "code",
        "colab": {}
      },
      "source": [
        "import praw"
      ],
      "execution_count": 0,
      "outputs": []
    },
    {
      "cell_type": "code",
      "metadata": {
        "id": "911BVUM_-K-k",
        "colab_type": "code",
        "colab": {}
      },
      "source": [
        "my_client_id = 'Jbow2fXurn00og'\n",
        "my_client_secret = 'OqTPW2Bo1sMKmZurQ2LpOZLAkjc'\n",
        "my_user_agent = 'scrapescrape'"
      ],
      "execution_count": 0,
      "outputs": []
    },
    {
      "cell_type": "code",
      "metadata": {
        "id": "t1G53OSsBptC",
        "colab_type": "code",
        "colab": {}
      },
      "source": [
        "reddit = praw.Reddit(client_id=my_client_id, client_secret=my_client_secret, user_agent=my_user_agent)"
      ],
      "execution_count": 0,
      "outputs": []
    },
    {
      "cell_type": "code",
      "metadata": {
        "id": "oatsgG2HCIYL",
        "colab_type": "code",
        "colab": {
          "base_uri": "https://localhost:8080/",
          "height": 219
        },
        "outputId": "c6050f22-cea4-4ac4-ce0d-39d99052f62d"
      },
      "source": [
        "# Test - get top 10 hot posts from MachineLearning subreddit\n",
        "hot_posts = reddit.subreddit('MachineLearning').hot(limit=10)\n",
        "for post in hot_posts:\n",
        "    print(post.title)"
      ],
      "execution_count": 24,
      "outputs": [
        {
          "output_type": "stream",
          "text": [
            "[D] Simple Questions Thread May 17, 2020\n",
            "[D] Machine Learning - WAYR (What Are You Reading) - Week 88\n",
            "[D] An Ops-Guys perspective: ML for production needs declarative configs and automation\n",
            "[D][N] Microsoft demos language model that writes code based on signature and comment\n",
            "[P] Latest TensorFlow 2.2 wheels with CUDA 10.2 and Python3.8\n",
            "[D] What are your favorite papers from ICLR 2020? + a list of our picks by domain.\n",
            "[R] Visual Relationship Detection using Scene Graphs: A Survey\n",
            "[P] Lucid + PyTorch = Lucent!\n",
            "[N] Update from the NeurIPS organizers: They plan on deciding the exact conference format (fully online vs. hybrid) by Sept. Remote presentation will be supported for NeurIPS authors no matter what.\n",
            "[N] Windows is adding CUDA/cuDNN support to WSL\n"
          ],
          "name": "stdout"
        }
      ]
    },
    {
      "cell_type": "code",
      "metadata": {
        "id": "HCuq2ZxaUAU-",
        "colab_type": "code",
        "colab": {}
      },
      "source": [
        "import pandas as pd\n",
        "\n",
        "posts = []\n",
        "\n",
        "ml_subreddit = reddit.subreddit('MachineLearning')\n",
        "\n",
        "for post in ml_subreddit.hot(limit=10):\n",
        "  posts.append([post.title, post.score, post.id, post.subreddit, post.url, post.num_comments, post.selftext, post.created])\n",
        "posts = pd.DataFrame(posts, columns=['title', 'score', 'id', 'subreddit', 'url', 'num_comments', 'body', 'created'])\n",
        "print(posts)"
      ],
      "execution_count": 0,
      "outputs": []
    },
    {
      "cell_type": "code",
      "metadata": {
        "id": "pIkMK2sXaguO",
        "colab_type": "code",
        "colab": {}
      },
      "source": [
        "print(ml_subreddit.description)"
      ],
      "execution_count": 0,
      "outputs": []
    },
    {
      "cell_type": "code",
      "metadata": {
        "id": "dGVf9r3Lbw0c",
        "colab_type": "code",
        "colab": {}
      },
      "source": [
        "# Page with the post & comments\n",
        "submission = reddit.submission(url=\"https://www.reddit.com/r/MapPorn/comments/a3p0uq/an_image_of_gps_tracking_of_multiple_wolves_in/\")\n",
        "\n",
        "# To just get the top-level comments:\n",
        "for top_level_comment in submission.comments:\n",
        "  print(top_level_comment.body) # this will work for some submission, but for others with more comments you can get an AttributeError saying 'MoreComments' object has no attribute 'body'\n",
        "  # the 'MoreComments' object represents the \"load more comments\" and \"continue this thread\" links encountered on the webpage\n",
        "\n",
        "# To get rid of the 'MoreComments' objects, can check the datatype of each comment before printing the body\n",
        "from praw.models import MoreComments\n",
        "for top_level_comment in submission.comments:\n",
        "  if isinstance(top_level_comment, MoreComments):\n",
        "    continue\n",
        "  print(top_level_comment.body)"
      ],
      "execution_count": 0,
      "outputs": []
    },
    {
      "cell_type": "code",
      "metadata": {
        "id": "l3hxeinddDB6",
        "colab_type": "code",
        "colab": {}
      },
      "source": [
        "# BUT, praw already provides a method called replace_more\n",
        "## It replaces or removes the 'MoreComments'\n",
        "## This method takes an argument called limit which, when set to 0, will remove all 'MoreComments'\n",
        "submission.comments.replace_more(limit=0)\n",
        "for top_level_comment in submission.comments:\n",
        "  print(top_level_comment.body)"
      ],
      "execution_count": 0,
      "outputs": []
    },
    {
      "cell_type": "code",
      "metadata": {
        "id": "0ecAB_XNdHZS",
        "colab_type": "code",
        "colab": {}
      },
      "source": [
        "# The comment section can be arbitrarily deep, though, and most of the time we surely also want to get the comments of the comments\n",
        "## 'CommentForest' provides the .list method, which can be used for getting all comments inside the comment section\n",
        "\n",
        "submission.comments.replace_more(limit=0)\n",
        "for comment in submission.comments.list():\n",
        "  print(comment.body)"
      ],
      "execution_count": 0,
      "outputs": []
    },
    {
      "cell_type": "markdown",
      "metadata": {
        "id": "aAk3xPkvdqee",
        "colab_type": "text"
      },
      "source": [
        "Perform the web scraping from Reddit in python process for the clothing post:"
      ]
    },
    {
      "cell_type": "code",
      "metadata": {
        "id": "wgi2_8Spb6sS",
        "colab_type": "code",
        "colab": {
          "base_uri": "https://localhost:8080/",
          "height": 55
        },
        "outputId": "301fbe66-32e5-453d-841b-84f50171ee86"
      },
      "source": [
        "clothing_causes = reddit.submission(url=\"https://www.reddit.com/r/femalefashionadvice/comments/f3bmf0/ffa_lowno_buy_week_7_what_causes_you_to_shop/\")\n",
        "\n",
        "from praw.models import MoreComments\n",
        "\n",
        "for top_level_comment in clothing_causes.comments:\n",
        "  if isinstance(top_level_comment, MoreComments):\n",
        "    continue\n",
        "\n",
        "comments = []\n",
        "\n",
        "clothing_causes.comments.replace_more(limit=0)\n",
        "for top_level_comment in clothing_causes.comments:\n",
        "  print(top_level_comment.body)"
      ],
      "execution_count": 37,
      "outputs": [
        {
          "output_type": "stream",
          "text": [
            "[\"I shop when I'm bored, sad and feel fat. I'm having difficulties with finding other things to do since it's winter where I love currently. I working on the depression with a therapist meds and podcasts. When I'm feeling crappy and chubby and I start shopping and I go to choose a size I talk myself out of it because I will be loosing weight this year.\", 'I shop when I need a “treat” and I also get a little dopamine hit from finding a good deal.', 'One of the best pieces of advice I ever got on this subject was about hair. The advice was, \"do you want her haircut, or do you actually just want her face?\" It fundamentally changed the way I approached haircuts. No, it turns out I don\\'t want bangs; I want to be a hot, gamine 20-year-old Ukrainian model. I\\'m not, and bangs look like garbage on me. I\\'m also way too lazy and they give me forehead acne.\\n\\nI\\'ve since extrapolated that advice to apply to clothing. Do I really want this piece of clothing, or do I want the body it looks good on? Taking it even further: Do I really want new clothes, or do I want to be *a new person?*\\n\\nTo some extent it\\'s obviously appropriate to remodel your wardrobe to reflect who you feel you are - that\\'s why most of us are here, after all. Self-expression is important, and sometimes it\\'s pragmatically necessary too; like, I look like a child, and so it\\'s been important for my professional career to dress way more severely. But a lot of the time, I\\'m actually shopping because something\\'s wrong and I\\'m trying to fill that void.\\n\\nMost of the time the thing that is wrong relates to how I\\'m feeling about myself. I want to be a new person, and in my mind, a fresh piece of clothing feels like it will let me play a role: someone who isn\\'t me, but rather, who\\'s better. Spoiler: it won\\'t. Anywhere you go, there you are. I do love my new, extremely pointy faux crocodile skin boots, but I\\'m still an anxious wreck inside. Shopping will not fix this.', \"I shop when I'm anticipating something but can't *do* anything else to prepare for it. My SO and I started wedding planning, but haven't actually gotten engaged yet, so I'm all over looking for bargain-but-beautiful bridesmaid dresses, outfits for a honeymoon, etc. I have two trips abroad coming up this year, the flights are booked and everything is planned so the only thing I have left to hype myself up with is a couple new pieces for the trips, right? When I get in a rut at work I reinvent my work look, I went on a midi skirt tear a few months ago. Things like that.\\n\\nGranted, I've gotten better about allowing myself to online window shop but not actually purchase, and that really helps satisfy my need for the hunt without being wasteful of money and resources.\", 'Not sure if this makes sense, but I feel like shopping (& finding a piece I really like) gives me a little high that’s totally separate from whatever else is going on in my life. I can still smile when I think about my new sweater even if I’ve got a mile-long to do list, I’m arguing with my SO, or my pup’s sick.\\n\\nWriting this out, I’m wondering if there are other little “wins” I can look for to take the place of shopping/finding that new thing, like maybe an artistic outlet where I can *make* rather than *buy.*', \"When I'm trying to distract myself from having emotions with the thought of not being good enough. I think that if I could just make myself look as great as possible, maybe everyone will like me and everything will be ok.\", 'My shopping is often aspirational. \"If I own those North Face pants, i\\'ll be the type of person who goes hiking more.\" \"Once I have that structured sheath dress, I\\'ll automatically be more responsible and adult-like at work.\"', 'I grew up as a shopaholic.  That type of behavior was normalized (cue most teen movies of the era having the mall as the be all end all hangout) and my stepgrandmother was addicted to shopping.  Once I started working, my paychecks were spent on clothes, accessories, etc.  \\n\\nFor the last few years, I\\'m going \\'gradual minimalist\\' and slowly shrinking how many items I own.  For 2020, I am aiming for 10 or fewer clothing items coming in that are not a direct replacement for something worn out (ie replacing a ratty black shirt with a different black shirt).  (I\\'ll never do the whole capsule wardrobe thing as I\\'m the type of person that would rather have more clothes and do laundry less often.)   I was initially going to do no buy but realize that sometimes I want to buy a shirt from an event (or similar) so I left that option open.  (I still do have a $50/month budget for clothing/shoes/accessories that can carry over if I don\\'t use it one month)\\n\\nFrom 1/15-3/15 I am on a total financial diet (started late to take advantage of post holiday sales).  I ended up buying a clearance sweater to replace a worn out one before the diet started.  (I can only spend money on groceries, transportation, and bills).   My prior habits tend to have me being good in some categories while going overboard in others.  In 2017-2018 this was pink yarn (I make/sell Women\\'s March hats).  In 2019, I didn\\'t buy any pink yarn (still using up my stash) but the shopping bug transferred to makeup (to the point where I expanded my storage system).  This diet isn\\'t allowing me to buy ANY pink yarn or makeup in this time period and is trying to shift my habits.\\n\\nEven though I\\'m lasering in on the \"personal care\" category (thanks r/MakeupRehab), I\\'m also focusing secondarily on clothing and reducing numbers (one pair of socks will be put in my H&M clothing recycling bag after I wash them as they\\'re holey).  My end goal is to have at least twice as many items go out than in in 2020.  My dresser/closet is quite full and unlike my acrylic makeup organizer, I can\\'t easily buy another piece that will neatly stack into it.', \"After medical appointments, mostly. My self-control is pretty effective until I'm feeling low after seeing the Doctor, even if there's no bad news. it's just the process of psyching myself up for it and then having to go back to work, I always want to soften the blow with a visit to the shops.\", 'I recently moved to a new area and left all of my friends behind. I shop because it feels good to get out of the house and it’s one of the few things that you can do  alone without getting pitying looks from people. I would love to make friends in the area so that I would have other reasons to leave the house instead of shopping alone but honestly have no idea how to make friends as an adult who is no longer meeting people at school.', 'When I’m bored (at work) I browse, something inevitably catches my eye. I now have a rule that I have to think about it for at least a few weeks before I am allowed to buy it. If I forget about it, then I didn’t really need it. Similarly, the piece has to be versatile, i.e. be appropriate for at least 2-3 different things. And it needs to match with something already in my wardrobe. The week before my period, all hell breaks loose and I don’t stick to my own rules. Last month, I bought 14 table runners and 3 table clothes “for when we entertain a lot of people” (we never do). This month, I bought 3 dresses on EBay that were a good deal, but that definitely don’t fill a hole in my closet. They did, however, fill a hole in my Gal Meets Glam-loving heart', 'For me I start to shop when I’m bored cause there’s no harm in looking right? (wrong) \\n\\nAlso, seeing good sales that pop up in my email. \\n\\nWhat I think about to prevent purchases,  is the fact it took 2 days to konmari my closet and how I don’t want to go through that again. \\n\\nThen I look at the item and think about the quality / trendiness. Like, will I wear this in 2 months? Will it last x amount of time? \\n\\nAlso, used an app called unroll me to unsub from all store emails to avoid getting tempted by sales.', \"I shop when I don't want to go home.\\n\\nIt's thrift to resell, or personal items that need replacing, recently a big maternity store is going out of business and I'm broody. It's bizarre, I know, but if I'm lucky enough to fall pregnant I won't be able to borrow much from friends. Who doesn't want expensive, happy, stretchy pretties for 80% off?\\n\\nI spend a lot of time wandering grocery stores (I love them). I browse forever in the produce section, discover neat treats like star apples. Read all of the nutrition labels and do our meal maths mentally. I eat low sodium, but honestly I have it all memorized by now. \\n\\nI do our heavy linen loads at the laundromat, partially to be able to wash all of the comforters, towels, sheets, etc at once, but also not to shop.\", \"I shop when I'm sad. Things have been very hard recently so I feel like I go shopping more or online shop nowadays way more than I used to. \\nI'm not making much progress in terms of dealing with it, but I erased all my saved credit cards from my web browser so I have to actually get up and look around for it lol\", 'God, I don\\'t know if anyone else feels like this, but sometimes, I just get hit with the \"I want to shop right now.\" I\\'ve been through the Konmari phase. I\\'ve tried getting rid of a lot of stuff. That stopped me from shopping for a while, but sometimes, after you watch a \"thrift with me video\", I die.\\n\\nBut luckily, I\\'ve slapped myself out of it for a while. I look online, add stuff to my cart, and never buy it. I try to organize my own clothing, and that is really the stopper. Goal is to have less than 50 pieces of clothes, but it\\'s hard. T_T', 'I shop when I\\'m bored and want to get out of the house/interact with people. I\\'m trying to find other hobbies that I can just \"drop in\" and mini-socialize. Its hard though!\\n\\nAnd I shop when I feel bad about my body. I don\\'t always love it, but I sometimes feel like fashion is the way I\\'ll feel confident?', 'I shop because I finally feel really good. This last year I got a promotion, lost some weight, went from always dying my hair dark to a lighter color that really suits me. I started finding outfits/looks that make me feel so confident and good about myself, and I get stuck in a cycle of wanting to keep it up. It’s so good to feel good, but at what price?', 'This sub has actually really helped me with low/no shopping so far this year. It started with me cleaning out my closet and realizing... I hated about 80% of my clothes. The funny thing is, I\\'m quite good at styling and I can help style my friends and family easily. It\\'s ME I have major trouble styling ::facepalm::\\n\\nI decided to find my personal style this year - I figured out my season, and I\\'ve been reading the book Anuschka Rees \"Curated Closet\" which has helped me - it takes things step by step. I\\'m on the inspiration step - taking pictures of your daily outfits, curating inspiration boards, defining my style with keywords. I decided I\\'m not buying anything until I figure this out. \\n\\nWhenever I do start to purchase again, I\\'m going to do that \"5 items per season\" rule - only because I\\'m terrified of filling up my closet with clothes that make me feel terrible all over again. I realized it\\'s been about 15 years of shopping whenever I please and I really don\\'t want to be like that anymore. It\\'s going to take time to get rid of the itch but I\\'m happy with the progress I\\'ve made so far.', 'I shop when I see deal or sales and feel the need to buy have and store. Something I’m trying to break out of.', \"I shop when there's a good sale, or when I'm bored at work. I also tend to overbuy for vacations. For some reason when I go out of town, I feel I need to buy totally new clothes to take with me as I like to carefully curate outfits while on vacation and look cute for pictures. Sometimes I just feel like I need to treat myself, and I feel like I'm in the mood to spend money. These are all very destructive habits and I just constantly have to ask myself if I really need an item and if I'm really going to wear it.\", 'So I shop when I need a dopamine hit. I go to school in a major city and whenever I’m bored studying or something is stressing me out, I get the urge to go buy myself something to feel better. I’m trying to not do this as much and focus my energy on creative outlets to relax like drawing and writing which has worked out pretty well. Since January 1st, I’ve purchased a pair of jeans, 2 bodysuits to wear on my birthday weekend, and a pair of pants which is actually a big improvement for me.', 'I’m actually addicted to shopping. And I know I am. Once a month or so I just “need” to buy things. And not just one or two shirts because that’s “not worth it”. I need a whole haul. I imagine the outfits I can make with the new clothes and it makes me happy and excited. It’s gotten to the point that I have so many clothes I don’t even realize what I own. I have lots of unworn clothes too because I sometimes buy things that will only work for very specific occasions. \\nBut nothing beats that high of a new purchase. It makes me feel great. Especially with online shopping because I get a second high when the clothes actually arrive. But then that high goes away eventually. And I need another fix. \\nI know all this about myself, and my once a month spending is a huge improvement from my once every week I was spending before. I try to limit myself but it’s really hard >.<', 'I buy when the price is right. I cannot resist off season clearance markdowns. I bought 70.00 golf shorts for 90% off. The style doesn’t change on things like this. Also Holiday turtlenecks and cardigans etc.', \"I've been losing weight steadily since about August (thanks Vyvanse, you fix my brain chemistry but also make me never eat) and it's been hard to *not* shop because my clothes don't fit right anymore. I treated myself to a sale shirt this week because I was so frustrated with the fit of most of my work wardrobe, even though I really should have saved that money.\", 'I shop when I’m stressed.  I’ve been trying to clean my closets instead and it’s been working some of the time.', 'This is a great topic! I have been recently struggling with my own bad buying habits. I have more recently been trying to work towards overcoming this very thing.   \\nWhat caused me to shop was seeing a really cute outfit, whether it be on someone I knew or online at one of my favourite stores and having this feeling of \"I have to have it\". Browsing online when I\\'m bored is also a huge one for me as it leads me to discover things that I think I needed/ want. \\n\\n  \\nAfter realizing the perils in online shopping/browsing. I\\'ve made some rules with myself that I have to wait a certain amount of time before purchasing any item. usually a 2-3 window and beyond to really make sure that I am actually interested in the item and it\\'s not an impulse buy. I also like to live by the rule that anything new coming into the closet, something ought to leave (as this also helps with not having to purchase more hangers and whatnot) I also unsubscribed from all my favorite stores, and don\\'t follow them on Instagram, so that I am not seeing new styles and outfit pieces that may trigger me to want something.', 'For me, it\\'s the thrill of the hunt. I love trying to find outrageous bang for you buck deals, but then I later realize the money probably could have been better spent on a larger purchase, or put towards something like a vacation.\\n\\nThe other reason I think I shop is because it feels like a sort of advancement of myself. By coalescing my wardrobe into a more \"fashionable\" state, it feels like I\\'m accomplishing something. This probably stems from the fact that I find my job to be fairly unfulfilling so I find solace in consumerism. Milestones in the middle of life are few and far between. It feels like an almost endless void between where I am now in my career and retirement, so fashion fills the gap and gives me something to work towards in a more immediate timeline.\\n\\nAt the end of the day I should really scale back because my closets are full and I don\\'t \"need\" anything else.', \"I shop when I'm feeling discontent with my life and antsy for change. Buying pieces that seem more adult or more like the person I want to be makes me feel like I'm making progress and moving forward, even if I'm not.\", 'I shop to grow my wardrobe appropriately. Transitioning my wardrobe from early twenties to late twenties is more complicated that I though it would be! I try to stick to things that are versatile and second hand what I can but when I’m stressed, my online shopping can be impulsive.', \"When I feel socially anxious about something, like starting work in a new place or feeling lonely and friendless, I start shopping to reinvent my image of myself and feel confident. I'm not good at creating outfits that fit specific events (or I'm just too picky about it, idk) so I always feel over or underdressed, unless I've specifically shopped with that occasion in mind. Of course, this doesn't help when it's really uncertainty and anxiety that makes me feel underconfident, and the outfit is just an expensive way to feel reassured.\", 'I shop when I\\'m bored, sometimes as a \"fun bonding activity\" with a friend, and really feel the itch when I have an event coming up (even if it\\'s something small like anticipating a karaoke night on a weekend with friends). I\\'m working on replacing the itch with something much healthier, such as getting excited about the books I\\'m reading and the recipes I want to try. I\\'m on a no-buy because I literally have no more space nor need for anything for a very long time.', 'I’ll make an excuse to buy something I don’t need like a REALLY cute dress, but I’m super reluctant to spend money on things I do need. For example, I only have one bra right now and zero sports bras. So I’ve been working out in my normal bra and just go braless in my normal clothes 80% of the time 🤦\\u200d♀️. But I don’t want to spend money on bras! Maybe I’m also just picky. But I tend to shop when I feel happy and confident about myself, and have extra money.', \"For me it's a combination of mindset and physical opportunity. Most of my shopping happens when I get off work and I'm feeling stressed out or sad, and I pass by a thrift store on my way home. My impulse control is lowered by the stress of work and I want to celebrate my freedom by chilling out for a while just looking at clothes by myself. Since I committed to no shopping this year, I've been making an effort to walk on the other side of the street from the thrift store, and I think that little bit of extra distance has helped me resist the impulse to go inside.\", 'I haven’t really been buying things on impulse anymore but I’ve been buying clothes cause I feel like I need it. Especially when there’s a sale, and it’s an item that I really want but never wanted to buy on full price. I just stopped subscribing to stores’ emails so I wouldn’t know if they have sales or not.', 'I have two main shopping occasions.\\n\\nThe first is social.  I hang out with a friend.  We have coffee and egg each other on.  We laugh, giggle and occasionally squeal at finding the perfect item.  We spend too much money but it is glorious social bonding fun.  These are the occasions when I find clothes that are not ‘needed’ and tend to be more frivolous.\\n\\nThe other occasion is when i specifically need an item.  Then I go online and try a few different favourite sites until I find something. I’m much more picky about these items and will not buy unless it’s perfect.\\n\\nSo the first occasion is clearly where I need to focus if I want to cut down!', 'I shop when I’m lonely and I can’t get any of my friends to leave the house. Shopping is something you can always do alone. It feels less stupid than going to a museum or coffeehouse or something by yourself. (I work from home so I have a different level of interaction needs than most of my friends who work office jobs.)', 'I always have a running list of things I am looking for - so if I see something on the list, I definitely want to get it. \\n\\nI will also be tempted by someone, some trend or something, and suddenly I\\'ll be obsessed with that item. And I\\'ll likely just get it.\\n\\nI shop when I feel like the items I have aren\\'t presenting what I\\'d like to present at the moment. Right now I am trying to figure out solid colors, as a step to a slightly smaller wardrobe. But I don\\'t really like solids or things that feel too plain. But they are more versatile than my arsenal of printed stuff. \\n\\nI shop when I am a little bored and I need inspiration. I love window shopping. I always have. Usually I don\\'t buy anything other than a snack or a magazine. \\n\\nI am also so Bridget Jones. When I want to start a new hobby or whatever, I feel like I need to shop to kickstart the mood. E.g. \"I am trying to cook at home more, so I need good containers to store my leftovers in. Oh is that pan a really great color? When was the last time I bought a pan?\" \\n\\nI am working on reorganizing and redecorating may apartment. I went a little crazy at the container store.\\n\\nAnd another thing that triggers shopping for me, sales of course. I am trying to moderate this impulse in 2 ways. One I have basically unsubscribed from a lot of emails for the mass brands, that are readily always in budget. Instead I am only on the mailing list for aspirational brands. Brands that I really need a 70% discount for to afford. This works really well for me, but cause I won\\'t really buy at full price.  Or if I did I would have needed to save, and wanted it for a while and so on. Today that happened. A jacket I have been wanting for 4-6 months suddenly went on sale for 70% off. Sold. Hopefully it is a lovely as my brain has hyped it up to be. It suits the sort of mood I have been with my clothing. And I tried a similar piece and it didn\\'t fit well. Hopefully this version nailed the details. \\n\\nAnyway, I am trying to get better at the shopping thing, and use what I have. And this year I am focused.  Last year was one of my best shopping years, but I went crazy at the end of the year, because some of the things on my list popped up, and the trends suit me well in some ways. This year I want to persevere.', 'Stress. I stayed up til 3 AM because I drank tea too late in the day and got stressed that I couldn’t sleep and am planning a wedding 2 weeks away. \\n\\nTwo purchases were for the wedding (couch rental and a hair accessory) but two were beauty products (magnetic eyeliner and eyelashes, the ordinary lactic acid 5%) that is been thinking about and pulled the trigger in the middle of the night because my brain didn’t have any self discipline left.', 'Advertising really does get me - I’ve unsubscribed from a lot of email newsletters. \\n\\nIf I feel like there’s a gap in my wardrobe - for example, I NEED high waisted skinny jeans in light grey with a long inseam and no distressing/raw hem that are under $150 and I cannot find that shit *anywhere*\\n\\nIf I’m entering a new phase or type of work - like right now I’m moving into asking for a promotion at work so I’ve been picking up a few nicer business pieces.', \"I installed depop and bought a few choice items I could never bring myself to buy in store or online for the full asking price (such as a kanken backpack, an Instax camera, an MK tote bag...)\\n\\nI wanted some of those items for a while, and for the past few months I thought I was spending my money wisely, because I was buying what I wanted for a long time but never for the full asking price.\\n\\nThe issue was that my purchases weren't spaced out at all, due to the fact I browse depop when I can't sleep. Being on an insomniac streak and in my sleep-deprived state, it was easier to justify spending 80 Euro on a tote bag than 250. So I went from having healthy January savings to getting through that AND half my February income by the tenth of this month.\\n\\nI decided to go on a no-buy and told this to a few people so I could be held to that. I have plans for the intermediate future which include gathering money for a rental deposit, and I can't build those savings up if I keep buying cute used things at 3 am. \\n\\nPlus my closet is already stuffed, and I don't want to make it any harder on myself when I move.\", 'Sometimes I shop online at loft or banana republic and put a bunch of stuff in my cart. Scratches the itch. Then come back to the cart in a day or two, often I decide I don’t really want any of it. Weird but works for me.', \"I spent 28 years in warm weather and recently moved to a snowy state. I've been buying cute clothes for warm spring days/summer dreaming of days to wear them.\", 'I find it easy to obsess over a item until I buy it 😐😓', \"If it's not something I NEED, like non-holey underwear? Probably because I\\n\\na) feel awful about my looks and use shopping as a cope (I pick up more makeup than clothes this way, though)\\n\\nb) have stumbled across some item I never expected to see, am skeptical about ever seeing again, and like a lot (this is often the case with eBay)\", \"new season change is always a shopping trigger for me, as it's just a natural chance to change up my look and the marketing push is usually big at those time.\\n\\nWhile I haven't shopped in Zara (and similar) in a little bit, the things they are showing for spring are SUPER tempting for me.  I didn't buy a ton last spring, so the styles are somewhat different than what I currently have in my closet.  In the past I might buy some things now in spring preparation, although I won't be getting warm weather until April.  But I am going to try to wait to buy anything until the weather changes, I assess my existing spring/summer clothing, and I can determine if I would wear a purchase immediately.  I'm also more tempted to buy new for spring summer.  Thrifting for sweaters is relatively easy, but I don't always have as much luck with warm weather clothes where the fit can be more specific.  But I am going to try to limit myself to 3-4 new pieces for the season max.  And maybe another 5-6 thrifted pieces.  I was relatively unhappy with my summer wardrobe last season.\", 'I’ve been on a no buy since October. Things that make me shop are free time, money, and space, and gift cards. \\n\\nSince Christmas I basically have no money, time, closet space. So that’s helped with my record. \\nI’m doing a slow clothing purge. I think I’ve purged about 4 bags of clothes. \\n\\nI’m contemplating breaking my no buy soon. I found one of my lost target gift cards from Christmas. Plus I have been completely miserable teaching and taking condensed college. Money, space and time are starting to improve.', \"When I'm bored or start to feel anxious. Its a terrible habit. But due to this habit I found Wool and the Gang and impulsively bought a sweater to knit. I'm hoping this new buy will help me find a new hobby and I'll feel that same high I get when I shop, by knitting my own sweaters. If I get good enough to not have to use their patterns/knitting materials then it'll be a win-win because I can shop cheaply for materials and still come out on the other side with cute clothes that I made lol.\", 'I was doing so well and then treatment for a chronic body concern has caused my feet to grow half a size. I’m pretty positive I was already wearing a half size too small, and my feet have a half size difference so essentially none of my shoes fit. I’ve had to buy an all new shoe collection, and unfortunately I’m in a city with variable temperatures (40° one day 80° two days later) so it’s not like I’m in a situation where I could buy two types of shoes and call it a day. It’s been really stressful but it has shown me which shoes I consider necessities and which shoes are not', 'Sales, me forgetting what’s in my closet and/or finding rare new variations on a theme that I really like. I made a commitment to catalog the items that I have, unsubscribed from a bunch of company mailing lists and learned unsettling information about some companies that I used to consider aspirational.', \"at this point I mostly buy clothes when I notice myself repeatedly wishing that I had something. Like this summer, I kept putting together outfits and wishing that I had a white heel to wear with them. Eventually I went out and bought white heels since I knew that it would fit in my existing wardrobe. Also if I keep seeing other people wear something and wishing that I also had it, like recently I kept seeing people wear colorful corduroys until I finally got myself a pair.\\nI spent a lot of time at the beginning of college realizing I didn't actually like my style in high school so I had to buy a lot of things to replace what I was wearing, but now I really like the clothes that I own so I try to wear them a lot and styled differently each time. I really just buy things now to fill in the gaps as I notice them or to keep up with specific trends that I like.\", 'I used to shop when I was sad, really happy, or bored. Now I just shop when I actually need new clothes, like for an event or something. For some reason, the process of finding clothes, trying them on, etc is not as fun as it used to be and feels more like a chore than anything. Shoes and bags OTOH...', 'I do it when I’m struggling with body image. I’m working on losing weight, so I’m on a low buy until I size down pretty significantly, but when I feel hopeless I think ‘oh, I’m always going to be this size, I might as well give up and buy jeans I like’.', 'I shop when I have a big trip coming up, literally 2-3 days before leaving. To get new outfits and new shoes... luckily I don’t travel a lot but 3 times a year for work. I normally don’t buy clothes unless otherwise. Sometimes I wish I could because then I would be up to date in the fashion world... lol', 'For me, its finding one solution, but it needs support.  Example, going to Egypt/Jordan (tomorrow!!).  I will have 2 semi dressy dinners, and 2 semi dressy meetings.  Well I am going to need a skirt thats long (between the knee and ankles, closer to ankles), packs well, (low wrinkle, rolls up small), and drys fast (in sink wash).  Yes got the skirt, but now I need some tops that will work with the skirt and my (already have/own pants), found one, bought in two colors, 3/4 sleeve, snap up front, long enough to cover your rear in leggings, thin enough to tuck into the skirt or pant, bonus, can be used as a lightweight jacket.  last issues, need a wide belt (looks great with a long shirt belted over the skirt, or pants), and due to colors some brown travel booties, and some sort of dress shoe.  So need one item (the skirt, for dress occasions), but to optimize my use of the one item, end up purchasing 5 more things (2 shirt, 1 belt, 2 shoes).  I was able to get some very light inexpensive items belt used from ebay $5.00, the \"dress\" shoe is a cheep ballet type fabric shoe ($8.00), not good for a day of walking but fine for dinners/meetings.  I know will reuse the skirt in future travels, and the shirts also and not just for travel.   But still, one item just creates the need for another to complement the first.', \"So glad this is here.\\n\\nI shop when I'm bored... shopping apps don't help!\\n\\nAgreed with other users who mention the dopamine hit. I mostly shop vintage and used clothing, and finding an older piece that's the perfect deal... such a great high!\\n\\nOne tactic I do use is purchasing, and then returning things. I usually find I don't actually want to keep them, I just want to try them on...\", 'I browse online when I’m bored. I think of an item I “need” and hunt for the perfect version of that item. The thrill of the hunt keeps me going. Once I find the item I then plan when or how I will purchase it. Luckily this process means I am not buying very often, but I am thinking about it often and that is what I am trying to change this year.', \"Going to Target makes me buy clothes so my husband and I agreed together that I am not allowed to go there alone. I'll drop $80-100+ on a whim there.\", 'I\\'m someone who loves planning.  Its one of my favourite things to do (ex. planning a vacation, planning my weekend).  I feel like shopping is an offshoot of that - I get some kind of high from finding and filling \"gaps\" in my wardrobe and researching options to buy.  Planning my wardrobe basically.  I put gaps in quotes because they\\'re not essential purchases - I don\\'t have a sherpa jacket in my wardrobe, but is that really a gap or am I just getting randomly tempted?  (It\\'s the latter)', \"Shopping is actually fun you guys! It's a skill and it feels really good to exercise it even when it's not needed.\", 'I\\'ve been pretty good but i did order a dress from sezane because I have been feeling not very cute lately and just want to feel feminine and young, but the dress made me look like a sack so it\\'s going back haha. I usually shop when I feel like I have a void in my wardrobe or when I see a lot of people looking cute in one thing/style and want to emulate it. Sadly - when I am trying to save money and not spend, like right now, other expenses show themselves. So while I\\'m not buying clothes right now, I do have 2 destination weddings, one of which I\\'m a bridesmaid in. I\\'m excited but I\\'m also like damn this is inconvenient haha.  \\n\\n\\nI also find myself having an idealized version of my style/self that I rarely succeed in emulating. A lot of times when I shop, I\\'ll buy things with the idea of like \"oh this will be great for this outfit I never wear\" but then I just end up wearing the same jeans/t-shirt to work.', \"Mostly depression and boredom. I've gotten to the point where I feel like I have enough clothes and I am trying to force myself to work with what I already have and get creative about coordinating old clothes new ways, but it's so easy to shop online when I feel bad and I do get the dopamine rush from it. When it comes to thrifting, it's the thrill of finding that one great item in a haystack of crap. I've been trying to pay off my credit card and any time I spend money on anything these days I try to think about how the money I have translates into hours worked. Like if I spent $100 on one item that's about a whole day's worth of work I did to earn the money to buy that one item. That's been dissuading me a little.\\n\\nLately I've been trying to devote any disposable income that I budget towards buying records instead of clothing. Nobody cares about what I'm wearing but my listeners care about hearing new music, and having more records to spin at gigs is worth a lot more than yet another item of clothing. Also records will last me longer than most articles of clothing, which can be pretty ephemeral.\", 'This is interesting. As of Feb. 14, I\\'ve purchased one pair of sneakers. I bought them because my other sneakers were getting worn out (although admittedly I didn\\'t throw them out, so it\\'s not like they\\'re completely bent out of shape). \\n\\nI\\'m planning to shop today, here\\'s how I\\'m \"justifying\" it (I\\'m looking for a red or metallic top or dress): I want to \"treat myself\" because it\\'s Valentine\\'s Day, I want to look sexier than I normally go for, and I want to lean into the idea that being single doesn\\'t stop me from entering into my feminine energy. I guess I\\'m trying to manifest that through an article of clothing.', 'I shop when I’m bored sometimes though I usually have not buying from that shopping on lock. \\n\\nUsually I buy things only if I feel like my wardrobe needs them? I limit myself to only owning what will fit in my dresser and closet comfortably. I don’t have a lot of space so it is important and I always have that in the back of my mind - what am I getting rid of / donating to make room for this new thing, or will it even fit if I don’t ?', 'I shop when I need something.', 'When my wardrobe stresses me out, like if I’ve been feeling like I can’t put together good outfits, or my pile of “repair, clean, or alter” gets too large', 'All clothes I buy are second hand because I don’t feel bad on an environmental level. I get to a point with my wardrobe where I’ve worn the same thing many times and become sick of outfits and find no joy (and even embarrassment for some reason) in wearing them. Usually boredom is enough to get me shopping.\\nOR I find myself in the deep depths of resale websites when I’m bored and obsess over clothes I want until I buy them/ someone else does.', 'I shop when I’m bored. I went through a phase where I was following way too many boutiques and browsing daily like it was social media.\\n\\nI’ve cut back considerably and unfollowed or muted all but the few I frequent.\\n \\nI’ve found it to be the most helpful to make a private pin board of items I want to buy, sorted by item type (tops, dresses, sweaters, etc). When I see something I like, I pin it and it helps me see what my current interests are across multiple sites. Then I sit on it and cull it down. And as I see I’ve pinned six striped sweaters I ask myself “do I NEED another striped sweater?” It helps scratch the itch of shopping without pulling the trigger. Then when places are doing sales, I already know what I’d be interested in buying. And I usually talk myself out of it.\\n\\nNow that I’m on a limited income, I’ve only browsed at places I have gift cards or credit. Again, scratches the itch and I’ve been especially choosy since I want to get *the best* buy with the credit.', 'I used to shop out of boredom. Now I only shop when I feel like I’m really missing something. This has made me, my surroundings, and my wallet a lot happier.\\n\\nI still tend to window shop to an almost ridiculous degree though. Online, in person, doesn’t matter. I go to target when I’m bored and just look at stuff.', \"I think a big part of me shopping is being unhappy with my post baby body. Something I have recently realized and am trying to work on. It's hard though, because I own a vintage clothing shop, so sourcing clothes is part of my job.\"]\n"
          ],
          "name": "stdout"
        }
      ]
    }
  ]
}