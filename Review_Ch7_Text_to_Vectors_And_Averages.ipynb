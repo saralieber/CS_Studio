{
  "nbformat": 4,
  "nbformat_minor": 0,
  "metadata": {
    "colab": {
      "name": "Review_Ch7_Text_to_Vectors_And_Averages.ipynb",
      "provenance": [],
      "authorship_tag": "ABX9TyMGJFx8RgbP/cVwKmEOf7Xr",
      "include_colab_link": true
    },
    "kernelspec": {
      "name": "python3",
      "display_name": "Python 3"
    }
  },
  "cells": [
    {
      "cell_type": "markdown",
      "metadata": {
        "id": "view-in-github",
        "colab_type": "text"
      },
      "source": [
        "<a href=\"https://colab.research.google.com/github/saralieber/CS_Studio/blob/master/Review_Ch7_Text_to_Vectors_And_Averages.ipynb\" target=\"_parent\"><img src=\"https://colab.research.google.com/assets/colab-badge.svg\" alt=\"Open In Colab\"/></a>"
      ]
    },
    {
      "cell_type": "markdown",
      "metadata": {
        "id": "372o6fT5RraP",
        "colab_type": "text"
      },
      "source": [
        "## Embeddings\n",
        "\n",
        "Take a complex structure and reduce it to a vector encoding. The vector encoding should be low dimensional and compact. The vector captures \"features\" of the structure in a way that structures that are similar have similar vectors.\n",
        "\n",
        "We will look at how to \"embded\" text into a vector\n",
        "\n",
        "## Example\n",
        "\n",
        "Find similarities among these words and the creatures they designate. First, look for similarities between `kitten` and `hamster`.\n",
        "\n",
        "![Animal spreadsheet](http://static.decontextualize.com/snaps/animal-spreadsheet.png)\n",
        "\n",
        "We will come up with two features that we think are important for animals - cuteness and size.\n",
        "\n",
        "Each word is associated with a 2d vector (cuteness, size).\n"
      ]
    },
    {
      "cell_type": "code",
      "metadata": {
        "id": "1OjL5t8NR063",
        "colab_type": "code",
        "colab": {
          "base_uri": "https://localhost:8080/",
          "height": 520
        },
        "outputId": "ce2450bf-6c37-4797-c411-0ce4f9991360"
      },
      "source": [
        "# Build the pandas version of the table above\n",
        "## Use a pandas method that converts a list of row values in a table\n",
        "\n",
        "## First, create a list of lists representing the rows in the above table \n",
        "## [['animal_name', cuteness, size]]\n",
        "rows = [\n",
        "    ['kitten', 95,15],\n",
        "    ['hamster', 80,8],\n",
        "    ['tarantula', 8,3],\n",
        "    ['puppy', 90, 20],\n",
        "    ['crocodile', 5, 40],\n",
        "    ['dolphin', 60,45],\n",
        "    ['panda bear', 75, 40],\n",
        "    ['lobster', 2, 15],\n",
        "    ['capybara', 70, 30],\n",
        "    ['elephant', 65, 90],\n",
        "    ['mosquito', 1, 1],\n",
        "    ['goldfish', 25, 2],\n",
        "    ['horse', 50, 50],\n",
        "    ['chicken', 25, 15]\n",
        "]\n",
        "\n",
        "\n",
        "# Then, create the column names\n",
        "columns = ['animal', 'cuteness', 'size']\n",
        "\n",
        "\n",
        "# Then, use the pd.DataFrame.from_records() function to convert the above into a table\n",
        "## pd.DataFrame.from_records(data_with_rows, columns = data_with_column_names)\n",
        "import pandas as pd\n",
        "animal_table = pd.DataFrame.from_records(rows, columns=columns)\n",
        "animal_table = animal_table.set_index(['animal']) # make animal names the index\n",
        "animal_table"
      ],
      "execution_count": 2,
      "outputs": [
        {
          "output_type": "execute_result",
          "data": {
            "text/html": [
              "<div>\n",
              "<style scoped>\n",
              "    .dataframe tbody tr th:only-of-type {\n",
              "        vertical-align: middle;\n",
              "    }\n",
              "\n",
              "    .dataframe tbody tr th {\n",
              "        vertical-align: top;\n",
              "    }\n",
              "\n",
              "    .dataframe thead th {\n",
              "        text-align: right;\n",
              "    }\n",
              "</style>\n",
              "<table border=\"1\" class=\"dataframe\">\n",
              "  <thead>\n",
              "    <tr style=\"text-align: right;\">\n",
              "      <th></th>\n",
              "      <th>cuteness</th>\n",
              "      <th>size</th>\n",
              "    </tr>\n",
              "    <tr>\n",
              "      <th>animal</th>\n",
              "      <th></th>\n",
              "      <th></th>\n",
              "    </tr>\n",
              "  </thead>\n",
              "  <tbody>\n",
              "    <tr>\n",
              "      <th>kitten</th>\n",
              "      <td>95</td>\n",
              "      <td>15</td>\n",
              "    </tr>\n",
              "    <tr>\n",
              "      <th>hamster</th>\n",
              "      <td>80</td>\n",
              "      <td>8</td>\n",
              "    </tr>\n",
              "    <tr>\n",
              "      <th>tarantula</th>\n",
              "      <td>8</td>\n",
              "      <td>3</td>\n",
              "    </tr>\n",
              "    <tr>\n",
              "      <th>puppy</th>\n",
              "      <td>90</td>\n",
              "      <td>20</td>\n",
              "    </tr>\n",
              "    <tr>\n",
              "      <th>crocodile</th>\n",
              "      <td>5</td>\n",
              "      <td>40</td>\n",
              "    </tr>\n",
              "    <tr>\n",
              "      <th>dolphin</th>\n",
              "      <td>60</td>\n",
              "      <td>45</td>\n",
              "    </tr>\n",
              "    <tr>\n",
              "      <th>panda bear</th>\n",
              "      <td>75</td>\n",
              "      <td>40</td>\n",
              "    </tr>\n",
              "    <tr>\n",
              "      <th>lobster</th>\n",
              "      <td>2</td>\n",
              "      <td>15</td>\n",
              "    </tr>\n",
              "    <tr>\n",
              "      <th>capybara</th>\n",
              "      <td>70</td>\n",
              "      <td>30</td>\n",
              "    </tr>\n",
              "    <tr>\n",
              "      <th>elephant</th>\n",
              "      <td>65</td>\n",
              "      <td>90</td>\n",
              "    </tr>\n",
              "    <tr>\n",
              "      <th>mosquito</th>\n",
              "      <td>1</td>\n",
              "      <td>1</td>\n",
              "    </tr>\n",
              "    <tr>\n",
              "      <th>goldfish</th>\n",
              "      <td>25</td>\n",
              "      <td>2</td>\n",
              "    </tr>\n",
              "    <tr>\n",
              "      <th>horse</th>\n",
              "      <td>50</td>\n",
              "      <td>50</td>\n",
              "    </tr>\n",
              "    <tr>\n",
              "      <th>chicken</th>\n",
              "      <td>25</td>\n",
              "      <td>15</td>\n",
              "    </tr>\n",
              "  </tbody>\n",
              "</table>\n",
              "</div>"
            ],
            "text/plain": [
              "            cuteness  size\n",
              "animal                    \n",
              "kitten            95    15\n",
              "hamster           80     8\n",
              "tarantula          8     3\n",
              "puppy             90    20\n",
              "crocodile          5    40\n",
              "dolphin           60    45\n",
              "panda bear        75    40\n",
              "lobster            2    15\n",
              "capybara          70    30\n",
              "elephant          65    90\n",
              "mosquito           1     1\n",
              "goldfish          25     2\n",
              "horse             50    50\n",
              "chicken           25    15"
            ]
          },
          "metadata": {
            "tags": []
          },
          "execution_count": 2
        }
      ]
    },
    {
      "cell_type": "markdown",
      "metadata": {
        "id": "OmdK-TlGTLRl",
        "colab_type": "text"
      },
      "source": [
        "You can begin to ask questions like... \n",
        "\n",
        "*Which animal is most similar to a capybara?*\n",
        "\n",
        "Some methods would be to use the capybara as the reference group and compare each other row using euclidean distance or cosine similarity.\n",
        "\n",
        "Visualize the animals in 2-dimensional space based on their cuteness and size scores:\n",
        "\n",
        "![Animal space](http://static.decontextualize.com/snaps/animal-space.png)"
      ]
    },
    {
      "cell_type": "code",
      "metadata": {
        "id": "5iYZZiVaTjd8",
        "colab_type": "code",
        "colab": {
          "base_uri": "https://localhost:8080/",
          "height": 163
        },
        "outputId": "90066816-355b-46a8-8ade-d31331b6eaea"
      },
      "source": [
        "# Flush the old uo_puddles directory and re-import\n",
        "!rm -r 'uo_puddles'\n",
        "my_github_name = 'uo-puddles' # can replace with your account name\n",
        "clone_url = f'https://github.com/{my_github_name}/uo_puddles.git'\n",
        "!git clone $clone_url\n",
        "import uo_puddles.uo_puddles as up"
      ],
      "execution_count": 3,
      "outputs": [
        {
          "output_type": "stream",
          "text": [
            "rm: cannot remove 'uo_puddles': No such file or directory\n",
            "Cloning into 'uo_puddles'...\n",
            "remote: Enumerating objects: 234, done.\u001b[K\n",
            "remote: Counting objects: 100% (234/234), done.\u001b[K\n",
            "remote: Compressing objects: 100% (198/198), done.\u001b[K\n",
            "remote: Total 234 (delta 139), reused 64 (delta 33), pack-reused 0\u001b[K\n",
            "Receiving objects: 100% (234/234), 59.83 KiB | 7.48 MiB/s, done.\n",
            "Resolving deltas: 100% (139/139), done.\n"
          ],
          "name": "stdout"
        }
      ]
    },
    {
      "cell_type": "code",
      "metadata": {
        "id": "TOl1ljmvT2PI",
        "colab_type": "code",
        "colab": {
          "base_uri": "https://localhost:8080/",
          "height": 35
        },
        "outputId": "02765797-e902-4aff-98c5-26faac57312e"
      },
      "source": [
        "# Based on graph, pandas look most similar to capybaras\n",
        "# Calculate euclidean distances between pandas and capybaras using the euclidean_distance function from the uo_puddles library\n",
        "\n",
        "up.euclidean_distance([70,30], [75,40])"
      ],
      "execution_count": 4,
      "outputs": [
        {
          "output_type": "execute_result",
          "data": {
            "text/plain": [
              "11.180339887498949"
            ]
          },
          "metadata": {
            "tags": []
          },
          "execution_count": 4
        }
      ]
    },
    {
      "cell_type": "code",
      "metadata": {
        "id": "kPW90prCUFr3",
        "colab_type": "code",
        "colab": {
          "base_uri": "https://localhost:8080/",
          "height": 35
        },
        "outputId": "359d75ab-c902-40a5-d8bc-fa1d6aa1bc25"
      },
      "source": [
        "# Based on the graph, tarantula and elephant look for away from each other\n",
        "# Express this differnce as a number\n",
        "\n",
        "up.euclidean_distance([8,3], [65,90])"
      ],
      "execution_count": 5,
      "outputs": [
        {
          "output_type": "execute_result",
          "data": {
            "text/plain": [
              "104.0096149401583"
            ]
          },
          "metadata": {
            "tags": []
          },
          "execution_count": 5
        }
      ]
    },
    {
      "cell_type": "code",
      "metadata": {
        "id": "zVAFD4viUURs",
        "colab_type": "code",
        "colab": {}
      },
      "source": [
        "# You can find which animal is closest to any point chosen point in space.\n",
        "## Write a function below for doing so\n",
        "\n",
        "def ordered_embeddings(target_vector, table): # define a new function, called ordered_embeddings, that takes a target_vector and a table as inputs\n",
        "                                              # the target_vector needs to be a list (convert to a list if it's not)\n",
        "  names = table.index.tolist() # names is a list of the indexes from the provided table (in this case, would be the animal names)\n",
        "  ordered_list = [] # the results ordering difference between each animal and the target_animal will be listed in order here\n",
        "  for i in range(len(names)): # for each animal row\n",
        "    name = names[i] # name is an interation of each row in the animal table\n",
        "    row = table.loc[name].tolist() # convert each row to a list\n",
        "    d = up.euclidean_distance(target_vector, row) # calculate distance between the target_animal and the animal in each other row of the table\n",
        "    ordered_list.append([d, names[i]]) # fill the ordered_list with the calculated distances and names of each animal\n",
        "  ordered_list = sorted(ordered_list) # sort the list from lowest to highest distance\n",
        "\n",
        "  return ordered_list"
      ],
      "execution_count": 0,
      "outputs": []
    },
    {
      "cell_type": "code",
      "metadata": {
        "id": "xNoGwJk_VPoJ",
        "colab_type": "code",
        "colab": {
          "base_uri": "https://localhost:8080/",
          "height": 272
        },
        "outputId": "8f159c06-0a9f-44e2-da2d-3dc1d0a0728a"
      },
      "source": [
        "# Use puppy as the target_vector and calculate distances\n",
        "\n",
        "pup = animal_table.loc['puppy'].tolist()\n",
        "ordered_embeddings(pup,animal_table)\n",
        "\n",
        "# puppy is most similar to a puppy (d = 0), and then a kitten (d = 7.07)"
      ],
      "execution_count": 7,
      "outputs": [
        {
          "output_type": "execute_result",
          "data": {
            "text/plain": [
              "[[0.0, 'puppy'],\n",
              " [7.0710678118654755, 'kitten'],\n",
              " [15.620499351813308, 'hamster'],\n",
              " [22.360679774997898, 'capybara'],\n",
              " [25.0, 'panda bear'],\n",
              " [39.05124837953327, 'dolphin'],\n",
              " [50.0, 'horse'],\n",
              " [65.19202405202648, 'chicken'],\n",
              " [67.446274915669, 'goldfish'],\n",
              " [74.33034373659252, 'elephant'],\n",
              " [83.74365647617735, 'tarantula'],\n",
              " [87.32124598286491, 'crocodile'],\n",
              " [88.14193099768123, 'lobster'],\n",
              " [91.00549433962765, 'mosquito']]"
            ]
          },
          "metadata": {
            "tags": []
          },
          "execution_count": 7
        }
      ]
    },
    {
      "cell_type": "code",
      "metadata": {
        "id": "6CwCi8VjVkSa",
        "colab_type": "code",
        "colab": {
          "base_uri": "https://localhost:8080/",
          "height": 35
        },
        "outputId": "566474b9-5631-480a-8343-b8222619fd32"
      },
      "source": [
        "# Calculate what is halfway between a chicken and an elephant\n",
        "\n",
        "elephant = animal_table.loc['elephant'].tolist()\n",
        "chicken = animal_table.loc['chicken'].tolist()\n",
        "\n",
        "zipped = zip(elephant, chicken) # the zip() function returns a zip object, which is an interator of tuples where the first item in each passed iterator is paired together, and then the second item, etc.\n",
        "list(zipped) # [(elephant_cutness, chicken_cuteness), (elephant_size, chicken_size)]"
      ],
      "execution_count": 12,
      "outputs": [
        {
          "output_type": "execute_result",
          "data": {
            "text/plain": [
              "zip"
            ]
          },
          "metadata": {
            "tags": []
          },
          "execution_count": 12
        }
      ]
    },
    {
      "cell_type": "code",
      "metadata": {
        "id": "TAqO_zbbV1yN",
        "colab_type": "code",
        "colab": {}
      },
      "source": [
        "half_vector = [(e+c)/2 for e,c in zip(elephant,chicken)]\n",
        "half_vector"
      ],
      "execution_count": 0,
      "outputs": []
    },
    {
      "cell_type": "code",
      "metadata": {
        "id": "DXFv2oLmXZ1w",
        "colab_type": "code",
        "colab": {
          "base_uri": "https://localhost:8080/",
          "height": 272
        },
        "outputId": "287eebba-ac67-4e69-955d-5ca0bd65e15a"
      },
      "source": [
        "# Now, use the ordered_embeddings function to calculate the distance between the half_vector and each animal in the animal_table\n",
        "\n",
        "ordered_embeddings(half_vector, animal_table) # The horse is closest to the average of a chicken & an elephant"
      ],
      "execution_count": 13,
      "outputs": [
        {
          "output_type": "execute_result",
          "data": {
            "text/plain": [
              "[[5.5901699437494745, 'horse'],\n",
              " [16.77050983124842, 'dolphin'],\n",
              " [32.5, 'panda bear'],\n",
              " [33.63406011768428, 'capybara'],\n",
              " [41.907636535600524, 'crocodile'],\n",
              " [42.5, 'chicken'],\n",
              " [42.5, 'elephant'],\n",
              " [54.31620384378864, 'goldfish'],\n",
              " [55.509008277936296, 'puppy'],\n",
              " [56.61492736019362, 'hamster'],\n",
              " [57.05479822065801, 'lobster'],\n",
              " [61.80008090609591, 'tarantula'],\n",
              " [62.5, 'kitten'],\n",
              " [67.73662229547618, 'mosquito']]"
            ]
          },
          "metadata": {
            "tags": []
          },
          "execution_count": 13
        }
      ]
    },
    {
      "cell_type": "code",
      "metadata": {
        "id": "sH7OeOQDY2V6",
        "colab_type": "code",
        "colab": {
          "base_uri": "https://localhost:8080/",
          "height": 35
        },
        "outputId": "a4fa26e4-75b6-4974-c8f1-0f91c8e9dc07"
      },
      "source": [
        "# Calculate the difference between a tarantula and a hamster\n",
        "tarantula = animal_table.loc['tarantula'].tolist()\n",
        "hamster = animal_table.loc['hamster'].tolist()\n",
        "tar_ham_diff = up.euclidean_distance(tarantula, hamster)\n",
        "tar_ham_diff"
      ],
      "execution_count": 16,
      "outputs": [
        {
          "output_type": "execute_result",
          "data": {
            "text/plain": [
              "72.17340230306452"
            ]
          },
          "metadata": {
            "tags": []
          },
          "execution_count": 16
        }
      ]
    },
    {
      "cell_type": "code",
      "metadata": {
        "id": "zMbJ6AhYZM4m",
        "colab_type": "code",
        "colab": {}
      },
      "source": [
        "# Tarantulas are to hamsters as chickens are to ____?\n",
        "## That is, what is the approximately same distance from a chicken as a hamster is from a tarantula?\n",
        "\n",
        "chicken = animal_table.loc['chicken'].tolist()\n",
        "chick_distances = ordered_embeddings(chicken, animal_table) # Calculate all distances between other animals from a chicken"
      ],
      "execution_count": 0,
      "outputs": []
    },
    {
      "cell_type": "code",
      "metadata": {
        "id": "7teTdcglZaDd",
        "colab_type": "code",
        "colab": {
          "base_uri": "https://localhost:8080/",
          "height": 35
        },
        "outputId": "306a30ba-ac2b-4adf-a40d-2eaa4ad0894f"
      },
      "source": [
        "# Calculate which distance from above table is closest to the tar_ham_diff (72)\n",
        "\n",
        "## We want the minimum value when subtracting 72.17 from each distance in the chick_distances table\n",
        "min(chick_distances, key=lambda x:abs(x[0]-tar_ham_diff)) \n",
        "\n",
        "# The kitten, which is a euclidean distance of 70 units from a chicken, is to a chicken what a hamster is to a tarantula"
      ],
      "execution_count": 19,
      "outputs": [
        {
          "output_type": "execute_result",
          "data": {
            "text/plain": [
              "[70.0, 'kitten']"
            ]
          },
          "metadata": {
            "tags": []
          },
          "execution_count": 19
        }
      ]
    },
    {
      "cell_type": "markdown",
      "metadata": {
        "id": "C-WnA9Dcbmoa",
        "colab_type": "text"
      },
      "source": [
        "## Colors\n",
        "\n",
        "Colors are words that can be represented as vectors with three dimensions: red, green, and blue. By representing colors in 3d space, we can ask questions like...\n",
        "\n",
        "*Which colors are similar? Given the name of two colors, what's the name of the average of the two?*"
      ]
    },
    {
      "cell_type": "code",
      "metadata": {
        "id": "CxNrZqdtcRTO",
        "colab_type": "code",
        "colab": {
          "base_uri": "https://localhost:8080/",
          "height": 237
        },
        "outputId": "1d4d9ad8-d2bc-48e1-853c-83a56c115449"
      },
      "source": [
        "# This url contains color RGB values\n",
        "\n",
        "url = 'https://docs.google.com/spreadsheets/d/e/2PACX-1vT7WNqkgfIYL5AWgb8aGSGhvh3wo-JwTQlJzN1Y2LYH09fzLtfeKHMDau9s6PcOBwU01-DfbPuEzhTZ/pub?output=csv' # This url contains color RGB values\n",
        "\n",
        "color_table = pd.read_csv(url, encoding='utf-8', dtype={'color':str}, na_filter=False) # use pd.read_csv to convert the excel file to a table\n",
        "color_table = color_table.set_index(['color']) # set the color names as the index\n",
        "color_table.head() # look at top of table"
      ],
      "execution_count": 21,
      "outputs": [
        {
          "output_type": "execute_result",
          "data": {
            "text/html": [
              "<div>\n",
              "<style scoped>\n",
              "    .dataframe tbody tr th:only-of-type {\n",
              "        vertical-align: middle;\n",
              "    }\n",
              "\n",
              "    .dataframe tbody tr th {\n",
              "        vertical-align: top;\n",
              "    }\n",
              "\n",
              "    .dataframe thead th {\n",
              "        text-align: right;\n",
              "    }\n",
              "</style>\n",
              "<table border=\"1\" class=\"dataframe\">\n",
              "  <thead>\n",
              "    <tr style=\"text-align: right;\">\n",
              "      <th></th>\n",
              "      <th>hex</th>\n",
              "      <th>red</th>\n",
              "      <th>green</th>\n",
              "      <th>blue</th>\n",
              "    </tr>\n",
              "    <tr>\n",
              "      <th>color</th>\n",
              "      <th></th>\n",
              "      <th></th>\n",
              "      <th></th>\n",
              "      <th></th>\n",
              "    </tr>\n",
              "  </thead>\n",
              "  <tbody>\n",
              "    <tr>\n",
              "      <th>acid green</th>\n",
              "      <td>#8ffe09</td>\n",
              "      <td>143</td>\n",
              "      <td>254</td>\n",
              "      <td>9</td>\n",
              "    </tr>\n",
              "    <tr>\n",
              "      <th>adobe</th>\n",
              "      <td>#bd6c48</td>\n",
              "      <td>189</td>\n",
              "      <td>108</td>\n",
              "      <td>72</td>\n",
              "    </tr>\n",
              "    <tr>\n",
              "      <th>algae</th>\n",
              "      <td>#54ac68</td>\n",
              "      <td>84</td>\n",
              "      <td>172</td>\n",
              "      <td>104</td>\n",
              "    </tr>\n",
              "    <tr>\n",
              "      <th>algae green</th>\n",
              "      <td>#21c36f</td>\n",
              "      <td>33</td>\n",
              "      <td>195</td>\n",
              "      <td>111</td>\n",
              "    </tr>\n",
              "    <tr>\n",
              "      <th>almost black</th>\n",
              "      <td>#070d0d</td>\n",
              "      <td>7</td>\n",
              "      <td>13</td>\n",
              "      <td>13</td>\n",
              "    </tr>\n",
              "  </tbody>\n",
              "</table>\n",
              "</div>"
            ],
            "text/plain": [
              "                  hex  red  green  blue\n",
              "color                                  \n",
              "acid green    #8ffe09  143    254     9\n",
              "adobe         #bd6c48  189    108    72\n",
              "algae         #54ac68   84    172   104\n",
              "algae green   #21c36f   33    195   111\n",
              "almost black  #070d0d    7     13    13"
            ]
          },
          "metadata": {
            "tags": []
          },
          "execution_count": 21
        }
      ]
    },
    {
      "cell_type": "code",
      "metadata": {
        "id": "hIfJebOLc2FA",
        "colab_type": "code",
        "colab": {}
      },
      "source": [
        "# Write a function that converts colors from hex format (#1a2b3c) to a tuple of integers\n",
        "\n",
        "def hex_to_int(s:str) -> tuple: # define a function, caleld hex_to_int, that takes input s (a string variable) and converts it to a tuple\n",
        "  assert isinstance(s, str), f's must be a string but is instead a {type(s)}' # assert messages provide errors if the input given to the fxn isn't in correct format\n",
        "  assert len(s) == 7, f's must be 7 characters long but is instead {len(s)}'\n",
        "  assert s[0] == '#', f's must start with a # but instead starts with an {s[0]}'\n",
        "\n",
        "  s = s.lstrip(\"#\") # strip off the # from the left-hand side of the hex code\n",
        "  red = int(s[:2], 16) # int is a built-in python function that converts a given hexcode (e.g., #8ffe09) and converts it to a number in base 16 \n",
        "                        # the [:2] means take the first two digits of the given hex code (e.g., 8f) and convert that to the number in base 16 for red\n",
        "  green = int(s[2:4], 16) [2:4] # means take the third to fourth digits of the hex code (e.g., fe)\n",
        "  blue = int(s[4:6], 16) # [4:6] - take the fifth and sixth digits of the hex code (e.g., 09)\n",
        "  return [red, green, blue] # return the integers for RGB as a list (a tuple)\n",
        "  "
      ],
      "execution_count": 0,
      "outputs": []
    },
    {
      "cell_type": "code",
      "metadata": {
        "id": "dBwpIm_LeCAY",
        "colab_type": "code",
        "colab": {
          "base_uri": "https://localhost:8080/",
          "height": 237
        },
        "outputId": "ac6f8375-df46-4714-d366-bcfea6d8de86"
      },
      "source": [
        "# Calculate cosine differences\n",
        "## Reminder: cosine similarity values range from 0 to 1 (1 being an exact match)\n",
        "\n",
        "# First, drop the hex column from the table since we're representing the colors as their integer RGB equivalents now\n",
        "## the .drop method allows you to name columns you want to drop from a table; axis = 1 means drop by columns\n",
        "color_table = color_table.drop(['hex'], axis = 1)\n",
        "color_table.head()"
      ],
      "execution_count": 23,
      "outputs": [
        {
          "output_type": "execute_result",
          "data": {
            "text/html": [
              "<div>\n",
              "<style scoped>\n",
              "    .dataframe tbody tr th:only-of-type {\n",
              "        vertical-align: middle;\n",
              "    }\n",
              "\n",
              "    .dataframe tbody tr th {\n",
              "        vertical-align: top;\n",
              "    }\n",
              "\n",
              "    .dataframe thead th {\n",
              "        text-align: right;\n",
              "    }\n",
              "</style>\n",
              "<table border=\"1\" class=\"dataframe\">\n",
              "  <thead>\n",
              "    <tr style=\"text-align: right;\">\n",
              "      <th></th>\n",
              "      <th>red</th>\n",
              "      <th>green</th>\n",
              "      <th>blue</th>\n",
              "    </tr>\n",
              "    <tr>\n",
              "      <th>color</th>\n",
              "      <th></th>\n",
              "      <th></th>\n",
              "      <th></th>\n",
              "    </tr>\n",
              "  </thead>\n",
              "  <tbody>\n",
              "    <tr>\n",
              "      <th>acid green</th>\n",
              "      <td>143</td>\n",
              "      <td>254</td>\n",
              "      <td>9</td>\n",
              "    </tr>\n",
              "    <tr>\n",
              "      <th>adobe</th>\n",
              "      <td>189</td>\n",
              "      <td>108</td>\n",
              "      <td>72</td>\n",
              "    </tr>\n",
              "    <tr>\n",
              "      <th>algae</th>\n",
              "      <td>84</td>\n",
              "      <td>172</td>\n",
              "      <td>104</td>\n",
              "    </tr>\n",
              "    <tr>\n",
              "      <th>algae green</th>\n",
              "      <td>33</td>\n",
              "      <td>195</td>\n",
              "      <td>111</td>\n",
              "    </tr>\n",
              "    <tr>\n",
              "      <th>almost black</th>\n",
              "      <td>7</td>\n",
              "      <td>13</td>\n",
              "      <td>13</td>\n",
              "    </tr>\n",
              "  </tbody>\n",
              "</table>\n",
              "</div>"
            ],
            "text/plain": [
              "              red  green  blue\n",
              "color                         \n",
              "acid green    143    254     9\n",
              "adobe         189    108    72\n",
              "algae          84    172   104\n",
              "algae green    33    195   111\n",
              "almost black    7     13    13"
            ]
          },
          "metadata": {
            "tags": []
          },
          "execution_count": 23
        }
      ]
    },
    {
      "cell_type": "code",
      "metadata": {
        "id": "hxZbdkgGeYUA",
        "colab_type": "code",
        "colab": {
          "base_uri": "https://localhost:8080/",
          "height": 35
        },
        "outputId": "d9ccd2bc-7829-4c22-bc0c-61b2769029fa"
      },
      "source": [
        "# Calculate cosine similarity between olive and red\n",
        "\n",
        "olive_vector = color_table.loc['olive'].tolist()\n",
        "red_vector = color_table.loc['red'].tolist()\n",
        "up.cosine_similarity(olive_vector, red_vector)"
      ],
      "execution_count": 24,
      "outputs": [
        {
          "output_type": "execute_result",
          "data": {
            "text/plain": [
              "0.6823879113063314"
            ]
          },
          "metadata": {
            "tags": []
          },
          "execution_count": 24
        }
      ]
    },
    {
      "cell_type": "code",
      "metadata": {
        "id": "rCfApAUKeiwE",
        "colab_type": "code",
        "colab": {
          "base_uri": "https://localhost:8080/",
          "height": 199
        },
        "outputId": "c173466a-1c43-4f16-d9b7-c9edfa758e99"
      },
      "source": [
        "# Find the color closest to red\n",
        "ordered_embeddings(red_vector, color_table)[:10] # just first 10 entries\n",
        "\n",
        "# Fire engine red is closest to red"
      ],
      "execution_count": 25,
      "outputs": [
        {
          "output_type": "execute_result",
          "data": {
            "text/plain": [
              "[[0.0, 'red'],\n",
              " [25.079872407968907, 'fire engine red'],\n",
              " [29.068883707497267, 'bright red'],\n",
              " [45.552167895721496, 'tomato red'],\n",
              " [45.73838650411709, 'cherry red'],\n",
              " [46.33573135281238, 'scarlet'],\n",
              " [53.563046963368315, 'vermillion'],\n",
              " [56.2672195865408, 'orangish red'],\n",
              " [56.49778756730214, 'cherry'],\n",
              " [59.84981202978001, 'lipstick red']]"
            ]
          },
          "metadata": {
            "tags": []
          },
          "execution_count": 25
        }
      ]
    },
    {
      "cell_type": "code",
      "metadata": {
        "id": "YAFDNMKtfDLW",
        "colab_type": "code",
        "colab": {}
      },
      "source": [
        "# Write a function for subtracting one vector from another\n",
        "\n",
        "def subtractv(x:list, y:list) -> list:\n",
        "  assert isinstance(x, list), f\"x must be a list but instead is {type(x)}\"\n",
        "  assert isinstance(y, list), f\"y must be a list but instead if {type(y)}\"\n",
        "  assert len(x) == len(y), f\"x and y must be the same length\"\n",
        "\n",
        "  result = [] # blank list to contain results of subtracting each item in x and y\n",
        "  for i in range(len(x)):\n",
        "    c1 = x[i]\n",
        "    c2 = y[i]\n",
        "    result.append(c1-c2)\n",
        "  return result"
      ],
      "execution_count": 0,
      "outputs": []
    },
    {
      "cell_type": "code",
      "metadata": {
        "id": "dYbnR5aufkEG",
        "colab_type": "code",
        "colab": {
          "base_uri": "https://localhost:8080/",
          "height": 35
        },
        "outputId": "70f19400-1455-4b0e-d5d6-c4c372da3706"
      },
      "source": [
        "# Practice using subtractv\n",
        "\n",
        "v1 = [5,10,20]\n",
        "v2 = [1,2,3]\n",
        "\n",
        "# expected v1-v2 = [4,8,17]\n",
        "\n",
        "subtractv(v1,v2)"
      ],
      "execution_count": 28,
      "outputs": [
        {
          "output_type": "execute_result",
          "data": {
            "text/plain": [
              "[4, 8, 17]"
            ]
          },
          "metadata": {
            "tags": []
          },
          "execution_count": 28
        }
      ]
    },
    {
      "cell_type": "code",
      "metadata": {
        "id": "kr2Se90Nfwcd",
        "colab_type": "code",
        "colab": {}
      },
      "source": [
        "# Write a function for adding two vectors\n",
        "\n",
        "def addv(x:list, y:list) -> list: # define a function, called addv, that takes variables x & y (both lists) as inputs\n",
        "  assert isinstance(x, list), f\"x must be a list but instead is {type(x)}\"\n",
        "  assert isinstance(y, list), f\"y must be a list but instead is {type(y)}\"\n",
        "  assert len(x) == len(y), f\"x and y must be the same length\"\n",
        "\n",
        "  #result = [(c1 - c2) for c1, c2 in zip(x, y)]  #one-line compact version - called a list comprehension\n",
        "\n",
        "  result = []\n",
        "  for i in range(len(x)):\n",
        "    c1 = x[i]\n",
        "    c2 = y[i]\n",
        "    result.append(c1+c2)\n",
        "\n",
        "  return result"
      ],
      "execution_count": 0,
      "outputs": []
    },
    {
      "cell_type": "code",
      "metadata": {
        "id": "x_uXreKrf0YE",
        "colab_type": "code",
        "colab": {
          "base_uri": "https://localhost:8080/",
          "height": 35
        },
        "outputId": "ac111e69-d643-406a-c99c-49a5beb2c0a2"
      },
      "source": [
        "# Add v1 and v2 from above\n",
        "# Expected v1+v2 = [6,12,23]\n",
        "\n",
        "addv(v1,v2)"
      ],
      "execution_count": 30,
      "outputs": [
        {
          "output_type": "execute_result",
          "data": {
            "text/plain": [
              "[6, 12, 23]"
            ]
          },
          "metadata": {
            "tags": []
          },
          "execution_count": 30
        }
      ]
    },
    {
      "cell_type": "code",
      "metadata": {
        "id": "hCvX2F9bf88w",
        "colab_type": "code",
        "colab": {}
      },
      "source": [
        "# Write a function for dividing a vector by a number\n",
        "\n",
        "def dividev(x:list, y:int) -> list:\n",
        "  assert isinstance(x, list), f\"x must be a list but instead is {type(x)}\"\n",
        "  assert isinstance(y, int), f\"y must be an integer but instead is {type(y)}\"\n",
        "\n",
        "  result = []\n",
        "  for i in range(len(x)): \n",
        "    c1 = x[i]\n",
        "    result.append(c1/y)\n",
        "  return result "
      ],
      "execution_count": 0,
      "outputs": []
    },
    {
      "cell_type": "code",
      "metadata": {
        "id": "yZjGIW57gcFO",
        "colab_type": "code",
        "colab": {
          "base_uri": "https://localhost:8080/",
          "height": 35
        },
        "outputId": "b5e8358e-1d54-4e32-e8a2-4797d73e99a5"
      },
      "source": [
        "# Divide v1 by c\n",
        "\n",
        "v1 = [2,10,20]\n",
        "c = 2\n",
        "\n",
        "# Expected v1/c = [1,5,10]\n",
        "\n",
        "dividev(v1,c)"
      ],
      "execution_count": 36,
      "outputs": [
        {
          "output_type": "execute_result",
          "data": {
            "text/plain": [
              "[1.0, 5.0, 10.0]"
            ]
          },
          "metadata": {
            "tags": []
          },
          "execution_count": 36
        }
      ]
    },
    {
      "cell_type": "code",
      "metadata": {
        "id": "VkcD2l-tgpp0",
        "colab_type": "code",
        "colab": {}
      },
      "source": [
        "# Write a function for calculating the mean vector from a matrix\n",
        "\n",
        "def meanv(matrix:list) -> list:\n",
        "  assert isinstance(matrix, list), f\"matrix must be a list but instead is {type(x)}\"\n",
        "  assert len(matrix) >=1, f\"matrix must have at least one row\"\n",
        "\n",
        "  sumv = matrix[0] # start with the first row\n",
        "  for row in matrix[1:]: # add each row to the first row, starting with the second row\n",
        "    sumv = addv(sumv, row) # take the sum of the first+second row, and then this resulting sum plus the third row\n",
        "  mean = dividev(sumv, len(matrix)) # divide the sum of all the rows by the number of rows\n",
        "  return mean"
      ],
      "execution_count": 0,
      "outputs": []
    },
    {
      "cell_type": "code",
      "metadata": {
        "id": "31btxhJtsh04",
        "colab_type": "code",
        "colab": {
          "base_uri": "https://localhost:8080/",
          "height": 35
        },
        "outputId": "964ce89b-e52f-49f3-8d11-655613fba0c4"
      },
      "source": [
        "# Test the meanv function using matrix A\n",
        "\n",
        "A = [[0,1], \n",
        "     [2,2], \n",
        "     [4,3]]\n",
        "\n",
        "A[0] # [0,1]\n",
        "A[1] # [2,2]\n",
        "A[2] # [4,3]\n",
        "len(A) # 3\n",
        "\n",
        "# Expected result - note: the numbers in corresponding positions get added using the addv function\n",
        "## First iteration:\n",
        "# sumv = A[0] + A[1] = ([0,1]+[2,2]) = [2,3]\n",
        "## Second iteration:\n",
        "# sumv = [2,3] + A[2] = ([2,3]+[4,3]) = [6,6]\n",
        "## mean = [6,6]/3 = [2.0,2.0]\n",
        "\n",
        "meanv(A)"
      ],
      "execution_count": 58,
      "outputs": [
        {
          "output_type": "execute_result",
          "data": {
            "text/plain": [
              "[2.0, 2.0]"
            ]
          },
          "metadata": {
            "tags": []
          },
          "execution_count": 58
        }
      ]
    },
    {
      "cell_type": "code",
      "metadata": {
        "id": "b2sebZiiwA-o",
        "colab_type": "code",
        "colab": {
          "base_uri": "https://localhost:8080/",
          "height": 72
        },
        "outputId": "b7cfa19d-7cce-47a3-cb5f-d3a7c8d219d1"
      },
      "source": [
        "# A fancier version of creating the meanv function above\n",
        "## zip(*matrix) is a gist that stands for matrix transpose\n",
        "\n",
        "transpose_A = list(zip(*A)) # transpose matrix A\n",
        "\n",
        "# Expected result - columns become rows\n",
        "# [[0, 2, 4], \n",
        "# [1, 2, 3]]\n",
        "\n",
        "print(transpose_A) # [(0,2,4), (1,2,3)]\n",
        "\n",
        "\n",
        "# Next, calculate the sum of each row\n",
        "row_sums = [sum(row) for row in transpose_A]\n",
        "print(row_sums) # [6,6]\n",
        "\n",
        "\n",
        "# Next, divide the row sums by the # of rows in the original matrix\n",
        "dividev(row_sums, len(A)) # [2.0, 2.0]"
      ],
      "execution_count": 61,
      "outputs": [
        {
          "output_type": "stream",
          "text": [
            "[(0, 2, 4), (1, 2, 3)]\n",
            "[6, 6]\n"
          ],
          "name": "stdout"
        },
        {
          "output_type": "execute_result",
          "data": {
            "text/plain": [
              "[2.0, 2.0]"
            ]
          },
          "metadata": {
            "tags": []
          },
          "execution_count": 61
        }
      ]
    },
    {
      "cell_type": "code",
      "metadata": {
        "id": "YsSXLJdMxSHA",
        "colab_type": "code",
        "colab": {
          "base_uri": "https://localhost:8080/",
          "height": 35
        },
        "outputId": "e60c61b1-4b81-436a-d032-2d1c3d941604"
      },
      "source": [
        "# Another approach\n",
        "## Using the reduce function\n",
        "\n",
        "from functools import reduce\n",
        "\n",
        "row_sums = reduce(addv, A) # add each of the pairs in matrix A together using addv\n",
        "row_sums # [6,6]\n",
        "\n",
        "dividev(row_sums, len(A)) # [2.0, 2.0]"
      ],
      "execution_count": 63,
      "outputs": [
        {
          "output_type": "execute_result",
          "data": {
            "text/plain": [
              "[2.0, 2.0]"
            ]
          },
          "metadata": {
            "tags": []
          },
          "execution_count": 63
        }
      ]
    },
    {
      "cell_type": "code",
      "metadata": {
        "id": "S5OoonwbxijS",
        "colab_type": "code",
        "colab": {
          "base_uri": "https://localhost:8080/",
          "height": 35
        },
        "outputId": "11846cb2-108e-424f-dd31-6fb80fa7f246"
      },
      "source": [
        "# Find the ten colors closest to the average of 'black' and 'white'\n",
        "\n",
        "black = color_table.loc['black'].tolist()\n",
        "white = color_table.loc['white'].tolist()\n",
        "\n",
        "average_bw = [(b+w)/2 for b,w in zip(black,white)]\n",
        "average_bw"
      ],
      "execution_count": 64,
      "outputs": [
        {
          "output_type": "execute_result",
          "data": {
            "text/plain": [
              "[127.5, 127.5, 127.5]"
            ]
          },
          "metadata": {
            "tags": []
          },
          "execution_count": 64
        }
      ]
    },
    {
      "cell_type": "code",
      "metadata": {
        "id": "bR8wseVuy1to",
        "colab_type": "code",
        "colab": {
          "base_uri": "https://localhost:8080/",
          "height": 199
        },
        "outputId": "e5a9a40d-6dee-499a-bc99-f5ca3b8ba2c4"
      },
      "source": [
        "ordered_embeddings(average_bw, color_table)[:10]"
      ],
      "execution_count": 66,
      "outputs": [
        {
          "output_type": "execute_result",
          "data": {
            "text/plain": [
              "[[4.330127018922194, 'medium grey'],\n",
              " [18.567444627627143, 'purple grey'],\n",
              " [19.716744153130353, 'steel grey'],\n",
              " [21.511624764298954, 'battleship grey'],\n",
              " [22.46664193866097, 'grey purple'],\n",
              " [24.14021540914662, 'purplish grey'],\n",
              " [24.264171117101856, 'greyish purple'],\n",
              " [25.470571253900058, 'steel'],\n",
              " [26.12948526090784, 'warm grey'],\n",
              " [26.205915362757317, 'green grey']]"
            ]
          },
          "metadata": {
            "tags": []
          },
          "execution_count": 66
        }
      ]
    },
    {
      "cell_type": "code",
      "metadata": {
        "id": "1Wm3JJn3zLaj",
        "colab_type": "code",
        "colab": {
          "base_uri": "https://localhost:8080/",
          "height": 35
        },
        "outputId": "7b1ff195-096a-4640-9c29-2264608eaed6"
      },
      "source": [
        "# Find the ten colors closest to what you get by subtracting \"red\" from \"purple\"\n",
        "\n",
        "red = color_table.loc['red'].tolist()\n",
        "purple = color_table.loc['purple'].tolist()\n",
        "\n",
        "subtract_rp = subtractv(red,purple)\n",
        "subtract_rp"
      ],
      "execution_count": 67,
      "outputs": [
        {
          "output_type": "execute_result",
          "data": {
            "text/plain": [
              "[103, -30, -156]"
            ]
          },
          "metadata": {
            "tags": []
          },
          "execution_count": 67
        }
      ]
    },
    {
      "cell_type": "code",
      "metadata": {
        "id": "0xj5rc_xzkJz",
        "colab_type": "code",
        "colab": {
          "base_uri": "https://localhost:8080/",
          "height": 199
        },
        "outputId": "644195e9-096f-446d-abfb-ab822ffc6b8d"
      },
      "source": [
        "ordered_embeddings(subtract_rp, color_table)[:10]"
      ],
      "execution_count": 68,
      "outputs": [
        {
          "output_type": "execute_result",
          "data": {
            "text/plain": [
              "[[160.63934760823702, 'blood'],\n",
              " [161.48374531202822, 'dark red'],\n",
              " [161.67250848551834, 'mahogany'],\n",
              " [162.46230331987786, 'dried blood'],\n",
              " [163.7192719260625, 'deep brown'],\n",
              " [167.2154299100415, 'deep red'],\n",
              " [167.58878244083044, 'reddy brown'],\n",
              " [168.12197952677099, 'blood red'],\n",
              " [168.6297719858507, 'indian red'],\n",
              " [169.7203582367183, 'chocolate brown']]"
            ]
          },
          "metadata": {
            "tags": []
          },
          "execution_count": 68
        }
      ]
    },
    {
      "cell_type": "code",
      "metadata": {
        "id": "OYPZu0uNzx0z",
        "colab_type": "code",
        "colab": {
          "base_uri": "https://localhost:8080/",
          "height": 35
        },
        "outputId": "52c398b2-e9d4-43ff-9e54-7cf303c1f7d2"
      },
      "source": [
        "# Find the ten closest closest to blue plus green\n",
        "\n",
        "blue = color_table.loc['blue'].tolist()\n",
        "green = color_table.loc['green'].tolist()\n",
        "\n",
        "add_bg = addv(blue,green)\n",
        "add_bg"
      ],
      "execution_count": 69,
      "outputs": [
        {
          "output_type": "execute_result",
          "data": {
            "text/plain": [
              "[24, 243, 249]"
            ]
          },
          "metadata": {
            "tags": []
          },
          "execution_count": 69
        }
      ]
    },
    {
      "cell_type": "code",
      "metadata": {
        "id": "mocMuYhuz7EB",
        "colab_type": "code",
        "colab": {
          "base_uri": "https://localhost:8080/",
          "height": 199
        },
        "outputId": "8cac6945-d050-415d-aa89-ef7b084c67bf"
      },
      "source": [
        "ordered_embeddings(add_bg, color_table)[:10]"
      ],
      "execution_count": 70,
      "outputs": [
        {
          "output_type": "execute_result",
          "data": {
            "text/plain": [
              "[[14.212670403551895, 'bright turquoise'],\n",
              " [15.0996688705415, 'bright light blue'],\n",
              " [20.73644135332772, 'bright aqua'],\n",
              " [27.49545416973504, 'cyan'],\n",
              " [33.34666400106613, 'neon blue'],\n",
              " [38.3275357934736, 'aqua blue'],\n",
              " [42.49705872175156, 'bright cyan'],\n",
              " [45.05552130427524, 'bright sky blue'],\n",
              " [49.09175083453431, 'aqua'],\n",
              " [56.2672195865408, 'bright teal']]"
            ]
          },
          "metadata": {
            "tags": []
          },
          "execution_count": 70
        }
      ]
    },
    {
      "cell_type": "code",
      "metadata": {
        "id": "MDpq20F_0IGS",
        "colab_type": "code",
        "colab": {
          "base_uri": "https://localhost:8080/",
          "height": 199
        },
        "outputId": "976f8260-98aa-4fb4-f6c2-0569ad17f8a2"
      },
      "source": [
        "# _____ is to blue as pink is to red?\n",
        "\n",
        "# In other words...\n",
        "## (pink - red) ~ (X - blue)\n",
        "# or\n",
        "## (pink - red) + blue ~ X\n",
        "\n",
        "pink = color_table.loc['pink'].tolist()\n",
        "\n",
        "pink_to_red = subtractv(pink,red) # pink minus red\n",
        "pink_minus_red_plus_blue = addv(pink_to_red,blue) # pink minus red plus blue\n",
        "\n",
        "ordered_embeddings(pink_minus_red_plus_blue, color_table)[:10] # neon blue"
      ],
      "execution_count": 71,
      "outputs": [
        {
          "output_type": "execute_result",
          "data": {
            "text/plain": [
              "[[163.29727493133498, 'neon blue'],\n",
              " [163.44418007380992, 'bright sky blue'],\n",
              " [170.0764533967004, 'bright light blue'],\n",
              " [172.97976760303501, 'cyan'],\n",
              " [174.54512310574592, 'bright cyan'],\n",
              " [176.39727889057698, 'bright turquoise'],\n",
              " [178.23860412379804, 'clear blue'],\n",
              " [178.54131174604942, 'azure'],\n",
              " [178.92456511055155, 'dodger blue'],\n",
              " [180.95303258028034, 'lightish blue']]"
            ]
          },
          "metadata": {
            "tags": []
          },
          "execution_count": 71
        }
      ]
    },
    {
      "cell_type": "code",
      "metadata": {
        "id": "F3ehfjSc4uSS",
        "colab_type": "code",
        "colab": {
          "base_uri": "https://localhost:8080/",
          "height": 35
        },
        "outputId": "31e9e156-9041-47eb-cc8f-84b2ffd44738"
      },
      "source": [
        "# Calculate the average of all the colors and find the ten colors closest to the average\n",
        "\n",
        "matrix = []\n",
        "\n",
        "for i in color_table.index.values.tolist():\n",
        "  matrix.append(color_table.loc[i].tolist())\n",
        "matrix[:5]"
      ],
      "execution_count": 74,
      "outputs": [
        {
          "output_type": "execute_result",
          "data": {
            "text/plain": [
              "[[143, 254, 9], [189, 108, 72], [84, 172, 104], [33, 195, 111], [7, 13, 13]]"
            ]
          },
          "metadata": {
            "tags": []
          },
          "execution_count": 74
        }
      ]
    },
    {
      "cell_type": "code",
      "metadata": {
        "id": "vcwobFde5mGu",
        "colab_type": "code",
        "colab": {
          "base_uri": "https://localhost:8080/",
          "height": 35
        },
        "outputId": "a24c7ad1-92c6-4c98-e2eb-39cc61af435f"
      },
      "source": [
        "average_all_colors = meanv(matrix)\n",
        "average_all_colors"
      ],
      "execution_count": 75,
      "outputs": [
        {
          "output_type": "execute_result",
          "data": {
            "text/plain": [
              "[141.5690200210748, 134.3119072708114, 107.93888303477344]"
            ]
          },
          "metadata": {
            "tags": []
          },
          "execution_count": 75
        }
      ]
    },
    {
      "cell_type": "code",
      "metadata": {
        "id": "1cMM237g5pz7",
        "colab_type": "code",
        "colab": {
          "base_uri": "https://localhost:8080/",
          "height": 199
        },
        "outputId": "8fc098a5-4142-49ad-a7b6-4941c4bbab38"
      },
      "source": [
        "ordered_embeddings(average_all_colors, color_table)[:10]"
      ],
      "execution_count": 76,
      "outputs": [
        {
          "output_type": "execute_result",
          "data": {
            "text/plain": [
              "[[4.602553484191201, 'brown grey'],\n",
              " [21.139113217848376, 'reddish grey'],\n",
              " [21.428001832576594, 'brownish grey'],\n",
              " [24.206525784721993, 'medium grey'],\n",
              " [25.59966041635289, 'green grey'],\n",
              " [26.10522478271917, 'warm grey'],\n",
              " [27.96545249675546, 'dark khaki'],\n",
              " [30.709594237593613, 'grey green'],\n",
              " [32.567254561942164, 'grey/green'],\n",
              " [33.166059500486384, 'greeny grey']]"
            ]
          },
          "metadata": {
            "tags": []
          },
          "execution_count": 76
        }
      ]
    },
    {
      "cell_type": "markdown",
      "metadata": {
        "id": "yKAV8bSz5wZb",
        "colab_type": "text"
      },
      "source": [
        "## Using vectorized language for academic ends"
      ]
    },
    {
      "cell_type": "code",
      "metadata": {
        "id": "BKd40xd351iM",
        "colab_type": "code",
        "colab": {}
      },
      "source": [
        "import spacy"
      ],
      "execution_count": 0,
      "outputs": []
    },
    {
      "cell_type": "markdown",
      "metadata": {
        "id": "KZ8jGjuq54Kw",
        "colab_type": "text"
      },
      "source": [
        "spacy can use a Graphics Processing Unit (GPU) if it's available (don't have to, though). \n",
        "\n",
        "You can turn on colab's GPU under Runtime/Change runtime type (but it will restart your kernel, so you'll have to run all cells above again).\n",
        "\n",
        "The benefit of a GPU is that it *may* make your spacy code run faster."
      ]
    },
    {
      "cell_type": "code",
      "metadata": {
        "id": "armPABY66Hd-",
        "colab_type": "code",
        "colab": {
          "base_uri": "https://localhost:8080/",
          "height": 35
        },
        "outputId": "fca19ec8-3552-435e-f591-ed799d5dcd4c"
      },
      "source": [
        "# This code turns on the GPU\n",
        "spacy.prefer_gpu() # True if you have GPU turned on, False if you want to run normally"
      ],
      "execution_count": 79,
      "outputs": [
        {
          "output_type": "execute_result",
          "data": {
            "text/plain": [
              "False"
            ]
          },
          "metadata": {
            "tags": []
          },
          "execution_count": 79
        }
      ]
    },
    {
      "cell_type": "code",
      "metadata": {
        "id": "__uF1Qcn6QVP",
        "colab_type": "code",
        "colab": {}
      },
      "source": [
        "!python -m spacy download en_core_web_md # download the dictionary\n",
        "import en_core_web_md\n",
        "nlp = en_core_web_md.load()"
      ],
      "execution_count": 0,
      "outputs": []
    },
    {
      "cell_type": "code",
      "metadata": {
        "id": "vsRG6eBp6Zkm",
        "colab_type": "code",
        "colab": {
          "base_uri": "https://localhost:8080/",
          "height": 35
        },
        "outputId": "db2d88c7-d160-4ce2-c8aa-dbdef3d912f2"
      },
      "source": [
        "nlp.vocab.length # the dictionary contains about 1.3M words"
      ],
      "execution_count": 82,
      "outputs": [
        {
          "output_type": "execute_result",
          "data": {
            "text/plain": [
              "1340241"
            ]
          },
          "metadata": {
            "tags": []
          },
          "execution_count": 82
        }
      ]
    },
    {
      "cell_type": "code",
      "metadata": {
        "id": "-02YBVMu6zIv",
        "colab_type": "code",
        "colab": {
          "base_uri": "https://localhost:8080/",
          "height": 35
        },
        "outputId": "0b0fa20e-472c-4139-9369-42dab4bd9600"
      },
      "source": [
        "nlp.vocab.__contains__('marvelous') # Check to see if a word is contained in the dictionary"
      ],
      "execution_count": 84,
      "outputs": [
        {
          "output_type": "execute_result",
          "data": {
            "text/plain": [
              "True"
            ]
          },
          "metadata": {
            "tags": []
          },
          "execution_count": 84
        }
      ]
    },
    {
      "cell_type": "markdown",
      "metadata": {
        "id": "muFvp38L68Gp",
        "colab_type": "text"
      },
      "source": [
        "## Let's check out the color of some classic books.\n",
        "\n",
        "To calculate the average of an entire book, we'll follow these steps:\n",
        "\n",
        "1. Parse the book into words using spacy's `nlp` method.\n",
        "2. Check every word to see if it names a color in our vector space, i.e., the color_table. If it does, add it to a list of vectors.\n",
        "3. Find the average of that list of vectors.\n",
        "4. Find the color(s) closest to that average vector."
      ]
    },
    {
      "cell_type": "code",
      "metadata": {
        "id": "mfAPrkDP7J8Z",
        "colab_type": "code",
        "colab": {}
      },
      "source": [
        "# Import three classic texts\n",
        "dracula_url = 'http://www.gutenberg.org/cache/epub/345/pg345.txt'\n",
        "dickens_url = 'https://www.gutenberg.org/files/98/98-0.txt'  \n",
        "yellow_url = 'http://www.gutenberg.org/files/1952/1952-0.txt'"
      ],
      "execution_count": 0,
      "outputs": []
    },
    {
      "cell_type": "code",
      "metadata": {
        "id": "hlFMYVBU7SVd",
        "colab_type": "code",
        "colab": {
          "base_uri": "https://localhost:8080/",
          "height": 310
        },
        "outputId": "83ddf8b1-7586-40d3-c310-a78c96a19a36"
      },
      "source": [
        "# These are .txt files and not csv files\n",
        "## We need to go through a few more steps to load these into Python\n",
        "\n",
        "!wget {dracula_url}   # this brings the file into temporary storage in colab\n",
        "!ls -l      # this code will check to see if the .txt file is in colab's temp storage"
      ],
      "execution_count": 87,
      "outputs": [
        {
          "output_type": "stream",
          "text": [
            "--2020-05-16 00:42:00--  http://www.gutenberg.org/cache/epub/345/pg345.txt\n",
            "Resolving www.gutenberg.org (www.gutenberg.org)... 152.19.134.47, 2610:28:3090:3000:0:bad:cafe:47\n",
            "Connecting to www.gutenberg.org (www.gutenberg.org)|152.19.134.47|:80... connected.\n",
            "HTTP request sent, awaiting response... 200 OK\n",
            "Length: 883160 (862K) [text/plain]\n",
            "Saving to: ‘pg345.txt’\n",
            "\n",
            "pg345.txt           100%[===================>] 862.46K  1.92MB/s    in 0.4s    \n",
            "\n",
            "2020-05-16 00:42:00 (1.92 MB/s) - ‘pg345.txt’ saved [883160/883160]\n",
            "\n",
            "total 872\n",
            "-rw-r--r-- 1 root root 883160 May  1 07:50 pg345.txt\n",
            "drwxr-xr-x 1 root root   4096 May 13 16:29 sample_data\n",
            "drwxr-xr-x 4 root root   4096 May 15 21:48 uo_puddles\n"
          ],
          "name": "stdout"
        }
      ]
    },
    {
      "cell_type": "code",
      "metadata": {
        "id": "cNj-aDEN7nSA",
        "colab_type": "code",
        "colab": {}
      },
      "source": [
        "# Now, read the dracula_url .txt file into a string\n",
        "\n",
        "with open('pg345.txt', 'r') as f:\n",
        "  dracula = f.read()"
      ],
      "execution_count": 0,
      "outputs": []
    },
    {
      "cell_type": "code",
      "metadata": {
        "id": "ZcSYwUR87v8z",
        "colab_type": "code",
        "colab": {
          "base_uri": "https://localhost:8080/",
          "height": 35
        },
        "outputId": "087f3128-75eb-449a-8560-305053271411"
      },
      "source": [
        "type(dracula)"
      ],
      "execution_count": 90,
      "outputs": [
        {
          "output_type": "execute_result",
          "data": {
            "text/plain": [
              "str"
            ]
          },
          "metadata": {
            "tags": []
          },
          "execution_count": 90
        }
      ]
    },
    {
      "cell_type": "code",
      "metadata": {
        "id": "NqT3dSw87xYT",
        "colab_type": "code",
        "colab": {
          "base_uri": "https://localhost:8080/",
          "height": 55
        },
        "outputId": "9298d796-3fb1-41a4-deee-47d7ffa30552"
      },
      "source": [
        "dracula[:100]"
      ],
      "execution_count": 91,
      "outputs": [
        {
          "output_type": "execute_result",
          "data": {
            "text/plain": [
              "'\\ufeffThe Project Gutenberg EBook of Dracula, by Bram Stoker\\n\\nThis eBook is for the use of anyone anywher'"
            ]
          },
          "metadata": {
            "tags": []
          },
          "execution_count": 91
        }
      ]
    },
    {
      "cell_type": "code",
      "metadata": {
        "id": "4W6KQvuU7zhI",
        "colab_type": "code",
        "colab": {
          "base_uri": "https://localhost:8080/",
          "height": 35
        },
        "outputId": "6a272259-444a-4bb7-a791-1d73adac9da5"
      },
      "source": [
        "len(dracula)"
      ],
      "execution_count": 92,
      "outputs": [
        {
          "output_type": "execute_result",
          "data": {
            "text/plain": [
              "867141"
            ]
          },
          "metadata": {
            "tags": []
          },
          "execution_count": 92
        }
      ]
    },
    {
      "cell_type": "code",
      "metadata": {
        "id": "5C8r2hzb71py",
        "colab_type": "code",
        "colab": {}
      },
      "source": [
        "# Parse the entire book into words\n",
        "\n",
        "doc = nlp(dracula.lower())"
      ],
      "execution_count": 0,
      "outputs": []
    },
    {
      "cell_type": "code",
      "metadata": {
        "id": "wGe_GrhM9XG6",
        "colab_type": "code",
        "colab": {}
      },
      "source": [
        "# spacy can also parse the book by sentences\n",
        "\n",
        "drac_sentences = list(doc.sents)"
      ],
      "execution_count": 0,
      "outputs": []
    },
    {
      "cell_type": "code",
      "metadata": {
        "id": "8lhN1JHP9eK1",
        "colab_type": "code",
        "colab": {
          "base_uri": "https://localhost:8080/",
          "height": 235
        },
        "outputId": "7b2b1b12-6114-48a3-9112-5b8386cef69b"
      },
      "source": [
        "for i in range(5):\n",
        "  print(i, drac_sentences[i+60]) # print the five sentences starting with sentence 60"
      ],
      "execution_count": 97,
      "outputs": [
        {
          "output_type": "stream",
          "text": [
            "0 _)\n",
            "\n",
            "\n",
            "\n",
            "1 _3 may.\n",
            "2 bistritz._--left munich at 8:35 p. m.\n",
            "3 , on 1st may, arriving at\n",
            "vienna early next morning; should have arrived at 6:46, but train was an\n",
            "hour late.\n",
            "4 buda-pesth seems a wonderful place, from the glimpse which i\n",
            "got of it from the train and the little i could walk through the\n",
            "streets.\n"
          ],
          "name": "stdout"
        }
      ]
    },
    {
      "cell_type": "code",
      "metadata": {
        "id": "98n9E3ws93LP",
        "colab_type": "code",
        "colab": {
          "base_uri": "https://localhost:8080/",
          "height": 72
        },
        "outputId": "1d808b4e-6b49-4978-c041-876b0522a8af"
      },
      "source": [
        "sentence64 = drac_sentences[64]\n",
        "sentence64"
      ],
      "execution_count": 98,
      "outputs": [
        {
          "output_type": "execute_result",
          "data": {
            "text/plain": [
              "buda-pesth seems a wonderful place, from the glimpse which i\n",
              "got of it from the train and the little i could walk through the\n",
              "streets."
            ]
          },
          "metadata": {
            "tags": []
          },
          "execution_count": 98
        }
      ]
    },
    {
      "cell_type": "code",
      "metadata": {
        "id": "hvVg25ZW964s",
        "colab_type": "code",
        "colab": {
          "base_uri": "https://localhost:8080/",
          "height": 618
        },
        "outputId": "d52759b0-c397-45ca-8c36-0a586e55e6b3"
      },
      "source": [
        "for token in sentence64:\n",
        "  print(token.text)"
      ],
      "execution_count": 99,
      "outputs": [
        {
          "output_type": "stream",
          "text": [
            "buda\n",
            "-\n",
            "pesth\n",
            "seems\n",
            "a\n",
            "wonderful\n",
            "place\n",
            ",\n",
            "from\n",
            "the\n",
            "glimpse\n",
            "which\n",
            "i\n",
            "\n",
            "\n",
            "got\n",
            "of\n",
            "it\n",
            "from\n",
            "the\n",
            "train\n",
            "and\n",
            "the\n",
            "little\n",
            "i\n",
            "could\n",
            "walk\n",
            "through\n",
            "the\n",
            "\n",
            "\n",
            "streets\n",
            ".\n"
          ],
          "name": "stdout"
        }
      ]
    },
    {
      "cell_type": "markdown",
      "metadata": {
        "id": "fJW6EjgD-B8x",
        "colab_type": "text"
      },
      "source": [
        "## Now, build a matrix of words from dracula that are also colors \n",
        "\n",
        "By matching them with names from the color_table index"
      ]
    },
    {
      "cell_type": "code",
      "metadata": {
        "id": "KADdHqJR9-J5",
        "colab_type": "code",
        "colab": {}
      },
      "source": [
        "drac_color_matrix = []\n",
        "color_names = color_table.index.tolist()\n",
        "\n",
        "for token in doc:\n",
        "  word = token.text\n",
        "  if word in color_names:\n",
        "    drac_color_matrix.append(color_table.loc[word].tolist()) # append the rgb values"
      ],
      "execution_count": 0,
      "outputs": []
    },
    {
      "cell_type": "code",
      "metadata": {
        "id": "cgf5oIu0-mat",
        "colab_type": "code",
        "colab": {
          "base_uri": "https://localhost:8080/",
          "height": 35
        },
        "outputId": "2ac16583-7ce1-4da3-9a98-e7ca5007ec3d"
      },
      "source": [
        "len(drac_color_matrix) # 901 colors mentions"
      ],
      "execution_count": 101,
      "outputs": [
        {
          "output_type": "execute_result",
          "data": {
            "text/plain": [
              "901"
            ]
          },
          "metadata": {
            "tags": []
          },
          "execution_count": 101
        }
      ]
    },
    {
      "cell_type": "code",
      "metadata": {
        "id": "ZNwvuL56-sG2",
        "colab_type": "code",
        "colab": {
          "base_uri": "https://localhost:8080/",
          "height": 199
        },
        "outputId": "d21d90ab-c5c0-4ac4-d6b0-57bd4a8db5d7"
      },
      "source": [
        "drac_color_matrix[:10]"
      ],
      "execution_count": 102,
      "outputs": [
        {
          "output_type": "execute_result",
          "data": {
            "text/plain": [
              "[[229, 0, 0],\n",
              " [244, 208, 84],\n",
              " [255, 255, 255],\n",
              " [255, 255, 255],\n",
              " [255, 255, 255],\n",
              " [172, 116, 52],\n",
              " [0, 0, 0],\n",
              " [0, 0, 0],\n",
              " [27, 36, 49],\n",
              " [78, 81, 139]]"
            ]
          },
          "metadata": {
            "tags": []
          },
          "execution_count": 102
        }
      ]
    },
    {
      "cell_type": "code",
      "metadata": {
        "id": "36g2a8aX-pfu",
        "colab_type": "code",
        "colab": {
          "base_uri": "https://localhost:8080/",
          "height": 35
        },
        "outputId": "7b7b3000-62f3-42a3-d28c-09be7cc8c58b"
      },
      "source": [
        "avg_color = meanv(drac_color_matrix)\n",
        "avg_color"
      ],
      "execution_count": 104,
      "outputs": [
        {
          "output_type": "execute_result",
          "data": {
            "text/plain": [
              "[147.44839067702551, 113.65371809100999, 100.13540510543841]"
            ]
          },
          "metadata": {
            "tags": []
          },
          "execution_count": 104
        }
      ]
    },
    {
      "cell_type": "code",
      "metadata": {
        "id": "x-rwC_Ge--T5",
        "colab_type": "code",
        "colab": {
          "base_uri": "https://localhost:8080/",
          "height": 199
        },
        "outputId": "55e09445-6528-4155-a4aa-b7bb52ed26a2"
      },
      "source": [
        "ordered_embeddings(avg_color, color_table)[:10]"
      ],
      "execution_count": 105,
      "outputs": [
        {
          "output_type": "execute_result",
          "data": {
            "text/plain": [
              "[[13.519858753013214, 'reddish grey'],\n",
              " [15.356247186381948, 'brownish grey'],\n",
              " [16.350106463486874, 'brownish'],\n",
              " [19.826822637698537, 'brown grey'],\n",
              " [21.824003657449868, 'mocha'],\n",
              " [26.730012587581818, 'grey brown'],\n",
              " [28.095953180857567, 'puce'],\n",
              " [28.286050911198767, 'dull brown'],\n",
              " [29.719493432987974, 'pinkish brown'],\n",
              " [31.643437130672552, 'dark taupe']]"
            ]
          },
          "metadata": {
            "tags": []
          },
          "execution_count": 105
        }
      ]
    },
    {
      "cell_type": "markdown",
      "metadata": {
        "id": "FgChrEjS_LRu",
        "colab_type": "text"
      },
      "source": [
        "## Do the same for *The Yellow Wallpaper*"
      ]
    },
    {
      "cell_type": "code",
      "metadata": {
        "id": "qP3LkrDd_Onk",
        "colab_type": "code",
        "colab": {
          "base_uri": "https://localhost:8080/",
          "height": 328
        },
        "outputId": "7b882a12-20e6-4341-9f24-16ac808629e3"
      },
      "source": [
        "!wget {yellow_url}\n",
        "!ls -l"
      ],
      "execution_count": 106,
      "outputs": [
        {
          "output_type": "stream",
          "text": [
            "--2020-05-16 00:58:27--  http://www.gutenberg.org/files/1952/1952-0.txt\n",
            "Resolving www.gutenberg.org (www.gutenberg.org)... 152.19.134.47, 2610:28:3090:3000:0:bad:cafe:47\n",
            "Connecting to www.gutenberg.org (www.gutenberg.org)|152.19.134.47|:80... connected.\n",
            "HTTP request sent, awaiting response... 200 OK\n",
            "Length: 51186 (50K) [text/plain]\n",
            "Saving to: ‘1952-0.txt’\n",
            "\n",
            "\r1952-0.txt            0%[                    ]       0  --.-KB/s               \r1952-0.txt          100%[===================>]  49.99K  --.-KB/s    in 0.07s   \n",
            "\n",
            "2020-05-16 00:58:27 (755 KB/s) - ‘1952-0.txt’ saved [51186/51186]\n",
            "\n",
            "total 924\n",
            "-rw-r--r-- 1 root root  51186 Apr 18 14:40 1952-0.txt\n",
            "-rw-r--r-- 1 root root 883160 May  1 07:50 pg345.txt\n",
            "drwxr-xr-x 1 root root   4096 May 13 16:29 sample_data\n",
            "drwxr-xr-x 4 root root   4096 May 15 21:48 uo_puddles\n"
          ],
          "name": "stdout"
        }
      ]
    },
    {
      "cell_type": "code",
      "metadata": {
        "id": "z0VHPSMa_XyM",
        "colab_type": "code",
        "colab": {}
      },
      "source": [
        "with open('1952-0.txt', 'r') as f:\n",
        "  yellow = f.read()"
      ],
      "execution_count": 0,
      "outputs": []
    },
    {
      "cell_type": "code",
      "metadata": {
        "id": "6AqpqiiN_dkP",
        "colab_type": "code",
        "colab": {}
      },
      "source": [
        "len(yellow)"
      ],
      "execution_count": 0,
      "outputs": []
    },
    {
      "cell_type": "code",
      "metadata": {
        "id": "C-MMf0_w_b-H",
        "colab_type": "code",
        "colab": {}
      },
      "source": [
        "yellow[:100]"
      ],
      "execution_count": 0,
      "outputs": []
    },
    {
      "cell_type": "code",
      "metadata": {
        "id": "LlUkCpg2_fCw",
        "colab_type": "code",
        "colab": {}
      },
      "source": [
        "doc = nlp(yellow.lower())"
      ],
      "execution_count": 0,
      "outputs": []
    },
    {
      "cell_type": "code",
      "metadata": {
        "id": "yIEJlGAO_jTk",
        "colab_type": "code",
        "colab": {}
      },
      "source": [
        "yellow_color_matrix = []\n",
        "color_names = color_table.index.tolist()\n",
        "\n",
        "for token in doc:\n",
        "  word = token.text\n",
        "  if word in color_names:\n",
        "    yellow_color_matrix.append(color_table.loc[word].tolist())"
      ],
      "execution_count": 0,
      "outputs": []
    },
    {
      "cell_type": "code",
      "metadata": {
        "id": "Y3UhxZB7_r4F",
        "colab_type": "code",
        "colab": {
          "base_uri": "https://localhost:8080/",
          "height": 35
        },
        "outputId": "428a646f-ae38-4493-ef68-426cb2d8cfdd"
      },
      "source": [
        "len(yellow_color_matrix) # 26 colors"
      ],
      "execution_count": 110,
      "outputs": [
        {
          "output_type": "execute_result",
          "data": {
            "text/plain": [
              "26"
            ]
          },
          "metadata": {
            "tags": []
          },
          "execution_count": 110
        }
      ]
    },
    {
      "cell_type": "code",
      "metadata": {
        "id": "DpHTlWpl_u-4",
        "colab_type": "code",
        "colab": {
          "base_uri": "https://localhost:8080/",
          "height": 35
        },
        "outputId": "375d3e16-7115-49eb-bf73-130a3fcc05ae"
      },
      "source": [
        "avg_color = meanv(yellow_color_matrix)\n",
        "avg_color"
      ],
      "execution_count": 111,
      "outputs": [
        {
          "output_type": "execute_result",
          "data": {
            "text/plain": [
              "[192.0, 185.26923076923077, 48.23076923076923]"
            ]
          },
          "metadata": {
            "tags": []
          },
          "execution_count": 111
        }
      ]
    },
    {
      "cell_type": "code",
      "metadata": {
        "id": "7aBSc-Z5_zKm",
        "colab_type": "code",
        "colab": {
          "base_uri": "https://localhost:8080/",
          "height": 199
        },
        "outputId": "c5190bdc-c449-419a-cb85-7f53d10ec118"
      },
      "source": [
        "ordered_embeddings(avg_color, color_table)[:10]"
      ],
      "execution_count": 112,
      "outputs": [
        {
          "output_type": "execute_result",
          "data": {
            "text/plain": [
              "[[32.867606937512456, 'pea'],\n",
              " [34.6139529618472, 'puke yellow'],\n",
              " [35.25580652163731, 'sick green'],\n",
              " [37.701902232548726, 'vomit yellow'],\n",
              " [39.06073635071867, 'booger'],\n",
              " [39.34720654280166, 'olive yellow'],\n",
              " [40.548768942125655, 'snot'],\n",
              " [41.77193998863593, 'gross green'],\n",
              " [42.05000193486195, 'dirty yellow'],\n",
              " [42.420635957392086, 'mustard yellow']]"
            ]
          },
          "metadata": {
            "tags": []
          },
          "execution_count": 112
        }
      ]
    },
    {
      "cell_type": "markdown",
      "metadata": {
        "id": "VYwRair4AdKf",
        "colab_type": "text"
      },
      "source": [
        "Write a function called `build_embedding_matrix` that takes a string (e.g., a book) and a table (e.g., the color_table) as inputs and produces a matrix of values from it (e.g., the RGB values)"
      ]
    },
    {
      "cell_type": "code",
      "metadata": {
        "id": "l-tA3ssnAvZN",
        "colab_type": "code",
        "colab": {}
      },
      "source": [
        "def build_embedding_matrix(raw_text: str, table) -> list:\n",
        "  assert isinstance(raw_text, str), f'raw_text should be string but instead is {type(raw_text)}'\n",
        "  assert isinstance(table, pd.core.frame.DataFrame), f'table not a dataframe but instead a {type(table)}'\n",
        "  assert 'nlp' in globals(), f'This function assumes that the spacy nlp function has been defined'\n",
        "\n",
        "  matrix = []\n",
        "  index_list = table.index.tolist()\n",
        "  doc = nlp(raw_text.lower())\n",
        "\n",
        "  # short version\n",
        "  # matrix = [table.loc[token.text].tolist() for token in doc if token.text in index_list]\n",
        "\n",
        "  for token in doc:\n",
        "    word = token.text\n",
        "    if word in index_list:\n",
        "      matrix.append(table.loc[word].tolist())\n",
        "  return matrix"
      ],
      "execution_count": 0,
      "outputs": []
    },
    {
      "cell_type": "code",
      "metadata": {
        "id": "fnPlwHTvBSn-",
        "colab_type": "code",
        "colab": {}
      },
      "source": [
        "# Test the build_embedding_matrix function on the Yellow Wallpaper\n",
        "\n",
        "yellow_matrix = build_embedding_matrix(yellow, color_table)"
      ],
      "execution_count": 0,
      "outputs": []
    },
    {
      "cell_type": "code",
      "metadata": {
        "id": "ciZYsBCzBbiW",
        "colab_type": "code",
        "colab": {
          "base_uri": "https://localhost:8080/",
          "height": 35
        },
        "outputId": "10587eed-4e06-49e0-c31e-1d3559a96740"
      },
      "source": [
        "# Check if we got the same results as above\n",
        "\n",
        "yellow_matrix == yellow_color_matrix # True"
      ],
      "execution_count": 123,
      "outputs": [
        {
          "output_type": "execute_result",
          "data": {
            "text/plain": [
              "True"
            ]
          },
          "metadata": {
            "tags": []
          },
          "execution_count": 123
        }
      ]
    },
    {
      "cell_type": "markdown",
      "metadata": {
        "id": "BrCr34GbBv6A",
        "colab_type": "text"
      },
      "source": [
        "Use the built function to build the matrix you can use for calculating the average color of Dicken's A Tale of Two Cities."
      ]
    },
    {
      "cell_type": "code",
      "metadata": {
        "id": "ziG37yf2B40t",
        "colab_type": "code",
        "colab": {
          "base_uri": "https://localhost:8080/",
          "height": 346
        },
        "outputId": "a70412ac-24bf-4b0a-f394-295e2ff3e324"
      },
      "source": [
        "!wget {dickens_url}\n",
        "!ls -l"
      ],
      "execution_count": 128,
      "outputs": [
        {
          "output_type": "stream",
          "text": [
            "--2020-05-16 01:11:18--  https://www.gutenberg.org/files/98/98-0.txt\n",
            "Resolving www.gutenberg.org (www.gutenberg.org)... 152.19.134.47, 2610:28:3090:3000:0:bad:cafe:47\n",
            "Connecting to www.gutenberg.org (www.gutenberg.org)|152.19.134.47|:443... connected.\n",
            "HTTP request sent, awaiting response... 200 OK\n",
            "Length: 804335 (785K) [text/plain]\n",
            "Saving to: ‘98-0.txt’\n",
            "\n",
            "98-0.txt            100%[===================>] 785.48K  1.97MB/s    in 0.4s    \n",
            "\n",
            "2020-05-16 01:11:19 (1.97 MB/s) - ‘98-0.txt’ saved [804335/804335]\n",
            "\n",
            "total 1712\n",
            "-rw-r--r-- 1 root root  51186 Apr 18 14:40 1952-0.txt\n",
            "-rw-r--r-- 1 root root 804335 Mar 19  2018 98-0.txt\n",
            "-rw-r--r-- 1 root root 883160 May  1 07:50 pg345.txt\n",
            "drwxr-xr-x 1 root root   4096 May 13 16:29 sample_data\n",
            "drwxr-xr-x 4 root root   4096 May 15 21:48 uo_puddles\n"
          ],
          "name": "stdout"
        }
      ]
    },
    {
      "cell_type": "code",
      "metadata": {
        "id": "jiSppHy_CD06",
        "colab_type": "code",
        "colab": {}
      },
      "source": [
        "with open ('98-0.txt', 'r') as f:\n",
        "  dickens = f.read()"
      ],
      "execution_count": 0,
      "outputs": []
    },
    {
      "cell_type": "code",
      "metadata": {
        "id": "rIWDvhUdCT_4",
        "colab_type": "code",
        "colab": {}
      },
      "source": [
        "dickens_matrix = build_embedding_matrix(dickens, color_table)"
      ],
      "execution_count": 0,
      "outputs": []
    },
    {
      "cell_type": "code",
      "metadata": {
        "id": "ayRp5sfdCZga",
        "colab_type": "code",
        "colab": {}
      },
      "source": [
        "avg_color = meanv(dickens_matrix)"
      ],
      "execution_count": 0,
      "outputs": []
    },
    {
      "cell_type": "code",
      "metadata": {
        "id": "Hu9JJmX9Cb73",
        "colab_type": "code",
        "colab": {
          "base_uri": "https://localhost:8080/",
          "height": 199
        },
        "outputId": "400762b1-d49c-417f-861b-a5e2210cc112"
      },
      "source": [
        "ordered_embeddings(avg_color, color_table)[:10]"
      ],
      "execution_count": 132,
      "outputs": [
        {
          "output_type": "execute_result",
          "data": {
            "text/plain": [
              "[[12.272728816373057, 'dark taupe'],\n",
              " [14.961457974171816, 'cocoa'],\n",
              " [16.458517047363525, 'greyish brown'],\n",
              " [17.920407343606808, 'dull brown'],\n",
              " [19.65895044742039, 'grey brown'],\n",
              " [21.21055110632527, 'dirt'],\n",
              " [24.630416790742295, 'dark mauve'],\n",
              " [24.877166111255395, 'dirt brown'],\n",
              " [29.25547441759158, 'brownish'],\n",
              " [29.602296007881918, 'brownish grey']]"
            ]
          },
          "metadata": {
            "tags": []
          },
          "execution_count": 132
        }
      ]
    }
  ]
}