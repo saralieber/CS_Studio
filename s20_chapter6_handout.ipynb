{
  "nbformat": 4,
  "nbformat_minor": 0,
  "metadata": {
    "colab": {
      "name": "s20_chapter6_handout.ipynb",
      "provenance": [],
      "collapsed_sections": [],
      "include_colab_link": true
    },
    "kernelspec": {
      "name": "python3",
      "display_name": "Python 3"
    }
  },
  "cells": [
    {
      "cell_type": "markdown",
      "metadata": {
        "id": "view-in-github",
        "colab_type": "text"
      },
      "source": [
        "<a href=\"https://colab.research.google.com/github/saralieber/CS_Studio/blob/master/s20_chapter6_handout.ipynb\" target=\"_parent\"><img src=\"https://colab.research.google.com/assets/colab-badge.svg\" alt=\"Open In Colab\"/></a>"
      ]
    },
    {
      "cell_type": "markdown",
      "metadata": {
        "id": "bzDiYMkiYgRS",
        "colab_type": "text"
      },
      "source": [
        "<center>\n",
        "<h1>Chapter 6</h1>\n",
        "</center>\n",
        "\n",
        "In this chapter we will make some final tune-ups to the Naive Bayes algorithm. Then you can do the fun part: check how well it does with the Gothic authors (spoiler alert: not bad).\n",
        "<hr>"
      ]
    },
    {
      "cell_type": "markdown",
      "metadata": {
        "id": "Zcab0aNw7_f3",
        "colab_type": "text"
      },
      "source": [
        "#1. First let's bring in puddles\n",
        "\n",
        "\n",
        "<img src='https://www.dropbox.com/s/zv84ew76m7ptyrh/puddles.jpeg?raw=1' height=100>"
      ]
    },
    {
      "cell_type": "code",
      "metadata": {
        "id": "j_GdU8ACeitW",
        "colab_type": "code",
        "colab": {}
      },
      "source": [
        "#flush the old directory\n",
        "!rm -r  'uo_puddles'"
      ],
      "execution_count": 0,
      "outputs": []
    },
    {
      "cell_type": "code",
      "metadata": {
        "id": "rPISZH5nclhU",
        "colab_type": "code",
        "colab": {}
      },
      "source": [
        "my_github_name = 'uo-puddles'"
      ],
      "execution_count": 0,
      "outputs": []
    },
    {
      "cell_type": "code",
      "metadata": {
        "id": "NuaxZXKXcrNL",
        "colab_type": "code",
        "colab": {}
      },
      "source": [
        "clone_url = f'https://github.com/{my_github_name}/uo_puddles.git'"
      ],
      "execution_count": 0,
      "outputs": []
    },
    {
      "cell_type": "code",
      "metadata": {
        "colab_type": "code",
        "id": "Rmp86ySdkr4z",
        "colab": {
          "base_uri": "https://localhost:8080/",
          "height": 146
        },
        "outputId": "d7bd2dee-7c73-44aa-da9c-a86443cf8b55"
      },
      "source": [
        "#this adds the library to colab so you can now import it\n",
        "!git clone $clone_url  \n"
      ],
      "execution_count": 57,
      "outputs": [
        {
          "output_type": "stream",
          "text": [
            "Cloning into 'uo_puddles'...\n",
            "remote: Enumerating objects: 228, done.\u001b[K\n",
            "remote: Counting objects: 100% (228/228), done.\u001b[K\n",
            "remote: Compressing objects: 100% (192/192), done.\u001b[K\n",
            "remote: Total 228 (delta 135), reused 64 (delta 33), pack-reused 0\u001b[K\n",
            "Receiving objects: 100% (228/228), 57.48 KiB | 700.00 KiB/s, done.\n",
            "Resolving deltas: 100% (135/135), done.\n"
          ],
          "name": "stdout"
        }
      ]
    },
    {
      "cell_type": "code",
      "metadata": {
        "colab_type": "code",
        "id": "9r8-rTeMkr5C",
        "colab": {}
      },
      "source": [
        "import uo_puddles.uo_puddles as up"
      ],
      "execution_count": 0,
      "outputs": []
    },
    {
      "cell_type": "markdown",
      "metadata": {
        "id": "2dagqgRpTyPl",
        "colab_type": "text"
      },
      "source": [
        "#2. Now bring in spacy."
      ]
    },
    {
      "cell_type": "code",
      "metadata": {
        "id": "vilI8ZGqZPDB",
        "colab_type": "code",
        "colab": {}
      },
      "source": [
        "import spacy"
      ],
      "execution_count": 0,
      "outputs": []
    },
    {
      "cell_type": "code",
      "metadata": {
        "id": "Dz-yQfqTyeMU",
        "colab_type": "code",
        "colab": {
          "base_uri": "https://localhost:8080/",
          "height": 462
        },
        "outputId": "55d92469-6581-490f-bf09-8a2a5d78b4db"
      },
      "source": [
        "#you first have to get colab to download it locally\n",
        "\n",
        "!python -m spacy download en_core_web_md\n"
      ],
      "execution_count": 60,
      "outputs": [
        {
          "output_type": "stream",
          "text": [
            "Requirement already satisfied: en_core_web_md==2.2.5 from https://github.com/explosion/spacy-models/releases/download/en_core_web_md-2.2.5/en_core_web_md-2.2.5.tar.gz#egg=en_core_web_md==2.2.5 in /usr/local/lib/python3.6/dist-packages (2.2.5)\n",
            "Requirement already satisfied: spacy>=2.2.2 in /usr/local/lib/python3.6/dist-packages (from en_core_web_md==2.2.5) (2.2.4)\n",
            "Requirement already satisfied: cymem<2.1.0,>=2.0.2 in /usr/local/lib/python3.6/dist-packages (from spacy>=2.2.2->en_core_web_md==2.2.5) (2.0.3)\n",
            "Requirement already satisfied: preshed<3.1.0,>=3.0.2 in /usr/local/lib/python3.6/dist-packages (from spacy>=2.2.2->en_core_web_md==2.2.5) (3.0.2)\n",
            "Requirement already satisfied: catalogue<1.1.0,>=0.0.7 in /usr/local/lib/python3.6/dist-packages (from spacy>=2.2.2->en_core_web_md==2.2.5) (1.0.0)\n",
            "Requirement already satisfied: requests<3.0.0,>=2.13.0 in /usr/local/lib/python3.6/dist-packages (from spacy>=2.2.2->en_core_web_md==2.2.5) (2.23.0)\n",
            "Requirement already satisfied: murmurhash<1.1.0,>=0.28.0 in /usr/local/lib/python3.6/dist-packages (from spacy>=2.2.2->en_core_web_md==2.2.5) (1.0.2)\n",
            "Requirement already satisfied: blis<0.5.0,>=0.4.0 in /usr/local/lib/python3.6/dist-packages (from spacy>=2.2.2->en_core_web_md==2.2.5) (0.4.1)\n",
            "Requirement already satisfied: srsly<1.1.0,>=1.0.2 in /usr/local/lib/python3.6/dist-packages (from spacy>=2.2.2->en_core_web_md==2.2.5) (1.0.2)\n",
            "Requirement already satisfied: tqdm<5.0.0,>=4.38.0 in /usr/local/lib/python3.6/dist-packages (from spacy>=2.2.2->en_core_web_md==2.2.5) (4.38.0)\n",
            "Requirement already satisfied: thinc==7.4.0 in /usr/local/lib/python3.6/dist-packages (from spacy>=2.2.2->en_core_web_md==2.2.5) (7.4.0)\n",
            "Requirement already satisfied: setuptools in /usr/local/lib/python3.6/dist-packages (from spacy>=2.2.2->en_core_web_md==2.2.5) (46.1.3)\n",
            "Requirement already satisfied: numpy>=1.15.0 in /usr/local/lib/python3.6/dist-packages (from spacy>=2.2.2->en_core_web_md==2.2.5) (1.18.3)\n",
            "Requirement already satisfied: wasabi<1.1.0,>=0.4.0 in /usr/local/lib/python3.6/dist-packages (from spacy>=2.2.2->en_core_web_md==2.2.5) (0.6.0)\n",
            "Requirement already satisfied: plac<1.2.0,>=0.9.6 in /usr/local/lib/python3.6/dist-packages (from spacy>=2.2.2->en_core_web_md==2.2.5) (1.1.3)\n",
            "Requirement already satisfied: importlib-metadata>=0.20; python_version < \"3.8\" in /usr/local/lib/python3.6/dist-packages (from catalogue<1.1.0,>=0.0.7->spacy>=2.2.2->en_core_web_md==2.2.5) (1.6.0)\n",
            "Requirement already satisfied: chardet<4,>=3.0.2 in /usr/local/lib/python3.6/dist-packages (from requests<3.0.0,>=2.13.0->spacy>=2.2.2->en_core_web_md==2.2.5) (3.0.4)\n",
            "Requirement already satisfied: certifi>=2017.4.17 in /usr/local/lib/python3.6/dist-packages (from requests<3.0.0,>=2.13.0->spacy>=2.2.2->en_core_web_md==2.2.5) (2020.4.5.1)\n",
            "Requirement already satisfied: urllib3!=1.25.0,!=1.25.1,<1.26,>=1.21.1 in /usr/local/lib/python3.6/dist-packages (from requests<3.0.0,>=2.13.0->spacy>=2.2.2->en_core_web_md==2.2.5) (1.24.3)\n",
            "Requirement already satisfied: idna<3,>=2.5 in /usr/local/lib/python3.6/dist-packages (from requests<3.0.0,>=2.13.0->spacy>=2.2.2->en_core_web_md==2.2.5) (2.9)\n",
            "Requirement already satisfied: zipp>=0.5 in /usr/local/lib/python3.6/dist-packages (from importlib-metadata>=0.20; python_version < \"3.8\"->catalogue<1.1.0,>=0.0.7->spacy>=2.2.2->en_core_web_md==2.2.5) (3.1.0)\n",
            "\u001b[38;5;2m✔ Download and installation successful\u001b[0m\n",
            "You can now load the model via spacy.load('en_core_web_md')\n"
          ],
          "name": "stdout"
        }
      ]
    },
    {
      "cell_type": "code",
      "metadata": {
        "id": "qD4w_Bdo-gZ1",
        "colab_type": "code",
        "colab": {}
      },
      "source": [
        "#now you can import the dictionary and set up a parser\n",
        "\n",
        "import en_core_web_md\n",
        "nlp = en_core_web_md.load()  #huh?"
      ],
      "execution_count": 0,
      "outputs": []
    },
    {
      "cell_type": "markdown",
      "metadata": {
        "id": "fAuPW0XhZ5UJ",
        "colab_type": "text"
      },
      "source": [
        "#3. Bring in data set\n",
        "\n",
        "\n",
        "&nbsp;<br>&nbsp;<br>\n",
        "<center>\n",
        "<img src='https://www.thegreatcoursesdaily.com/wp-content/uploads/2017/03/Mary-Shelly-Featured-Image-LARGE.jpg' height='150' >\n",
        "&nbsp;&nbsp;&nbsp;&nbsp;\n",
        "<img src ='https://www.riverwoodwinery.com/uploads/1/2/4/1/124189002/s593933943352694433_p9_i1_w593.jpeg' height='150'>\n",
        "&nbsp;&nbsp;&nbsp;&nbsp;\n",
        "<img src='https://wpcdn.us-midwest-1.vip.tn-cloud.net/www.rimonthly.com/content/uploads/2017/05/13135413/4b8e1f244f4e0e42bf881efabd19aa12-AU5EC102CUR.jpg' height='150'>\n",
        "</center>\n",
        "\n"
      ]
    },
    {
      "cell_type": "code",
      "metadata": {
        "id": "74AsQuj4bvej",
        "colab_type": "code",
        "colab": {}
      },
      "source": [
        "import pandas as pd"
      ],
      "execution_count": 0,
      "outputs": []
    },
    {
      "cell_type": "code",
      "metadata": {
        "id": "1K713HblbzsA",
        "colab_type": "code",
        "outputId": "55253265-12b1-42e4-95ff-7873f65c8ba8",
        "colab": {
          "base_uri": "https://localhost:8080/",
          "height": 35
        }
      },
      "source": [
        "gothic_sentences = pd.read_csv('https://docs.google.com/spreadsheets/d/e/2PACX-1vQqRwyE0ceZREKqhuaOw8uQguTG6Alr5kocggvAnczrWaimXE8ncR--GC0o_PyVDlb-R6Z60v-XaWm9/pub?output=csv',\n",
        "                          encoding='utf-8')\n",
        "len(gothic_sentences) #how many sentences"
      ],
      "execution_count": 63,
      "outputs": [
        {
          "output_type": "execute_result",
          "data": {
            "text/plain": [
              "19579"
            ]
          },
          "metadata": {
            "tags": []
          },
          "execution_count": 63
        }
      ]
    },
    {
      "cell_type": "code",
      "metadata": {
        "id": "Q7Mf50alDxa6",
        "colab_type": "code",
        "colab": {}
      },
      "source": [
        "pd.set_option('display.max_colwidth', None)  #None forces all of sentence to be shown"
      ],
      "execution_count": 0,
      "outputs": []
    },
    {
      "cell_type": "code",
      "metadata": {
        "id": "cpZqCAKyD_Uu",
        "colab_type": "code",
        "outputId": "eac1fa16-2dcf-4ecb-9b68-dbec311e9a0d",
        "colab": {
          "base_uri": "https://localhost:8080/",
          "height": 258
        }
      },
      "source": [
        "gothic_sentences.head()"
      ],
      "execution_count": 65,
      "outputs": [
        {
          "output_type": "execute_result",
          "data": {
            "text/html": [
              "<div>\n",
              "<style scoped>\n",
              "    .dataframe tbody tr th:only-of-type {\n",
              "        vertical-align: middle;\n",
              "    }\n",
              "\n",
              "    .dataframe tbody tr th {\n",
              "        vertical-align: top;\n",
              "    }\n",
              "\n",
              "    .dataframe thead th {\n",
              "        text-align: right;\n",
              "    }\n",
              "</style>\n",
              "<table border=\"1\" class=\"dataframe\">\n",
              "  <thead>\n",
              "    <tr style=\"text-align: right;\">\n",
              "      <th></th>\n",
              "      <th>id</th>\n",
              "      <th>text</th>\n",
              "      <th>author</th>\n",
              "    </tr>\n",
              "  </thead>\n",
              "  <tbody>\n",
              "    <tr>\n",
              "      <th>0</th>\n",
              "      <td>id26305</td>\n",
              "      <td>This process, however, afforded me no means of ascertaining the dimensions of my dungeon; as I might make its circuit, and return to the point whence I set out, without being aware of the fact; so perfectly uniform seemed the wall.</td>\n",
              "      <td>EAP</td>\n",
              "    </tr>\n",
              "    <tr>\n",
              "      <th>1</th>\n",
              "      <td>id17569</td>\n",
              "      <td>It never once occurred to me that the fumbling might be a mere mistake.</td>\n",
              "      <td>HPL</td>\n",
              "    </tr>\n",
              "    <tr>\n",
              "      <th>2</th>\n",
              "      <td>id11008</td>\n",
              "      <td>In his left hand was a gold snuff box, from which, as he capered down the hill, cutting all manner of fantastic steps, he took snuff incessantly with an air of the greatest possible self satisfaction.</td>\n",
              "      <td>EAP</td>\n",
              "    </tr>\n",
              "    <tr>\n",
              "      <th>3</th>\n",
              "      <td>id27763</td>\n",
              "      <td>How lovely is spring As we looked from Windsor Terrace on the sixteen fertile counties spread beneath, speckled by happy cottages and wealthier towns, all looked as in former years, heart cheering and fair.</td>\n",
              "      <td>MWS</td>\n",
              "    </tr>\n",
              "    <tr>\n",
              "      <th>4</th>\n",
              "      <td>id12958</td>\n",
              "      <td>Finding nothing else, not even gold, the Superintendent abandoned his attempts; but a perplexed look occasionally steals over his countenance as he sits thinking at his desk.</td>\n",
              "      <td>HPL</td>\n",
              "    </tr>\n",
              "  </tbody>\n",
              "</table>\n",
              "</div>"
            ],
            "text/plain": [
              "        id  ... author\n",
              "0  id26305  ...    EAP\n",
              "1  id17569  ...    HPL\n",
              "2  id11008  ...    EAP\n",
              "3  id27763  ...    MWS\n",
              "4  id12958  ...    HPL\n",
              "\n",
              "[5 rows x 3 columns]"
            ]
          },
          "metadata": {
            "tags": []
          },
          "execution_count": 65
        }
      ]
    },
    {
      "cell_type": "markdown",
      "metadata": {
        "id": "aedN9YTZdaFl",
        "colab_type": "text"
      },
      "source": [
        "#4. Compute holdout data"
      ]
    },
    {
      "cell_type": "code",
      "metadata": {
        "id": "9g3Q9PBZZ_G5",
        "colab_type": "code",
        "colab": {}
      },
      "source": [
        "our_seed = 1234  #if we all use this we should get same random data"
      ],
      "execution_count": 0,
      "outputs": []
    },
    {
      "cell_type": "code",
      "metadata": {
        "id": "zoT_UF0hhdmA",
        "colab_type": "code",
        "colab": {}
      },
      "source": [
        "import numpy as np  #powerful library for manipulating data\n",
        "rsgen = np.random.RandomState(our_seed)  #we are only going to use numpy's random number generator for now"
      ],
      "execution_count": 0,
      "outputs": []
    },
    {
      "cell_type": "code",
      "metadata": {
        "id": "vStMqeJhiPEh",
        "colab_type": "code",
        "colab": {}
      },
      "source": [
        "shuffled_table = gothic_sentences.sample(frac=1, random_state=rsgen).reset_index(drop=True)"
      ],
      "execution_count": 0,
      "outputs": []
    },
    {
      "cell_type": "code",
      "metadata": {
        "id": "6vcUvTIfnoyd",
        "colab_type": "code",
        "outputId": "e5b6d41d-b6c5-46e8-e348-562dbc6bd918",
        "colab": {
          "base_uri": "https://localhost:8080/",
          "height": 35
        }
      },
      "source": [
        "len(shuffled_table)"
      ],
      "execution_count": 69,
      "outputs": [
        {
          "output_type": "execute_result",
          "data": {
            "text/plain": [
              "19579"
            ]
          },
          "metadata": {
            "tags": []
          },
          "execution_count": 69
        }
      ]
    },
    {
      "cell_type": "code",
      "metadata": {
        "id": "uRLat0NJmR7S",
        "colab_type": "code",
        "outputId": "7375a07f-4f17-4e6a-e992-b64dea897bfd",
        "colab": {
          "base_uri": "https://localhost:8080/",
          "height": 35
        }
      },
      "source": [
        "19579*.7  #split point"
      ],
      "execution_count": 70,
      "outputs": [
        {
          "output_type": "execute_result",
          "data": {
            "text/plain": [
              "13705.3"
            ]
          },
          "metadata": {
            "tags": []
          },
          "execution_count": 70
        }
      ]
    },
    {
      "cell_type": "code",
      "metadata": {
        "id": "sxslltTfmbks",
        "colab_type": "code",
        "colab": {}
      },
      "source": [
        "training_table = shuffled_table[:13705].reset_index(drop=True)  #.7\n",
        "testing_table = shuffled_table[13705:].reset_index(drop=True)   #.3"
      ],
      "execution_count": 0,
      "outputs": []
    },
    {
      "cell_type": "markdown",
      "metadata": {
        "id": "hXfPhQ4hQFPM",
        "colab_type": "text"
      },
      "source": [
        "Now pull the sentences into list of strings."
      ]
    },
    {
      "cell_type": "code",
      "metadata": {
        "colab_type": "code",
        "id": "RSCKZHlqnITo",
        "colab": {}
      },
      "source": [
        "training_text = training_table['text'].to_list()\n",
        "training_authors = training_table['author'].to_list()"
      ],
      "execution_count": 0,
      "outputs": []
    },
    {
      "cell_type": "code",
      "metadata": {
        "id": "jBpfNZXS-1E0",
        "colab_type": "code",
        "colab": {}
      },
      "source": [
        "testing_text = testing_table['text'].to_list()\n",
        "testing_authors = testing_table['author'].to_list()"
      ],
      "execution_count": 0,
      "outputs": []
    },
    {
      "cell_type": "markdown",
      "metadata": {
        "id": "hadtnfkS96nm",
        "colab_type": "text"
      },
      "source": [
        "#5. Bring in word bag\n"
      ]
    },
    {
      "cell_type": "code",
      "metadata": {
        "id": "pyAbmgU6P4S1",
        "colab_type": "code",
        "colab": {}
      },
      "source": [
        "import pandas as pd"
      ],
      "execution_count": 0,
      "outputs": []
    },
    {
      "cell_type": "code",
      "metadata": {
        "id": "CW0vmVc02Vfw",
        "colab_type": "code",
        "colab": {}
      },
      "source": [
        "url = 'https://docs.google.com/spreadsheets/d/e/2PACX-1vQR107nAfeU_z-p6sUv3yhnti9vNsklgXsm2RXAExQBHPUE3APm32qMQxTuYCEBbSz09MCVx-rnOXGb/pub?output=csv'\n"
      ],
      "execution_count": 0,
      "outputs": []
    },
    {
      "cell_type": "code",
      "metadata": {
        "id": "JTy80-RHv8sN",
        "colab_type": "code",
        "colab": {}
      },
      "source": [
        "sorted_word_table = pd.read_csv(url, dtype={'word':str}, encoding='utf-8',\n",
        "                                index_col='word', na_filter=False)\n",
        "sorted_word_table = sorted_word_table.rename(index={'TRUE': 'true', 'FALSE': 'false'}) #need this because of bug in reading from url"
      ],
      "execution_count": 0,
      "outputs": []
    },
    {
      "cell_type": "code",
      "metadata": {
        "id": "c6j6fjlk2zsP",
        "colab_type": "code",
        "outputId": "20247731-1ab2-42cb-a189-586fde911866",
        "colab": {
          "base_uri": "https://localhost:8080/",
          "height": 237
        }
      },
      "source": [
        "sorted_word_table.head()"
      ],
      "execution_count": 77,
      "outputs": [
        {
          "output_type": "execute_result",
          "data": {
            "text/html": [
              "<div>\n",
              "<style scoped>\n",
              "    .dataframe tbody tr th:only-of-type {\n",
              "        vertical-align: middle;\n",
              "    }\n",
              "\n",
              "    .dataframe tbody tr th {\n",
              "        vertical-align: top;\n",
              "    }\n",
              "\n",
              "    .dataframe thead th {\n",
              "        text-align: right;\n",
              "    }\n",
              "</style>\n",
              "<table border=\"1\" class=\"dataframe\">\n",
              "  <thead>\n",
              "    <tr style=\"text-align: right;\">\n",
              "      <th></th>\n",
              "      <th>EAP</th>\n",
              "      <th>MWS</th>\n",
              "      <th>HPL</th>\n",
              "    </tr>\n",
              "    <tr>\n",
              "      <th>word</th>\n",
              "      <th></th>\n",
              "      <th></th>\n",
              "      <th></th>\n",
              "    </tr>\n",
              "  </thead>\n",
              "  <tbody>\n",
              "    <tr>\n",
              "      <th>ab</th>\n",
              "      <td>1</td>\n",
              "      <td>0</td>\n",
              "      <td>0</td>\n",
              "    </tr>\n",
              "    <tr>\n",
              "      <th>aback</th>\n",
              "      <td>2</td>\n",
              "      <td>0</td>\n",
              "      <td>0</td>\n",
              "    </tr>\n",
              "    <tr>\n",
              "      <th>abaft</th>\n",
              "      <td>0</td>\n",
              "      <td>1</td>\n",
              "      <td>0</td>\n",
              "    </tr>\n",
              "    <tr>\n",
              "      <th>abandon</th>\n",
              "      <td>3</td>\n",
              "      <td>1</td>\n",
              "      <td>2</td>\n",
              "    </tr>\n",
              "    <tr>\n",
              "      <th>abandoned</th>\n",
              "      <td>8</td>\n",
              "      <td>4</td>\n",
              "      <td>8</td>\n",
              "    </tr>\n",
              "  </tbody>\n",
              "</table>\n",
              "</div>"
            ],
            "text/plain": [
              "           EAP  MWS  HPL\n",
              "word                    \n",
              "ab           1    0    0\n",
              "aback        2    0    0\n",
              "abaft        0    1    0\n",
              "abandon      3    1    2\n",
              "abandoned    8    4    8"
            ]
          },
          "metadata": {
            "tags": []
          },
          "execution_count": 77
        }
      ]
    },
    {
      "cell_type": "markdown",
      "metadata": {
        "id": "ymK0iXhulH4R",
        "colab_type": "text"
      },
      "source": [
        "#6. Now, about those zero values\n",
        "\n",
        "The Naive Bayes algorithm is rather strict on zeroes. Reminder of the formula:\n",
        "\n",
        "<img src='https://www.dropbox.com/s/gstzvvtvh9b39o8/bayes.png?raw=1'>\n",
        "\n",
        "Because we are taking the product and not the sum in the denominator, any P(Ei|O) that is zero will cause the entire probability to be zero. This makes sense in some ideal setting where we know everything. In particular, we know all the works by each author and we know what words they used absolutely. So if we get a P(indefinite|EAP) as zero, then we absoultely can remove EAP from consideration.\n",
        "\n",
        "Kind of bold of us to say we know everything. Laplace took this question up as well under a different guise."
      ]
    },
    {
      "cell_type": "markdown",
      "metadata": {
        "id": "qk60AdaOeTeb",
        "colab_type": "text"
      },
      "source": [
        "#Laplace was smooth\n",
        "\n",
        "<img src='https://www.dropbox.com/s/1qjraurrneanzjo/Screenshot%202019-09-27%2013.47.01.png?raw=1'>\n",
        "\n",
        "From his bio: <i>Laplace is remembered as one of the greatest scientists of all time. Sometimes referred to as the French Newton or Newton of France, he has been described as possessing a phenomenal natural mathematical faculty superior to that of any of his contemporaries. He was Napoleon's examiner when Napoleon attended the École Militaire in Paris in 1784. Laplace became a count of the Empire in 1806 and was named a marquis in 1817, after the Bourbon Restoration.\n",
        "Laplace died in Paris in 1827. His brain was removed by his physician, François Magendie, and kept for many years, eventually being displayed in a roving anatomical museum in Britain. It was reportedly smaller than the average brain.</i>\n",
        "\n",
        "Cool, but what does that have to do with us? Well, Laplace was also into thought experiments. He was thinking about the probability that the sun would **not** rise in the morning.\n",
        "His thought was that given a large sample of days with the rising sun, we still can not be completely sure that it will rise tomorrow. So the probability of it not rising is not zero, even though we have no evidence of it to date. He proposed adding a small smoothing constant to each conditional probability. In essence, he did not like probablities of 0. He thought a 0 led to us thinking we knew more than we actually did.\n",
        "\n"
      ]
    },
    {
      "cell_type": "markdown",
      "metadata": {
        "id": "-J0slaJrtezw",
        "colab_type": "text"
      },
      "source": [
        "#9. The Laplace smoothing factor\n",
        "\n",
        "I hope you see that Laplace was correct when it comes to our hold-out method. We can easily see a word in the testing set that does not appear in the training set. And if it does not appear in the training set, then it is not in our word bag. My default would be to give a zero to such a word. But that means we will end up with a probability of zero for all 3 authors. Not good!\n",
        "\n",
        "I can boil down the Laplace smoothing factor, to mitigate this unseen word problem, as follows:\n",
        "\n",
        "1. For `P(oliver|EAP)` we normally have (a) how many times EAP used `oliver` divided by (b) how many sentences EAP wrote. I am going to modify the numerator by adding 1. So if the numerator is 0, which it is in this case, it becomes 1. If it was 1, it becomes 2. Just add 1 in all cases. In essence, this is like **adding 1 to all the words in the EAP column**.\n",
        "\n",
        "2. If a word is unseen (does not appear in word bag), then I treat it as 0 count. But then I add 1 to it.\n",
        "\n",
        "3. Now we have the problem that we have \"shifted\" the EAP column by 1*|V|, where V is the vocabulary and |V| is the number of words we have in V, i.e., the length of the sorted_word_table. To compensate, I am going to divide by |V|. \n",
        "\n",
        "We should now never get a value of zero for any `P(word|author)` that we need to calculate. \n",
        "\n",
        "Whew.\n",
        "\n"
      ]
    },
    {
      "cell_type": "markdown",
      "metadata": {
        "id": "EiSjiQczjIIq",
        "colab_type": "text"
      },
      "source": [
        "##Side note\n",
        "\n",
        "The smoothing value of 1 may not be the best. Some have argued (see link below) that it gives too much weight to outliers. They argue for something closer to .001. So add .01 to numerator and .01*|V| to denominator.\n",
        "\n",
        "http://www.cs.virginia.edu/~kc2wc/teaching/NLP16/slides/03-smooth.pdf\n",
        "\n",
        "In the end, it is yet another hyperparameter that you may need to explore. We will stick with 1 for our purposes."
      ]
    },
    {
      "cell_type": "markdown",
      "metadata": {
        "id": "31gbI99re5ja",
        "colab_type": "text"
      },
      "source": [
        "##Let's run through by hand again with new concepts"
      ]
    },
    {
      "cell_type": "markdown",
      "metadata": {
        "id": "L9ID_tXT6VeX",
        "colab_type": "text"
      },
      "source": [
        "##Probabilites of authors P(O)\n",
        "\n",
        "These will not change - they are constant. So we only have to compute them once then can reuse them in the formula."
      ]
    },
    {
      "cell_type": "code",
      "metadata": {
        "id": "AW7N9lHi6cu1",
        "colab_type": "code",
        "outputId": "bfac4f65-d888-437a-98ed-91502015cd3b",
        "colab": {
          "base_uri": "https://localhost:8080/",
          "height": 35
        }
      },
      "source": [
        "v_size = len(sorted_word_table)  #i.e., |V|\n",
        "v_size  #21552"
      ],
      "execution_count": 78,
      "outputs": [
        {
          "output_type": "execute_result",
          "data": {
            "text/plain": [
              "21552"
            ]
          },
          "metadata": {
            "tags": []
          },
          "execution_count": 78
        }
      ]
    },
    {
      "cell_type": "code",
      "metadata": {
        "id": "qZ7Ybld2nZr4",
        "colab_type": "code",
        "outputId": "bab7df16-324b-4ce3-ecb0-1076fb761995",
        "colab": {
          "base_uri": "https://localhost:8080/",
          "height": 35
        }
      },
      "source": [
        "n = len(training_table)  #number of sentences total\n",
        "n  #13705"
      ],
      "execution_count": 79,
      "outputs": [
        {
          "output_type": "execute_result",
          "data": {
            "text/plain": [
              "13705"
            ]
          },
          "metadata": {
            "tags": []
          },
          "execution_count": 79
        }
      ]
    },
    {
      "cell_type": "code",
      "metadata": {
        "id": "hjDVl_p365fn",
        "colab_type": "code",
        "outputId": "6404a9d6-7e2f-4f7d-dcd6-1b1e156fff6e",
        "colab": {
          "base_uri": "https://localhost:8080/",
          "height": 35
        }
      },
      "source": [
        "eap_count = training_authors.count('EAP')\n",
        "eap_count  #5470"
      ],
      "execution_count": 80,
      "outputs": [
        {
          "output_type": "execute_result",
          "data": {
            "text/plain": [
              "5470"
            ]
          },
          "metadata": {
            "tags": []
          },
          "execution_count": 80
        }
      ]
    },
    {
      "cell_type": "code",
      "metadata": {
        "colab_type": "code",
        "id": "ayvrOH1i7BSY",
        "outputId": "91a8edaf-ad55-4428-cd48-2fa332833b31",
        "colab": {
          "base_uri": "https://localhost:8080/",
          "height": 35
        }
      },
      "source": [
        "mws_count = training_authors.count('MWS')\n",
        "mws_count  #4278"
      ],
      "execution_count": 81,
      "outputs": [
        {
          "output_type": "execute_result",
          "data": {
            "text/plain": [
              "4278"
            ]
          },
          "metadata": {
            "tags": []
          },
          "execution_count": 81
        }
      ]
    },
    {
      "cell_type": "code",
      "metadata": {
        "colab_type": "code",
        "id": "T0Qz9w-O7Ban",
        "outputId": "d257b57f-c7d9-4bb4-dbc9-e3f031c019b0",
        "colab": {
          "base_uri": "https://localhost:8080/",
          "height": 35
        }
      },
      "source": [
        "hpl_count = training_authors.count('HPL')\n",
        "hpl_count  #3957"
      ],
      "execution_count": 82,
      "outputs": [
        {
          "output_type": "execute_result",
          "data": {
            "text/plain": [
              "3957"
            ]
          },
          "metadata": {
            "tags": []
          },
          "execution_count": 82
        }
      ]
    },
    {
      "cell_type": "code",
      "metadata": {
        "colab_type": "code",
        "id": "x0_Q7x_f7O71",
        "outputId": "47bb88bc-c794-41c7-917e-7d1b1995a2e2",
        "colab": {
          "base_uri": "https://localhost:8080/",
          "height": 35
        }
      },
      "source": [
        "p_eap = eap_count/n  #P(EAP)\n",
        "p_eap  #0.39912440715067493"
      ],
      "execution_count": 83,
      "outputs": [
        {
          "output_type": "execute_result",
          "data": {
            "text/plain": [
              "0.39912440715067493"
            ]
          },
          "metadata": {
            "tags": []
          },
          "execution_count": 83
        }
      ]
    },
    {
      "cell_type": "code",
      "metadata": {
        "colab_type": "code",
        "id": "kZYzQKIr7bn0",
        "outputId": "5b2ae856-e699-4a60-e8c5-77fa4082e762",
        "colab": {
          "base_uri": "https://localhost:8080/",
          "height": 35
        }
      },
      "source": [
        "p_mws = mws_count/n  #P(MWS)\n",
        "p_mws  #0.31214885078438526"
      ],
      "execution_count": 84,
      "outputs": [
        {
          "output_type": "execute_result",
          "data": {
            "text/plain": [
              "0.31214885078438526"
            ]
          },
          "metadata": {
            "tags": []
          },
          "execution_count": 84
        }
      ]
    },
    {
      "cell_type": "code",
      "metadata": {
        "colab_type": "code",
        "id": "_WR1Ec4q7bs8",
        "outputId": "c69b2bf9-0d2a-4505-dae6-7240d4549d48",
        "colab": {
          "base_uri": "https://localhost:8080/",
          "height": 35
        }
      },
      "source": [
        "p_hpl = hpl_count/n  #P(HPL)\n",
        "p_hpl  #0.2887267420649398"
      ],
      "execution_count": 85,
      "outputs": [
        {
          "output_type": "execute_result",
          "data": {
            "text/plain": [
              "0.2887267420649398"
            ]
          },
          "metadata": {
            "tags": []
          },
          "execution_count": 85
        }
      ]
    },
    {
      "cell_type": "markdown",
      "metadata": {
        "id": "BZqj3zto51n0",
        "colab_type": "text"
      },
      "source": [
        "##Compute P(indefinite|EAP)\n",
        "\n",
        "First, the old way."
      ]
    },
    {
      "cell_type": "code",
      "metadata": {
        "id": "A-tZwbnU82cA",
        "colab_type": "code",
        "outputId": "1ece3f88-8cca-418f-9668-fc5b8ebfa2a2",
        "colab": {
          "base_uri": "https://localhost:8080/",
          "height": 35
        }
      },
      "source": [
        "#count the number of sentences eap wrote. Out of those, how many used indefinite?\n",
        "p_indefinite_eap_old = sorted_word_table.loc['indefinite', 'EAP']/eap_count # sorted_word_table is just from the training set\n",
        "p_indefinite_eap_old  #0.0018281535648994515"
      ],
      "execution_count": 86,
      "outputs": [
        {
          "output_type": "execute_result",
          "data": {
            "text/plain": [
              "0.0018281535648994515"
            ]
          },
          "metadata": {
            "tags": []
          },
          "execution_count": 86
        }
      ]
    },
    {
      "cell_type": "markdown",
      "metadata": {
        "id": "tM8PRML7UZrr",
        "colab_type": "text"
      },
      "source": [
        "Now with Laplace smoothing."
      ]
    },
    {
      "cell_type": "code",
      "metadata": {
        "id": "zWcRNvOr5Vkj",
        "colab_type": "code",
        "colab": {}
      },
      "source": [
        "total_vocab = len(sorted_word_table)  #how many unique non-stop words we found"
      ],
      "execution_count": 0,
      "outputs": []
    },
    {
      "cell_type": "code",
      "metadata": {
        "colab_type": "code",
        "id": "qbobcg1SUYy1",
        "outputId": "caa3da47-505b-4f42-b085-2fc895139f11",
        "colab": {
          "base_uri": "https://localhost:8080/",
          "height": 35
        }
      },
      "source": [
        "indefinite_count = 0  #start with assuming the word has not been seen before\n",
        "if 'indefinite' in sorted_word_table.index:\n",
        "  indefinite_count = sorted_word_table.loc['indefinite', 'EAP']  #if has been seen so get its value\n",
        "\n",
        "p_indefinite_eap = (indefinite_count + 1)/(eap_count + v_size)  #laplace smoothing\n",
        "p_indefinite_eap  #0.00040707571608319146"
      ],
      "execution_count": 88,
      "outputs": [
        {
          "output_type": "execute_result",
          "data": {
            "text/plain": [
              "0.00040707571608319146"
            ]
          },
          "metadata": {
            "tags": []
          },
          "execution_count": 88
        }
      ]
    },
    {
      "cell_type": "markdown",
      "metadata": {
        "id": "cYGEuhujWU9u",
        "colab_type": "text"
      },
      "source": [
        "Let's try 'oliver'. EAP never used it according to the training set."
      ]
    },
    {
      "cell_type": "code",
      "metadata": {
        "id": "8FrT5252WaDn",
        "colab_type": "code",
        "outputId": "ba251c18-9f87-4cb2-e4ca-0282917f776f",
        "colab": {
          "base_uri": "https://localhost:8080/",
          "height": 35
        }
      },
      "source": [
        "oliver_count = 0  #in case it is a word that has not been seen\n",
        "if 'oliver' in sorted_word_table.index:\n",
        "  oliver_count = sorted_word_table.loc['oliver', 'EAP']  #if has been seen get its value\n",
        "\n",
        "p_oliver_eap = (oliver_count + 1)/(eap_count + v_size)\n",
        "p_oliver_eap  #3.7006883280290134e-05"
      ],
      "execution_count": 89,
      "outputs": [
        {
          "output_type": "execute_result",
          "data": {
            "text/plain": [
              "3.7006883280290134e-05"
            ]
          },
          "metadata": {
            "tags": []
          },
          "execution_count": 89
        }
      ]
    },
    {
      "cell_type": "code",
      "metadata": {
        "id": "_h1aYR4fi7I5",
        "colab_type": "code",
        "outputId": "dda21532-b88a-4161-e490-74037cd7a813",
        "colab": {
          "base_uri": "https://localhost:8080/",
          "height": 35
        }
      },
      "source": [
        "(0 + 1)/(eap_count + v_size) #just checking. We know oliver_count is 0."
      ],
      "execution_count": 90,
      "outputs": [
        {
          "output_type": "execute_result",
          "data": {
            "text/plain": [
              "3.7006883280290134e-05"
            ]
          },
          "metadata": {
            "tags": []
          },
          "execution_count": 90
        }
      ]
    },
    {
      "cell_type": "markdown",
      "metadata": {
        "id": "8vkYqVJlWy7O",
        "colab_type": "text"
      },
      "source": [
        "Small, but not zero. Laplace would be happy."
      ]
    },
    {
      "cell_type": "markdown",
      "metadata": {
        "id": "7iCVzcOL96fn",
        "colab_type": "text"
      },
      "source": [
        "#10. Ignore denominator\n",
        "\n",
        "How about P(indefinite)? I'm going to ignore it. What, you say, you are going to throw out all those P(word) terms? You can't just willy-nilly remove things. But I can :)\n",
        "\n",
        "First part of argument. Those P(Ei) terms are the same in each of the 3 instances we need to compute.\n",
        "<pre>\n",
        "P(EAP|E1, E2 ...) = ...\n",
        "P(MWS|E1, E2 ...) = ...\n",
        "P(HPL|E1, E2 ...) = ...\n",
        "</pre>\n",
        "So I can treat denominator as a constant. Now check this out.\n"
      ]
    },
    {
      "cell_type": "code",
      "metadata": {
        "id": "6AS0RBNOoDOP",
        "colab_type": "code",
        "outputId": "08377bb3-f41d-466e-abf3-2b15461f9a4e",
        "colab": {
          "base_uri": "https://localhost:8080/",
          "height": 35
        }
      },
      "source": [
        "p1 = .5\n",
        "p2 = .4\n",
        "\n",
        "p1 > p2"
      ],
      "execution_count": 91,
      "outputs": [
        {
          "output_type": "execute_result",
          "data": {
            "text/plain": [
              "True"
            ]
          },
          "metadata": {
            "tags": []
          },
          "execution_count": 91
        }
      ]
    },
    {
      "cell_type": "code",
      "metadata": {
        "id": "U5qooQpBoOsi",
        "colab_type": "code",
        "outputId": "eb8676c0-341c-4ee5-a17b-55c14aa03d09",
        "colab": {
          "base_uri": "https://localhost:8080/",
          "height": 35
        }
      },
      "source": [
        "c = .01  #our simulated denominator\n",
        "\n",
        "p1/c > p2/c"
      ],
      "execution_count": 92,
      "outputs": [
        {
          "output_type": "execute_result",
          "data": {
            "text/plain": [
              "True"
            ]
          },
          "metadata": {
            "tags": []
          },
          "execution_count": 92
        }
      ]
    },
    {
      "cell_type": "markdown",
      "metadata": {
        "id": "VdHUqHDioBei",
        "colab_type": "text"
      },
      "source": [
        "\n",
        "Second part of argument. I can use the mathematical notion of proportionality to remove them without changing the ordering of the 3 probabilities. For instance, if P(EAP|E1, E2 ...) > P(MWS|E1, E2 ...) when I include them, the same will hold when I remove them.\n",
        "\n",
        "That helps. Speeds things up and allows us to avoid dealing with P(Ei) = 0 which would give us a zero in the denominator. Cool."
      ]
    },
    {
      "cell_type": "markdown",
      "metadata": {
        "id": "QcVuOfF2lgpd",
        "colab_type": "text"
      },
      "source": [
        "#11. Underflow or The vanishing gradient\n",
        "\n",
        "A new problem has arisen with Naives Bayes, one that was not an issue with the distance measures we used for KNN. The new problem is taking the product of very small numbers. In essence, calculating the numerator in Naive Bayes. Multiplying a set of very small numbers in Python can cause what is called *underflow*. What happens is that the product gets so small that Python turns the final result into zero. This is kind of bad. Defeats our whole process of adding a smoothing factor. Let me see if I can show you with an example."
      ]
    },
    {
      "cell_type": "code",
      "metadata": {
        "id": "puitr_1svQke",
        "colab_type": "code",
        "outputId": "fe7c5d22-1775-4341-8a6b-b2d5b81234a9",
        "colab": {
          "base_uri": "https://localhost:8080/",
          "height": 55
        }
      },
      "source": [
        "s = testing_text[5457]  #a sentence from our testing text\n",
        "s"
      ],
      "execution_count": 93,
      "outputs": [
        {
          "output_type": "execute_result",
          "data": {
            "text/plain": [
              "'To chambers of painted state farewell To midnight revelry, and the panting emulation of beauty, to costly dress and birth day shew, to title and the gilded coronet, farewell Farewell to the giant powers of man, to knowledge that could pilot the deep drawing bark through the opposing waters of shoreless ocean, to science that directed the silken balloon through the pathless air, to the power that could put a barrier to mighty waters, and set in motion wheels, and beams, and vast machinery, that could divide rocks of granite or marble, and make the mountains plain Farewell to the arts, to eloquence, which is to the human mind as the winds to the sea, stirring, and then allaying it; farewell to poetry and deep philosophy, for man\\'s imagination is cold, and his enquiring mind can no longer expatiate on the wonders of life, for \"there is no work, nor device, nor knowledge, nor wisdom in the grave, whither thou goest\" to the graceful building, which in its perfect proportion transcended the rude forms of nature, the fretted gothic and massy saracenic pile, to the stupendous arch and glorious dome, the fluted column with its capital, Corinthian, Ionic, or Doric, the peristyle and fair entablature, whose harmony of form is to the eye as musical concord to the ear farewell to sculpture, where the pure marble mocks human flesh, and in the plastic expression of the culled excellencies of the human shape, shines forth the god farewell to painting, the high wrought sentiment and deep knowledge of the artists\\'s mind in pictured canvas to paradisaical scenes, where trees are ever vernal, and the ambrosial air rests in perpetual glow: to the stamped form of tempest, and wildest uproar of universal nature encaged in the narrow frame, O farewell Farewell to music, and the sound of song; to the marriage of instruments, where the concord of soft and harsh unites in sweet harmony, and gives wings to the panting listeners, whereby to climb heaven, and learn the hidden pleasures of the eternals Farewell to the well trod stage; a truer tragedy is enacted on the world\\'s ample scene, that puts to shame mimic grief: to high bred comedy, and the low buffoon, farewell Man may laugh no more.'"
            ]
          },
          "metadata": {
            "tags": []
          },
          "execution_count": 93
        }
      ]
    },
    {
      "cell_type": "code",
      "metadata": {
        "id": "_zJeNP8TveqW",
        "colab_type": "code",
        "colab": {}
      },
      "source": [
        "doc = nlp(s)"
      ],
      "execution_count": 0,
      "outputs": []
    },
    {
      "cell_type": "code",
      "metadata": {
        "id": "BSRZ4vselyzF",
        "colab_type": "code",
        "outputId": "0fc80d72-b830-40c6-9059-d5c388fbed3a",
        "colab": {
          "base_uri": "https://localhost:8080/",
          "height": 35
        }
      },
      "source": [
        "len(doc)  #436 words before removing stop words. A long sentence!"
      ],
      "execution_count": 95,
      "outputs": [
        {
          "output_type": "execute_result",
          "data": {
            "text/plain": [
              "436"
            ]
          },
          "metadata": {
            "tags": []
          },
          "execution_count": 95
        }
      ]
    },
    {
      "cell_type": "code",
      "metadata": {
        "id": "v_iUJ-d7vi39",
        "colab_type": "code",
        "colab": {}
      },
      "source": [
        "s_list = []\n",
        "\n",
        "for i in range(len(doc)):\n",
        "  token = doc[i]\n",
        "  if token.is_alpha and not token.is_stop:\n",
        "    s_list.append(token.text)\n",
        "\n",
        "s_list"
      ],
      "execution_count": 0,
      "outputs": []
    },
    {
      "cell_type": "code",
      "metadata": {
        "id": "3XA8lBNHxqfX",
        "colab_type": "code",
        "outputId": "4e4c8658-6e64-430e-b36c-163e587ce70a",
        "colab": {
          "base_uri": "https://localhost:8080/",
          "height": 35
        }
      },
      "source": [
        "len(s_list)  #205 legit words. Still a lot."
      ],
      "execution_count": 97,
      "outputs": [
        {
          "output_type": "execute_result",
          "data": {
            "text/plain": [
              "205"
            ]
          },
          "metadata": {
            "tags": []
          },
          "execution_count": 97
        }
      ]
    },
    {
      "cell_type": "markdown",
      "metadata": {
        "id": "g1Xa2HyrxujW",
        "colab_type": "text"
      },
      "source": [
        "Yikes. 205 tokens in the sentence.\n",
        "\n",
        "Let's get the 205 values for P(Ei|EAP)."
      ]
    },
    {
      "cell_type": "code",
      "metadata": {
        "id": "R9UAaAoJwLWG",
        "colab_type": "code",
        "outputId": "63cee175-22c3-4cd9-da15-3ffca5704c15",
        "colab": {
          "base_uri": "https://localhost:8080/",
          "height": 1000
        }
      },
      "source": [
        "p_ei_eap_list = []\n",
        "\n",
        "for word in s_list:\n",
        "  count = 0\n",
        "  if word in sorted_word_table.index:\n",
        "    count = sorted_word_table.loc[word, 'EAP']\n",
        "  result =  (count+1)/(eap_count + v_size)  #using smoothing\n",
        "  p_ei_eap_list.append(result)\n",
        "\n",
        "p_ei_eap_list"
      ],
      "execution_count": 98,
      "outputs": [
        {
          "output_type": "execute_result",
          "data": {
            "text/plain": [
              "[0.0002220412996817408,\n",
              " 0.00018503441640145066,\n",
              " 0.0016653097476130561,\n",
              " 0.0001110206498408704,\n",
              " 0.0005921101324846421,\n",
              " 3.7006883280290134e-05,\n",
              " 7.401376656058027e-05,\n",
              " 3.7006883280290134e-05,\n",
              " 0.0011472133816889942,\n",
              " 7.401376656058027e-05,\n",
              " 0.0006291170157649323,\n",
              " 0.00014802753312116054,\n",
              " 0.004255791577233365,\n",
              " 3.7006883280290134e-05,\n",
              " 0.0005180963659240619,\n",
              " 0.0001110206498408704,\n",
              " 3.7006883280290134e-05,\n",
              " 0.0001110206498408704,\n",
              " 3.7006883280290134e-05,\n",
              " 0.00014802753312116054,\n",
              " 0.00048108948264377177,\n",
              " 0.006624232107171934,\n",
              " 0.0009991858485678337,\n",
              " 3.7006883280290134e-05,\n",
              " 0.0017763303974539263,\n",
              " 0.0009251720820072533,\n",
              " 0.00018503441640145066,\n",
              " 3.7006883280290134e-05,\n",
              " 0.00037006883280290133,\n",
              " 3.7006883280290134e-05,\n",
              " 0.0006291170157649323,\n",
              " 0.0007031307823255126,\n",
              " 0.0003330619495226112,\n",
              " 7.401376656058027e-05,\n",
              " 0.0019983716971356674,\n",
              " 3.7006883280290134e-05,\n",
              " 0.0026644955961808896,\n",
              " 0.0015912959810524758,\n",
              " 3.7006883280290134e-05,\n",
              " 0.0003330619495226112,\n",
              " 0.00037006883280290133,\n",
              " 0.0012212271482495744,\n",
              " 0.0008141514321663829,\n",
              " 0.00014802753312116054,\n",
              " 7.401376656058027e-05,\n",
              " 0.0014802753312116053,\n",
              " 0.0006661238990452224,\n",
              " 0.00014802753312116054,\n",
              " 0.0002960550662423211,\n",
              " 0.00018503441640145066,\n",
              " 0.0002960550662423211,\n",
              " 0.00040707571608319146,\n",
              " 0.0004440825993634816,\n",
              " 3.7006883280290134e-05,\n",
              " 0.0001110206498408704,\n",
              " 7.401376656058027e-05,\n",
              " 0.0019983716971356674,\n",
              " 0.0032936126119458217,\n",
              " 0.0002220412996817408,\n",
              " 0.0017763303974539263,\n",
              " 0.00014802753312116054,\n",
              " 3.7006883280290134e-05,\n",
              " 0.0001110206498408704,\n",
              " 7.401376656058027e-05,\n",
              " 0.0017763303974539263,\n",
              " 0.00048108948264377177,\n",
              " 0.006624232107171934,\n",
              " 0.0008141514321663829,\n",
              " 0.00040707571608319146,\n",
              " 3.7006883280290134e-05,\n",
              " 0.0032936126119458217,\n",
              " 0.0016653097476130561,\n",
              " 3.7006883280290134e-05,\n",
              " 0.0003330619495226112,\n",
              " 0.0026274887129005995,\n",
              " 0.0010361927318481238,\n",
              " 0.00014802753312116054,\n",
              " 0.0009991858485678337,\n",
              " 0.00037006883280290133,\n",
              " 0.0006661238990452224,\n",
              " 0.0007771445488860928,\n",
              " 3.7006883280290134e-05,\n",
              " 0.00040707571608319146,\n",
              " 0.0009621789652875435,\n",
              " 0.0007771445488860928,\n",
              " 0.0009251720820072533,\n",
              " 3.7006883280290134e-05,\n",
              " 0.0001110206498408704,\n",
              " 0.00048108948264377177,\n",
              " 0.0026274887129005995,\n",
              " 0.0001110206498408704,\n",
              " 0.0002220412996817408,\n",
              " 0.0001110206498408704,\n",
              " 7.401376656058027e-05,\n",
              " 7.401376656058027e-05,\n",
              " 0.0001110206498408704,\n",
              " 0.0003330619495226112,\n",
              " 0.0002960550662423211,\n",
              " 3.7006883280290134e-05,\n",
              " 3.7006883280290134e-05,\n",
              " 0.0001110206498408704,\n",
              " 0.000555103249204352,\n",
              " 3.7006883280290134e-05,\n",
              " 3.7006883280290134e-05,\n",
              " 3.7006883280290134e-05,\n",
              " 3.7006883280290134e-05,\n",
              " 0.0005921101324846421,\n",
              " 7.401376656058027e-05,\n",
              " 0.0002220412996817408,\n",
              " 0.0015172822144918954,\n",
              " 0.0028865368958626305,\n",
              " 0.0004440825993634816,\n",
              " 0.0001110206498408704,\n",
              " 0.0006291170157649323,\n",
              " 0.0001110206498408704,\n",
              " 0.0001110206498408704,\n",
              " 0.0006291170157649323,\n",
              " 0.0002960550662423211,\n",
              " 3.7006883280290134e-05,\n",
              " 0.0019983716971356674,\n",
              " 0.0002960550662423211,\n",
              " 3.7006883280290134e-05,\n",
              " 0.0011472133816889942,\n",
              " 3.7006883280290134e-05,\n",
              " 0.00025904818296203095,\n",
              " 0.0019983716971356674,\n",
              " 0.000555103249204352,\n",
              " 3.7006883280290134e-05,\n",
              " 0.0009991858485678337,\n",
              " 0.0016283028643327658,\n",
              " 0.0001110206498408704,\n",
              " 0.00025904818296203095,\n",
              " 0.0016653097476130561,\n",
              " 0.00025904818296203095,\n",
              " 0.0008511583154466731,\n",
              " 0.0017763303974539263,\n",
              " 0.0009991858485678337,\n",
              " 3.7006883280290134e-05,\n",
              " 0.0032936126119458217,\n",
              " 0.0001110206498408704,\n",
              " 0.00018503441640145066,\n",
              " 3.7006883280290134e-05,\n",
              " 0.00014802753312116054,\n",
              " 0.0009251720820072533,\n",
              " 3.7006883280290134e-05,\n",
              " 3.7006883280290134e-05,\n",
              " 0.0026644955961808896,\n",
              " 3.7006883280290134e-05,\n",
              " 0.0001110206498408704,\n",
              " 0.00018503441640145066,\n",
              " 3.7006883280290134e-05,\n",
              " 0.0015172822144918954,\n",
              " 0.00040707571608319146,\n",
              " 0.0002960550662423211,\n",
              " 0.00014802753312116054,\n",
              " 0.0002220412996817408,\n",
              " 0.0026274887129005995,\n",
              " 3.7006883280290134e-05,\n",
              " 0.0008511583154466731,\n",
              " 0.0008881651987269632,\n",
              " 3.7006883280290134e-05,\n",
              " 0.0001110206498408704,\n",
              " 3.7006883280290134e-05,\n",
              " 0.00048108948264377177,\n",
              " 0.0012952409148101547,\n",
              " 0.0001110206498408704,\n",
              " 0.0001110206498408704,\n",
              " 0.0003330619495226112,\n",
              " 0.0001110206498408704,\n",
              " 0.00014802753312116054,\n",
              " 0.0002220412996817408,\n",
              " 3.7006883280290134e-05,\n",
              " 0.0007031307823255126,\n",
              " 0.0002220412996817408,\n",
              " 0.00014802753312116054,\n",
              " 0.0003330619495226112,\n",
              " 7.401376656058027e-05,\n",
              " 3.7006883280290134e-05,\n",
              " 7.401376656058027e-05,\n",
              " 0.0007401376656058027,\n",
              " 0.00025904818296203095,\n",
              " 0.00025904818296203095,\n",
              " 7.401376656058027e-05,\n",
              " 3.7006883280290134e-05,\n",
              " 3.7006883280290134e-05,\n",
              " 0.00014802753312116054,\n",
              " 0.0006291170157649323,\n",
              " 3.7006883280290134e-05,\n",
              " 0.00037006883280290133,\n",
              " 3.7006883280290134e-05,\n",
              " 0.0026644955961808896,\n",
              " 3.7006883280290134e-05,\n",
              " 0.0011842202649692843,\n",
              " 0.0002220412996817408,\n",
              " 0.0001110206498408704,\n",
              " 3.7006883280290134e-05,\n",
              " 0.00018503441640145066,\n",
              " 0.0016653097476130561,\n",
              " 7.401376656058027e-05,\n",
              " 3.7006883280290134e-05,\n",
              " 0.0015172822144918954,\n",
              " 7.401376656058027e-05,\n",
              " 0.0001110206498408704,\n",
              " 3.7006883280290134e-05,\n",
              " 0.0002220412996817408]"
            ]
          },
          "metadata": {
            "tags": []
          },
          "execution_count": 98
        }
      ]
    },
    {
      "cell_type": "markdown",
      "metadata": {
        "id": "r03zYuZgx-AB",
        "colab_type": "text"
      },
      "source": [
        "I am going to break out what float_product does so we can examine it more closely. If I see the product go to 0, I'll print at what value it happened. Just as reminder, it should never be 0 given all the values in p_ei_eap_list are above 0."
      ]
    },
    {
      "cell_type": "code",
      "metadata": {
        "id": "241zXNPpwXvB",
        "colab_type": "code",
        "outputId": "4d3d1acd-d202-432c-abc1-9c8a236f5610",
        "colab": {
          "base_uri": "https://localhost:8080/",
          "height": 35
        }
      },
      "source": [
        "product = 1.\n",
        "\n",
        "for i in range(len(p_ei_eap_list)):\n",
        "  p = p_ei_eap_list[i]\n",
        "  product = product * p\n",
        "  if product == 0:\n",
        "    print(i)\n",
        "    break  #new Python operator. It says pretend the loop has finished."
      ],
      "execution_count": 99,
      "outputs": [
        {
          "output_type": "stream",
          "text": [
            "92\n"
          ],
          "name": "stdout"
        }
      ]
    },
    {
      "cell_type": "markdown",
      "metadata": {
        "id": "OlliZFVByVnw",
        "colab_type": "text"
      },
      "source": [
        "So we got to 0 on the 92nd item in the list. It will now stay 0 for the other 112 items."
      ]
    },
    {
      "cell_type": "markdown",
      "metadata": {
        "id": "CDBOkjGL0Za1",
        "colab_type": "text"
      },
      "source": [
        "##This is an example of the vanishing gradient\n",
        "\n",
        "Technically, the jargony term *vanishing gradient* shows up later in neural net models. But I think it applies here in spirit. I like the term because of the \"vanishing\" piece: as things get smaller and smaller, the result eventually vanishes (becomes zero). That is what is happening here. The product is getting smaller and smaller and eventually vanishes at index 92."
      ]
    },
    {
      "cell_type": "markdown",
      "metadata": {
        "id": "KlW0i9KoylVf",
        "colab_type": "text"
      },
      "source": [
        "#12. Smallest Python float\n",
        "\n",
        "This begs the question how low can you go (limbo music plays in background)? What is the smallest float Python can represent?\n",
        "\n",
        "Check it out."
      ]
    },
    {
      "cell_type": "code",
      "metadata": {
        "id": "v8wlQyFgzBzI",
        "colab_type": "code",
        "outputId": "58aaef58-2aef-426b-b6db-9bca529b92b5",
        "colab": {
          "base_uri": "https://localhost:8080/",
          "height": 35
        }
      },
      "source": [
        "import sys\n",
        "sys.float_info.min  #smallest float value possible"
      ],
      "execution_count": 100,
      "outputs": [
        {
          "output_type": "execute_result",
          "data": {
            "text/plain": [
              "2.2250738585072014e-308"
            ]
          },
          "metadata": {
            "tags": []
          },
          "execution_count": 100
        }
      ]
    },
    {
      "cell_type": "markdown",
      "metadata": {
        "id": "6046BIKkzujF",
        "colab_type": "text"
      },
      "source": [
        "Here is what I propose. If a product drops to zero (through underflow), we set the product to the minimum Python float value seen above. This avoids returning a zero probablity from Naive Bayes. We have earlier used smoothing to handle some zero values. Now we are handling the second form of zero we might see. We are good to go!"
      ]
    },
    {
      "cell_type": "markdown",
      "metadata": {
        "id": "ZO513ylN1iQR",
        "colab_type": "text"
      },
      "source": [
        "#Summary\n",
        "\n",
        "We started with Naive Bayes out of the box in Chapter 5. This week we have refined it by (a) adding a Laplace smoothing factor, (b) eliminating the denominator, and (c) avoiding underflow when taking the products of very small numbers in Python."
      ]
    },
    {
      "cell_type": "markdown",
      "metadata": {
        "id": "agmg5eahoLnc",
        "colab_type": "text"
      },
      "source": [
        "#13. Ready to evaluate\n",
        "\n",
        "I packaged everything up for you into a puddles function. It handles smoothing and underflow. Given a test sentence and word bag built from the training set, it will give you the 3 values from calculating Naive Bayes. Check it out."
      ]
    },
    {
      "cell_type": "code",
      "metadata": {
        "id": "gfyzpALu3y_e",
        "colab_type": "code",
        "colab": {}
      },
      "source": [
        "e_list = ['laugh', 'oliver', 'grandfather', 'wo', 'ride', 'motor']  #from chapter 5"
      ],
      "execution_count": 0,
      "outputs": []
    },
    {
      "cell_type": "code",
      "metadata": {
        "id": "Rte853IIuYZH",
        "colab_type": "code",
        "outputId": "abfe80e6-ed9b-477f-9556-9e12dcd8780a",
        "colab": {
          "base_uri": "https://localhost:8080/",
          "height": 35
        }
      },
      "source": [
        "up.bayes_gothic(e_list, sorted_word_table, training_table)  #(4.797878011973764e-25, 6.306182771405084e-26, 5.553115651723025e-23)"
      ],
      "execution_count": 104,
      "outputs": [
        {
          "output_type": "execute_result",
          "data": {
            "text/plain": [
              "(4.797878011973764e-25, 6.306182771405085e-26, 5.553115651723025e-23)"
            ]
          },
          "metadata": {
            "tags": []
          },
          "execution_count": 104
        }
      ]
    },
    {
      "cell_type": "markdown",
      "metadata": {
        "id": "TIvi6bhjLBb_",
        "colab_type": "text"
      },
      "source": [
        "HPL was the actual author of the sentence so we got it right. He has the largest value. Nice. Our first win using Naive Bayes."
      ]
    },
    {
      "cell_type": "markdown",
      "metadata": {
        "id": "R-Ohyg-4Gq5d",
        "colab_type": "text"
      },
      "source": [
        "#Assignment 1.\n",
        "<img src='https://www.dropbox.com/s/3uyvp722kp5to2r/assignment.png?raw=1' width='300'>\n",
        "\n",
        "Get your predictions by running Naive Bayes on the testing set. Note that this is a 2 step process: (1) get the triples for each sentence, (2) get the predictions by taking the max of each triple."
      ]
    },
    {
      "cell_type": "markdown",
      "metadata": {
        "id": "JggDfRg9378A",
        "colab_type": "text"
      },
      "source": [
        "##Step 1.\n",
        "\n",
        "Produce the list of triples. So no predictions yet. Just a list of the results from `up.bayes_gothic`.\n",
        "\n",
        "This took me 3 minutes."
      ]
    },
    {
      "cell_type": "code",
      "metadata": {
        "id": "njD5uTLqzqdp",
        "colab_type": "code",
        "colab": {}
      },
      "source": [
        "test_sentences = []\n",
        "\n",
        "for i in range(len(testing_text)):\n",
        "  sentences = testing_text[i].lower()\n",
        "  test_sentences.append([sentences]) # make each sentence its own list"
      ],
      "execution_count": 0,
      "outputs": []
    },
    {
      "cell_type": "code",
      "metadata": {
        "id": "NTMYX5uQ0qQu",
        "colab_type": "code",
        "colab": {}
      },
      "source": [
        "test_sentences[:10]"
      ],
      "execution_count": 0,
      "outputs": []
    },
    {
      "cell_type": "code",
      "metadata": {
        "id": "JsP2nQco2lO9",
        "colab_type": "code",
        "colab": {}
      },
      "source": [
        "testing_text[:10]"
      ],
      "execution_count": 0,
      "outputs": []
    },
    {
      "cell_type": "code",
      "metadata": {
        "id": "tAeRECD12GWz",
        "colab_type": "code",
        "colab": {
          "base_uri": "https://localhost:8080/",
          "height": 35
        },
        "outputId": "14cff0de-49b5-4fda-eeaf-5f0665c2d919"
      },
      "source": [
        "len(test_sentences) # 5874 sentences - as lists\n",
        "len(testing_text) # 5874 sentences - as strings"
      ],
      "execution_count": 120,
      "outputs": [
        {
          "output_type": "execute_result",
          "data": {
            "text/plain": [
              "5874"
            ]
          },
          "metadata": {
            "tags": []
          },
          "execution_count": 120
        }
      ]
    },
    {
      "cell_type": "code",
      "metadata": {
        "id": "5YxtoBgY3giU",
        "colab_type": "code",
        "colab": {
          "base_uri": "https://localhost:8080/",
          "height": 35
        },
        "outputId": "96e32342-3b75-4051-fc42-eb72087bc5e8"
      },
      "source": [
        "testing_text[0]\n",
        "doc = nlp(testing_text[0])\n",
        "doc[:5]"
      ],
      "execution_count": 129,
      "outputs": [
        {
          "output_type": "execute_result",
          "data": {
            "text/plain": [
              "In the confusion attending my"
            ]
          },
          "metadata": {
            "tags": []
          },
          "execution_count": 129
        }
      ]
    },
    {
      "cell_type": "code",
      "metadata": {
        "id": "xl8zhERg1W5B",
        "colab_type": "code",
        "colab": {
          "base_uri": "https://localhost:8080/",
          "height": 400
        },
        "outputId": "1a4d4176-9d1f-4212-e23d-0a50cdca8aba"
      },
      "source": [
        "parsed_sentences = [[]]\n",
        "tokens_per_sentence = []\n",
        "\n",
        "for i in range(len(testing_text)):\n",
        "  doc = nlp(testing_text[i].lower()) \n",
        "  parsed_sentences.append(doc)\n",
        "  tokens = parsed_sentences[nlp(doc)]\n",
        "\n",
        "  for token in doc:  \n",
        "    if token.is_alpha and not token.is_stop:\n",
        "      tokens_per_sentence.append(token.text)"
      ],
      "execution_count": 146,
      "outputs": [
        {
          "output_type": "error",
          "ename": "TypeError",
          "evalue": "ignored",
          "traceback": [
            "\u001b[0;31m---------------------------------------------------------------------------\u001b[0m",
            "\u001b[0;31mTypeError\u001b[0m                                 Traceback (most recent call last)",
            "\u001b[0;32m<ipython-input-146-872ae406af43>\u001b[0m in \u001b[0;36m<module>\u001b[0;34m()\u001b[0m\n\u001b[1;32m      5\u001b[0m   \u001b[0mdoc\u001b[0m \u001b[0;34m=\u001b[0m \u001b[0mnlp\u001b[0m\u001b[0;34m(\u001b[0m\u001b[0mtesting_text\u001b[0m\u001b[0;34m[\u001b[0m\u001b[0mi\u001b[0m\u001b[0;34m]\u001b[0m\u001b[0;34m.\u001b[0m\u001b[0mlower\u001b[0m\u001b[0;34m(\u001b[0m\u001b[0;34m)\u001b[0m\u001b[0;34m)\u001b[0m\u001b[0;34m\u001b[0m\u001b[0;34m\u001b[0m\u001b[0m\n\u001b[1;32m      6\u001b[0m   \u001b[0mparsed_sentences\u001b[0m\u001b[0;34m.\u001b[0m\u001b[0mappend\u001b[0m\u001b[0;34m(\u001b[0m\u001b[0mdoc\u001b[0m\u001b[0;34m)\u001b[0m\u001b[0;34m\u001b[0m\u001b[0;34m\u001b[0m\u001b[0m\n\u001b[0;32m----> 7\u001b[0;31m   \u001b[0mtokens\u001b[0m \u001b[0;34m=\u001b[0m \u001b[0mparsed_sentences\u001b[0m\u001b[0;34m[\u001b[0m\u001b[0mnlp\u001b[0m\u001b[0;34m(\u001b[0m\u001b[0mdoc\u001b[0m\u001b[0;34m)\u001b[0m\u001b[0;34m]\u001b[0m\u001b[0;34m\u001b[0m\u001b[0;34m\u001b[0m\u001b[0m\n\u001b[0m\u001b[1;32m      8\u001b[0m \u001b[0;34m\u001b[0m\u001b[0m\n\u001b[1;32m      9\u001b[0m   \u001b[0;32mfor\u001b[0m \u001b[0mtoken\u001b[0m \u001b[0;32min\u001b[0m \u001b[0mdoc\u001b[0m\u001b[0;34m:\u001b[0m\u001b[0;34m\u001b[0m\u001b[0;34m\u001b[0m\u001b[0m\n",
            "\u001b[0;32m/usr/local/lib/python3.6/dist-packages/spacy/language.py\u001b[0m in \u001b[0;36m__call__\u001b[0;34m(self, text, disable, component_cfg)\u001b[0m\n\u001b[1;32m    429\u001b[0m                 \u001b[0mErrors\u001b[0m\u001b[0;34m.\u001b[0m\u001b[0mE088\u001b[0m\u001b[0;34m.\u001b[0m\u001b[0mformat\u001b[0m\u001b[0;34m(\u001b[0m\u001b[0mlength\u001b[0m\u001b[0;34m=\u001b[0m\u001b[0mlen\u001b[0m\u001b[0;34m(\u001b[0m\u001b[0mtext\u001b[0m\u001b[0;34m)\u001b[0m\u001b[0;34m,\u001b[0m \u001b[0mmax_length\u001b[0m\u001b[0;34m=\u001b[0m\u001b[0mself\u001b[0m\u001b[0;34m.\u001b[0m\u001b[0mmax_length\u001b[0m\u001b[0;34m)\u001b[0m\u001b[0;34m\u001b[0m\u001b[0;34m\u001b[0m\u001b[0m\n\u001b[1;32m    430\u001b[0m             )\n\u001b[0;32m--> 431\u001b[0;31m         \u001b[0mdoc\u001b[0m \u001b[0;34m=\u001b[0m \u001b[0mself\u001b[0m\u001b[0;34m.\u001b[0m\u001b[0mmake_doc\u001b[0m\u001b[0;34m(\u001b[0m\u001b[0mtext\u001b[0m\u001b[0;34m)\u001b[0m\u001b[0;34m\u001b[0m\u001b[0;34m\u001b[0m\u001b[0m\n\u001b[0m\u001b[1;32m    432\u001b[0m         \u001b[0;32mif\u001b[0m \u001b[0mcomponent_cfg\u001b[0m \u001b[0;32mis\u001b[0m \u001b[0;32mNone\u001b[0m\u001b[0;34m:\u001b[0m\u001b[0;34m\u001b[0m\u001b[0;34m\u001b[0m\u001b[0m\n\u001b[1;32m    433\u001b[0m             \u001b[0mcomponent_cfg\u001b[0m \u001b[0;34m=\u001b[0m \u001b[0;34m{\u001b[0m\u001b[0;34m}\u001b[0m\u001b[0;34m\u001b[0m\u001b[0;34m\u001b[0m\u001b[0m\n",
            "\u001b[0;32m/usr/local/lib/python3.6/dist-packages/spacy/language.py\u001b[0m in \u001b[0;36mmake_doc\u001b[0;34m(self, text)\u001b[0m\n\u001b[1;32m    455\u001b[0m \u001b[0;34m\u001b[0m\u001b[0m\n\u001b[1;32m    456\u001b[0m     \u001b[0;32mdef\u001b[0m \u001b[0mmake_doc\u001b[0m\u001b[0;34m(\u001b[0m\u001b[0mself\u001b[0m\u001b[0;34m,\u001b[0m \u001b[0mtext\u001b[0m\u001b[0;34m)\u001b[0m\u001b[0;34m:\u001b[0m\u001b[0;34m\u001b[0m\u001b[0;34m\u001b[0m\u001b[0m\n\u001b[0;32m--> 457\u001b[0;31m         \u001b[0;32mreturn\u001b[0m \u001b[0mself\u001b[0m\u001b[0;34m.\u001b[0m\u001b[0mtokenizer\u001b[0m\u001b[0;34m(\u001b[0m\u001b[0mtext\u001b[0m\u001b[0;34m)\u001b[0m\u001b[0;34m\u001b[0m\u001b[0;34m\u001b[0m\u001b[0m\n\u001b[0m\u001b[1;32m    458\u001b[0m \u001b[0;34m\u001b[0m\u001b[0m\n\u001b[1;32m    459\u001b[0m     \u001b[0;32mdef\u001b[0m \u001b[0m_format_docs_and_golds\u001b[0m\u001b[0;34m(\u001b[0m\u001b[0mself\u001b[0m\u001b[0;34m,\u001b[0m \u001b[0mdocs\u001b[0m\u001b[0;34m,\u001b[0m \u001b[0mgolds\u001b[0m\u001b[0;34m)\u001b[0m\u001b[0;34m:\u001b[0m\u001b[0;34m\u001b[0m\u001b[0;34m\u001b[0m\u001b[0m\n",
            "\u001b[0;31mTypeError\u001b[0m: Argument 'string' has incorrect type (expected str, got spacy.tokens.doc.Doc)"
          ]
        }
      ]
    },
    {
      "cell_type": "code",
      "metadata": {
        "id": "iNyZOLRV4PBy",
        "colab_type": "code",
        "colab": {
          "base_uri": "https://localhost:8080/",
          "height": 35
        },
        "outputId": "e2fa8bbe-106d-4021-bded-f37f503e671e"
      },
      "source": [
        "tokens_per_sentence[0]"
      ],
      "execution_count": 145,
      "outputs": [
        {
          "output_type": "execute_result",
          "data": {
            "text/plain": [
              "'confusion'"
            ]
          },
          "metadata": {
            "tags": []
          },
          "execution_count": 145
        }
      ]
    },
    {
      "cell_type": "code",
      "metadata": {
        "id": "6gBNUTUp7E_d",
        "colab_type": "code",
        "colab": {
          "base_uri": "https://localhost:8080/",
          "height": 228
        },
        "outputId": "4d0bb119-ecb0-440e-e545-8806dcefede6"
      },
      "source": [
        "tokens_per_sentence = []\n",
        "\n",
        "for i in range(len(parsed_sentences)):\n",
        "  doc = nlp()\n",
        "\n",
        "  for token in sentences:  \n",
        "    if token.is_alpha and not token.is_stop:\n",
        "      tokens_per_sentence.append(token.text)"
      ],
      "execution_count": 143,
      "outputs": [
        {
          "output_type": "error",
          "ename": "AttributeError",
          "evalue": "ignored",
          "traceback": [
            "\u001b[0;31m---------------------------------------------------------------------------\u001b[0m",
            "\u001b[0;31mAttributeError\u001b[0m                            Traceback (most recent call last)",
            "\u001b[0;32m<ipython-input-143-ae3588151b03>\u001b[0m in \u001b[0;36m<module>\u001b[0;34m()\u001b[0m\n\u001b[1;32m      5\u001b[0m \u001b[0;34m\u001b[0m\u001b[0m\n\u001b[1;32m      6\u001b[0m   \u001b[0;32mfor\u001b[0m \u001b[0mtoken\u001b[0m \u001b[0;32min\u001b[0m \u001b[0msentences\u001b[0m\u001b[0;34m:\u001b[0m\u001b[0;34m\u001b[0m\u001b[0;34m\u001b[0m\u001b[0m\n\u001b[0;32m----> 7\u001b[0;31m     \u001b[0;32mif\u001b[0m \u001b[0mtoken\u001b[0m\u001b[0;34m.\u001b[0m\u001b[0mis_alpha\u001b[0m \u001b[0;32mand\u001b[0m \u001b[0;32mnot\u001b[0m \u001b[0mtoken\u001b[0m\u001b[0;34m.\u001b[0m\u001b[0mis_stop\u001b[0m\u001b[0;34m:\u001b[0m\u001b[0;34m\u001b[0m\u001b[0;34m\u001b[0m\u001b[0m\n\u001b[0m\u001b[1;32m      8\u001b[0m       \u001b[0mtokens_per_sentence\u001b[0m\u001b[0;34m.\u001b[0m\u001b[0mappend\u001b[0m\u001b[0;34m(\u001b[0m\u001b[0mtoken\u001b[0m\u001b[0;34m.\u001b[0m\u001b[0mtext\u001b[0m\u001b[0;34m)\u001b[0m\u001b[0;34m\u001b[0m\u001b[0;34m\u001b[0m\u001b[0m\n",
            "\u001b[0;31mAttributeError\u001b[0m: 'spacy.tokens.doc.Doc' object has no attribute 'is_alpha'"
          ]
        }
      ]
    },
    {
      "cell_type": "code",
      "metadata": {
        "colab_type": "code",
        "id": "xKb6UKClTZKq",
        "outputId": "765c3dd1-17ab-4a34-9a5b-d4f90813caa2",
        "colab": {
          "base_uri": "https://localhost:8080/",
          "height": 54
        }
      },
      "source": [
        "%%time\n",
        "\n",
        "#your code here\n",
        "\n",
        "result_list = []\n",
        "\n",
        "for i in range(len(token_list)):\n",
        "  items = token_list[i]\n",
        "  result = up.bayes_gothic(items, sorted_word_table, training_table)\n",
        "  result_list.append(result)"
      ],
      "execution_count": 133,
      "outputs": [
        {
          "output_type": "stream",
          "text": [
            "CPU times: user 5min 4s, sys: 73 ms, total: 5min 4s\n",
            "Wall time: 5min 4s\n"
          ],
          "name": "stdout"
        }
      ]
    },
    {
      "cell_type": "code",
      "metadata": {
        "id": "y_-sQqB34Tkg",
        "colab_type": "code",
        "outputId": "232a6fd6-9e1c-47cd-8f2b-72cc9585ae06",
        "colab": {
          "base_uri": "https://localhost:8080/",
          "height": 109
        }
      },
      "source": [
        "result_list[:5]"
      ],
      "execution_count": 134,
      "outputs": [
        {
          "output_type": "execute_result",
          "data": {
            "text/plain": [
              "[(0.00019201455454662033, 2.41694812841181e-05, 0.00010186760275136064),\n",
              " (0.0001181628027979202, 6.042370321029525e-05, 5.6593112639644795e-05),\n",
              " (0.00031017735734454054, 0.0002175253315570629, 0.00014714209286307645),\n",
              " (0.0010486948748315418, 0.0001208474064205905, 0.00010186760275136064),\n",
              " (2.954070069948005e-05, 1.208474064205905e-05, 1.131862252792896e-05)]"
            ]
          },
          "metadata": {
            "tags": []
          },
          "execution_count": 134
        }
      ]
    },
    {
      "cell_type": "markdown",
      "metadata": {
        "id": "uTQN9yRj5F8c",
        "colab_type": "text"
      },
      "source": [
        "Here is what I got for result_list first 5.\n",
        "\n",
        "<pre>\n",
        "[(2.3119092333109343e-46, 5.026792223582086e-54, 2.4787413489091447e-51),\n",
        " (6.959717796952573e-45, 1.5140406188464093e-42, 3.3069010682386025e-42),\n",
        " (5.395832479210548e-48, 9.28028679134852e-51, 4.297064611846296e-50),\n",
        " (3.996284558172596e-56, 9.060867036238493e-53, 2.1497919775490074e-57),\n",
        " (1.219086935483253e-66, 1.0246639306144965e-70, 5.009110759153542e-68)]\n",
        " </pre>"
      ]
    },
    {
      "cell_type": "markdown",
      "metadata": {
        "id": "xhIHH1ZL4Uh9",
        "colab_type": "text"
      },
      "source": [
        "##Step 2.\n",
        "\n",
        "Now get predictions. Find the max author in each triple and make that author your prediction.\n",
        "\n",
        "Here is some code that might help."
      ]
    },
    {
      "cell_type": "code",
      "metadata": {
        "id": "1V5pVTHe27FA",
        "colab_type": "code",
        "outputId": "6edc026b-2262-49c5-aeda-69236bb08a48",
        "colab": {
          "base_uri": "https://localhost:8080/",
          "height": 34
        }
      },
      "source": [
        "authors = ['EAP', 'MWS', 'HPL']\n",
        "\n",
        "a_triple = [.5, .4, .3]  #simulates the 3 values you get from up.bayes_gothic\n",
        "\n",
        "m = max(a_triple)  #what is the max value?  .5 in our case\n",
        "j = a_triple.index(m)  #where is it found?  index 0 in our case\n",
        "a = authors[j]  #corresponding author       \"EAP\" in our case\n",
        "prediction = a  #record the prediction\n",
        "\n",
        "prediction"
      ],
      "execution_count": 0,
      "outputs": [
        {
          "output_type": "execute_result",
          "data": {
            "text/plain": [
              "'EAP'"
            ]
          },
          "metadata": {
            "tags": []
          },
          "execution_count": 49
        }
      ]
    },
    {
      "cell_type": "code",
      "metadata": {
        "id": "Sf3VFhvLUtaI",
        "colab_type": "code",
        "outputId": "bc3fda02-0e29-40d2-f2a3-ae667f8ed163",
        "colab": {
          "base_uri": "https://localhost:8080/",
          "height": 34
        }
      },
      "source": [
        "#your code below\n",
        "\n",
        "\n",
        "predictions[:10]  #['EAP', 'HPL', 'EAP', 'MWS', 'EAP', 'EAP', 'EAP', 'EAP', 'EAP', 'MWS']"
      ],
      "execution_count": 0,
      "outputs": [
        {
          "output_type": "execute_result",
          "data": {
            "text/plain": [
              "['EAP', 'HPL', 'EAP', 'MWS', 'EAP', 'EAP', 'EAP', 'EAP', 'EAP', 'MWS']"
            ]
          },
          "metadata": {
            "tags": []
          },
          "execution_count": 50
        }
      ]
    },
    {
      "cell_type": "code",
      "metadata": {
        "id": "YY20ZE0DV0Kc",
        "colab_type": "code",
        "outputId": "fef845ef-de1d-49dc-d382-a7bc19bede93",
        "colab": {
          "base_uri": "https://localhost:8080/",
          "height": 34
        }
      },
      "source": [
        "testing_authors[:10]  #['EAP', 'MWS', 'EAP', 'MWS', 'EAP', 'EAP', 'EAP', 'EAP', 'EAP', 'MWS']"
      ],
      "execution_count": 0,
      "outputs": [
        {
          "output_type": "execute_result",
          "data": {
            "text/plain": [
              "['EAP', 'MWS', 'EAP', 'MWS', 'EAP', 'EAP', 'EAP', 'EAP', 'EAP', 'MWS']"
            ]
          },
          "metadata": {
            "tags": []
          },
          "execution_count": 51
        }
      ]
    },
    {
      "cell_type": "markdown",
      "metadata": {
        "id": "J4zqeiga4n8z",
        "colab_type": "text"
      },
      "source": [
        "#Assignment 2.\n",
        "<img src='https://www.dropbox.com/s/3uyvp722kp5to2r/assignment.png?raw=1' width='300'>\n",
        "\n",
        "Go ahead and compute accuracy. I got a value of `0.8180115764385427`."
      ]
    },
    {
      "cell_type": "code",
      "metadata": {
        "id": "Lr6M5lynWG5O",
        "colab_type": "code",
        "colab": {}
      },
      "source": [
        "#your code\n",
        "\n"
      ],
      "execution_count": 0,
      "outputs": []
    },
    {
      "cell_type": "code",
      "metadata": {
        "id": "1FVARYtbG2zr",
        "colab_type": "code",
        "outputId": "38b33e54-0324-4f45-a553-5152ea3d28de",
        "colab": {
          "base_uri": "https://localhost:8080/",
          "height": 34
        }
      },
      "source": [
        "accuracy  #0.8180115764385427"
      ],
      "execution_count": 0,
      "outputs": [
        {
          "output_type": "execute_result",
          "data": {
            "text/plain": [
              "0.8180115764385427"
            ]
          },
          "metadata": {
            "tags": []
          },
          "execution_count": 54
        }
      ]
    },
    {
      "cell_type": "markdown",
      "metadata": {
        "id": "GTL26J8VSukJ",
        "colab_type": "text"
      },
      "source": [
        "#13. A plot in place of confusion matrix\n",
        "\n",
        "We can use a heat-map to give us a view into the 9 cases we now have. Yellow is large values, green medium and purple low."
      ]
    },
    {
      "cell_type": "code",
      "metadata": {
        "id": "AFrjFDwVSVZ4",
        "colab_type": "code",
        "outputId": "757dd881-c5e8-45ab-c6a7-bb2c47cf9c03",
        "colab": {
          "base_uri": "https://localhost:8080/",
          "height": 627
        }
      },
      "source": [
        "up.heat_map(zipped, ['EAP', 'MWS', 'HPL'])  #EAP=0, MWS=1, HPL=2"
      ],
      "execution_count": 0,
      "outputs": [
        {
          "output_type": "display_data",
          "data": {
            "image/png": "[encoded data removed]",
            "text/plain": [
              "<Figure size 720x720 with 1 Axes>"
            ]
          },
          "metadata": {
            "tags": [],
            "needs_background": "light"
          }
        }
      ]
    },
    {
      "cell_type": "markdown",
      "metadata": {
        "id": "6wbR1_FHMUlR",
        "colab_type": "text"
      },
      "source": [
        "##What would a cost model look like?\n",
        "\n",
        "A bit of a stretch, but let's say that it is costly to falsely predict EAP. You can see we have 2 false-negative cases in column 0: predicting EAP when it was MWS; predicting EAP when it was HPL. These mistakes are costly because the price for legit EAP sentences is high. Investors are willing to fork out big bucks for legit EAP sentences (bigggg stretch). If we predict a sentence is EAP, someone buys it for a high price, and they later discover it is not authored by EAP, we get sued. So we might consider ways of lowering (0,1) and (0,2) cells, 282 and 140 respectively.\n",
        "\n",
        "Sorry, that is my best shot at a back-story."
      ]
    },
    {
      "cell_type": "markdown",
      "metadata": {
        "id": "Wztldif4qVdt",
        "colab_type": "text"
      },
      "source": [
        "#14. Multinomial versus Bernoulli\n",
        "\n",
        "We are using Multinomial Naive Bayes because we are counting how many times a word occurs for an author. We could also use Bernoulli Naive Bayes where we look for features that are true or false, e.g., EAP uses the word 'oliver', true or false - don't care how many times beyond 1. This paper discusses the difference between the two: http://www.kamalnigam.com/papers/multinomial-aaaiws98.pdf.  Short answer: Multinomial wins with a large word bag, which we have.\n",
        "</div>"
      ]
    },
    {
      "cell_type": "markdown",
      "metadata": {
        "id": "04LxayGq6-2L",
        "colab_type": "text"
      },
      "source": [
        "#15. End notes\n",
        "\n",
        "This ends our look at Naive Bayes applied to a text classification/prediction problem. What do you think? Is our accuracy result of 82% good enough? The question is whether other models, e.g., KNN, can do better?  Straight out of the gate with KNN, we would require 21K columns, one for each word in `sorted_word_bag`. We could try to reduce that 21K down to a smaller number. We will take up a related problem in the next chapter."
      ]
    },
    {
      "cell_type": "markdown",
      "metadata": {
        "id": "tz19-N2ygRO-",
        "colab_type": "text"
      },
      "source": [
        "#On Wednesday\n",
        "\n",
        "I'll hand out take-home midterm and go over it. It will be due before class on Monday of week 7. It will count on you being able to pull together ideas from both chapters 5 and 6."
      ]
    }
  ]
}