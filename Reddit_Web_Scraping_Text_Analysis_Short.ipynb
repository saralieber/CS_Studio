{
  "nbformat": 4,
  "nbformat_minor": 0,
  "metadata": {
    "colab": {
      "name": "Reddit_Web_Scraping_Text_Analysis_Short.ipynb",
      "provenance": [],
      "authorship_tag": "ABX9TyPghkp20DcpFzYHeCIplcUO",
      "include_colab_link": true
    },
    "kernelspec": {
      "name": "python3",
      "display_name": "Python 3"
    }
  },
  "cells": [
    {
      "cell_type": "markdown",
      "metadata": {
        "id": "view-in-github",
        "colab_type": "text"
      },
      "source": [
        "<a href=\"https://colab.research.google.com/github/saralieber/CS_Studio/blob/master/Reddit_Web_Scraping_Text_Analysis_Short.ipynb\" target=\"_parent\"><img src=\"https://colab.research.google.com/assets/colab-badge.svg\" alt=\"Open In Colab\"/></a>"
      ]
    },
    {
      "cell_type": "markdown",
      "metadata": {
        "id": "s--lxl7sJ0_1",
        "colab_type": "text"
      },
      "source": [
        "# Web Scraping"
      ]
    },
    {
      "cell_type": "code",
      "metadata": {
        "id": "IS2MIcU5J43T",
        "colab_type": "code",
        "colab": {}
      },
      "source": [
        "import praw\n",
        "import pandas as pd\n",
        "\n",
        "my_client_id = 'Jbow2fXurn00og'\n",
        "my_client_secret = 'OqTPW2Bo1sMKmZurQ2LpOZLAkjc'\n",
        "my_user_agent = 'scrapescrape'\n",
        "\n",
        "reddit = praw.Reddit(client_id=my_client_id, client_secret=my_client_secret, user_agent=my_user_agent)"
      ],
      "execution_count": 0,
      "outputs": []
    },
    {
      "cell_type": "code",
      "metadata": {
        "id": "LyND9pdAJ7LT",
        "colab_type": "code",
        "colab": {}
      },
      "source": [
        "url = reddit.submission(url=\"https://www.reddit.com/r/femalefashionadvice/comments/f3bmf0/ffa_lowno_buy_week_7_what_causes_you_to_shop/\")\n",
        "\n",
        "from praw.models import MoreComments\n",
        "\n",
        "for top_level_comment in clothing_causes.comments:\n",
        "  if isinstance(top_level_comment, MoreComments):\n",
        "    continue\n",
        "\n",
        "comments = []\n",
        "\n",
        "clothing_causes.comments.replace_more(limit=0)\n",
        "for top_level_comment in clothing_causes.comments:\n",
        "  comments.append(top_level_comment.body)\n",
        "  # print(top_level_comment.body)"
      ],
      "execution_count": 0,
      "outputs": []
    },
    {
      "cell_type": "markdown",
      "metadata": {
        "id": "bSHaE1YcKPdg",
        "colab_type": "text"
      },
      "source": [
        "# String Cleaning"
      ]
    },
    {
      "cell_type": "code",
      "metadata": {
        "id": "N1lDtT4LKIDk",
        "colab_type": "code",
        "colab": {}
      },
      "source": [
        "str_comments = str(comments)"
      ],
      "execution_count": 0,
      "outputs": []
    },
    {
      "cell_type": "code",
      "metadata": {
        "id": "ydLMn7dpKJue",
        "colab_type": "code",
        "colab": {}
      },
      "source": [
        "str_comments = str_comments.replace(\",\",\"\")\n",
        "str_comments = str_comments.replace(\".\",\"\")\n",
        "str_comments = str_comments.replace('\"',\"\")\n",
        "str_comments = str_comments.replace(\"'\",\"\")\n",
        "str_comments = str_comments.replace(\"’\",\"\")\n",
        "str_comments = str_comments.replace(\"(\",\"\")\n",
        "str_comments = str_comments.replace(\")\",\"\")"
      ],
      "execution_count": 0,
      "outputs": []
    },
    {
      "cell_type": "markdown",
      "metadata": {
        "id": "KblrXhxvKM_w",
        "colab_type": "text"
      },
      "source": [
        "# Text Analysis"
      ]
    },
    {
      "cell_type": "code",
      "metadata": {
        "id": "xCKbAXXWKSNi",
        "colab_type": "code",
        "colab": {}
      },
      "source": [
        "import nltk\n",
        "import matplotlib.pyplot as plt\n",
        "\n",
        "nltk.download('punkt')\n",
        "nltk.download('stopwords')\n",
        "nltk.download('averaged_perceptron_tagger')\n",
        "nltk.download('wordnet')\n",
        "\n",
        "from nltk.tokenize import sent_tokenize # tokenizes text into sentences\n",
        "from nltk.tokenize import word_tokenize # tokenizes text into words\n",
        "from nltk.probability import FreqDist\n",
        "from nltk.corpus import stopwords\n",
        "from nltk.stem.wordnet import WordNetLemmatizer # Lemmatizing\n",
        "lem = WordNetLemmatizer()\n",
        "from nltk.stem.porter import PorterStemmer # stemming\n",
        "stem = PorterStemmer()"
      ],
      "execution_count": 0,
      "outputs": []
    },
    {
      "cell_type": "code",
      "metadata": {
        "id": "1BX6VimOKlNY",
        "colab_type": "code",
        "colab": {}
      },
      "source": [
        "tokenized_text = word_tokenize(str_comments)\n",
        "tokenized_text[:20]"
      ],
      "execution_count": 0,
      "outputs": []
    },
    {
      "cell_type": "code",
      "metadata": {
        "id": "4_0_4pKlKlxr",
        "colab_type": "code",
        "colab": {}
      },
      "source": [
        "# Word list of most common words\n",
        "fdist = FreqDist(tokenized_text)\n",
        "fdist.most_common(10)"
      ],
      "execution_count": 0,
      "outputs": []
    },
    {
      "cell_type": "code",
      "metadata": {
        "id": "xQ8Gb02AKr3X",
        "colab_type": "code",
        "colab": {}
      },
      "source": [
        "# Graph of most common words\n",
        "fdist.plot(30, cumulative=False)\n",
        "plt.show()"
      ],
      "execution_count": 0,
      "outputs": []
    },
    {
      "cell_type": "markdown",
      "metadata": {
        "id": "5bnoD4vDK8p7",
        "colab_type": "text"
      },
      "source": [
        "# More Text Cleaning"
      ]
    },
    {
      "cell_type": "code",
      "metadata": {
        "id": "I0HvrOECK5sk",
        "colab_type": "code",
        "colab": {}
      },
      "source": [
        "# Remove Stop Words\n",
        "stop_words = set(stopwords.words(\"english\"))\n",
        "\n",
        "filtered_words = []\n",
        "\n",
        "for w in tokenized_text:\n",
        "  if w not in stop_words:\n",
        "    filtered_words.append(w)"
      ],
      "execution_count": 0,
      "outputs": []
    },
    {
      "cell_type": "code",
      "metadata": {
        "id": "78jg-QuZLRDZ",
        "colab_type": "code",
        "colab": {}
      },
      "source": [
        "# Re-perform Freqneucy Analysis\n",
        "fdist = FreqDist(filtered_words)\n",
        "fdist.most_common(10)"
      ],
      "execution_count": 0,
      "outputs": []
    },
    {
      "cell_type": "code",
      "metadata": {
        "id": "waVl2kbNLVSs",
        "colab_type": "code",
        "colab": {}
      },
      "source": [
        "fdist.plot(30, cumulative=False)\n",
        "plt.show()"
      ],
      "execution_count": 0,
      "outputs": []
    },
    {
      "cell_type": "code",
      "metadata": {
        "id": "zayyT0UELGPq",
        "colab_type": "code",
        "colab": {}
      },
      "source": [
        "# Part-of-speech Tagging and Lemmatization\n",
        "\n",
        "nltk.pos_tag(filtered_words)\n",
        "\n",
        "lemma_words = []\n",
        "\n",
        "for word, tag in nltk.pos_tag(filtered_words):\n",
        "  wtag = tag[0].lower()\n",
        "  wtag = wtag if wtag in ['a', 'r', 'n', 'v'] else None \n",
        "  if not wtag:\n",
        "    lemma = word\n",
        "  else:\n",
        "    lemma = lem.lemmatize(word, wtag)\n",
        "  lemma_words.append(lemma)\n",
        "  print(lemma)"
      ],
      "execution_count": 0,
      "outputs": []
    },
    {
      "cell_type": "code",
      "metadata": {
        "id": "Qgnqr3SmLdrE",
        "colab_type": "code",
        "colab": {}
      },
      "source": [
        "# Frequency Analysis\n",
        "fdist = FreqDist(lemma_words)\n",
        "fdist.most_common(100)\n",
        "fdist.plot(30, cumulative=False)\n",
        "plt.show()"
      ],
      "execution_count": 0,
      "outputs": []
    }
  ]
}