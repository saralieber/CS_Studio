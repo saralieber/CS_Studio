{
  "nbformat": 4,
  "nbformat_minor": 0,
  "metadata": {
    "colab": {
      "name": "Review_Ch5_ML_Spacy_NaiveBayes.ipynb",
      "provenance": [],
      "authorship_tag": "ABX9TyMqyMxH8u36ChVk5EF4AKRE",
      "include_colab_link": true
    },
    "kernelspec": {
      "name": "python3",
      "display_name": "Python 3"
    }
  },
  "cells": [
    {
      "cell_type": "markdown",
      "metadata": {
        "id": "view-in-github",
        "colab_type": "text"
      },
      "source": [
        "<a href=\"https://colab.research.google.com/github/saralieber/CS_Studio/blob/master/Review_Ch5_ML_Spacy_NaiveBayes.ipynb\" target=\"_parent\"><img src=\"https://colab.research.google.com/assets/colab-badge.svg\" alt=\"Open In Colab\"/></a>"
      ]
    },
    {
      "cell_type": "code",
      "metadata": {
        "id": "buGALfHp0zIw",
        "colab_type": "code",
        "outputId": "72c129ea-f9b0-47a3-c721-50a7eaa2f426",
        "colab": {
          "base_uri": "https://localhost:8080/",
          "height": 165
        }
      },
      "source": [
        "!rm -r  'uo_puddles' #flush the old directory\n",
        "my_github_name = 'uo-puddles'\n",
        "clone_url = f'https://github.com/{my_github_name}/uo_puddles.git'\n",
        "!git clone $clone_url  #this adds the library to colab so you can now import it\n",
        "import uo_puddles.uo_puddles as up"
      ],
      "execution_count": 0,
      "outputs": [
        {
          "output_type": "stream",
          "text": [
            "rm: cannot remove 'uo_puddles': No such file or directory\n",
            "Cloning into 'uo_puddles'...\n",
            "remote: Enumerating objects: 225, done.\u001b[K\n",
            "remote: Counting objects: 100% (225/225), done.\u001b[K\n",
            "remote: Compressing objects: 100% (189/189), done.\u001b[K\n",
            "remote: Total 225 (delta 133), reused 64 (delta 33), pack-reused 0\u001b[K\n",
            "Receiving objects: 100% (225/225), 56.74 KiB | 8.11 MiB/s, done.\n",
            "Resolving deltas: 100% (133/133), done.\n"
          ],
          "name": "stdout"
        }
      ]
    },
    {
      "cell_type": "code",
      "metadata": {
        "id": "LZqpeVhq1q4M",
        "colab_type": "code",
        "outputId": "3288e7d1-8dde-4b7c-c059-3d6524023775",
        "colab": {
          "base_uri": "https://localhost:8080/",
          "height": 628
        }
      },
      "source": [
        "# Spacy is a text analysis library\n",
        "import spacy\n",
        "!python -m spacy download en_core_web_md # Spacy requires a dictionary of words. This code is making the en_core_web_md dictionary locally available to colab\n",
        "import en_core_web_md # import the library\n",
        "nlp = en_core_web_md.load()  # nlp is a parser function. It parses text into words. The result is a new data type called a doc."
      ],
      "execution_count": 0,
      "outputs": [
        {
          "output_type": "stream",
          "text": [
            "Collecting en_core_web_md==2.2.5\n",
            "\u001b[?25l  Downloading https://github.com/explosion/spacy-models/releases/download/en_core_web_md-2.2.5/en_core_web_md-2.2.5.tar.gz (96.4MB)\n",
            "\u001b[K     |████████████████████████████████| 96.4MB 1.1MB/s \n",
            "\u001b[?25hRequirement already satisfied: spacy>=2.2.2 in /usr/local/lib/python3.6/dist-packages (from en_core_web_md==2.2.5) (2.2.4)\n",
            "Requirement already satisfied: thinc==7.4.0 in /usr/local/lib/python3.6/dist-packages (from spacy>=2.2.2->en_core_web_md==2.2.5) (7.4.0)\n",
            "Requirement already satisfied: murmurhash<1.1.0,>=0.28.0 in /usr/local/lib/python3.6/dist-packages (from spacy>=2.2.2->en_core_web_md==2.2.5) (1.0.2)\n",
            "Requirement already satisfied: setuptools in /usr/local/lib/python3.6/dist-packages (from spacy>=2.2.2->en_core_web_md==2.2.5) (46.1.3)\n",
            "Requirement already satisfied: cymem<2.1.0,>=2.0.2 in /usr/local/lib/python3.6/dist-packages (from spacy>=2.2.2->en_core_web_md==2.2.5) (2.0.3)\n",
            "Requirement already satisfied: preshed<3.1.0,>=3.0.2 in /usr/local/lib/python3.6/dist-packages (from spacy>=2.2.2->en_core_web_md==2.2.5) (3.0.2)\n",
            "Requirement already satisfied: requests<3.0.0,>=2.13.0 in /usr/local/lib/python3.6/dist-packages (from spacy>=2.2.2->en_core_web_md==2.2.5) (2.23.0)\n",
            "Requirement already satisfied: plac<1.2.0,>=0.9.6 in /usr/local/lib/python3.6/dist-packages (from spacy>=2.2.2->en_core_web_md==2.2.5) (1.1.3)\n",
            "Requirement already satisfied: tqdm<5.0.0,>=4.38.0 in /usr/local/lib/python3.6/dist-packages (from spacy>=2.2.2->en_core_web_md==2.2.5) (4.38.0)\n",
            "Requirement already satisfied: blis<0.5.0,>=0.4.0 in /usr/local/lib/python3.6/dist-packages (from spacy>=2.2.2->en_core_web_md==2.2.5) (0.4.1)\n",
            "Requirement already satisfied: srsly<1.1.0,>=1.0.2 in /usr/local/lib/python3.6/dist-packages (from spacy>=2.2.2->en_core_web_md==2.2.5) (1.0.2)\n",
            "Requirement already satisfied: catalogue<1.1.0,>=0.0.7 in /usr/local/lib/python3.6/dist-packages (from spacy>=2.2.2->en_core_web_md==2.2.5) (1.0.0)\n",
            "Requirement already satisfied: numpy>=1.15.0 in /usr/local/lib/python3.6/dist-packages (from spacy>=2.2.2->en_core_web_md==2.2.5) (1.18.3)\n",
            "Requirement already satisfied: wasabi<1.1.0,>=0.4.0 in /usr/local/lib/python3.6/dist-packages (from spacy>=2.2.2->en_core_web_md==2.2.5) (0.6.0)\n",
            "Requirement already satisfied: chardet<4,>=3.0.2 in /usr/local/lib/python3.6/dist-packages (from requests<3.0.0,>=2.13.0->spacy>=2.2.2->en_core_web_md==2.2.5) (3.0.4)\n",
            "Requirement already satisfied: certifi>=2017.4.17 in /usr/local/lib/python3.6/dist-packages (from requests<3.0.0,>=2.13.0->spacy>=2.2.2->en_core_web_md==2.2.5) (2020.4.5.1)\n",
            "Requirement already satisfied: urllib3!=1.25.0,!=1.25.1,<1.26,>=1.21.1 in /usr/local/lib/python3.6/dist-packages (from requests<3.0.0,>=2.13.0->spacy>=2.2.2->en_core_web_md==2.2.5) (1.24.3)\n",
            "Requirement already satisfied: idna<3,>=2.5 in /usr/local/lib/python3.6/dist-packages (from requests<3.0.0,>=2.13.0->spacy>=2.2.2->en_core_web_md==2.2.5) (2.9)\n",
            "Requirement already satisfied: importlib-metadata>=0.20; python_version < \"3.8\" in /usr/local/lib/python3.6/dist-packages (from catalogue<1.1.0,>=0.0.7->spacy>=2.2.2->en_core_web_md==2.2.5) (1.6.0)\n",
            "Requirement already satisfied: zipp>=0.5 in /usr/local/lib/python3.6/dist-packages (from importlib-metadata>=0.20; python_version < \"3.8\"->catalogue<1.1.0,>=0.0.7->spacy>=2.2.2->en_core_web_md==2.2.5) (3.1.0)\n",
            "Building wheels for collected packages: en-core-web-md\n",
            "  Building wheel for en-core-web-md (setup.py) ... \u001b[?25l\u001b[?25hdone\n",
            "  Created wheel for en-core-web-md: filename=en_core_web_md-2.2.5-cp36-none-any.whl size=98051305 sha256=a791213de60fd4a11ae468ea65f38ef6d0ebcf69c57ba4d8ad59b54c599d4d31\n",
            "  Stored in directory: /tmp/pip-ephem-wheel-cache-tbq2ntik/wheels/df/94/ad/f5cf59224cea6b5686ac4fd1ad19c8a07bc026e13c36502d81\n",
            "Successfully built en-core-web-md\n",
            "Installing collected packages: en-core-web-md\n",
            "Successfully installed en-core-web-md-2.2.5\n",
            "\u001b[38;5;2m✔ Download and installation successful\u001b[0m\n",
            "You can now load the model via spacy.load('en_core_web_md')\n"
          ],
          "name": "stdout"
        }
      ]
    },
    {
      "cell_type": "code",
      "metadata": {
        "id": "UU-tcS792Xd4",
        "colab_type": "code",
        "outputId": "8797aed5-7f15-4943-c967-965eda0a381d",
        "colab": {
          "base_uri": "https://localhost:8080/",
          "height": 424
        }
      },
      "source": [
        "# Practice using Spacy\n",
        "\n",
        "practice_sentence = 'spaCy is a relatively new package for “Industrial strength NLP in Python” developed by Matt Honnibal at Explosion AI.'\n",
        "doc = nlp(practice_sentence) # parse the practice sentence into words (called 'tokens' in spacy) - doc is an pbject that holds data similarly to a list\n",
        "\n",
        "# spacy tokens (words) have different attributes, one of which is text (which makes the tokens into strings)\n",
        "\n",
        "for i in range(len(doc)):\n",
        "  token = doc[i]\n",
        "  print(token.text) # notice the attributes don't use () after the name\n",
        "\n",
        "# the above is equivalent to:\n",
        "# for token in doc:\n",
        "#   print(token.text)\n"
      ],
      "execution_count": 0,
      "outputs": [
        {
          "output_type": "stream",
          "text": [
            "spaCy\n",
            "is\n",
            "a\n",
            "relatively\n",
            "new\n",
            "package\n",
            "for\n",
            "“\n",
            "Industrial\n",
            "strength\n",
            "NLP\n",
            "in\n",
            "Python\n",
            "”\n",
            "developed\n",
            "by\n",
            "Matt\n",
            "Honnibal\n",
            "at\n",
            "Explosion\n",
            "AI\n",
            ".\n"
          ],
          "name": "stdout"
        }
      ]
    },
    {
      "cell_type": "code",
      "metadata": {
        "id": "_qsQhhPq39pn",
        "colab_type": "code",
        "outputId": "beaa338c-8550-4261-f1e2-5dcd0fbbb3e2",
        "colab": {
          "base_uri": "https://localhost:8080/",
          "height": 183
        }
      },
      "source": [
        "# Look more at spacy attributes\n",
        "\n",
        "first_token = doc[0] # can index using docs\n",
        "first_token\n",
        "\n",
        "type(first_token)\n",
        "\n",
        "print(first_token.text) # original word as a string\n",
        "print(first_token.lemma_) # lemmatized version\n",
        "print(first_token.pos_) # proper noun\n",
        "print(first_token.tag_) # NNP?\n",
        "print(first_token.dep_) # references parse tree\n",
        "print(first_token.shape_) # lowercase,lowercase,lowercase,uppercase,lowercase\n",
        "print(first_token.is_alpha) # yes, consists of all alphanumeric characters\n",
        "print(first_token.is_stop) # no, is not a stopword\n",
        "print(first_token.is_punct) # no, is not punctuation"
      ],
      "execution_count": 0,
      "outputs": [
        {
          "output_type": "stream",
          "text": [
            "spaCy\n",
            "spaCy\n",
            "PROPN\n",
            "NNP\n",
            "nsubj\n",
            "xxxXx\n",
            "True\n",
            "False\n",
            "False\n"
          ],
          "name": "stdout"
        }
      ]
    },
    {
      "cell_type": "code",
      "metadata": {
        "id": "JP2FdISe5S1F",
        "colab_type": "code",
        "outputId": "6930b77b-07d4-45f5-f588-d159d1cf3ac7",
        "colab": {
          "base_uri": "https://localhost:8080/",
          "height": 528
        }
      },
      "source": [
        "# Look at the parse tree\n",
        "from spacy import displacy\n",
        "displacy.render(doc, style=\"dep\", jupyter=True)"
      ],
      "execution_count": 0,
      "outputs": [
        {
          "output_type": "display_data",
          "data": {
            "text/html": [
              "<span class=\"tex2jax_ignore\"><svg xmlns=\"http://www.w3.org/2000/svg\" xmlns:xlink=\"http://www.w3.org/1999/xlink\" xml:lang=\"en\" id=\"0fad0f50f06c4d3c933d6aa0bda30218-0\" class=\"displacy\" width=\"3375\" height=\"487.0\" direction=\"ltr\" style=\"max-width: none; height: 487.0px; color: #000000; background: #ffffff; font-family: Arial; direction: ltr\">\n",
              "<text class=\"displacy-token\" fill=\"currentColor\" text-anchor=\"middle\" y=\"397.0\">\n",
              "    <tspan class=\"displacy-word\" fill=\"currentColor\" x=\"50\">spaCy</tspan>\n",
              "    <tspan class=\"displacy-tag\" dy=\"2em\" fill=\"currentColor\" x=\"50\">PROPN</tspan>\n",
              "</text>\n",
              "\n",
              "<text class=\"displacy-token\" fill=\"currentColor\" text-anchor=\"middle\" y=\"397.0\">\n",
              "    <tspan class=\"displacy-word\" fill=\"currentColor\" x=\"225\">is</tspan>\n",
              "    <tspan class=\"displacy-tag\" dy=\"2em\" fill=\"currentColor\" x=\"225\">AUX</tspan>\n",
              "</text>\n",
              "\n",
              "<text class=\"displacy-token\" fill=\"currentColor\" text-anchor=\"middle\" y=\"397.0\">\n",
              "    <tspan class=\"displacy-word\" fill=\"currentColor\" x=\"400\">a</tspan>\n",
              "    <tspan class=\"displacy-tag\" dy=\"2em\" fill=\"currentColor\" x=\"400\">DET</tspan>\n",
              "</text>\n",
              "\n",
              "<text class=\"displacy-token\" fill=\"currentColor\" text-anchor=\"middle\" y=\"397.0\">\n",
              "    <tspan class=\"displacy-word\" fill=\"currentColor\" x=\"575\">relatively</tspan>\n",
              "    <tspan class=\"displacy-tag\" dy=\"2em\" fill=\"currentColor\" x=\"575\">ADV</tspan>\n",
              "</text>\n",
              "\n",
              "<text class=\"displacy-token\" fill=\"currentColor\" text-anchor=\"middle\" y=\"397.0\">\n",
              "    <tspan class=\"displacy-word\" fill=\"currentColor\" x=\"750\">new</tspan>\n",
              "    <tspan class=\"displacy-tag\" dy=\"2em\" fill=\"currentColor\" x=\"750\">ADJ</tspan>\n",
              "</text>\n",
              "\n",
              "<text class=\"displacy-token\" fill=\"currentColor\" text-anchor=\"middle\" y=\"397.0\">\n",
              "    <tspan class=\"displacy-word\" fill=\"currentColor\" x=\"925\">package</tspan>\n",
              "    <tspan class=\"displacy-tag\" dy=\"2em\" fill=\"currentColor\" x=\"925\">NOUN</tspan>\n",
              "</text>\n",
              "\n",
              "<text class=\"displacy-token\" fill=\"currentColor\" text-anchor=\"middle\" y=\"397.0\">\n",
              "    <tspan class=\"displacy-word\" fill=\"currentColor\" x=\"1100\">for “</tspan>\n",
              "    <tspan class=\"displacy-tag\" dy=\"2em\" fill=\"currentColor\" x=\"1100\">ADP</tspan>\n",
              "</text>\n",
              "\n",
              "<text class=\"displacy-token\" fill=\"currentColor\" text-anchor=\"middle\" y=\"397.0\">\n",
              "    <tspan class=\"displacy-word\" fill=\"currentColor\" x=\"1275\">Industrial</tspan>\n",
              "    <tspan class=\"displacy-tag\" dy=\"2em\" fill=\"currentColor\" x=\"1275\">ADJ</tspan>\n",
              "</text>\n",
              "\n",
              "<text class=\"displacy-token\" fill=\"currentColor\" text-anchor=\"middle\" y=\"397.0\">\n",
              "    <tspan class=\"displacy-word\" fill=\"currentColor\" x=\"1450\">strength</tspan>\n",
              "    <tspan class=\"displacy-tag\" dy=\"2em\" fill=\"currentColor\" x=\"1450\">NOUN</tspan>\n",
              "</text>\n",
              "\n",
              "<text class=\"displacy-token\" fill=\"currentColor\" text-anchor=\"middle\" y=\"397.0\">\n",
              "    <tspan class=\"displacy-word\" fill=\"currentColor\" x=\"1625\">NLP</tspan>\n",
              "    <tspan class=\"displacy-tag\" dy=\"2em\" fill=\"currentColor\" x=\"1625\">PROPN</tspan>\n",
              "</text>\n",
              "\n",
              "<text class=\"displacy-token\" fill=\"currentColor\" text-anchor=\"middle\" y=\"397.0\">\n",
              "    <tspan class=\"displacy-word\" fill=\"currentColor\" x=\"1800\">in</tspan>\n",
              "    <tspan class=\"displacy-tag\" dy=\"2em\" fill=\"currentColor\" x=\"1800\">ADP</tspan>\n",
              "</text>\n",
              "\n",
              "<text class=\"displacy-token\" fill=\"currentColor\" text-anchor=\"middle\" y=\"397.0\">\n",
              "    <tspan class=\"displacy-word\" fill=\"currentColor\" x=\"1975\">Python”</tspan>\n",
              "    <tspan class=\"displacy-tag\" dy=\"2em\" fill=\"currentColor\" x=\"1975\">PROPN</tspan>\n",
              "</text>\n",
              "\n",
              "<text class=\"displacy-token\" fill=\"currentColor\" text-anchor=\"middle\" y=\"397.0\">\n",
              "    <tspan class=\"displacy-word\" fill=\"currentColor\" x=\"2150\">developed</tspan>\n",
              "    <tspan class=\"displacy-tag\" dy=\"2em\" fill=\"currentColor\" x=\"2150\">VERB</tspan>\n",
              "</text>\n",
              "\n",
              "<text class=\"displacy-token\" fill=\"currentColor\" text-anchor=\"middle\" y=\"397.0\">\n",
              "    <tspan class=\"displacy-word\" fill=\"currentColor\" x=\"2325\">by</tspan>\n",
              "    <tspan class=\"displacy-tag\" dy=\"2em\" fill=\"currentColor\" x=\"2325\">ADP</tspan>\n",
              "</text>\n",
              "\n",
              "<text class=\"displacy-token\" fill=\"currentColor\" text-anchor=\"middle\" y=\"397.0\">\n",
              "    <tspan class=\"displacy-word\" fill=\"currentColor\" x=\"2500\">Matt</tspan>\n",
              "    <tspan class=\"displacy-tag\" dy=\"2em\" fill=\"currentColor\" x=\"2500\">PROPN</tspan>\n",
              "</text>\n",
              "\n",
              "<text class=\"displacy-token\" fill=\"currentColor\" text-anchor=\"middle\" y=\"397.0\">\n",
              "    <tspan class=\"displacy-word\" fill=\"currentColor\" x=\"2675\">Honnibal</tspan>\n",
              "    <tspan class=\"displacy-tag\" dy=\"2em\" fill=\"currentColor\" x=\"2675\">PROPN</tspan>\n",
              "</text>\n",
              "\n",
              "<text class=\"displacy-token\" fill=\"currentColor\" text-anchor=\"middle\" y=\"397.0\">\n",
              "    <tspan class=\"displacy-word\" fill=\"currentColor\" x=\"2850\">at</tspan>\n",
              "    <tspan class=\"displacy-tag\" dy=\"2em\" fill=\"currentColor\" x=\"2850\">ADP</tspan>\n",
              "</text>\n",
              "\n",
              "<text class=\"displacy-token\" fill=\"currentColor\" text-anchor=\"middle\" y=\"397.0\">\n",
              "    <tspan class=\"displacy-word\" fill=\"currentColor\" x=\"3025\">Explosion</tspan>\n",
              "    <tspan class=\"displacy-tag\" dy=\"2em\" fill=\"currentColor\" x=\"3025\">PROPN</tspan>\n",
              "</text>\n",
              "\n",
              "<text class=\"displacy-token\" fill=\"currentColor\" text-anchor=\"middle\" y=\"397.0\">\n",
              "    <tspan class=\"displacy-word\" fill=\"currentColor\" x=\"3200\">AI.</tspan>\n",
              "    <tspan class=\"displacy-tag\" dy=\"2em\" fill=\"currentColor\" x=\"3200\">PROPN</tspan>\n",
              "</text>\n",
              "\n",
              "<g class=\"displacy-arrow\">\n",
              "    <path class=\"displacy-arc\" id=\"arrow-0fad0f50f06c4d3c933d6aa0bda30218-0-0\" stroke-width=\"2px\" d=\"M70,352.0 C70,264.5 210.0,264.5 210.0,352.0\" fill=\"none\" stroke=\"currentColor\"/>\n",
              "    <text dy=\"1.25em\" style=\"font-size: 0.8em; letter-spacing: 1px\">\n",
              "        <textPath xlink:href=\"#arrow-0fad0f50f06c4d3c933d6aa0bda30218-0-0\" class=\"displacy-label\" startOffset=\"50%\" side=\"left\" fill=\"currentColor\" text-anchor=\"middle\">nsubj</textPath>\n",
              "    </text>\n",
              "    <path class=\"displacy-arrowhead\" d=\"M70,354.0 L62,342.0 78,342.0\" fill=\"currentColor\"/>\n",
              "</g>\n",
              "\n",
              "<g class=\"displacy-arrow\">\n",
              "    <path class=\"displacy-arc\" id=\"arrow-0fad0f50f06c4d3c933d6aa0bda30218-0-1\" stroke-width=\"2px\" d=\"M420,352.0 C420,89.5 920.0,89.5 920.0,352.0\" fill=\"none\" stroke=\"currentColor\"/>\n",
              "    <text dy=\"1.25em\" style=\"font-size: 0.8em; letter-spacing: 1px\">\n",
              "        <textPath xlink:href=\"#arrow-0fad0f50f06c4d3c933d6aa0bda30218-0-1\" class=\"displacy-label\" startOffset=\"50%\" side=\"left\" fill=\"currentColor\" text-anchor=\"middle\">det</textPath>\n",
              "    </text>\n",
              "    <path class=\"displacy-arrowhead\" d=\"M420,354.0 L412,342.0 428,342.0\" fill=\"currentColor\"/>\n",
              "</g>\n",
              "\n",
              "<g class=\"displacy-arrow\">\n",
              "    <path class=\"displacy-arc\" id=\"arrow-0fad0f50f06c4d3c933d6aa0bda30218-0-2\" stroke-width=\"2px\" d=\"M595,352.0 C595,264.5 735.0,264.5 735.0,352.0\" fill=\"none\" stroke=\"currentColor\"/>\n",
              "    <text dy=\"1.25em\" style=\"font-size: 0.8em; letter-spacing: 1px\">\n",
              "        <textPath xlink:href=\"#arrow-0fad0f50f06c4d3c933d6aa0bda30218-0-2\" class=\"displacy-label\" startOffset=\"50%\" side=\"left\" fill=\"currentColor\" text-anchor=\"middle\">advmod</textPath>\n",
              "    </text>\n",
              "    <path class=\"displacy-arrowhead\" d=\"M595,354.0 L587,342.0 603,342.0\" fill=\"currentColor\"/>\n",
              "</g>\n",
              "\n",
              "<g class=\"displacy-arrow\">\n",
              "    <path class=\"displacy-arc\" id=\"arrow-0fad0f50f06c4d3c933d6aa0bda30218-0-3\" stroke-width=\"2px\" d=\"M770,352.0 C770,264.5 910.0,264.5 910.0,352.0\" fill=\"none\" stroke=\"currentColor\"/>\n",
              "    <text dy=\"1.25em\" style=\"font-size: 0.8em; letter-spacing: 1px\">\n",
              "        <textPath xlink:href=\"#arrow-0fad0f50f06c4d3c933d6aa0bda30218-0-3\" class=\"displacy-label\" startOffset=\"50%\" side=\"left\" fill=\"currentColor\" text-anchor=\"middle\">amod</textPath>\n",
              "    </text>\n",
              "    <path class=\"displacy-arrowhead\" d=\"M770,354.0 L762,342.0 778,342.0\" fill=\"currentColor\"/>\n",
              "</g>\n",
              "\n",
              "<g class=\"displacy-arrow\">\n",
              "    <path class=\"displacy-arc\" id=\"arrow-0fad0f50f06c4d3c933d6aa0bda30218-0-4\" stroke-width=\"2px\" d=\"M245,352.0 C245,2.0 925.0,2.0 925.0,352.0\" fill=\"none\" stroke=\"currentColor\"/>\n",
              "    <text dy=\"1.25em\" style=\"font-size: 0.8em; letter-spacing: 1px\">\n",
              "        <textPath xlink:href=\"#arrow-0fad0f50f06c4d3c933d6aa0bda30218-0-4\" class=\"displacy-label\" startOffset=\"50%\" side=\"left\" fill=\"currentColor\" text-anchor=\"middle\">attr</textPath>\n",
              "    </text>\n",
              "    <path class=\"displacy-arrowhead\" d=\"M925.0,354.0 L933.0,342.0 917.0,342.0\" fill=\"currentColor\"/>\n",
              "</g>\n",
              "\n",
              "<g class=\"displacy-arrow\">\n",
              "    <path class=\"displacy-arc\" id=\"arrow-0fad0f50f06c4d3c933d6aa0bda30218-0-5\" stroke-width=\"2px\" d=\"M945,352.0 C945,264.5 1085.0,264.5 1085.0,352.0\" fill=\"none\" stroke=\"currentColor\"/>\n",
              "    <text dy=\"1.25em\" style=\"font-size: 0.8em; letter-spacing: 1px\">\n",
              "        <textPath xlink:href=\"#arrow-0fad0f50f06c4d3c933d6aa0bda30218-0-5\" class=\"displacy-label\" startOffset=\"50%\" side=\"left\" fill=\"currentColor\" text-anchor=\"middle\">prep</textPath>\n",
              "    </text>\n",
              "    <path class=\"displacy-arrowhead\" d=\"M1085.0,354.0 L1093.0,342.0 1077.0,342.0\" fill=\"currentColor\"/>\n",
              "</g>\n",
              "\n",
              "<g class=\"displacy-arrow\">\n",
              "    <path class=\"displacy-arc\" id=\"arrow-0fad0f50f06c4d3c933d6aa0bda30218-0-6\" stroke-width=\"2px\" d=\"M1295,352.0 C1295,264.5 1435.0,264.5 1435.0,352.0\" fill=\"none\" stroke=\"currentColor\"/>\n",
              "    <text dy=\"1.25em\" style=\"font-size: 0.8em; letter-spacing: 1px\">\n",
              "        <textPath xlink:href=\"#arrow-0fad0f50f06c4d3c933d6aa0bda30218-0-6\" class=\"displacy-label\" startOffset=\"50%\" side=\"left\" fill=\"currentColor\" text-anchor=\"middle\">amod</textPath>\n",
              "    </text>\n",
              "    <path class=\"displacy-arrowhead\" d=\"M1295,354.0 L1287,342.0 1303,342.0\" fill=\"currentColor\"/>\n",
              "</g>\n",
              "\n",
              "<g class=\"displacy-arrow\">\n",
              "    <path class=\"displacy-arc\" id=\"arrow-0fad0f50f06c4d3c933d6aa0bda30218-0-7\" stroke-width=\"2px\" d=\"M1470,352.0 C1470,264.5 1610.0,264.5 1610.0,352.0\" fill=\"none\" stroke=\"currentColor\"/>\n",
              "    <text dy=\"1.25em\" style=\"font-size: 0.8em; letter-spacing: 1px\">\n",
              "        <textPath xlink:href=\"#arrow-0fad0f50f06c4d3c933d6aa0bda30218-0-7\" class=\"displacy-label\" startOffset=\"50%\" side=\"left\" fill=\"currentColor\" text-anchor=\"middle\">compound</textPath>\n",
              "    </text>\n",
              "    <path class=\"displacy-arrowhead\" d=\"M1470,354.0 L1462,342.0 1478,342.0\" fill=\"currentColor\"/>\n",
              "</g>\n",
              "\n",
              "<g class=\"displacy-arrow\">\n",
              "    <path class=\"displacy-arc\" id=\"arrow-0fad0f50f06c4d3c933d6aa0bda30218-0-8\" stroke-width=\"2px\" d=\"M1120,352.0 C1120,89.5 1620.0,89.5 1620.0,352.0\" fill=\"none\" stroke=\"currentColor\"/>\n",
              "    <text dy=\"1.25em\" style=\"font-size: 0.8em; letter-spacing: 1px\">\n",
              "        <textPath xlink:href=\"#arrow-0fad0f50f06c4d3c933d6aa0bda30218-0-8\" class=\"displacy-label\" startOffset=\"50%\" side=\"left\" fill=\"currentColor\" text-anchor=\"middle\">pobj</textPath>\n",
              "    </text>\n",
              "    <path class=\"displacy-arrowhead\" d=\"M1620.0,354.0 L1628.0,342.0 1612.0,342.0\" fill=\"currentColor\"/>\n",
              "</g>\n",
              "\n",
              "<g class=\"displacy-arrow\">\n",
              "    <path class=\"displacy-arc\" id=\"arrow-0fad0f50f06c4d3c933d6aa0bda30218-0-9\" stroke-width=\"2px\" d=\"M1645,352.0 C1645,264.5 1785.0,264.5 1785.0,352.0\" fill=\"none\" stroke=\"currentColor\"/>\n",
              "    <text dy=\"1.25em\" style=\"font-size: 0.8em; letter-spacing: 1px\">\n",
              "        <textPath xlink:href=\"#arrow-0fad0f50f06c4d3c933d6aa0bda30218-0-9\" class=\"displacy-label\" startOffset=\"50%\" side=\"left\" fill=\"currentColor\" text-anchor=\"middle\">prep</textPath>\n",
              "    </text>\n",
              "    <path class=\"displacy-arrowhead\" d=\"M1785.0,354.0 L1793.0,342.0 1777.0,342.0\" fill=\"currentColor\"/>\n",
              "</g>\n",
              "\n",
              "<g class=\"displacy-arrow\">\n",
              "    <path class=\"displacy-arc\" id=\"arrow-0fad0f50f06c4d3c933d6aa0bda30218-0-10\" stroke-width=\"2px\" d=\"M1820,352.0 C1820,264.5 1960.0,264.5 1960.0,352.0\" fill=\"none\" stroke=\"currentColor\"/>\n",
              "    <text dy=\"1.25em\" style=\"font-size: 0.8em; letter-spacing: 1px\">\n",
              "        <textPath xlink:href=\"#arrow-0fad0f50f06c4d3c933d6aa0bda30218-0-10\" class=\"displacy-label\" startOffset=\"50%\" side=\"left\" fill=\"currentColor\" text-anchor=\"middle\">pobj</textPath>\n",
              "    </text>\n",
              "    <path class=\"displacy-arrowhead\" d=\"M1960.0,354.0 L1968.0,342.0 1952.0,342.0\" fill=\"currentColor\"/>\n",
              "</g>\n",
              "\n",
              "<g class=\"displacy-arrow\">\n",
              "    <path class=\"displacy-arc\" id=\"arrow-0fad0f50f06c4d3c933d6aa0bda30218-0-11\" stroke-width=\"2px\" d=\"M1645,352.0 C1645,89.5 2145.0,89.5 2145.0,352.0\" fill=\"none\" stroke=\"currentColor\"/>\n",
              "    <text dy=\"1.25em\" style=\"font-size: 0.8em; letter-spacing: 1px\">\n",
              "        <textPath xlink:href=\"#arrow-0fad0f50f06c4d3c933d6aa0bda30218-0-11\" class=\"displacy-label\" startOffset=\"50%\" side=\"left\" fill=\"currentColor\" text-anchor=\"middle\">acl</textPath>\n",
              "    </text>\n",
              "    <path class=\"displacy-arrowhead\" d=\"M2145.0,354.0 L2153.0,342.0 2137.0,342.0\" fill=\"currentColor\"/>\n",
              "</g>\n",
              "\n",
              "<g class=\"displacy-arrow\">\n",
              "    <path class=\"displacy-arc\" id=\"arrow-0fad0f50f06c4d3c933d6aa0bda30218-0-12\" stroke-width=\"2px\" d=\"M2170,352.0 C2170,264.5 2310.0,264.5 2310.0,352.0\" fill=\"none\" stroke=\"currentColor\"/>\n",
              "    <text dy=\"1.25em\" style=\"font-size: 0.8em; letter-spacing: 1px\">\n",
              "        <textPath xlink:href=\"#arrow-0fad0f50f06c4d3c933d6aa0bda30218-0-12\" class=\"displacy-label\" startOffset=\"50%\" side=\"left\" fill=\"currentColor\" text-anchor=\"middle\">agent</textPath>\n",
              "    </text>\n",
              "    <path class=\"displacy-arrowhead\" d=\"M2310.0,354.0 L2318.0,342.0 2302.0,342.0\" fill=\"currentColor\"/>\n",
              "</g>\n",
              "\n",
              "<g class=\"displacy-arrow\">\n",
              "    <path class=\"displacy-arc\" id=\"arrow-0fad0f50f06c4d3c933d6aa0bda30218-0-13\" stroke-width=\"2px\" d=\"M2520,352.0 C2520,264.5 2660.0,264.5 2660.0,352.0\" fill=\"none\" stroke=\"currentColor\"/>\n",
              "    <text dy=\"1.25em\" style=\"font-size: 0.8em; letter-spacing: 1px\">\n",
              "        <textPath xlink:href=\"#arrow-0fad0f50f06c4d3c933d6aa0bda30218-0-13\" class=\"displacy-label\" startOffset=\"50%\" side=\"left\" fill=\"currentColor\" text-anchor=\"middle\">compound</textPath>\n",
              "    </text>\n",
              "    <path class=\"displacy-arrowhead\" d=\"M2520,354.0 L2512,342.0 2528,342.0\" fill=\"currentColor\"/>\n",
              "</g>\n",
              "\n",
              "<g class=\"displacy-arrow\">\n",
              "    <path class=\"displacy-arc\" id=\"arrow-0fad0f50f06c4d3c933d6aa0bda30218-0-14\" stroke-width=\"2px\" d=\"M2345,352.0 C2345,177.0 2665.0,177.0 2665.0,352.0\" fill=\"none\" stroke=\"currentColor\"/>\n",
              "    <text dy=\"1.25em\" style=\"font-size: 0.8em; letter-spacing: 1px\">\n",
              "        <textPath xlink:href=\"#arrow-0fad0f50f06c4d3c933d6aa0bda30218-0-14\" class=\"displacy-label\" startOffset=\"50%\" side=\"left\" fill=\"currentColor\" text-anchor=\"middle\">pobj</textPath>\n",
              "    </text>\n",
              "    <path class=\"displacy-arrowhead\" d=\"M2665.0,354.0 L2673.0,342.0 2657.0,342.0\" fill=\"currentColor\"/>\n",
              "</g>\n",
              "\n",
              "<g class=\"displacy-arrow\">\n",
              "    <path class=\"displacy-arc\" id=\"arrow-0fad0f50f06c4d3c933d6aa0bda30218-0-15\" stroke-width=\"2px\" d=\"M2170,352.0 C2170,2.0 2850.0,2.0 2850.0,352.0\" fill=\"none\" stroke=\"currentColor\"/>\n",
              "    <text dy=\"1.25em\" style=\"font-size: 0.8em; letter-spacing: 1px\">\n",
              "        <textPath xlink:href=\"#arrow-0fad0f50f06c4d3c933d6aa0bda30218-0-15\" class=\"displacy-label\" startOffset=\"50%\" side=\"left\" fill=\"currentColor\" text-anchor=\"middle\">prep</textPath>\n",
              "    </text>\n",
              "    <path class=\"displacy-arrowhead\" d=\"M2850.0,354.0 L2858.0,342.0 2842.0,342.0\" fill=\"currentColor\"/>\n",
              "</g>\n",
              "\n",
              "<g class=\"displacy-arrow\">\n",
              "    <path class=\"displacy-arc\" id=\"arrow-0fad0f50f06c4d3c933d6aa0bda30218-0-16\" stroke-width=\"2px\" d=\"M3045,352.0 C3045,264.5 3185.0,264.5 3185.0,352.0\" fill=\"none\" stroke=\"currentColor\"/>\n",
              "    <text dy=\"1.25em\" style=\"font-size: 0.8em; letter-spacing: 1px\">\n",
              "        <textPath xlink:href=\"#arrow-0fad0f50f06c4d3c933d6aa0bda30218-0-16\" class=\"displacy-label\" startOffset=\"50%\" side=\"left\" fill=\"currentColor\" text-anchor=\"middle\">compound</textPath>\n",
              "    </text>\n",
              "    <path class=\"displacy-arrowhead\" d=\"M3045,354.0 L3037,342.0 3053,342.0\" fill=\"currentColor\"/>\n",
              "</g>\n",
              "\n",
              "<g class=\"displacy-arrow\">\n",
              "    <path class=\"displacy-arc\" id=\"arrow-0fad0f50f06c4d3c933d6aa0bda30218-0-17\" stroke-width=\"2px\" d=\"M2870,352.0 C2870,177.0 3190.0,177.0 3190.0,352.0\" fill=\"none\" stroke=\"currentColor\"/>\n",
              "    <text dy=\"1.25em\" style=\"font-size: 0.8em; letter-spacing: 1px\">\n",
              "        <textPath xlink:href=\"#arrow-0fad0f50f06c4d3c933d6aa0bda30218-0-17\" class=\"displacy-label\" startOffset=\"50%\" side=\"left\" fill=\"currentColor\" text-anchor=\"middle\">pobj</textPath>\n",
              "    </text>\n",
              "    <path class=\"displacy-arrowhead\" d=\"M3190.0,354.0 L3198.0,342.0 3182.0,342.0\" fill=\"currentColor\"/>\n",
              "</g>\n",
              "</svg></span>"
            ],
            "text/plain": [
              "<IPython.core.display.HTML object>"
            ]
          },
          "metadata": {
            "tags": []
          }
        }
      ]
    },
    {
      "cell_type": "code",
      "metadata": {
        "id": "-jvQDcxX5Z88",
        "colab_type": "code",
        "outputId": "de9d3568-dc31-4ae7-df9d-17687ba6fad0",
        "colab": {
          "base_uri": "https://localhost:8080/",
          "height": 87
        }
      },
      "source": [
        "# Spacy can also recognize entities\n",
        "displacy.render(doc, style=\"ent\", jupyter=True)"
      ],
      "execution_count": 0,
      "outputs": [
        {
          "output_type": "display_data",
          "data": {
            "text/html": [
              "<span class=\"tex2jax_ignore\"><div class=\"entities\" style=\"line-height: 2.5; direction: ltr\">spaCy is a relatively new package for “Industrial strength \n",
              "<mark class=\"entity\" style=\"background: #7aecec; padding: 0.45em 0.6em; margin: 0 0.25em; line-height: 1; border-radius: 0.35em;\">\n",
              "    NLP\n",
              "    <span style=\"font-size: 0.8em; font-weight: bold; line-height: 1; border-radius: 0.35em; text-transform: uppercase; vertical-align: middle; margin-left: 0.5rem\">ORG</span>\n",
              "</mark>\n",
              " in \n",
              "<mark class=\"entity\" style=\"background: #f0d0ff; padding: 0.45em 0.6em; margin: 0 0.25em; line-height: 1; border-radius: 0.35em;\">\n",
              "    Python\n",
              "    <span style=\"font-size: 0.8em; font-weight: bold; line-height: 1; border-radius: 0.35em; text-transform: uppercase; vertical-align: middle; margin-left: 0.5rem\">WORK_OF_ART</span>\n",
              "</mark>\n",
              "” developed by \n",
              "<mark class=\"entity\" style=\"background: #aa9cfc; padding: 0.45em 0.6em; margin: 0 0.25em; line-height: 1; border-radius: 0.35em;\">\n",
              "    Matt Honnibal\n",
              "    <span style=\"font-size: 0.8em; font-weight: bold; line-height: 1; border-radius: 0.35em; text-transform: uppercase; vertical-align: middle; margin-left: 0.5rem\">PERSON</span>\n",
              "</mark>\n",
              " at \n",
              "<mark class=\"entity\" style=\"background: #7aecec; padding: 0.45em 0.6em; margin: 0 0.25em; line-height: 1; border-radius: 0.35em;\">\n",
              "    Explosion AI\n",
              "    <span style=\"font-size: 0.8em; font-weight: bold; line-height: 1; border-radius: 0.35em; text-transform: uppercase; vertical-align: middle; margin-left: 0.5rem\">ORG</span>\n",
              "</mark>\n",
              ".</div></span>"
            ],
            "text/plain": [
              "<IPython.core.display.HTML object>"
            ]
          },
          "metadata": {
            "tags": []
          }
        }
      ]
    },
    {
      "cell_type": "code",
      "metadata": {
        "id": "xjkXAL7K5nQl",
        "colab_type": "code",
        "outputId": "f4f657f0-2f82-4fe8-c4be-d51695938874",
        "colab": {
          "base_uri": "https://localhost:8080/",
          "height": 206
        }
      },
      "source": [
        "# Practice text analysis with spacy\n",
        "import pandas as pd\n",
        "\n",
        "gothic_sentences = pd.read_csv('https://docs.google.com/spreadsheets/d/e/2PACX-1vQqRwyE0ceZREKqhuaOw8uQguTG6Alr5kocggvAnczrWaimXE8ncR--GC0o_PyVDlb-R6Z60v-XaWm9/pub?output=csv',\n",
        "                          encoding='utf-8')\n",
        "len(gothic_sentences) # 19,579 gothic sentences\n",
        "gothic_sentences.head()"
      ],
      "execution_count": 0,
      "outputs": [
        {
          "output_type": "execute_result",
          "data": {
            "text/html": [
              "<div>\n",
              "<style scoped>\n",
              "    .dataframe tbody tr th:only-of-type {\n",
              "        vertical-align: middle;\n",
              "    }\n",
              "\n",
              "    .dataframe tbody tr th {\n",
              "        vertical-align: top;\n",
              "    }\n",
              "\n",
              "    .dataframe thead th {\n",
              "        text-align: right;\n",
              "    }\n",
              "</style>\n",
              "<table border=\"1\" class=\"dataframe\">\n",
              "  <thead>\n",
              "    <tr style=\"text-align: right;\">\n",
              "      <th></th>\n",
              "      <th>id</th>\n",
              "      <th>text</th>\n",
              "      <th>author</th>\n",
              "    </tr>\n",
              "  </thead>\n",
              "  <tbody>\n",
              "    <tr>\n",
              "      <th>0</th>\n",
              "      <td>id26305</td>\n",
              "      <td>This process, however, afforded me no means of...</td>\n",
              "      <td>EAP</td>\n",
              "    </tr>\n",
              "    <tr>\n",
              "      <th>1</th>\n",
              "      <td>id17569</td>\n",
              "      <td>It never once occurred to me that the fumbling...</td>\n",
              "      <td>HPL</td>\n",
              "    </tr>\n",
              "    <tr>\n",
              "      <th>2</th>\n",
              "      <td>id11008</td>\n",
              "      <td>In his left hand was a gold snuff box, from wh...</td>\n",
              "      <td>EAP</td>\n",
              "    </tr>\n",
              "    <tr>\n",
              "      <th>3</th>\n",
              "      <td>id27763</td>\n",
              "      <td>How lovely is spring As we looked from Windsor...</td>\n",
              "      <td>MWS</td>\n",
              "    </tr>\n",
              "    <tr>\n",
              "      <th>4</th>\n",
              "      <td>id12958</td>\n",
              "      <td>Finding nothing else, not even gold, the Super...</td>\n",
              "      <td>HPL</td>\n",
              "    </tr>\n",
              "  </tbody>\n",
              "</table>\n",
              "</div>"
            ],
            "text/plain": [
              "        id                                               text author\n",
              "0  id26305  This process, however, afforded me no means of...    EAP\n",
              "1  id17569  It never once occurred to me that the fumbling...    HPL\n",
              "2  id11008  In his left hand was a gold snuff box, from wh...    EAP\n",
              "3  id27763  How lovely is spring As we looked from Windsor...    MWS\n",
              "4  id12958  Finding nothing else, not even gold, the Super...    HPL"
            ]
          },
          "metadata": {
            "tags": []
          },
          "execution_count": 10
        }
      ]
    },
    {
      "cell_type": "code",
      "metadata": {
        "id": "jlHAN-iC543v",
        "colab_type": "code",
        "outputId": "6871851e-49ca-4cba-e309-c12f337e1e4d",
        "colab": {
          "base_uri": "https://localhost:8080/",
          "height": 293
        }
      },
      "source": [
        "# Display all text when displaying the table\n",
        "pd.set_option('display.max_colwidth',None) # None forces all of sentence to be shown\n",
        "gothic_sentences.head()"
      ],
      "execution_count": 0,
      "outputs": [
        {
          "output_type": "execute_result",
          "data": {
            "text/html": [
              "<div>\n",
              "<style scoped>\n",
              "    .dataframe tbody tr th:only-of-type {\n",
              "        vertical-align: middle;\n",
              "    }\n",
              "\n",
              "    .dataframe tbody tr th {\n",
              "        vertical-align: top;\n",
              "    }\n",
              "\n",
              "    .dataframe thead th {\n",
              "        text-align: right;\n",
              "    }\n",
              "</style>\n",
              "<table border=\"1\" class=\"dataframe\">\n",
              "  <thead>\n",
              "    <tr style=\"text-align: right;\">\n",
              "      <th></th>\n",
              "      <th>id</th>\n",
              "      <th>text</th>\n",
              "      <th>author</th>\n",
              "    </tr>\n",
              "  </thead>\n",
              "  <tbody>\n",
              "    <tr>\n",
              "      <th>0</th>\n",
              "      <td>id26305</td>\n",
              "      <td>This process, however, afforded me no means of ascertaining the dimensions of my dungeon; as I might make its circuit, and return to the point whence I set out, without being aware of the fact; so perfectly uniform seemed the wall.</td>\n",
              "      <td>EAP</td>\n",
              "    </tr>\n",
              "    <tr>\n",
              "      <th>1</th>\n",
              "      <td>id17569</td>\n",
              "      <td>It never once occurred to me that the fumbling might be a mere mistake.</td>\n",
              "      <td>HPL</td>\n",
              "    </tr>\n",
              "    <tr>\n",
              "      <th>2</th>\n",
              "      <td>id11008</td>\n",
              "      <td>In his left hand was a gold snuff box, from which, as he capered down the hill, cutting all manner of fantastic steps, he took snuff incessantly with an air of the greatest possible self satisfaction.</td>\n",
              "      <td>EAP</td>\n",
              "    </tr>\n",
              "    <tr>\n",
              "      <th>3</th>\n",
              "      <td>id27763</td>\n",
              "      <td>How lovely is spring As we looked from Windsor Terrace on the sixteen fertile counties spread beneath, speckled by happy cottages and wealthier towns, all looked as in former years, heart cheering and fair.</td>\n",
              "      <td>MWS</td>\n",
              "    </tr>\n",
              "    <tr>\n",
              "      <th>4</th>\n",
              "      <td>id12958</td>\n",
              "      <td>Finding nothing else, not even gold, the Superintendent abandoned his attempts; but a perplexed look occasionally steals over his countenance as he sits thinking at his desk.</td>\n",
              "      <td>HPL</td>\n",
              "    </tr>\n",
              "  </tbody>\n",
              "</table>\n",
              "</div>"
            ],
            "text/plain": [
              "        id  ... author\n",
              "0  id26305  ...    EAP\n",
              "1  id17569  ...    HPL\n",
              "2  id11008  ...    EAP\n",
              "3  id27763  ...    MWS\n",
              "4  id12958  ...    HPL\n",
              "\n",
              "[5 rows x 3 columns]"
            ]
          },
          "metadata": {
            "tags": []
          },
          "execution_count": 11
        }
      ]
    },
    {
      "cell_type": "code",
      "metadata": {
        "id": "iGMcqz296Gn6",
        "colab_type": "code",
        "colab": {}
      },
      "source": [
        "# Machine Learning with Text Analysis Tools\n",
        "\n",
        "## 1. Randomly shuffle the rows of gothic_sentences. Split into a training set (70%) and testing set (30%).\n",
        "## 2. Build a \"bag of words\" from the training table.\n",
        "## 3. Introduce Naive Bayes, which we will use to make the bag of words.\n",
        "## 4. Evaluate on testing data."
      ],
      "execution_count": 0,
      "outputs": []
    },
    {
      "cell_type": "code",
      "metadata": {
        "id": "HTNWy8Aq6eQO",
        "colab_type": "code",
        "colab": {}
      },
      "source": [
        "## 1. Randomly shuffle the rows of gothic_sentences. Split into a training set (70%) and testing set (30%).\n",
        "\n",
        "set_seed = 1234\n",
        "\n",
        "import numpy as np\n",
        "rsgen = np.random.RandomState(set_seed)\n",
        "\n",
        "\n",
        "# Shuffled Gothic Sentences\n",
        "shuffled_gothics = gothic_sentences.sample(frac=1, random_state = rsgen).reset_index(drop=True)\n",
        "len(shuffled_gothics)\n",
        "\n",
        "\n",
        "# Calculating n's for Testing and Training Tables\n",
        "n_testing = (len(shuffled_gothics))*.3\n",
        "n_testing # 5874\n",
        "\n",
        "n_training = (len(shuffled_gothics)) - n_testing\n",
        "n_training # 13705\n",
        "\n",
        "\n",
        "# Training Set\n",
        "training_table = shuffled_gothics[:13705].reset_index(drop=True)\n",
        "\n",
        "# Testing Set\n",
        "testing_table = shuffled_gothics[13705:].reset_index(drop=True)\n",
        "\n",
        "\n",
        "# Grab the Text and Author Columns from the Training and Testing Sets and Convert into Lists (easier to work with text data this way)\n",
        "training_text = training_table['text'].tolist()\n",
        "training_authors = training_table['author'].tolist()\n",
        "\n",
        "testing_text = testing_table['text'].tolist()\n",
        "testing_authors = testing_table['author'].tolist()"
      ],
      "execution_count": 0,
      "outputs": []
    },
    {
      "cell_type": "code",
      "metadata": {
        "id": "zhCN8LrY70Vq",
        "colab_type": "code",
        "outputId": "928e9c19-bb24-4ecd-bea6-0e884f4094a5",
        "colab": {
          "base_uri": "https://localhost:8080/",
          "height": 81
        }
      },
      "source": [
        "## 2. Build a \"bag of words\" from the training table.\n",
        "\n",
        "# Create an empty dataframe that will be the \"word bag\"\n",
        "word_bag = pd.DataFrame(columns=['word','EAP','MWS','HPL']) # build a dataframe with columns for each word in the gothic texts and each authors' name abbreviated\n",
        "word_bag.head() # currently empty\n",
        "\n",
        "\n",
        "# See how you can add a row\n",
        "row0 = ['indefinite',1,0,0]\n",
        "word_bag.loc[0] = row0\n",
        "word_bag.head()\n",
        "\n",
        "\n",
        "# A function in uo_puddles has been written to add rows the way we did above (up.update_gothic_row)\n",
        "up.update_gothic_row(word_bag, 'indefinite', 'EAP') # acts as a counter - adds another count underneath the author given for the corresponding word; if the word doesn't exist in the dataframe yet, it adds a new row for that word\n"
      ],
      "execution_count": 0,
      "outputs": [
        {
          "output_type": "execute_result",
          "data": {
            "text/html": [
              "<div>\n",
              "<style scoped>\n",
              "    .dataframe tbody tr th:only-of-type {\n",
              "        vertical-align: middle;\n",
              "    }\n",
              "\n",
              "    .dataframe tbody tr th {\n",
              "        vertical-align: top;\n",
              "    }\n",
              "\n",
              "    .dataframe thead th {\n",
              "        text-align: right;\n",
              "    }\n",
              "</style>\n",
              "<table border=\"1\" class=\"dataframe\">\n",
              "  <thead>\n",
              "    <tr style=\"text-align: right;\">\n",
              "      <th></th>\n",
              "      <th>word</th>\n",
              "      <th>EAP</th>\n",
              "      <th>MWS</th>\n",
              "      <th>HPL</th>\n",
              "    </tr>\n",
              "  </thead>\n",
              "  <tbody>\n",
              "    <tr>\n",
              "      <th>0</th>\n",
              "      <td>indefinite</td>\n",
              "      <td>2</td>\n",
              "      <td>0</td>\n",
              "      <td>0</td>\n",
              "    </tr>\n",
              "  </tbody>\n",
              "</table>\n",
              "</div>"
            ],
            "text/plain": [
              "         word EAP MWS HPL\n",
              "0  indefinite   2   0   0"
            ]
          },
          "metadata": {
            "tags": []
          },
          "execution_count": 20
        }
      ]
    },
    {
      "cell_type": "code",
      "metadata": {
        "id": "rvGrwrjV83op",
        "colab_type": "code",
        "outputId": "b39496f7-1457-4b58-d74b-711f7549e272",
        "colab": {
          "base_uri": "https://localhost:8080/",
          "height": 99
        }
      },
      "source": [
        "# 2a. Strategy for building up the word bag\n",
        "\n",
        "## 1. Look at sentence at row 0.\n",
        "## 2. Get author from that row too.\n",
        "## 3. Parse the sentence into words using spacy\n",
        "## 4. For each word, update word_bag using up.update_gothic_row\n",
        "## 5. Repeat steps 1-4 for all rows in the training table\n",
        "\n",
        "### Note: Stop words are words that are so common they carry no value. These can be removed from the text analysis process (although be considerate of how you are choosing which words to remove - no universal agreement on which words should be considered stop words)\n",
        "\n",
        "## Example using the first sentence from the training set\n",
        "# First sentence in training set\n",
        "first_training_sentence = training_text[0]\n",
        "first_training_sentence\n",
        "\n",
        "# Parse the first sentence into words using spacy\n",
        "doc_first_training_sentence = nlp(first_training_sentence.lower()) # convert it into lowercase so the word bag won't be case sensitive\n",
        "\n",
        "# We want to add a count for words in the word bag IF certain criteria are met\n",
        "## If the word is_alpha and if the word is NOT a stop word (NOT is_stop)\n",
        "\n",
        "### Example using 'indefinite' and 'EAP'\n",
        "token = doc_first_training_sentence[1] # taking 'indefinite' from the first sentence in the trianing set that's been parsed into words\n",
        "print(token)\n",
        "author = 'EAP'\n",
        "\n",
        "if token.is_alpha and not token.is_stop:\n",
        "  up.update_gothic_row(word_bag,token,author) # if the word had been contained in spacy's \"stop word\" dictionary, it would not have been added\n",
        "\n",
        "word_bag.head()"
      ],
      "execution_count": 0,
      "outputs": [
        {
          "output_type": "stream",
          "text": [
            "indefinite\n"
          ],
          "name": "stdout"
        },
        {
          "output_type": "execute_result",
          "data": {
            "text/html": [
              "<div>\n",
              "<style scoped>\n",
              "    .dataframe tbody tr th:only-of-type {\n",
              "        vertical-align: middle;\n",
              "    }\n",
              "\n",
              "    .dataframe tbody tr th {\n",
              "        vertical-align: top;\n",
              "    }\n",
              "\n",
              "    .dataframe thead th {\n",
              "        text-align: right;\n",
              "    }\n",
              "</style>\n",
              "<table border=\"1\" class=\"dataframe\">\n",
              "  <thead>\n",
              "    <tr style=\"text-align: right;\">\n",
              "      <th></th>\n",
              "      <th>word</th>\n",
              "      <th>EAP</th>\n",
              "      <th>MWS</th>\n",
              "      <th>HPL</th>\n",
              "    </tr>\n",
              "  </thead>\n",
              "  <tbody>\n",
              "    <tr>\n",
              "      <th>0</th>\n",
              "      <td>indefinite</td>\n",
              "      <td>4</td>\n",
              "      <td>0</td>\n",
              "      <td>0</td>\n",
              "    </tr>\n",
              "  </tbody>\n",
              "</table>\n",
              "</div>"
            ],
            "text/plain": [
              "         word EAP MWS HPL\n",
              "0  indefinite   4   0   0"
            ]
          },
          "metadata": {
            "tags": []
          },
          "execution_count": 24
        }
      ]
    },
    {
      "cell_type": "code",
      "metadata": {
        "id": "fqFr6BJs-2xZ",
        "colab_type": "code",
        "outputId": "abc34d42-adb8-4752-b5c6-1485ac539f23",
        "colab": {
          "base_uri": "https://localhost:8080/",
          "height": 35
        }
      },
      "source": [
        "# Nested Loops\n",
        "## We will need this concept moving forward\n",
        "\n",
        "# Example - list of lists\n",
        "list_of_chars = [['a', 'b', '3'], ['c', '4'], ['5', '6', 's', 'd']]\n",
        "list_of_chars\n",
        "\n",
        "# Say we want just the letters from this list of lists\n",
        "letter_list = []\n",
        "\n",
        "for i in range(len(list_of_chars)):\n",
        "  inner_list = list_of_chars[i] # list 1, list 2, list 3\n",
        "\n",
        "  for j in range(len(inner_list)):\n",
        "    alpha_chars = inner_list[j] # each item contained in each list\n",
        "    if alpha_chars.isalpha():\n",
        "      letter_list.append(alpha_chars)\n",
        "\n",
        "letter_list"
      ],
      "execution_count": 0,
      "outputs": [
        {
          "output_type": "execute_result",
          "data": {
            "text/plain": [
              "['a', 'b', 'c', 's', 'd']"
            ]
          },
          "metadata": {
            "tags": []
          },
          "execution_count": 28
        }
      ]
    },
    {
      "cell_type": "code",
      "metadata": {
        "id": "U8FuJ4Ih_nie",
        "colab_type": "code",
        "colab": {}
      },
      "source": [
        "# Chapter 5 Exercises\n",
        "## Build a word bag using the training_text and training_authors lists\n",
        "\n",
        "word_bag = pd.DataFrame(columns=['word','EAP','MWS','HPL']) # blank word bag\n",
        "\n",
        "for i in range(len(training_text)):\n",
        "  training_sentences = training_text[i].lower()\n",
        "  parsed_sentences = nlp(training_sentences)\n",
        "  author = training_authors[i]\n",
        "  \n",
        "  for token in parsed_sentences:  # question: are tokens automatically an object we can obtain from the doc (the output of nlp())? Because we didn't have to create a token variable in previous for loop\n",
        "    if token.is_alpha and not token.is_stop:\n",
        "      up.update_gothic_row(word_bag, token.text, author) # use token.text to make the output a string"
      ],
      "execution_count": 0,
      "outputs": []
    },
    {
      "cell_type": "code",
      "metadata": {
        "id": "WlzjCEdwDvqG",
        "colab_type": "code",
        "outputId": "b7e0a8e5-21e3-4b69-9869-139219e64941",
        "colab": {
          "base_uri": "https://localhost:8080/",
          "height": 206
        }
      },
      "source": [
        "word_bag.head()"
      ],
      "execution_count": 0,
      "outputs": [
        {
          "output_type": "execute_result",
          "data": {
            "text/html": [
              "<div>\n",
              "<style scoped>\n",
              "    .dataframe tbody tr th:only-of-type {\n",
              "        vertical-align: middle;\n",
              "    }\n",
              "\n",
              "    .dataframe tbody tr th {\n",
              "        vertical-align: top;\n",
              "    }\n",
              "\n",
              "    .dataframe thead th {\n",
              "        text-align: right;\n",
              "    }\n",
              "</style>\n",
              "<table border=\"1\" class=\"dataframe\">\n",
              "  <thead>\n",
              "    <tr style=\"text-align: right;\">\n",
              "      <th></th>\n",
              "      <th>word</th>\n",
              "      <th>EAP</th>\n",
              "      <th>MWS</th>\n",
              "      <th>HPL</th>\n",
              "    </tr>\n",
              "  </thead>\n",
              "  <tbody>\n",
              "    <tr>\n",
              "      <th>0</th>\n",
              "      <td>indefinite</td>\n",
              "      <td>10</td>\n",
              "      <td>0</td>\n",
              "      <td>2</td>\n",
              "    </tr>\n",
              "    <tr>\n",
              "      <th>1</th>\n",
              "      <td>sense</td>\n",
              "      <td>44</td>\n",
              "      <td>18</td>\n",
              "      <td>27</td>\n",
              "    </tr>\n",
              "    <tr>\n",
              "      <th>2</th>\n",
              "      <td>awe</td>\n",
              "      <td>12</td>\n",
              "      <td>6</td>\n",
              "      <td>4</td>\n",
              "    </tr>\n",
              "    <tr>\n",
              "      <th>3</th>\n",
              "      <td>sight</td>\n",
              "      <td>31</td>\n",
              "      <td>32</td>\n",
              "      <td>52</td>\n",
              "    </tr>\n",
              "    <tr>\n",
              "      <th>4</th>\n",
              "      <td>navigators</td>\n",
              "      <td>1</td>\n",
              "      <td>1</td>\n",
              "      <td>0</td>\n",
              "    </tr>\n",
              "  </tbody>\n",
              "</table>\n",
              "</div>"
            ],
            "text/plain": [
              "         word EAP MWS HPL\n",
              "0  indefinite  10   0   2\n",
              "1       sense  44  18  27\n",
              "2         awe  12   6   4\n",
              "3       sight  31  32  52\n",
              "4  navigators   1   1   0"
            ]
          },
          "metadata": {
            "tags": []
          },
          "execution_count": 33
        }
      ]
    },
    {
      "cell_type": "code",
      "metadata": {
        "id": "GcFeYUQXD0AJ",
        "colab_type": "code",
        "outputId": "4d91a19b-3bcc-448c-eb17-d55070d3ae09",
        "colab": {
          "base_uri": "https://localhost:8080/",
          "height": 206
        }
      },
      "source": [
        "word_bag.tail()"
      ],
      "execution_count": 0,
      "outputs": [
        {
          "output_type": "execute_result",
          "data": {
            "text/html": [
              "<div>\n",
              "<style scoped>\n",
              "    .dataframe tbody tr th:only-of-type {\n",
              "        vertical-align: middle;\n",
              "    }\n",
              "\n",
              "    .dataframe tbody tr th {\n",
              "        vertical-align: top;\n",
              "    }\n",
              "\n",
              "    .dataframe thead th {\n",
              "        text-align: right;\n",
              "    }\n",
              "</style>\n",
              "<table border=\"1\" class=\"dataframe\">\n",
              "  <thead>\n",
              "    <tr style=\"text-align: right;\">\n",
              "      <th></th>\n",
              "      <th>word</th>\n",
              "      <th>EAP</th>\n",
              "      <th>MWS</th>\n",
              "      <th>HPL</th>\n",
              "    </tr>\n",
              "  </thead>\n",
              "  <tbody>\n",
              "    <tr>\n",
              "      <th>21547</th>\n",
              "      <td>differential</td>\n",
              "      <td>1</td>\n",
              "      <td>0</td>\n",
              "      <td>0</td>\n",
              "    </tr>\n",
              "    <tr>\n",
              "      <th>21548</th>\n",
              "      <td>nobly</td>\n",
              "      <td>0</td>\n",
              "      <td>1</td>\n",
              "      <td>0</td>\n",
              "    </tr>\n",
              "    <tr>\n",
              "      <th>21549</th>\n",
              "      <td>conferred</td>\n",
              "      <td>0</td>\n",
              "      <td>1</td>\n",
              "      <td>0</td>\n",
              "    </tr>\n",
              "    <tr>\n",
              "      <th>21550</th>\n",
              "      <td>uniformly</td>\n",
              "      <td>1</td>\n",
              "      <td>0</td>\n",
              "      <td>0</td>\n",
              "    </tr>\n",
              "    <tr>\n",
              "      <th>21551</th>\n",
              "      <td>branded</td>\n",
              "      <td>0</td>\n",
              "      <td>1</td>\n",
              "      <td>0</td>\n",
              "    </tr>\n",
              "  </tbody>\n",
              "</table>\n",
              "</div>"
            ],
            "text/plain": [
              "               word EAP MWS HPL\n",
              "21547  differential   1   0   0\n",
              "21548         nobly   0   1   0\n",
              "21549     conferred   0   1   0\n",
              "21550     uniformly   1   0   0\n",
              "21551       branded   0   1   0"
            ]
          },
          "metadata": {
            "tags": []
          },
          "execution_count": 34
        }
      ]
    },
    {
      "cell_type": "code",
      "metadata": {
        "id": "wb_aWm0_CmUa",
        "colab_type": "code",
        "outputId": "c2e7280d-0dba-47c7-d21f-6d6cfc5b5b31",
        "colab": {
          "base_uri": "https://localhost:8080/",
          "height": 35
        }
      },
      "source": [
        "# Word bag has been created. Now, we need to perform a machine learning algorithm. We want to be able to predict which author most likely wrote a sentence given a particular word.\n",
        "\n",
        "# Sort based on the word column\n",
        "sorted_word_bag = word_bag.sort_values(by=['word']).reset_index(drop=True)\n",
        "sorted_word_bag.head()\n",
        "\n",
        "# Up until now, we've used a numerical index (0 through length of table)\n",
        "## It may be useful to set the word as the index instead\n",
        "sorted_word_bag = sorted_word_bag.set_index('word') \n",
        "sorted_word_bag.head()\n",
        "\n",
        "# Now we can choose a row based on the desired word\n",
        "sorted_word_bag.loc['indefinite','EAP'] # give index ('indefinite') and then column name ('EAP') to get the value in that cell\n",
        "## EAP used the word indefinite 10 times"
      ],
      "execution_count": 0,
      "outputs": [
        {
          "output_type": "execute_result",
          "data": {
            "text/plain": [
              "10"
            ]
          },
          "metadata": {
            "tags": []
          },
          "execution_count": 35
        }
      ]
    },
    {
      "cell_type": "code",
      "metadata": {
        "id": "KdccDyuiD-EI",
        "colab_type": "code",
        "outputId": "f6eced1d-2749-4e67-ebaa-151915e8071a",
        "colab": {
          "base_uri": "https://localhost:8080/",
          "height": 238
        }
      },
      "source": [
        "sorted_word_bag.head() # sorted alphabetically by word\n",
        "sorted_word_bag.tail()"
      ],
      "execution_count": 0,
      "outputs": [
        {
          "output_type": "execute_result",
          "data": {
            "text/html": [
              "<div>\n",
              "<style scoped>\n",
              "    .dataframe tbody tr th:only-of-type {\n",
              "        vertical-align: middle;\n",
              "    }\n",
              "\n",
              "    .dataframe tbody tr th {\n",
              "        vertical-align: top;\n",
              "    }\n",
              "\n",
              "    .dataframe thead th {\n",
              "        text-align: right;\n",
              "    }\n",
              "</style>\n",
              "<table border=\"1\" class=\"dataframe\">\n",
              "  <thead>\n",
              "    <tr style=\"text-align: right;\">\n",
              "      <th></th>\n",
              "      <th>EAP</th>\n",
              "      <th>MWS</th>\n",
              "      <th>HPL</th>\n",
              "    </tr>\n",
              "    <tr>\n",
              "      <th>word</th>\n",
              "      <th></th>\n",
              "      <th></th>\n",
              "      <th></th>\n",
              "    </tr>\n",
              "  </thead>\n",
              "  <tbody>\n",
              "    <tr>\n",
              "      <th>ærial</th>\n",
              "      <td>1</td>\n",
              "      <td>0</td>\n",
              "      <td>0</td>\n",
              "    </tr>\n",
              "    <tr>\n",
              "      <th>æronaut</th>\n",
              "      <td>2</td>\n",
              "      <td>0</td>\n",
              "      <td>0</td>\n",
              "    </tr>\n",
              "    <tr>\n",
              "      <th>æschylus</th>\n",
              "      <td>1</td>\n",
              "      <td>0</td>\n",
              "      <td>0</td>\n",
              "    </tr>\n",
              "    <tr>\n",
              "      <th>émeutes</th>\n",
              "      <td>1</td>\n",
              "      <td>0</td>\n",
              "      <td>0</td>\n",
              "    </tr>\n",
              "    <tr>\n",
              "      <th>οἶδα</th>\n",
              "      <td>0</td>\n",
              "      <td>0</td>\n",
              "      <td>2</td>\n",
              "    </tr>\n",
              "  </tbody>\n",
              "</table>\n",
              "</div>"
            ],
            "text/plain": [
              "         EAP MWS HPL\n",
              "word                \n",
              "ærial      1   0   0\n",
              "æronaut    2   0   0\n",
              "æschylus   1   0   0\n",
              "émeutes    1   0   0\n",
              "οἶδα       0   0   2"
            ]
          },
          "metadata": {
            "tags": []
          },
          "execution_count": 37
        }
      ]
    },
    {
      "cell_type": "code",
      "metadata": {
        "id": "H_ps0EbIDjaC",
        "colab_type": "code",
        "outputId": "1d5a617e-5ab5-42fd-99cc-fe8d27af9138",
        "colab": {
          "base_uri": "https://localhost:8080/",
          "height": 129
        }
      },
      "source": [
        "# Storing the word bag\n",
        "## We don't want to have to rebuild this word bag each time we open a notebook\n",
        "from google.colab import drive\n",
        "drive.mount('/content/gdrive')"
      ],
      "execution_count": 0,
      "outputs": [
        {
          "output_type": "stream",
          "text": [
            "Go to this URL in a browser: https://accounts.google.com/o/oauth2/auth?client_id=947318989803-6bn6qk8qdgf4n4g3pfee6491hc0brc4i.apps.googleusercontent.com&redirect_uri=urn%3aietf%3awg%3aoauth%3a2.0%3aoob&response_type=code&scope=email%20https%3a%2f%2fwww.googleapis.com%2fauth%2fdocs.test%20https%3a%2f%2fwww.googleapis.com%2fauth%2fdrive%20https%3a%2f%2fwww.googleapis.com%2fauth%2fdrive.photos.readonly%20https%3a%2f%2fwww.googleapis.com%2fauth%2fpeopleapi.readonly\n",
            "\n",
            "Enter your authorization code:\n",
            "··········\n",
            "Mounted at /content/gdrive\n"
          ],
          "name": "stdout"
        }
      ]
    },
    {
      "cell_type": "code",
      "metadata": {
        "id": "I_fRwd71ENgW",
        "colab_type": "code",
        "colab": {}
      },
      "source": [
        "with open('/content/gdrive/My Drive/word_bag_s20.csv', 'w') as file:\n",
        "    sorted_word_bag.to_csv(file, index=True)"
      ],
      "execution_count": 0,
      "outputs": []
    },
    {
      "cell_type": "code",
      "metadata": {
        "id": "khlhX7J6EdYM",
        "colab_type": "code",
        "colab": {}
      },
      "source": [
        "# First way to read the data back in\n",
        "with open('/content/gdrive/My Drive/word_bag_s20.csv', 'r') as file:\n",
        "    sorted_word_table = pd.read_csv(file, dtype={'word':str}, encoding='utf-8',\n",
        "                                    index_col='word', na_filter=False)"
      ],
      "execution_count": 0,
      "outputs": []
    },
    {
      "cell_type": "code",
      "metadata": {
        "id": "eEC-aU2_EkH1",
        "colab_type": "code",
        "outputId": "0aafb14d-ddad-411d-e30d-286f11c6568f",
        "colab": {
          "base_uri": "https://localhost:8080/",
          "height": 238
        }
      },
      "source": [
        "# Second way to read the data back in\n",
        "import pandas as pd\n",
        "url = 'https://docs.google.com/spreadsheets/d/e/2PACX-1vQR107nAfeU_z-p6sUv3yhnti9vNsklgXsm2RXAExQBHPUE3APm32qMQxTuYCEBbSz09MCVx-rnOXGb/pub?output=csv'\n",
        "sorted_word_bag = pd.read_csv(url, dtype={'word':str}, encoding='utf-8',\n",
        "                                index_col='word', na_filter=False)\n",
        "sorted_word_bag = sorted_word_bag.rename(index={'TRUE': 'true', 'FALSE': 'false'}) #need this because of bug in reading from url\n",
        "sorted_word_bag.head()"
      ],
      "execution_count": 0,
      "outputs": [
        {
          "output_type": "execute_result",
          "data": {
            "text/html": [
              "<div>\n",
              "<style scoped>\n",
              "    .dataframe tbody tr th:only-of-type {\n",
              "        vertical-align: middle;\n",
              "    }\n",
              "\n",
              "    .dataframe tbody tr th {\n",
              "        vertical-align: top;\n",
              "    }\n",
              "\n",
              "    .dataframe thead th {\n",
              "        text-align: right;\n",
              "    }\n",
              "</style>\n",
              "<table border=\"1\" class=\"dataframe\">\n",
              "  <thead>\n",
              "    <tr style=\"text-align: right;\">\n",
              "      <th></th>\n",
              "      <th>EAP</th>\n",
              "      <th>MWS</th>\n",
              "      <th>HPL</th>\n",
              "    </tr>\n",
              "    <tr>\n",
              "      <th>word</th>\n",
              "      <th></th>\n",
              "      <th></th>\n",
              "      <th></th>\n",
              "    </tr>\n",
              "  </thead>\n",
              "  <tbody>\n",
              "    <tr>\n",
              "      <th>ab</th>\n",
              "      <td>1</td>\n",
              "      <td>0</td>\n",
              "      <td>0</td>\n",
              "    </tr>\n",
              "    <tr>\n",
              "      <th>aback</th>\n",
              "      <td>2</td>\n",
              "      <td>0</td>\n",
              "      <td>0</td>\n",
              "    </tr>\n",
              "    <tr>\n",
              "      <th>abaft</th>\n",
              "      <td>0</td>\n",
              "      <td>1</td>\n",
              "      <td>0</td>\n",
              "    </tr>\n",
              "    <tr>\n",
              "      <th>abandon</th>\n",
              "      <td>3</td>\n",
              "      <td>1</td>\n",
              "      <td>2</td>\n",
              "    </tr>\n",
              "    <tr>\n",
              "      <th>abandoned</th>\n",
              "      <td>8</td>\n",
              "      <td>4</td>\n",
              "      <td>8</td>\n",
              "    </tr>\n",
              "  </tbody>\n",
              "</table>\n",
              "</div>"
            ],
            "text/plain": [
              "           EAP  MWS  HPL\n",
              "word                    \n",
              "ab           1    0    0\n",
              "aback        2    0    0\n",
              "abaft        0    1    0\n",
              "abandon      3    1    2\n",
              "abandoned    8    4    8"
            ]
          },
          "metadata": {
            "tags": []
          },
          "execution_count": 43
        }
      ]
    },
    {
      "cell_type": "code",
      "metadata": {
        "id": "qNFCMHCbEzNr",
        "colab_type": "code",
        "colab": {}
      },
      "source": [
        "# A new ML algorithm: Naive Bayes\n",
        "## Thinking of probability of outcome in terms of the count of different text items"
      ],
      "execution_count": 0,
      "outputs": []
    },
    {
      "cell_type": "markdown",
      "metadata": {
        "id": "vWYND01VE-RZ",
        "colab_type": "text"
      },
      "source": [
        "Basic Bayes Theorem\n",
        "\n",
        "<img src='https://www.dropbox.com/s/efpfgkenlit9rk1/Screenshot%202020-04-23%2009.42.25.png?raw=1' height=200>\n",
        "\n",
        "The jargony terms for the various pieces are as follows:\n",
        "\n",
        "* P(A|B): The *posterior* probability.\n",
        "\n",
        "* P(B|A): The *liklihood* or *conditional probability*.\n",
        "\n",
        "* P(A): A *marginal* or *prior* probability.\n",
        "\n",
        "* P(B): A *marginal* or *prior* probability.\n",
        "\n",
        "\n",
        "\n",
        "A More Complex Version of Bayes Theorem\n",
        "\n",
        "<img src='https://www.dropbox.com/s/gstzvvtvh9b39o8/bayes.png?raw=1'>\n",
        "\n",
        "O is equivalent to A from above; E is equivalent to B\n",
        "\n",
        "O stands for one of the \"classes\" being used. In our case, these are our three authors.\n",
        "\n",
        "E stands for the words in each sentence, in our case. More precisely, it's the spacy tokens that meet is_alpha and not is_stop.\n",
        "\n",
        "For instance, P(indefinite|EAP) means \"what is the probabilty of seeing the word indefinite in a sentence that EAP wrote?\"\n",
        "\n",
        "P(E) is the probabilty of seeing each word in the word bag.\n",
        "\n",
        "P(O) is the probability of a word being from one of the authors."
      ]
    },
    {
      "cell_type": "code",
      "metadata": {
        "id": "GmeKkeTaGDEq",
        "colab_type": "code",
        "outputId": "4f2f1fc3-2637-4e72-af69-faac99de3407",
        "colab": {
          "base_uri": "https://localhost:8080/",
          "height": 128
        }
      },
      "source": [
        "# Compute probailities of a word being from each author - P(O)\n",
        "\n",
        "n_training = len(training_text)\n",
        "n_training\n",
        "\n",
        "EAP_count = training_authors.count('EAP')\n",
        "print(EAP_count) # 5470\n",
        "MWS_count = training_authors.count('MWS')\n",
        "print(MWS_count)  # 4278\n",
        "HPL_count = training_authors.count('HPL')\n",
        "print(HPL_count)  # 3957\n",
        "\n",
        "prob_EAP = EAP_count/n_training\n",
        "print(prob_EAP) # .40\n",
        "prob_MWS = MWS_count/n_training\n",
        "print(prob_MWS) # .31\n",
        "prob_HPL = HPL_count/n_training\n",
        "print(prob_HPL) # .29"
      ],
      "execution_count": 0,
      "outputs": [
        {
          "output_type": "stream",
          "text": [
            "5470\n",
            "4278\n",
            "3957\n",
            "0.39912440715067493\n",
            "0.31214885078438526\n",
            "0.2887267420649398\n"
          ],
          "name": "stdout"
        }
      ]
    },
    {
      "cell_type": "code",
      "metadata": {
        "id": "yMQYbP1mG2mz",
        "colab_type": "code",
        "outputId": "9103e1b2-0e3b-4130-e94b-0ce00bd9f775",
        "colab": {
          "base_uri": "https://localhost:8080/",
          "height": 35
        }
      },
      "source": [
        "# Compute P(indefinite|EAP) - P(E1|O)\n",
        "## If we can solve this example, we can repeat this for all other words and authors\n",
        "### We are going to assume that no word appears more than once in any sentence\n",
        "\n",
        "p_indefinite_EAP = sorted_word_bag.loc['indefinite','EAP']/EAP_count # the number of times EAP used indefinite divided by the total number of unique words EAP used\n",
        "p_indefinite_EAP # .0018 - this means if you see the word indefinite, there is a .18% chance it came from EAP?"
      ],
      "execution_count": 0,
      "outputs": [
        {
          "output_type": "execute_result",
          "data": {
            "text/plain": [
              "0.0018281535648994515"
            ]
          },
          "metadata": {
            "tags": []
          },
          "execution_count": 46
        }
      ]
    },
    {
      "cell_type": "code",
      "metadata": {
        "id": "0JXil3hQHlDr",
        "colab_type": "code",
        "outputId": "a1d53794-86df-406f-b313-96c86d75728d",
        "colab": {
          "base_uri": "https://localhost:8080/",
          "height": 35
        }
      },
      "source": [
        "# Compute P(indefinite) - P(E1)\n",
        "\n",
        "p_indefinite = sum(sorted_word_bag.loc['indefinite'].tolist())/n_training # the number of times indefininte was used out of total number of words\n",
        "p_indefinite # .0009 - this means there is a .09% chance any random word chosen from the word bag would be 'indefinite'"
      ],
      "execution_count": 0,
      "outputs": [
        {
          "output_type": "execute_result",
          "data": {
            "text/plain": [
              "0.0008755928493250639"
            ]
          },
          "metadata": {
            "tags": []
          },
          "execution_count": 47
        }
      ]
    },
    {
      "cell_type": "code",
      "metadata": {
        "id": "3iGo80PCIQUC",
        "colab_type": "code",
        "outputId": "3184c9e2-73e9-481e-dac6-36e244015af8",
        "colab": {
          "base_uri": "https://localhost:8080/",
          "height": 35
        }
      },
      "source": [
        "# Compute P(O|E1, E2, ..., En)\n",
        "## Example: choose random sentence to practice on\n",
        "\n",
        "random_sentence = training_text[2] \n",
        "random_sentence\n",
        "\n",
        "# Build a list of words and store them in doc\n",
        "# Then go through doc and add token.text to a new list \n",
        "# Remember the constraints: is_alpha and not is_stop\n",
        "\n",
        "e_list = []\n",
        "\n",
        "for i in range(1):\n",
        "  doc = nlp(random_sentence.lower()) \n",
        "\n",
        "  for token in doc:  \n",
        "    if token.is_alpha and not token.is_stop:\n",
        "      e_list.append(token.text)\n",
        "\n",
        "e_list"
      ],
      "execution_count": 0,
      "outputs": [
        {
          "output_type": "execute_result",
          "data": {
            "text/plain": [
              "['laugh', 'oliver', 'grandfather', 'wo', 'ride', 'motor']"
            ]
          },
          "metadata": {
            "tags": []
          },
          "execution_count": 56
        }
      ]
    },
    {
      "cell_type": "code",
      "metadata": {
        "id": "_EIKzJAOpFaH",
        "colab_type": "code",
        "colab": {}
      },
      "source": [
        "# Alternative solution\n",
        "\n",
        "doc = nlp(random_sentence.lower())\n",
        "e_list = []\n",
        "\n",
        "for token in doc:\n",
        "  if token.is_alpha and not token.is_stop:\n",
        "    e_list.append(token.text)"
      ],
      "execution_count": 0,
      "outputs": []
    },
    {
      "cell_type": "code",
      "metadata": {
        "id": "3r76zGJiKn8V",
        "colab_type": "code",
        "outputId": "f423f65c-0dcc-4c20-b328-d177a5d8eb90",
        "colab": {
          "base_uri": "https://localhost:8080/",
          "height": 35
        }
      },
      "source": [
        "# Assume that we use 'EAP' for 'O'\n",
        "## Compute the values p(Ei|EAP) using e_list from above\n",
        "\n",
        "p_ei_EAP_list = []\n",
        "\n",
        "for i in range(len(e_list)):\n",
        "  items = e_list[i]\n",
        "  p_ei_EAP = sorted_word_bag.loc[items, 'EAP']/EAP_count\n",
        "  p_ei_EAP_list.append(p_ei_EAP)\n",
        "print(p_ei_EAP_list)"
      ],
      "execution_count": 0,
      "outputs": [
        {
          "output_type": "stream",
          "text": [
            "[0.0009140767824497258, 0.0, 0.0, 0.0021937842778793418, 0.0009140767824497258, 0.0]\n"
          ],
          "name": "stdout"
        }
      ]
    },
    {
      "cell_type": "code",
      "metadata": {
        "id": "3n4tIDGXpT_G",
        "colab_type": "code",
        "colab": {}
      },
      "source": [
        "# Alternative solution\n",
        "\n",
        "p_ei_eap_list = []\n",
        "\n",
        "for word in e_list:\n",
        "  result = sorted_word_table.loc[word, 'EAP']/eap_count\n",
        "  p_ei_eap_list.append(result)\n",
        "print(p_ei_eap_list)"
      ],
      "execution_count": 0,
      "outputs": []
    },
    {
      "cell_type": "code",
      "metadata": {
        "id": "XssBzK--Mr1-",
        "colab_type": "code",
        "outputId": "cece5ca4-84e6-4477-a226-e1d2803b6f53",
        "colab": {
          "base_uri": "https://localhost:8080/",
          "height": 128
        }
      },
      "source": [
        "list(zip(e_list, p_ei_EAP_list))"
      ],
      "execution_count": 0,
      "outputs": [
        {
          "output_type": "execute_result",
          "data": {
            "text/plain": [
              "[('laugh', 0.0009140767824497258),\n",
              " ('oliver', 0.0),\n",
              " ('grandfather', 0.0),\n",
              " ('wo', 0.0021937842778793418),\n",
              " ('ride', 0.0009140767824497258),\n",
              " ('motor', 0.0)]"
            ]
          },
          "metadata": {
            "tags": []
          },
          "execution_count": 60
        }
      ]
    },
    {
      "cell_type": "code",
      "metadata": {
        "id": "41cfF6hHM5Gv",
        "colab_type": "code",
        "outputId": "e2dfecbf-df4b-4d51-f8ff-fe526f568ca8",
        "colab": {
          "base_uri": "https://localhost:8080/",
          "height": 55
        }
      },
      "source": [
        "# Compute p(Ei) for the values in the word e_list\n",
        "\n",
        "p_ei_list = []\n",
        "\n",
        "for i in range(len(e_list)):\n",
        "  items = e_list[i]\n",
        "  p_ei = sum(sorted_word_bag.loc[items].tolist())/n_training\n",
        "  p_ei_list.append(p_ei)\n",
        "print(p_ei_list)"
      ],
      "execution_count": 0,
      "outputs": [
        {
          "output_type": "stream",
          "text": [
            "[0.0010944910616563297, 7.296607077708865e-05, 0.0016052535570959504, 0.0015322874863188617, 0.0008026267785479752, 0.00036483035388544326]\n"
          ],
          "name": "stdout"
        }
      ]
    },
    {
      "cell_type": "code",
      "metadata": {
        "id": "jt9osa90NWJC",
        "colab_type": "code",
        "outputId": "f366fb72-bb25-470f-a93c-8a00ab578d03",
        "colab": {
          "base_uri": "https://localhost:8080/",
          "height": 35
        }
      },
      "source": [
        "# Calculate p(EAP)\n",
        "## We already have it!\n",
        "\n",
        "prob_EAP"
      ],
      "execution_count": 0,
      "outputs": [
        {
          "output_type": "execute_result",
          "data": {
            "text/plain": [
              "0.39912440715067493"
            ]
          },
          "metadata": {
            "tags": []
          },
          "execution_count": 64
        }
      ]
    },
    {
      "cell_type": "code",
      "metadata": {
        "id": "Krb9sU_cNhlu",
        "colab_type": "code",
        "outputId": "6e04c4ab-8778-4b61-f333-3de3c02a83e1",
        "colab": {
          "base_uri": "https://localhost:8080/",
          "height": 35
        }
      },
      "source": [
        "# Python doesn't have a built-in multiplication function equivlant to the sum function\n",
        "## Below is a function written to achieve multiplication\n",
        "\n",
        "def float_mult(number_list: list) -> float:\n",
        "  assert isinstance(number_list, list), f'number_list should be a list but is instead a {type(number_list)}'\n",
        "  assert all([isinstance(item, float) for item in number_list]), f'number_list must contain all floats'\n",
        "\n",
        "  result = 1.\n",
        "  for number in number_list:  #fancier version of for i in range(n):\n",
        "    result *= number\n",
        "\n",
        "  return result\n",
        "\n",
        "\n",
        "# Test out the function\n",
        "z = [4., 2., 3.]\n",
        "x = float_mult(z)\n",
        "x"
      ],
      "execution_count": 0,
      "outputs": [
        {
          "output_type": "execute_result",
          "data": {
            "text/plain": [
              "24.0"
            ]
          },
          "metadata": {
            "tags": []
          },
          "execution_count": 66
        }
      ]
    },
    {
      "cell_type": "code",
      "metadata": {
        "id": "aW7q5dSPNxvw",
        "colab_type": "code",
        "colab": {}
      },
      "source": [
        "# Now, calculate the final result using the formula from above"
      ],
      "execution_count": 0,
      "outputs": []
    },
    {
      "cell_type": "markdown",
      "metadata": {
        "id": "Ek_1J6YVN3ua",
        "colab_type": "text"
      },
      "source": [
        "<img src='https://www.dropbox.com/s/gstzvvtvh9b39o8/bayes.png?raw=1'>"
      ]
    },
    {
      "cell_type": "code",
      "metadata": {
        "id": "Cfu8dMueN6Vi",
        "colab_type": "code",
        "outputId": "21c08a86-bd17-49a0-b6bd-98f2fe65f782",
        "colab": {
          "base_uri": "https://localhost:8080/",
          "height": 35
        }
      },
      "source": [
        "numerator = float_mult(p_ei_EAP_list)\n",
        "numerator\n",
        "\n",
        "denominator = float_mult(p_ei_list)\n",
        "denominator\n",
        "\n",
        "prob_EAP\n",
        "\n",
        "p_EAP_ei = (numerator/denominator)*prob_EAP\n",
        "p_EAP_ei # 0.0"
      ],
      "execution_count": 0,
      "outputs": [
        {
          "output_type": "execute_result",
          "data": {
            "text/plain": [
              "0.0"
            ]
          },
          "metadata": {
            "tags": []
          },
          "execution_count": 73
        }
      ]
    },
    {
      "cell_type": "markdown",
      "metadata": {
        "id": "5hs0LmeKOjml",
        "colab_type": "text"
      },
      "source": [
        "We have concluded that, according to Naive Bayes, there's a zero probability that EAP wrote the random_sentence we picked out.\n",
        "\n",
        "P(EAP|'laugh', 'oliver', 'grandfather', 'wo', 'ride', 'motor') = 0.0"
      ]
    },
    {
      "cell_type": "code",
      "metadata": {
        "id": "y_boifVfOqaD",
        "colab_type": "code",
        "colab": {}
      },
      "source": [
        "# We need to do the same thing for MWS and HPL\n",
        "## Hopefully will obtain HPL = 1 (the author who actually wrote the sentence)"
      ],
      "execution_count": 0,
      "outputs": []
    }
  ]
}