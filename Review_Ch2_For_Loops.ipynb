{
  "nbformat": 4,
  "nbformat_minor": 0,
  "metadata": {
    "colab": {
      "name": "Review_Ch2_For_Loops.ipynb",
      "provenance": [],
      "authorship_tag": "ABX9TyOOAhnmsshUOinguancsB57",
      "include_colab_link": true
    },
    "kernelspec": {
      "name": "python3",
      "display_name": "Python 3"
    }
  },
  "cells": [
    {
      "cell_type": "markdown",
      "metadata": {
        "id": "view-in-github",
        "colab_type": "text"
      },
      "source": [
        "<a href=\"https://colab.research.google.com/github/saralieber/CS_Studio/blob/master/Review_Ch2_For_Loops.ipynb\" target=\"_parent\"><img src=\"https://colab.research.google.com/assets/colab-badge.svg\" alt=\"Open In Colab\"/></a>"
      ]
    },
    {
      "cell_type": "markdown",
      "metadata": {
        "id": "SpYni41U1NGZ",
        "colab_type": "text"
      },
      "source": [
        "Review of Chapter 2"
      ]
    },
    {
      "cell_type": "code",
      "metadata": {
        "id": "Sa1XN_0_1O_X",
        "colab_type": "code",
        "colab": {
          "base_uri": "https://localhost:8080/",
          "height": 108
        },
        "outputId": "574d7d34-256f-4d4b-9750-1dd2de12396c"
      },
      "source": [
        "# For Loops\n",
        "\n",
        "for i in range(5):\n",
        "  print(f\"This is line number {i+1}.\")"
      ],
      "execution_count": 3,
      "outputs": [
        {
          "output_type": "stream",
          "text": [
            "This is line number 1.\n",
            "This is line number 2.\n",
            "This is line number 3.\n",
            "This is line number 4.\n",
            "This is line number 5.\n"
          ],
          "name": "stdout"
        }
      ]
    },
    {
      "cell_type": "code",
      "metadata": {
        "id": "dqh0nzJU1wGc",
        "colab_type": "code",
        "colab": {
          "base_uri": "https://localhost:8080/",
          "height": 90
        },
        "outputId": "25e2a819-dfcb-4ae6-a78a-9a1eb4a2493a"
      },
      "source": [
        "play_list = ['a','b','c','d']\n",
        "n = len(play_list)\n",
        "\n",
        "for i in range(n):\n",
        "  item = play_list[i]\n",
        "  print(item)"
      ],
      "execution_count": 4,
      "outputs": [
        {
          "output_type": "stream",
          "text": [
            "a\n",
            "b\n",
            "c\n",
            "d\n"
          ],
          "name": "stdout"
        }
      ]
    },
    {
      "cell_type": "code",
      "metadata": {
        "id": "eLe1vNNh4VHx",
        "colab_type": "code",
        "colab": {
          "base_uri": "https://localhost:8080/",
          "height": 108
        },
        "outputId": "2dbf8bda-d2a8-4955-8fbc-f637edbeeec3"
      },
      "source": [
        "# Chapter 2 Exercises\n",
        "\n",
        "test_list = ['a','b','c','d2']\n",
        "\n",
        "for i in range(len(test_list)):\n",
        "  item = test_list[i]\n",
        "  print(item, item.isalpha())\n",
        "print('done')"
      ],
      "execution_count": 6,
      "outputs": [
        {
          "output_type": "stream",
          "text": [
            "a True\n",
            "b True\n",
            "c True\n",
            "d2 False\n",
            "done\n"
          ],
          "name": "stdout"
        }
      ]
    },
    {
      "cell_type": "code",
      "metadata": {
        "id": "wFiQHBiq78ad",
        "colab_type": "code",
        "colab": {
          "base_uri": "https://localhost:8080/",
          "height": 35
        },
        "outputId": "6689f1b6-ca65-4c8c-9955-4f6255932343"
      },
      "source": [
        "# Build a new list from an old list\n",
        "\n",
        "old_list = test_list\n",
        "new_list = []\n",
        "\n",
        "# The new list will be upper case values from the old list\n",
        "for i in range(len(test_list)):\n",
        "  item = old_list[i]\n",
        "  upper_items = item.upper()\n",
        "  new_list.append(upper_items)\n",
        "print(new_list)"
      ],
      "execution_count": 9,
      "outputs": [
        {
          "output_type": "stream",
          "text": [
            "['A', 'B', 'C', 'D2']\n"
          ],
          "name": "stdout"
        }
      ]
    },
    {
      "cell_type": "code",
      "metadata": {
        "id": "bJHVI6-t8d32",
        "colab_type": "code",
        "colab": {
          "base_uri": "https://localhost:8080/",
          "height": 35
        },
        "outputId": "9f5f5e37-a71f-41bd-adea-345add0983d5"
      },
      "source": [
        "# Build a new list from the test list \n",
        "\n",
        "# The new list will have 'z' added onto each character in the old list\n",
        "\n",
        "new_list2 = []\n",
        "\n",
        "for i in range(len(old_list)):\n",
        "  item = old_list[i]\n",
        "  z_items = item + 'z'\n",
        "  new_list2.append(z_items)\n",
        "print(new_list2)"
      ],
      "execution_count": 11,
      "outputs": [
        {
          "output_type": "stream",
          "text": [
            "['az', 'bz', 'cz', 'd2z']\n"
          ],
          "name": "stdout"
        }
      ]
    },
    {
      "cell_type": "code",
      "metadata": {
        "id": "VY5W4uSb_eoq",
        "colab_type": "code",
        "colab": {
          "base_uri": "https://localhost:8080/",
          "height": 53
        },
        "outputId": "b89cca86-6fe0-49c7-e350-388429779e24"
      },
      "source": [
        "# Count the average number of words per sentence\n",
        "\n",
        "## Before counting words, will need to remove any punctuation or other characters that are not part of the words\n",
        "\n",
        "mystery_poem = '''\n",
        "Dust always blowing about the town,\n",
        "Except when sea-fog laid it down,\n",
        "And I was one of the children told\n",
        "Some of the blowing dust was gold.\n",
        "\n",
        "All the dust the wind blew high\n",
        "Appeared like god in the sunset sky,\n",
        "But I was one of the children told\n",
        "Some of the dust was really gold.\n",
        "\n",
        "Such was life in the Golden Gate:\n",
        "Gold dusted all we drank and ate,\n",
        "And I was one of the children told,\n",
        "\"We all must eat our peck of gold\"\n",
        "'''\n",
        "\n",
        "mystery_poem = mystery_poem.replace(',','')\n",
        "mystery_poem = mystery_poem.replace(':','')\n",
        "mystery_poem = mystery_poem.replace('\"','')\n",
        "\n",
        "poem_sentences = mystery_poem.split('.')\n",
        "poem_sentences\n",
        "\n",
        "n = len(poem_sentences)\n",
        "\n",
        "word_counts = []\n",
        "\n",
        "for i in range(n):\n",
        "  sentence = poem_sentences[i]\n",
        "  words = sentence.split()\n",
        "  counts = len(words)\n",
        "  word_counts.append(counts)\n",
        "print(word_counts)\n",
        "\n",
        "average = sum(word_counts)/3\n",
        "average"
      ],
      "execution_count": 22,
      "outputs": [
        {
          "output_type": "stream",
          "text": [
            "[27, 29, 30]\n"
          ],
          "name": "stdout"
        },
        {
          "output_type": "execute_result",
          "data": {
            "text/plain": [
              "28.666666666666668"
            ]
          },
          "metadata": {
            "tags": []
          },
          "execution_count": 22
        }
      ]
    }
  ]
}