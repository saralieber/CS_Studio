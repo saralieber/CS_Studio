{
  "nbformat": 4,
  "nbformat_minor": 0,
  "metadata": {
    "colab": {
      "name": "DataSciSeminar_ListOfFunctions.ipynb",
      "provenance": [],
      "authorship_tag": "ABX9TyN0M8gTdPXQTexjO0ld364N",
      "include_colab_link": true
    },
    "kernelspec": {
      "name": "python3",
      "display_name": "Python 3"
    }
  },
  "cells": [
    {
      "cell_type": "markdown",
      "metadata": {
        "id": "view-in-github",
        "colab_type": "text"
      },
      "source": [
        "<a href=\"https://colab.research.google.com/github/saralieber/CS_Studio/blob/master/DataSciSeminar_ListOfFunctions.ipynb\" target=\"_parent\"><img src=\"https://colab.research.google.com/assets/colab-badge.svg\" alt=\"Open In Colab\"/></a>"
      ]
    },
    {
      "cell_type": "markdown",
      "metadata": {
        "id": "cJ956fIydJib",
        "colab_type": "text"
      },
      "source": [
        "Things need to know for the midterm:\n",
        "\n",
        "\n",
        "*   sent2vec & any functions that sent2vec relies on\n",
        "*   build a matrix of responses from the full dataset\n",
        "*   call sent2vec on each response in the matrix and store them in a new vector that you add to the matrix\n",
        "*   accuracy / epochs\n",
        "*   ANN - all steps of performing an ANN\n",
        "*   cross-validation"
      ]
    },
    {
      "cell_type": "markdown",
      "metadata": {
        "id": "IEJ5o5Ijliai",
        "colab_type": "text"
      },
      "source": [
        "# Import uo_puddles library"
      ]
    },
    {
      "cell_type": "code",
      "metadata": {
        "id": "9i2rIq2bfBj-",
        "colab_type": "code",
        "colab": {}
      },
      "source": [
        "# Flush the old uo_puddles directory and re-import\n",
        "!rm -r 'uo_puddles'\n",
        "my_github_name = 'uo-puddles' # can replace with your account name\n",
        "clone_url = f'https://github.com/{my_github_name}/uo_puddles.git'\n",
        "!git clone $clone_url\n",
        "import uo_puddles.uo_puddles as up"
      ],
      "execution_count": 0,
      "outputs": []
    },
    {
      "cell_type": "markdown",
      "metadata": {
        "id": "F2lfvcg2ni9M",
        "colab_type": "text"
      },
      "source": [
        "# Import spacy (text analysis library) and a commonly used dictionary"
      ]
    },
    {
      "cell_type": "code",
      "metadata": {
        "id": "BqCH8DzPnllj",
        "colab_type": "code",
        "colab": {}
      },
      "source": [
        "import spacy\n",
        "!python -m spacy download en_core_web_md # download the dictionary\n",
        "import en_core_web_md\n",
        "nlp = en_core_web_md.load()"
      ],
      "execution_count": 0,
      "outputs": []
    },
    {
      "cell_type": "markdown",
      "metadata": {
        "id": "jvVAC6nollsl",
        "colab_type": "text"
      },
      "source": [
        "# `ordered_embeddings` function\n",
        "\n",
        "This function takes a vector and a table and calculates the euclidean distance between the item represented by the vector and the items in each row of the table.\n",
        "\n"
      ]
    },
    {
      "cell_type": "code",
      "metadata": {
        "id": "LegE01qllfW_",
        "colab_type": "code",
        "colab": {}
      },
      "source": [
        "def ordered_embeddings(target_vector, table): # define a new function, called ordered_embeddings, that takes a target_vector and a table as inputs\n",
        "                                              # the target_vector needs to be a list (convert to a list if it's not)\n",
        "  names = table.index.tolist() # names is a list of the indexes from the provided table (in this case, would be the animal names)\n",
        "  ordered_list = [] # the results ordering difference between each animal and the target_animal will be listed in order here\n",
        "  for i in range(len(names)): # for each animal row\n",
        "    name = names[i] # name is an interation of each row in the animal table\n",
        "    row = table.loc[name].tolist() # convert each row to a list\n",
        "    d = up.euclidean_distance(target_vector, row) # calculate distance between the target_animal and the animal in each other row of the table\n",
        "    ordered_list.append([d, names[i]]) # fill the ordered_list with the calculated distances and names of each animal\n",
        "  ordered_list = sorted(ordered_list) # sort the list from lowest to highest distance\n",
        "\n",
        "  return ordered_list"
      ],
      "execution_count": 0,
      "outputs": []
    },
    {
      "cell_type": "markdown",
      "metadata": {
        "id": "-XXnfQ8Nl2l-",
        "colab_type": "text"
      },
      "source": [
        "# `subtractv` function\n",
        "\n",
        "Subectract two vectors."
      ]
    },
    {
      "cell_type": "code",
      "metadata": {
        "id": "cnB1hiKul7US",
        "colab_type": "code",
        "colab": {}
      },
      "source": [
        "def subtractv(x:list, y:list) -> list:\n",
        "  assert isinstance(x, list), f\"x must be a list but instead is {type(x)}\"\n",
        "  assert isinstance(y, list), f\"y must be a list but instead if {type(y)}\"\n",
        "  assert len(x) == len(y), f\"x and y must be the same length\"\n",
        "\n",
        "  result = [] # blank list to contain results of subtracting each item in x and y\n",
        "  for i in range(len(x)):\n",
        "    c1 = x[i]\n",
        "    c2 = y[i]\n",
        "    result.append(c1-c2)\n",
        "  return result"
      ],
      "execution_count": 0,
      "outputs": []
    },
    {
      "cell_type": "markdown",
      "metadata": {
        "id": "K76Sj9fNl_94",
        "colab_type": "text"
      },
      "source": [
        "# `addv` function\n",
        "\n",
        "Add two vectors."
      ]
    },
    {
      "cell_type": "code",
      "metadata": {
        "id": "02efxER1mCE2",
        "colab_type": "code",
        "colab": {}
      },
      "source": [
        "def addv(x:list, y:list) -> list: # define a function, called addv, that takes variables x & y (both lists) as inputs\n",
        "  assert isinstance(x, list), f\"x must be a list but instead is {type(x)}\"\n",
        "  assert isinstance(y, list), f\"y must be a list but instead is {type(y)}\"\n",
        "  assert len(x) == len(y), f\"x and y must be the same length\"\n",
        "\n",
        "  #result = [(c1 - c2) for c1, c2 in zip(x, y)]  #one-line compact version - called a list comprehension\n",
        "\n",
        "  result = []\n",
        "  for i in range(len(x)):\n",
        "    c1 = x[i]\n",
        "    c2 = y[i]\n",
        "    result.append(c1+c2)\n",
        "\n",
        "  return result"
      ],
      "execution_count": 0,
      "outputs": []
    },
    {
      "cell_type": "markdown",
      "metadata": {
        "id": "TneWN27DmEvU",
        "colab_type": "text"
      },
      "source": [
        "# `dividev` function\n",
        "\n",
        "Divide a vector by a constant."
      ]
    },
    {
      "cell_type": "code",
      "metadata": {
        "id": "ovwtqS_imIqV",
        "colab_type": "code",
        "colab": {}
      },
      "source": [
        "def dividev(x:list, y:int) -> list:\n",
        "  assert isinstance(x, list), f\"x must be a list but instead is {type(x)}\"\n",
        "  assert isinstance(y, int), f\"y must be an integer but instead is {type(y)}\"\n",
        "\n",
        "  result = []\n",
        "  for i in range(len(x)): \n",
        "    c1 = x[i]\n",
        "    result.append(c1/y)\n",
        "  return result "
      ],
      "execution_count": 0,
      "outputs": []
    },
    {
      "cell_type": "markdown",
      "metadata": {
        "id": "DCuRw9ZLmK7O",
        "colab_type": "text"
      },
      "source": [
        "# `meanv` function\n",
        "\n",
        "Calculate the mean vector from a matrix."
      ]
    },
    {
      "cell_type": "code",
      "metadata": {
        "id": "WBX5ptHMmOfs",
        "colab_type": "code",
        "colab": {}
      },
      "source": [
        "def meanv(matrix:list) -> list:\n",
        "  assert isinstance(matrix, list), f\"matrix must be a list but instead is {type(x)}\"\n",
        "  assert len(matrix) >=1, f\"matrix must have at least one row\"\n",
        "\n",
        "  sumv = matrix[0] # start with the first row\n",
        "  for row in matrix[1:]: # add each row to the first row, starting with the second row\n",
        "    sumv = addv(sumv, row) # take the sum of the first+second row, and then this resulting sum plus the third row\n",
        "  mean = dividev(sumv, len(matrix)) # divide the sum of all the rows by the number of rows\n",
        "  return mean"
      ],
      "execution_count": 0,
      "outputs": []
    },
    {
      "cell_type": "code",
      "metadata": {
        "id": "k4AJrpLImTKG",
        "colab_type": "code",
        "colab": {
          "base_uri": "https://localhost:8080/",
          "height": 35
        },
        "outputId": "10c2b71f-a306-43aa-8340-d029ce29ee6a"
      },
      "source": [
        "# Test the meanv function using matrix A\n",
        "\n",
        "A = [[0,1], \n",
        "     [2,2], \n",
        "     [4,3]]\n",
        "\n",
        "A[0] # [0,1]\n",
        "A[1] # [2,2]\n",
        "A[2] # [4,3]\n",
        "len(A) # 3\n",
        "\n",
        "# Expected result - note: the numbers in corresponding positions get added using the addv function\n",
        "## First iteration:\n",
        "# sumv = A[0] + A[1] = ([0,1]+[2,2]) = [2,3]\n",
        "## Second iteration:\n",
        "# sumv = [2,3] + A[2] = ([2,3]+[4,3]) = [6,6]\n",
        "## mean = [6,6]/3 = [2.0,2.0]\n",
        "\n",
        "meanv(A) # Finds the mean of each column"
      ],
      "execution_count": 9,
      "outputs": [
        {
          "output_type": "execute_result",
          "data": {
            "text/plain": [
              "[2.0, 2.0]"
            ]
          },
          "metadata": {
            "tags": []
          },
          "execution_count": 9
        }
      ]
    },
    {
      "cell_type": "markdown",
      "metadata": {
        "id": "D7Nug1Tjmllf",
        "colab_type": "text"
      },
      "source": [
        "# `build_embedding_matrix` function\n",
        "\n",
        "Takes a string (e.g., a book) and a table (e.g., a table with all the colors represented by their RGB codes) as inputs and produces a matrix of values from it (e.g., the RGB values)."
      ]
    },
    {
      "cell_type": "code",
      "metadata": {
        "id": "KHhY5xHcmvgi",
        "colab_type": "code",
        "colab": {}
      },
      "source": [
        "def build_embedding_matrix(raw_text: str, table) -> list:\n",
        "  assert isinstance(raw_text, str), f'raw_text should be string but instead is {type(raw_text)}'\n",
        "  assert isinstance(table, pd.core.frame.DataFrame), f'table not a dataframe but instead a {type(table)}'\n",
        "  assert 'nlp' in globals(), f'This function assumes that the spacy nlp function has been defined'\n",
        "\n",
        "  matrix = [] # a blank matrix that will be filled\n",
        "  index_list = table.index.tolist() # convert the index of the table (in this example, color names) to a list\n",
        "  doc = nlp(raw_text.lower()) # parse the raw text (in this case, the text from a book)\n",
        "\n",
        "  # short version\n",
        "  # matrix = [table.loc[token.text].tolist() for token in doc if token.text in index_list]\n",
        "\n",
        "  for token in doc: # for each word in the parsed book\n",
        "    word = token.text # convert each word to a string\n",
        "    if word in index_list: # if any word from the book is also in the list of color names\n",
        "      matrix.append(table.loc[word].tolist()) # add that word to the blank matrix\n",
        "  return matrix"
      ],
      "execution_count": 0,
      "outputs": []
    },
    {
      "cell_type": "markdown",
      "metadata": {
        "id": "VBXZ88pinzke",
        "colab_type": "text"
      },
      "source": [
        "# `get_vec` function\n",
        "\n",
        "Stanford has a project called Global Vectors for Word Representation (GloVe), which contains 300-dimensional vectors associated with all of the words in spaCy's vocabulary. \n",
        "\n",
        "The vector for each word represents its semantic value according to the distributional hypothesis from linguistics - that you can derive the meaning of words based on their contexts.\n",
        "\n",
        "The get_vec function gets the 300-dimensional vector associated with a word in spaCy's vocabulary and converts the vector to a string."
      ]
    },
    {
      "cell_type": "code",
      "metadata": {
        "id": "t1FzOGIOn3za",
        "colab_type": "code",
        "colab": {}
      },
      "source": [
        "def get_vec(s:str) -> list:\n",
        "  return nlp.vocab[s].vector.tolist()"
      ],
      "execution_count": 0,
      "outputs": []
    },
    {
      "cell_type": "markdown",
      "metadata": {
        "id": "v3nVUQanpW5Z",
        "colab_type": "text"
      },
      "source": [
        "# `sent2vec` function\n",
        "\n",
        "Takes a sentence (a raw string) as an argument and produces the average GloVe vector for it.\n",
        "\n",
        "If you run across a sentence that adds nothing to the matrix (because it has no legal tokens), return this value: [0.0]*300 - which builds a 300-dimensional matrix of all zeros."
      ]
    },
    {
      "cell_type": "code",
      "metadata": {
        "id": "Ovc3Fc8rq1GQ",
        "colab_type": "code",
        "colab": {}
      },
      "source": [
        "def sent2vec(raw_text: str):\n",
        "  assert isinstance(raw_text, str), f'raw_text should be string but instead is {type(raw_text)}'\n",
        "\n",
        "  matrix = [] # a blank matrix that will be filled\n",
        "  doc = nlp(raw_text.lower()) # parse the raw text (in this case, the text from a book)\n",
        "\n",
        "  for token in doc: # for each word in the parsed book\n",
        "    word = token.text # convert each word to a string\n",
        "    vectors = get_vec(word)\n",
        "    matrix.append(vectors)\n",
        "  return meanv(matrix)"
      ],
      "execution_count": 0,
      "outputs": []
    }
  ]
}