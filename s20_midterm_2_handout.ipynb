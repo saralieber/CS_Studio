{
  "nbformat": 4,
  "nbformat_minor": 0,
  "metadata": {
    "colab": {
      "name": "s20_midterm_2_handout.ipynb",
      "provenance": [],
      "collapsed_sections": [],
      "include_colab_link": true
    },
    "kernelspec": {
      "name": "python3",
      "display_name": "Python 3"
    }
  },
  "cells": [
    {
      "cell_type": "markdown",
      "metadata": {
        "id": "view-in-github",
        "colab_type": "text"
      },
      "source": [
        "<a href=\"https://colab.research.google.com/github/saralieber/CS_Studio/blob/master/s20_midterm_2_handout.ipynb\" target=\"_parent\"><img src=\"https://colab.research.google.com/assets/colab-badge.svg\" alt=\"Open In Colab\"/></a>"
      ]
    },
    {
      "cell_type": "markdown",
      "metadata": {
        "id": "bzDiYMkiYgRS",
        "colab_type": "text"
      },
      "source": [
        "<center>\n",
        "<h1>Midterm 2 (solo)</h1>\n",
        "</center>\n",
        "\n",
        "I'd like you to try out Naive Bayes on the tweet problem, the same one you worked on in the first midterm.\n",
        "\n",
        "<hr>"
      ]
    },
    {
      "cell_type": "markdown",
      "metadata": {
        "id": "sTN6n5ygGYlZ",
        "colab_type": "text"
      },
      "source": [
        "#Bring in uo_puddles library"
      ]
    },
    {
      "cell_type": "code",
      "metadata": {
        "colab_type": "code",
        "id": "MtSkZqOIhzBn",
        "colab": {}
      },
      "source": [
        "#flush the old directory\n",
        "!rm -r  'uo_puddles'"
      ],
      "execution_count": 0,
      "outputs": []
    },
    {
      "cell_type": "code",
      "metadata": {
        "colab_type": "code",
        "id": "ldGbJaK8hzBp",
        "colab": {}
      },
      "source": [
        "my_github_name = 'uo-puddles'"
      ],
      "execution_count": 0,
      "outputs": []
    },
    {
      "cell_type": "code",
      "metadata": {
        "colab_type": "code",
        "id": "iRF54xhGhzBr",
        "colab": {}
      },
      "source": [
        "clone_url = f'https://github.com/{my_github_name}/uo_puddles.git'"
      ],
      "execution_count": 0,
      "outputs": []
    },
    {
      "cell_type": "code",
      "metadata": {
        "colab_type": "code",
        "outputId": "cfd01b94-fd24-4967-d687-14ff288900d4",
        "id": "fvKq1s2HhzBt",
        "colab": {
          "base_uri": "https://localhost:8080/",
          "height": 144
        }
      },
      "source": [
        "#this adds the library to colab so you can now import it\n",
        "!git clone $clone_url  \n"
      ],
      "execution_count": 42,
      "outputs": [
        {
          "output_type": "stream",
          "text": [
            "Cloning into 'uo_puddles'...\n",
            "remote: Enumerating objects: 231, done.\u001b[K\n",
            "remote: Counting objects: 100% (231/231), done.\u001b[K\n",
            "remote: Compressing objects: 100% (195/195), done.\u001b[K\n",
            "remote: Total 231 (delta 137), reused 64 (delta 33), pack-reused 0\u001b[K\n",
            "Receiving objects: 100% (231/231), 58.17 KiB | 327.00 KiB/s, done.\n",
            "Resolving deltas: 100% (137/137), done.\n"
          ],
          "name": "stdout"
        }
      ]
    },
    {
      "cell_type": "code",
      "metadata": {
        "colab_type": "code",
        "id": "2RG5_4D1hzBu",
        "colab": {}
      },
      "source": [
        "import uo_puddles.uo_puddles as up "
      ],
      "execution_count": 0,
      "outputs": []
    },
    {
      "cell_type": "markdown",
      "metadata": {
        "id": "e4WdC3d-zNLR",
        "colab_type": "text"
      },
      "source": [
        "\n",
        "# Bring in the tweet dataset. Same as you used in midterm 1."
      ]
    },
    {
      "cell_type": "code",
      "metadata": {
        "id": "nj8czM2L3G2f",
        "colab_type": "code",
        "colab": {}
      },
      "source": [
        "import pandas as pd\n",
        "url = 'https://docs.google.com/spreadsheets/d/e/2PACX-1vRpZtv1ZFa7Am4j7U8S4JDYTuGkAp3rEyVh7riN8nVLEcaos_wgoAyJiRiE1oe8aITeex8BG-z6Sj5-/pub?output=csv'\n",
        "tweet_table = pd.read_csv(url) "
      ],
      "execution_count": 0,
      "outputs": []
    },
    {
      "cell_type": "code",
      "metadata": {
        "id": "ZaEHWj5EgWui",
        "colab_type": "code",
        "colab": {}
      },
      "source": [
        "pd.set_option('display.max_columns', None)"
      ],
      "execution_count": 0,
      "outputs": []
    },
    {
      "cell_type": "code",
      "metadata": {
        "id": "hKa-2uvh-6s9",
        "colab_type": "code",
        "outputId": "0eaeb7ca-454c-4202-d48a-079e8da21777",
        "colab": {
          "base_uri": "https://localhost:8080/",
          "height": 206
        }
      },
      "source": [
        "tweet_table.head()"
      ],
      "execution_count": 46,
      "outputs": [
        {
          "output_type": "execute_result",
          "data": {
            "text/html": [
              "<div>\n",
              "<style scoped>\n",
              "    .dataframe tbody tr th:only-of-type {\n",
              "        vertical-align: middle;\n",
              "    }\n",
              "\n",
              "    .dataframe tbody tr th {\n",
              "        vertical-align: top;\n",
              "    }\n",
              "\n",
              "    .dataframe thead th {\n",
              "        text-align: right;\n",
              "    }\n",
              "</style>\n",
              "<table border=\"1\" class=\"dataframe\">\n",
              "  <thead>\n",
              "    <tr style=\"text-align: right;\">\n",
              "      <th></th>\n",
              "      <th>author</th>\n",
              "      <th>text</th>\n",
              "    </tr>\n",
              "  </thead>\n",
              "  <tbody>\n",
              "    <tr>\n",
              "      <th>0</th>\n",
              "      <td>0</td>\n",
              "      <td>@user when a father is dysfunctional and is so...</td>\n",
              "    </tr>\n",
              "    <tr>\n",
              "      <th>1</th>\n",
              "      <td>0</td>\n",
              "      <td>@user @user thanks for #lyft credit i can't us...</td>\n",
              "    </tr>\n",
              "    <tr>\n",
              "      <th>2</th>\n",
              "      <td>0</td>\n",
              "      <td>bihday your majesty</td>\n",
              "    </tr>\n",
              "    <tr>\n",
              "      <th>3</th>\n",
              "      <td>0</td>\n",
              "      <td>#model   i love u take with u all the time in ...</td>\n",
              "    </tr>\n",
              "    <tr>\n",
              "      <th>4</th>\n",
              "      <td>0</td>\n",
              "      <td>factsguide: society now    #motivation</td>\n",
              "    </tr>\n",
              "  </tbody>\n",
              "</table>\n",
              "</div>"
            ],
            "text/plain": [
              "   author                                               text\n",
              "0       0  @user when a father is dysfunctional and is so...\n",
              "1       0  @user @user thanks for #lyft credit i can't us...\n",
              "2       0                                bihday your majesty\n",
              "3       0  #model   i love u take with u all the time in ...\n",
              "4       0             factsguide: society now    #motivation"
            ]
          },
          "metadata": {
            "tags": []
          },
          "execution_count": 46
        }
      ]
    },
    {
      "cell_type": "code",
      "metadata": {
        "id": "KsgwvzT7zoKn",
        "colab_type": "code",
        "outputId": "a85cd5d8-a72a-4de6-f050-c6bce4b8818d",
        "colab": {
          "base_uri": "https://localhost:8080/",
          "height": 35
        }
      },
      "source": [
        "len(tweet_table)  #32K tweets!"
      ],
      "execution_count": 47,
      "outputs": [
        {
          "output_type": "execute_result",
          "data": {
            "text/plain": [
              "31962"
            ]
          },
          "metadata": {
            "tags": []
          },
          "execution_count": 47
        }
      ]
    },
    {
      "cell_type": "markdown",
      "metadata": {
        "id": "HWGpDlia9q1q",
        "colab_type": "text"
      },
      "source": [
        "<h2>How are the 2 classes distributed?</h2>\n",
        "\n",
        "It is useful to know what percentage of the 30K tweets are hateful. pandas gives me a way to count the different values in a column. Check it out."
      ]
    },
    {
      "cell_type": "code",
      "metadata": {
        "id": "c5Zs7yn4-utW",
        "colab_type": "code",
        "outputId": "6f916d6a-a214-4d7b-92de-01384bc16878",
        "colab": {
          "base_uri": "https://localhost:8080/",
          "height": 72
        }
      },
      "source": [
        "tweet_table['author'].value_counts()"
      ],
      "execution_count": 48,
      "outputs": [
        {
          "output_type": "execute_result",
          "data": {
            "text/plain": [
              "0    29720\n",
              "1     2242\n",
              "Name: author, dtype: int64"
            ]
          },
          "metadata": {
            "tags": []
          },
          "execution_count": 48
        }
      ]
    },
    {
      "cell_type": "markdown",
      "metadata": {
        "id": "v_IIck0-96zc",
        "colab_type": "text"
      },
      "source": [
        "Uh, that is a low percentage. So if we guess a tweet is non-hateful (i.e., has author 0) we will be correct 93% of the time. Going to be hard to beat."
      ]
    },
    {
      "cell_type": "markdown",
      "metadata": {
        "id": "IV_tW3hrCyy1",
        "colab_type": "text"
      },
      "source": [
        "#Bring in spacy"
      ]
    },
    {
      "cell_type": "code",
      "metadata": {
        "colab_type": "code",
        "id": "0I_94NzECxoC",
        "colab": {}
      },
      "source": [
        "import spacy"
      ],
      "execution_count": 0,
      "outputs": []
    },
    {
      "cell_type": "code",
      "metadata": {
        "colab_type": "code",
        "id": "BcsrZaFYCxoV",
        "colab": {
          "base_uri": "https://localhost:8080/",
          "height": 456
        },
        "outputId": "1f0dfbcb-8f88-4d69-d91e-4ab98e8b1328"
      },
      "source": [
        "#you first have to get colab to download it locally\n",
        "\n",
        "!python -m spacy download en_core_web_md"
      ],
      "execution_count": 50,
      "outputs": [
        {
          "output_type": "stream",
          "text": [
            "Requirement already satisfied: en_core_web_md==2.2.5 from https://github.com/explosion/spacy-models/releases/download/en_core_web_md-2.2.5/en_core_web_md-2.2.5.tar.gz#egg=en_core_web_md==2.2.5 in /usr/local/lib/python3.6/dist-packages (2.2.5)\n",
            "Requirement already satisfied: spacy>=2.2.2 in /usr/local/lib/python3.6/dist-packages (from en_core_web_md==2.2.5) (2.2.4)\n",
            "Requirement already satisfied: numpy>=1.15.0 in /usr/local/lib/python3.6/dist-packages (from spacy>=2.2.2->en_core_web_md==2.2.5) (1.18.4)\n",
            "Requirement already satisfied: tqdm<5.0.0,>=4.38.0 in /usr/local/lib/python3.6/dist-packages (from spacy>=2.2.2->en_core_web_md==2.2.5) (4.41.1)\n",
            "Requirement already satisfied: murmurhash<1.1.0,>=0.28.0 in /usr/local/lib/python3.6/dist-packages (from spacy>=2.2.2->en_core_web_md==2.2.5) (1.0.2)\n",
            "Requirement already satisfied: wasabi<1.1.0,>=0.4.0 in /usr/local/lib/python3.6/dist-packages (from spacy>=2.2.2->en_core_web_md==2.2.5) (0.6.0)\n",
            "Requirement already satisfied: plac<1.2.0,>=0.9.6 in /usr/local/lib/python3.6/dist-packages (from spacy>=2.2.2->en_core_web_md==2.2.5) (1.1.3)\n",
            "Requirement already satisfied: srsly<1.1.0,>=1.0.2 in /usr/local/lib/python3.6/dist-packages (from spacy>=2.2.2->en_core_web_md==2.2.5) (1.0.2)\n",
            "Requirement already satisfied: preshed<3.1.0,>=3.0.2 in /usr/local/lib/python3.6/dist-packages (from spacy>=2.2.2->en_core_web_md==2.2.5) (3.0.2)\n",
            "Requirement already satisfied: thinc==7.4.0 in /usr/local/lib/python3.6/dist-packages (from spacy>=2.2.2->en_core_web_md==2.2.5) (7.4.0)\n",
            "Requirement already satisfied: catalogue<1.1.0,>=0.0.7 in /usr/local/lib/python3.6/dist-packages (from spacy>=2.2.2->en_core_web_md==2.2.5) (1.0.0)\n",
            "Requirement already satisfied: blis<0.5.0,>=0.4.0 in /usr/local/lib/python3.6/dist-packages (from spacy>=2.2.2->en_core_web_md==2.2.5) (0.4.1)\n",
            "Requirement already satisfied: setuptools in /usr/local/lib/python3.6/dist-packages (from spacy>=2.2.2->en_core_web_md==2.2.5) (46.1.3)\n",
            "Requirement already satisfied: requests<3.0.0,>=2.13.0 in /usr/local/lib/python3.6/dist-packages (from spacy>=2.2.2->en_core_web_md==2.2.5) (2.23.0)\n",
            "Requirement already satisfied: cymem<2.1.0,>=2.0.2 in /usr/local/lib/python3.6/dist-packages (from spacy>=2.2.2->en_core_web_md==2.2.5) (2.0.3)\n",
            "Requirement already satisfied: importlib-metadata>=0.20; python_version < \"3.8\" in /usr/local/lib/python3.6/dist-packages (from catalogue<1.1.0,>=0.0.7->spacy>=2.2.2->en_core_web_md==2.2.5) (1.6.0)\n",
            "Requirement already satisfied: certifi>=2017.4.17 in /usr/local/lib/python3.6/dist-packages (from requests<3.0.0,>=2.13.0->spacy>=2.2.2->en_core_web_md==2.2.5) (2020.4.5.1)\n",
            "Requirement already satisfied: urllib3!=1.25.0,!=1.25.1,<1.26,>=1.21.1 in /usr/local/lib/python3.6/dist-packages (from requests<3.0.0,>=2.13.0->spacy>=2.2.2->en_core_web_md==2.2.5) (1.24.3)\n",
            "Requirement already satisfied: idna<3,>=2.5 in /usr/local/lib/python3.6/dist-packages (from requests<3.0.0,>=2.13.0->spacy>=2.2.2->en_core_web_md==2.2.5) (2.9)\n",
            "Requirement already satisfied: chardet<4,>=3.0.2 in /usr/local/lib/python3.6/dist-packages (from requests<3.0.0,>=2.13.0->spacy>=2.2.2->en_core_web_md==2.2.5) (3.0.4)\n",
            "Requirement already satisfied: zipp>=0.5 in /usr/local/lib/python3.6/dist-packages (from importlib-metadata>=0.20; python_version < \"3.8\"->catalogue<1.1.0,>=0.0.7->spacy>=2.2.2->en_core_web_md==2.2.5) (3.1.0)\n",
            "\u001b[38;5;2m✔ Download and installation successful\u001b[0m\n",
            "You can now load the model via spacy.load('en_core_web_md')\n"
          ],
          "name": "stdout"
        }
      ]
    },
    {
      "cell_type": "code",
      "metadata": {
        "colab_type": "code",
        "id": "_rC7cGZgCxof",
        "colab": {}
      },
      "source": [
        "#now you can import the dictionary and set up a parser\n",
        "\n",
        "import en_core_web_md\n",
        "nlp = en_core_web_md.load()"
      ],
      "execution_count": 0,
      "outputs": []
    },
    {
      "cell_type": "markdown",
      "metadata": {
        "id": "vBiOdzJF0xAQ",
        "colab_type": "text"
      },
      "source": [
        "#Step 1\n",
        "\n",
        "Shuffle main table and create training and testing tables.\n",
        "\n",
        "Use 9589 as your cut point, roughly .3 for testing and .7 for training."
      ]
    },
    {
      "cell_type": "code",
      "metadata": {
        "colab_type": "code",
        "id": "sVsn3mxPhzA-",
        "colab": {}
      },
      "source": [
        "our_seed = 1234  #if we all use this we should get same random data"
      ],
      "execution_count": 0,
      "outputs": []
    },
    {
      "cell_type": "code",
      "metadata": {
        "colab_type": "code",
        "id": "8ZEZrKHyhzBB",
        "colab": {}
      },
      "source": [
        "import numpy as np  #powerful library for manipulating data\n",
        "rsgen = np.random.RandomState(our_seed)  #we are only going to use numpy's random number generator for now"
      ],
      "execution_count": 0,
      "outputs": []
    },
    {
      "cell_type": "code",
      "metadata": {
        "colab_type": "code",
        "id": "4deDQXj6hzBD",
        "colab": {
          "base_uri": "https://localhost:8080/",
          "height": 53
        },
        "outputId": "c2d8182c-22e2-4993-c568-af50f1cdc3d8"
      },
      "source": [
        "#your code\n",
        "shuffled_table = tweet_table.sample(frac=1,random_state=rsgen).reset_index(drop=True)\n",
        "\n",
        "n_testing = (len(shuffled_table))*.3\n",
        "print(n_testing)\n",
        "n_training = len(shuffled_table) - n_testing\n",
        "print(n_training)"
      ],
      "execution_count": 54,
      "outputs": [
        {
          "output_type": "stream",
          "text": [
            "9588.6\n",
            "22373.4\n"
          ],
          "name": "stdout"
        }
      ]
    },
    {
      "cell_type": "code",
      "metadata": {
        "id": "upqGYQROXPoB",
        "colab_type": "code",
        "outputId": "6c9f2690-cc35-425c-f18f-33376b35f1ba",
        "colab": {
          "base_uri": "https://localhost:8080/",
          "height": 206
        }
      },
      "source": [
        "shuffled_table.head()"
      ],
      "execution_count": 55,
      "outputs": [
        {
          "output_type": "execute_result",
          "data": {
            "text/html": [
              "<div>\n",
              "<style scoped>\n",
              "    .dataframe tbody tr th:only-of-type {\n",
              "        vertical-align: middle;\n",
              "    }\n",
              "\n",
              "    .dataframe tbody tr th {\n",
              "        vertical-align: top;\n",
              "    }\n",
              "\n",
              "    .dataframe thead th {\n",
              "        text-align: right;\n",
              "    }\n",
              "</style>\n",
              "<table border=\"1\" class=\"dataframe\">\n",
              "  <thead>\n",
              "    <tr style=\"text-align: right;\">\n",
              "      <th></th>\n",
              "      <th>author</th>\n",
              "      <th>text</th>\n",
              "    </tr>\n",
              "  </thead>\n",
              "  <tbody>\n",
              "    <tr>\n",
              "      <th>0</th>\n",
              "      <td>0</td>\n",
              "      <td>nove :) #flylondon #friends   #sunglasses #love</td>\n",
              "    </tr>\n",
              "    <tr>\n",
              "      <th>1</th>\n",
              "      <td>0</td>\n",
              "      <td>can't wait anymore ! ðð only a day left ...</td>\n",
              "    </tr>\n",
              "    <tr>\n",
              "      <th>2</th>\n",
              "      <td>0</td>\n",
              "      <td>i am thankful for passion. #thankful #positive</td>\n",
              "    </tr>\n",
              "    <tr>\n",
              "      <th>3</th>\n",
              "      <td>0</td>\n",
              "      <td>blending with nature&amp;gt;&amp;gt;link in bio#shoot2...</td>\n",
              "    </tr>\n",
              "    <tr>\n",
              "      <th>4</th>\n",
              "      <td>0</td>\n",
              "      <td>@user tragic.   #wolves</td>\n",
              "    </tr>\n",
              "  </tbody>\n",
              "</table>\n",
              "</div>"
            ],
            "text/plain": [
              "   author                                               text\n",
              "0       0    nove :) #flylondon #friends   #sunglasses #love\n",
              "1       0  can't wait anymore ! ðð only a day left ...\n",
              "2       0     i am thankful for passion. #thankful #positive\n",
              "3       0  blending with nature&gt;&gt;link in bio#shoot2...\n",
              "4       0                            @user tragic.   #wolves"
            ]
          },
          "metadata": {
            "tags": []
          },
          "execution_count": 55
        }
      ]
    },
    {
      "cell_type": "markdown",
      "metadata": {
        "id": "HCg4OXDGEtnq",
        "colab_type": "text"
      },
      "source": [
        "Create testing_table."
      ]
    },
    {
      "cell_type": "code",
      "metadata": {
        "id": "gFqLFVDZbP5c",
        "colab_type": "code",
        "colab": {}
      },
      "source": [
        "#your code\n",
        "\n",
        "testing_table = shuffled_table[:9589].reset_index(drop=True)"
      ],
      "execution_count": 0,
      "outputs": []
    },
    {
      "cell_type": "markdown",
      "metadata": {
        "id": "7K79QLs-D9pn",
        "colab_type": "text"
      },
      "source": [
        "Make sure you match my testing table.\n",
        "\n",
        "<img src='https://www.dropbox.com/s/6iq8emxhqqe2blx/Screenshot%202020-04-14%2012.02.27.png?raw=1'>"
      ]
    },
    {
      "cell_type": "code",
      "metadata": {
        "id": "BiKsv7Q7EBcx",
        "colab_type": "code",
        "colab": {
          "base_uri": "https://localhost:8080/",
          "height": 206
        },
        "outputId": "94acdacc-328d-4537-a1eb-deb2f646eb60"
      },
      "source": [
        "testing_table.head()"
      ],
      "execution_count": 57,
      "outputs": [
        {
          "output_type": "execute_result",
          "data": {
            "text/html": [
              "<div>\n",
              "<style scoped>\n",
              "    .dataframe tbody tr th:only-of-type {\n",
              "        vertical-align: middle;\n",
              "    }\n",
              "\n",
              "    .dataframe tbody tr th {\n",
              "        vertical-align: top;\n",
              "    }\n",
              "\n",
              "    .dataframe thead th {\n",
              "        text-align: right;\n",
              "    }\n",
              "</style>\n",
              "<table border=\"1\" class=\"dataframe\">\n",
              "  <thead>\n",
              "    <tr style=\"text-align: right;\">\n",
              "      <th></th>\n",
              "      <th>author</th>\n",
              "      <th>text</th>\n",
              "    </tr>\n",
              "  </thead>\n",
              "  <tbody>\n",
              "    <tr>\n",
              "      <th>0</th>\n",
              "      <td>0</td>\n",
              "      <td>nove :) #flylondon #friends   #sunglasses #love</td>\n",
              "    </tr>\n",
              "    <tr>\n",
              "      <th>1</th>\n",
              "      <td>0</td>\n",
              "      <td>can't wait anymore ! ðð only a day left ...</td>\n",
              "    </tr>\n",
              "    <tr>\n",
              "      <th>2</th>\n",
              "      <td>0</td>\n",
              "      <td>i am thankful for passion. #thankful #positive</td>\n",
              "    </tr>\n",
              "    <tr>\n",
              "      <th>3</th>\n",
              "      <td>0</td>\n",
              "      <td>blending with nature&amp;gt;&amp;gt;link in bio#shoot2...</td>\n",
              "    </tr>\n",
              "    <tr>\n",
              "      <th>4</th>\n",
              "      <td>0</td>\n",
              "      <td>@user tragic.   #wolves</td>\n",
              "    </tr>\n",
              "  </tbody>\n",
              "</table>\n",
              "</div>"
            ],
            "text/plain": [
              "   author                                               text\n",
              "0       0    nove :) #flylondon #friends   #sunglasses #love\n",
              "1       0  can't wait anymore ! ðð only a day left ...\n",
              "2       0     i am thankful for passion. #thankful #positive\n",
              "3       0  blending with nature&gt;&gt;link in bio#shoot2...\n",
              "4       0                            @user tragic.   #wolves"
            ]
          },
          "metadata": {
            "tags": []
          },
          "execution_count": 57
        }
      ]
    },
    {
      "cell_type": "markdown",
      "metadata": {
        "id": "vpLutbljExzC",
        "colab_type": "text"
      },
      "source": [
        "Create training_table."
      ]
    },
    {
      "cell_type": "code",
      "metadata": {
        "id": "n02Gf7pUpfC5",
        "colab_type": "code",
        "colab": {}
      },
      "source": [
        "#your code\n",
        "\n",
        "training_table = shuffled_table[9589:].reset_index(drop=True)"
      ],
      "execution_count": 0,
      "outputs": []
    },
    {
      "cell_type": "markdown",
      "metadata": {
        "id": "WNfjxl5jE2sa",
        "colab_type": "text"
      },
      "source": [
        "Make sure you match mine.\n",
        "\n",
        "<img src='https://www.dropbox.com/s/a5hiq4j8mzl0aal/Screenshot%202020-04-14%2012.04.40.png?raw=1'>"
      ]
    },
    {
      "cell_type": "code",
      "metadata": {
        "id": "2hXm8GKEE9Bj",
        "colab_type": "code",
        "colab": {
          "base_uri": "https://localhost:8080/",
          "height": 206
        },
        "outputId": "a48a1bb2-b21d-4a0d-bf8f-3fa0c9e99359"
      },
      "source": [
        "training_table.head()"
      ],
      "execution_count": 59,
      "outputs": [
        {
          "output_type": "execute_result",
          "data": {
            "text/html": [
              "<div>\n",
              "<style scoped>\n",
              "    .dataframe tbody tr th:only-of-type {\n",
              "        vertical-align: middle;\n",
              "    }\n",
              "\n",
              "    .dataframe tbody tr th {\n",
              "        vertical-align: top;\n",
              "    }\n",
              "\n",
              "    .dataframe thead th {\n",
              "        text-align: right;\n",
              "    }\n",
              "</style>\n",
              "<table border=\"1\" class=\"dataframe\">\n",
              "  <thead>\n",
              "    <tr style=\"text-align: right;\">\n",
              "      <th></th>\n",
              "      <th>author</th>\n",
              "      <th>text</th>\n",
              "    </tr>\n",
              "  </thead>\n",
              "  <tbody>\n",
              "    <tr>\n",
              "      <th>0</th>\n",
              "      <td>0</td>\n",
              "      <td>the young are grossly misinformed...the media ...</td>\n",
              "    </tr>\n",
              "    <tr>\n",
              "      <th>1</th>\n",
              "      <td>0</td>\n",
              "      <td>#pakistan. i am   that cyber crime bill has no...</td>\n",
              "    </tr>\n",
              "    <tr>\n",
              "      <th>2</th>\n",
              "      <td>0</td>\n",
              "      <td>bihdayfemikuti great man from great family #gr...</td>\n",
              "    </tr>\n",
              "    <tr>\n",
              "      <th>3</th>\n",
              "      <td>0</td>\n",
              "      <td>@user seems the national post finds this to be...</td>\n",
              "    </tr>\n",
              "    <tr>\n",
              "      <th>4</th>\n",
              "      <td>0</td>\n",
              "      <td>@user ok, here goes, i have been accepted to ...</td>\n",
              "    </tr>\n",
              "  </tbody>\n",
              "</table>\n",
              "</div>"
            ],
            "text/plain": [
              "   author                                               text\n",
              "0       0  the young are grossly misinformed...the media ...\n",
              "1       0  #pakistan. i am   that cyber crime bill has no...\n",
              "2       0  bihdayfemikuti great man from great family #gr...\n",
              "3       0  @user seems the national post finds this to be...\n",
              "4       0   @user ok, here goes, i have been accepted to ..."
            ]
          },
          "metadata": {
            "tags": []
          },
          "execution_count": 59
        }
      ]
    },
    {
      "cell_type": "markdown",
      "metadata": {
        "id": "k7pwHKESZbql",
        "colab_type": "text"
      },
      "source": [
        "#The training table is big\n",
        "\n",
        "But given that NB is faster than KNN, we can use the whole table and not have to trim it."
      ]
    },
    {
      "cell_type": "code",
      "metadata": {
        "id": "H8eIS8mc4jQB",
        "colab_type": "code",
        "outputId": "91ee421f-64c9-40a2-ac65-09ac1b6bb6a5",
        "colab": {
          "base_uri": "https://localhost:8080/",
          "height": 35
        }
      },
      "source": [
        "len(training_table)  #22373"
      ],
      "execution_count": 60,
      "outputs": [
        {
          "output_type": "execute_result",
          "data": {
            "text/plain": [
              "22373"
            ]
          },
          "metadata": {
            "tags": []
          },
          "execution_count": 60
        }
      ]
    },
    {
      "cell_type": "markdown",
      "metadata": {
        "colab_type": "text",
        "id": "-hykN4zyF7un"
      },
      "source": [
        "#Step 2.\n",
        "\n",
        "Pull the columns out of each table to end up with these:\n",
        "\n",
        "* training_text. A python list of the tweets in training_table.\n",
        "\n",
        "* training_authors. A python list of the authors in training_table.\n",
        "\n",
        "* testing_text. A python list of the tweets in testing_table.\n",
        "\n",
        "* testing_authors. A python list of the authors in testing_table."
      ]
    },
    {
      "cell_type": "code",
      "metadata": {
        "id": "z_7r7fQ4o8yy",
        "colab_type": "code",
        "colab": {}
      },
      "source": [
        "training_text = training_table['text'].tolist()"
      ],
      "execution_count": 0,
      "outputs": []
    },
    {
      "cell_type": "code",
      "metadata": {
        "id": "ZZ0_uAFm0TGf",
        "colab_type": "code",
        "colab": {
          "base_uri": "https://localhost:8080/",
          "height": 35
        },
        "outputId": "cc078e95-b6a8-4f83-bd84-79989b6f5ba1"
      },
      "source": [
        "#your code\n",
        "\n",
        "training_labels = training_table['author'].tolist()\n",
        "print(training_labels[:30])"
      ],
      "execution_count": 62,
      "outputs": [
        {
          "output_type": "stream",
          "text": [
            "[0, 0, 0, 0, 0, 0, 0, 0, 0, 0, 0, 0, 0, 0, 0, 0, 0, 0, 0, 0, 0, 0, 1, 1, 0, 1, 0, 0, 0, 1]\n"
          ],
          "name": "stdout"
        }
      ]
    },
    {
      "cell_type": "code",
      "metadata": {
        "id": "8MAmHOs9GHF6",
        "colab_type": "code",
        "outputId": "8e78ce3d-d479-4cac-9ec3-950db0da8ea6",
        "colab": {
          "base_uri": "https://localhost:8080/",
          "height": 35
        }
      },
      "source": [
        "print(training_labels[:30])  #[0, 0, 0, 0, 0, 0, 0, 0, 0, 0, 0, 0, 0, 0, 0, 0, 0, 0, 0, 0, 0, 0, 1, 1, 0, 1, 0, 0, 0, 1]"
      ],
      "execution_count": 63,
      "outputs": [
        {
          "output_type": "stream",
          "text": [
            "[0, 0, 0, 0, 0, 0, 0, 0, 0, 0, 0, 0, 0, 0, 0, 0, 0, 0, 0, 0, 0, 0, 1, 1, 0, 1, 0, 0, 0, 1]\n"
          ],
          "name": "stdout"
        }
      ]
    },
    {
      "cell_type": "code",
      "metadata": {
        "id": "YE7ceuL8pvMp",
        "colab_type": "code",
        "colab": {}
      },
      "source": [
        "testing_text = testing_table['text'].tolist()"
      ],
      "execution_count": 0,
      "outputs": []
    },
    {
      "cell_type": "code",
      "metadata": {
        "id": "zoDxo4mxp5Fq",
        "colab_type": "code",
        "colab": {}
      },
      "source": [
        "testing_labels = testing_table['author'].tolist()"
      ],
      "execution_count": 0,
      "outputs": []
    },
    {
      "cell_type": "code",
      "metadata": {
        "id": "sd-We99iFbeq",
        "colab_type": "code",
        "colab": {
          "base_uri": "https://localhost:8080/",
          "height": 35
        },
        "outputId": "4683383b-0827-4508-cea9-80ce11b6a721"
      },
      "source": [
        "print(testing_labels[:30])  #[0, 0, 0, 0, 0, 0, 0, 0, 0, 0, 0, 0, 1, 0, 0, 0, 0, 0, 0, 0, 0, 0, 0, 0, 0, 0, 0, 0, 0, 0]"
      ],
      "execution_count": 66,
      "outputs": [
        {
          "output_type": "stream",
          "text": [
            "[0, 0, 0, 0, 0, 0, 0, 0, 0, 0, 0, 0, 1, 0, 0, 0, 0, 0, 0, 0, 0, 0, 0, 0, 0, 0, 0, 0, 0, 0]\n"
          ],
          "name": "stdout"
        }
      ]
    },
    {
      "cell_type": "markdown",
      "metadata": {
        "id": "JIUCCyPs659a",
        "colab_type": "text"
      },
      "source": [
        "#Step 3.\n",
        "\n",
        "<img src='https://www.dropbox.com/s/3uyvp722kp5to2r/assignment.png?raw=1' width='300'>\n",
        "\n",
        "I think you are good to go. Build word_bag using the `training_text` and `training_authors` lists. Use a conditional to make sure you only include alpha words and non-stop-words.\n",
        "\n",
        "Warning: this took me 5 minutes of wall-time to compute."
      ]
    },
    {
      "cell_type": "markdown",
      "metadata": {
        "id": "yppaash4YtPE",
        "colab_type": "text"
      },
      "source": [
        "I'll try to get you started. Below is the \"new list\" we are building. But it is a table, not a list. And instead of appending, you will use the `up.update_gothic_row` function.\n",
        "\n",
        "Note that column names are now the ints 0 and 1. Reminder: author 0 is the non-hateful category and author 1 is the hateful category.\n",
        "\n",
        "Also, here is a new puddles function you can use to update the table. Works the same as update_gothic_row."
      ]
    },
    {
      "cell_type": "code",
      "metadata": {
        "id": "RCwyo5V9mFGi",
        "colab_type": "code",
        "outputId": "83196e13-8562-4817-87ee-9bb736a9055c",
        "colab": {
          "base_uri": "https://localhost:8080/",
          "height": 49
        }
      },
      "source": [
        "word_table = pd.DataFrame(columns=['word', 0, 1])  #this is the \"new list\", actually a table\n",
        "word_table"
      ],
      "execution_count": 67,
      "outputs": [
        {
          "output_type": "execute_result",
          "data": {
            "text/html": [
              "<div>\n",
              "<style scoped>\n",
              "    .dataframe tbody tr th:only-of-type {\n",
              "        vertical-align: middle;\n",
              "    }\n",
              "\n",
              "    .dataframe tbody tr th {\n",
              "        vertical-align: top;\n",
              "    }\n",
              "\n",
              "    .dataframe thead th {\n",
              "        text-align: right;\n",
              "    }\n",
              "</style>\n",
              "<table border=\"1\" class=\"dataframe\">\n",
              "  <thead>\n",
              "    <tr style=\"text-align: right;\">\n",
              "      <th></th>\n",
              "      <th>word</th>\n",
              "      <th>0</th>\n",
              "      <th>1</th>\n",
              "    </tr>\n",
              "  </thead>\n",
              "  <tbody>\n",
              "  </tbody>\n",
              "</table>\n",
              "</div>"
            ],
            "text/plain": [
              "Empty DataFrame\n",
              "Columns: [word, 0, 1]\n",
              "Index: []"
            ]
          },
          "metadata": {
            "tags": []
          },
          "execution_count": 67
        }
      ]
    },
    {
      "cell_type": "code",
      "metadata": {
        "id": "Ex-V1_urDzMg",
        "colab_type": "code",
        "outputId": "b9e6194a-9e5e-4095-c6ef-86cecbd58b03",
        "colab": {
          "base_uri": "https://localhost:8080/",
          "height": 81
        }
      },
      "source": [
        "up.update_tweet_row(word_table, 'indefinite', 1)"
      ],
      "execution_count": 68,
      "outputs": [
        {
          "output_type": "execute_result",
          "data": {
            "text/html": [
              "<div>\n",
              "<style scoped>\n",
              "    .dataframe tbody tr th:only-of-type {\n",
              "        vertical-align: middle;\n",
              "    }\n",
              "\n",
              "    .dataframe tbody tr th {\n",
              "        vertical-align: top;\n",
              "    }\n",
              "\n",
              "    .dataframe thead th {\n",
              "        text-align: right;\n",
              "    }\n",
              "</style>\n",
              "<table border=\"1\" class=\"dataframe\">\n",
              "  <thead>\n",
              "    <tr style=\"text-align: right;\">\n",
              "      <th></th>\n",
              "      <th>word</th>\n",
              "      <th>0</th>\n",
              "      <th>1</th>\n",
              "    </tr>\n",
              "  </thead>\n",
              "  <tbody>\n",
              "    <tr>\n",
              "      <th>0</th>\n",
              "      <td>indefinite</td>\n",
              "      <td>0</td>\n",
              "      <td>1</td>\n",
              "    </tr>\n",
              "  </tbody>\n",
              "</table>\n",
              "</div>"
            ],
            "text/plain": [
              "         word  0  1\n",
              "0  indefinite  0  1"
            ]
          },
          "metadata": {
            "tags": []
          },
          "execution_count": 68
        }
      ]
    },
    {
      "cell_type": "markdown",
      "metadata": {
        "id": "-kh9GEQc8NT-",
        "colab_type": "text"
      },
      "source": [
        "Took me 7 minutes to build the word_table."
      ]
    },
    {
      "cell_type": "code",
      "metadata": {
        "colab_type": "code",
        "id": "zYuGlnvlyTlN",
        "colab": {}
      },
      "source": [
        "#your code\n",
        "\n",
        "for i in range(len(training_text)):\n",
        "  training_tweets = training_text[i].lower()\n",
        "  parsed_tweets = nlp(training_tweets)\n",
        "  author = training_labels[i]\n",
        "\n",
        "  for token in parsed_tweets:\n",
        "    if token.is_alpha and not token.is_stop:\n",
        "      up.update_tweet_row(word_table, token.text, author)"
      ],
      "execution_count": 0,
      "outputs": []
    },
    {
      "cell_type": "code",
      "metadata": {
        "id": "ZN2cyBmTga8W",
        "colab_type": "code",
        "colab": {
          "base_uri": "https://localhost:8080/",
          "height": 35
        },
        "outputId": "8a1da8d8-cdbe-4cc9-8734-699693879f75"
      },
      "source": [
        "len(word_table)  #28086 words. 7K more than gothic authors used."
      ],
      "execution_count": 71,
      "outputs": [
        {
          "output_type": "execute_result",
          "data": {
            "text/plain": [
              "28086"
            ]
          },
          "metadata": {
            "tags": []
          },
          "execution_count": 71
        }
      ]
    },
    {
      "cell_type": "code",
      "metadata": {
        "id": "TpzPVmHkvt7S",
        "colab_type": "code",
        "colab": {
          "base_uri": "https://localhost:8080/",
          "height": 206
        },
        "outputId": "805c6ecc-d843-4482-894f-115fa8dfa731"
      },
      "source": [
        "word_table.head()\n",
        "  "
      ],
      "execution_count": 72,
      "outputs": [
        {
          "output_type": "execute_result",
          "data": {
            "text/html": [
              "<div>\n",
              "<style scoped>\n",
              "    .dataframe tbody tr th:only-of-type {\n",
              "        vertical-align: middle;\n",
              "    }\n",
              "\n",
              "    .dataframe tbody tr th {\n",
              "        vertical-align: top;\n",
              "    }\n",
              "\n",
              "    .dataframe thead th {\n",
              "        text-align: right;\n",
              "    }\n",
              "</style>\n",
              "<table border=\"1\" class=\"dataframe\">\n",
              "  <thead>\n",
              "    <tr style=\"text-align: right;\">\n",
              "      <th></th>\n",
              "      <th>word</th>\n",
              "      <th>0</th>\n",
              "      <th>1</th>\n",
              "    </tr>\n",
              "  </thead>\n",
              "  <tbody>\n",
              "    <tr>\n",
              "      <th>0</th>\n",
              "      <td>indefinite</td>\n",
              "      <td>2</td>\n",
              "      <td>1</td>\n",
              "    </tr>\n",
              "    <tr>\n",
              "      <th>1</th>\n",
              "      <td>young</td>\n",
              "      <td>93</td>\n",
              "      <td>4</td>\n",
              "    </tr>\n",
              "    <tr>\n",
              "      <th>2</th>\n",
              "      <td>grossly</td>\n",
              "      <td>2</td>\n",
              "      <td>0</td>\n",
              "    </tr>\n",
              "    <tr>\n",
              "      <th>3</th>\n",
              "      <td>misinformed</td>\n",
              "      <td>1</td>\n",
              "      <td>0</td>\n",
              "    </tr>\n",
              "    <tr>\n",
              "      <th>4</th>\n",
              "      <td>media</td>\n",
              "      <td>53</td>\n",
              "      <td>21</td>\n",
              "    </tr>\n",
              "  </tbody>\n",
              "</table>\n",
              "</div>"
            ],
            "text/plain": [
              "          word   0   1\n",
              "0   indefinite   2   1\n",
              "1        young  93   4\n",
              "2      grossly   2   0\n",
              "3  misinformed   1   0\n",
              "4        media  53  21"
            ]
          },
          "metadata": {
            "tags": []
          },
          "execution_count": 72
        }
      ]
    },
    {
      "cell_type": "markdown",
      "metadata": {
        "id": "axBCtsndZlO_",
        "colab_type": "text"
      },
      "source": [
        "Match mine:\n",
        "\n",
        "<img src='https://www.dropbox.com/s/jkbki6gvg014ysm/Screenshot%202020-05-05%2015.50.23.png?raw=1' height=200>"
      ]
    },
    {
      "cell_type": "code",
      "metadata": {
        "id": "G5sxeAY7U1ZS",
        "colab_type": "code",
        "colab": {}
      },
      "source": [
        "word_table.tail()"
      ],
      "execution_count": 0,
      "outputs": []
    },
    {
      "cell_type": "markdown",
      "metadata": {
        "colab_type": "text",
        "id": "68EAvrYCBfM1"
      },
      "source": [
        "Match mine:\n",
        "\n",
        "<img src='https://www.dropbox.com/s/ytydnq05ib9zev0/Screenshot%202020-05-05%2015.51.01.png?raw=1' height=200>"
      ]
    },
    {
      "cell_type": "markdown",
      "metadata": {
        "id": "Bfx5nLQ6VohS",
        "colab_type": "text"
      },
      "source": [
        "#Step 4.\n",
        "\n",
        "Sort on word.\n"
      ]
    },
    {
      "cell_type": "code",
      "metadata": {
        "id": "hSf7xgzdVrhZ",
        "colab_type": "code",
        "colab": {}
      },
      "source": [
        "#your code\n",
        "sorted_word_table = word_table.sort_values(by=['word']).reset_index(drop=True)"
      ],
      "execution_count": 0,
      "outputs": []
    },
    {
      "cell_type": "code",
      "metadata": {
        "id": "WJ5vNzFMXQtn",
        "colab_type": "code",
        "colab": {
          "base_uri": "https://localhost:8080/",
          "height": 206
        },
        "outputId": "f6c0b0a8-9420-412c-c614-1526811ec692"
      },
      "source": [
        "sorted_word_table.head()"
      ],
      "execution_count": 74,
      "outputs": [
        {
          "output_type": "execute_result",
          "data": {
            "text/html": [
              "<div>\n",
              "<style scoped>\n",
              "    .dataframe tbody tr th:only-of-type {\n",
              "        vertical-align: middle;\n",
              "    }\n",
              "\n",
              "    .dataframe tbody tr th {\n",
              "        vertical-align: top;\n",
              "    }\n",
              "\n",
              "    .dataframe thead th {\n",
              "        text-align: right;\n",
              "    }\n",
              "</style>\n",
              "<table border=\"1\" class=\"dataframe\">\n",
              "  <thead>\n",
              "    <tr style=\"text-align: right;\">\n",
              "      <th></th>\n",
              "      <th>word</th>\n",
              "      <th>0</th>\n",
              "      <th>1</th>\n",
              "    </tr>\n",
              "  </thead>\n",
              "  <tbody>\n",
              "    <tr>\n",
              "      <th>0</th>\n",
              "      <td>aaa</td>\n",
              "      <td>2</td>\n",
              "      <td>0</td>\n",
              "    </tr>\n",
              "    <tr>\n",
              "      <th>1</th>\n",
              "      <td>aaaaaand</td>\n",
              "      <td>1</td>\n",
              "      <td>0</td>\n",
              "    </tr>\n",
              "    <tr>\n",
              "      <th>2</th>\n",
              "      <td>aaahhhh</td>\n",
              "      <td>1</td>\n",
              "      <td>0</td>\n",
              "    </tr>\n",
              "    <tr>\n",
              "      <th>3</th>\n",
              "      <td>aaahhhhh</td>\n",
              "      <td>1</td>\n",
              "      <td>0</td>\n",
              "    </tr>\n",
              "    <tr>\n",
              "      <th>4</th>\n",
              "      <td>aaawwwww</td>\n",
              "      <td>1</td>\n",
              "      <td>0</td>\n",
              "    </tr>\n",
              "  </tbody>\n",
              "</table>\n",
              "</div>"
            ],
            "text/plain": [
              "       word  0  1\n",
              "0       aaa  2  0\n",
              "1  aaaaaand  1  0\n",
              "2   aaahhhh  1  0\n",
              "3  aaahhhhh  1  0\n",
              "4  aaawwwww  1  0"
            ]
          },
          "metadata": {
            "tags": []
          },
          "execution_count": 74
        }
      ]
    },
    {
      "cell_type": "markdown",
      "metadata": {
        "id": "OecZDOz7CZOC",
        "colab_type": "text"
      },
      "source": [
        "Match mine:\n",
        "\n",
        "<img src='https://www.dropbox.com/s/ra1tko7ljnljrn3/Screenshot%202020-05-05%2015.51.40.png?raw=1'>"
      ]
    },
    {
      "cell_type": "markdown",
      "metadata": {
        "id": "zBYOlqsme_QK",
        "colab_type": "text"
      },
      "source": [
        "#Step 5.\n",
        "\n",
        "Make the word column the new index column.\n"
      ]
    },
    {
      "cell_type": "code",
      "metadata": {
        "id": "W4NlnZeSfXHE",
        "colab_type": "code",
        "colab": {}
      },
      "source": [
        "#your code\n",
        "\n",
        "sorted_word_table = sorted_word_table.set_index('word')"
      ],
      "execution_count": 0,
      "outputs": []
    },
    {
      "cell_type": "code",
      "metadata": {
        "id": "KqZqMKVAGZ2K",
        "colab_type": "code",
        "colab": {
          "base_uri": "https://localhost:8080/",
          "height": 237
        },
        "outputId": "32dde2db-b6a8-4461-d6e9-80f899cc6be3"
      },
      "source": [
        "sorted_word_table.head()"
      ],
      "execution_count": 76,
      "outputs": [
        {
          "output_type": "execute_result",
          "data": {
            "text/html": [
              "<div>\n",
              "<style scoped>\n",
              "    .dataframe tbody tr th:only-of-type {\n",
              "        vertical-align: middle;\n",
              "    }\n",
              "\n",
              "    .dataframe tbody tr th {\n",
              "        vertical-align: top;\n",
              "    }\n",
              "\n",
              "    .dataframe thead th {\n",
              "        text-align: right;\n",
              "    }\n",
              "</style>\n",
              "<table border=\"1\" class=\"dataframe\">\n",
              "  <thead>\n",
              "    <tr style=\"text-align: right;\">\n",
              "      <th></th>\n",
              "      <th>0</th>\n",
              "      <th>1</th>\n",
              "    </tr>\n",
              "    <tr>\n",
              "      <th>word</th>\n",
              "      <th></th>\n",
              "      <th></th>\n",
              "    </tr>\n",
              "  </thead>\n",
              "  <tbody>\n",
              "    <tr>\n",
              "      <th>aaa</th>\n",
              "      <td>2</td>\n",
              "      <td>0</td>\n",
              "    </tr>\n",
              "    <tr>\n",
              "      <th>aaaaaand</th>\n",
              "      <td>1</td>\n",
              "      <td>0</td>\n",
              "    </tr>\n",
              "    <tr>\n",
              "      <th>aaahhhh</th>\n",
              "      <td>1</td>\n",
              "      <td>0</td>\n",
              "    </tr>\n",
              "    <tr>\n",
              "      <th>aaahhhhh</th>\n",
              "      <td>1</td>\n",
              "      <td>0</td>\n",
              "    </tr>\n",
              "    <tr>\n",
              "      <th>aaawwwww</th>\n",
              "      <td>1</td>\n",
              "      <td>0</td>\n",
              "    </tr>\n",
              "  </tbody>\n",
              "</table>\n",
              "</div>"
            ],
            "text/plain": [
              "          0  1\n",
              "word          \n",
              "aaa       2  0\n",
              "aaaaaand  1  0\n",
              "aaahhhh   1  0\n",
              "aaahhhhh  1  0\n",
              "aaawwwww  1  0"
            ]
          },
          "metadata": {
            "tags": []
          },
          "execution_count": 76
        }
      ]
    },
    {
      "cell_type": "markdown",
      "metadata": {
        "id": "a5-OcqfZCqp5",
        "colab_type": "text"
      },
      "source": [
        "Match mine:\n",
        "\n",
        "<img src='https://www.dropbox.com/s/mph0byyk4u8s8fp/Screenshot%202020-05-05%2015.52.48.png?raw=1'>"
      ]
    },
    {
      "cell_type": "markdown",
      "metadata": {
        "id": "CoRs7BI0VPM0",
        "colab_type": "text"
      },
      "source": [
        "#Write it out!\n",
        "\n",
        "Don't want to have to keep building the bag everytime you restart this notebook."
      ]
    },
    {
      "cell_type": "code",
      "metadata": {
        "colab_type": "code",
        "id": "PRMNoMP3_ViF",
        "colab": {
          "base_uri": "https://localhost:8080/",
          "height": 35
        },
        "outputId": "daf19bde-9565-4628-c2ad-dbce9e9cb353"
      },
      "source": [
        "from google.colab import drive\n",
        "drive.mount('/content/gdrive')"
      ],
      "execution_count": 77,
      "outputs": [
        {
          "output_type": "stream",
          "text": [
            "Drive already mounted at /content/gdrive; to attempt to forcibly remount, call drive.mount(\"/content/gdrive\", force_remount=True).\n"
          ],
          "name": "stdout"
        }
      ]
    },
    {
      "cell_type": "code",
      "metadata": {
        "id": "OAhLfOgTPqez",
        "colab_type": "code",
        "colab": {}
      },
      "source": [
        "with open('/content/gdrive/My Drive/tweet_bag_s20.csv', 'w') as file:\n",
        "    sorted_word_table.to_csv(file, index=True)"
      ],
      "execution_count": 0,
      "outputs": []
    },
    {
      "cell_type": "markdown",
      "metadata": {
        "id": "w59lzClx9ujw",
        "colab_type": "text"
      },
      "source": [
        "##Please use url to read it back in\n",
        "\n",
        "You know there are 2 ways to read it back in. But the only way I can run your notebook is if you read back using url. So please use that way. Grab url from Google Sheets and paste in below.\n"
      ]
    },
    {
      "cell_type": "code",
      "metadata": {
        "id": "CW0vmVc02Vfw",
        "colab_type": "code",
        "colab": {}
      },
      "source": [
        "url = 'https://docs.google.com/spreadsheets/d/1A7lLDph9hzTminJua4e1mJvHPi4a0SNyx431Dtgc1nw/edit?usp=sharing'  #paste your url here"
      ],
      "execution_count": 0,
      "outputs": []
    },
    {
      "cell_type": "code",
      "metadata": {
        "id": "JTy80-RHv8sN",
        "colab_type": "code",
        "colab": {
          "base_uri": "https://localhost:8080/",
          "height": 541
        },
        "outputId": "e8adc850-0a21-4fab-a229-a876e8e7aa18"
      },
      "source": [
        "sorted_word_table = pd.read_csv(url, dtype={'word':str}, encoding='utf-8',\n",
        "                                index_col='word', na_filter=False)\n",
        "sorted_word_table = sorted_word_table.rename(index={'TRUE': 'true', 'FALSE': 'false'}) #need this because of bug in reading from url"
      ],
      "execution_count": 80,
      "outputs": [
        {
          "output_type": "error",
          "ename": "ParserError",
          "evalue": "ignored",
          "traceback": [
            "\u001b[0;31m---------------------------------------------------------------------------\u001b[0m",
            "\u001b[0;31mParserError\u001b[0m                               Traceback (most recent call last)",
            "\u001b[0;32m<ipython-input-80-c4817b1edb34>\u001b[0m in \u001b[0;36m<module>\u001b[0;34m()\u001b[0m\n\u001b[1;32m      1\u001b[0m sorted_word_table = pd.read_csv(url, dtype={'word':str}, encoding='utf-8',\n\u001b[0;32m----> 2\u001b[0;31m                                 index_col='word', na_filter=False)\n\u001b[0m\u001b[1;32m      3\u001b[0m \u001b[0msorted_word_table\u001b[0m \u001b[0;34m=\u001b[0m \u001b[0msorted_word_table\u001b[0m\u001b[0;34m.\u001b[0m\u001b[0mrename\u001b[0m\u001b[0;34m(\u001b[0m\u001b[0mindex\u001b[0m\u001b[0;34m=\u001b[0m\u001b[0;34m{\u001b[0m\u001b[0;34m'TRUE'\u001b[0m\u001b[0;34m:\u001b[0m \u001b[0;34m'true'\u001b[0m\u001b[0;34m,\u001b[0m \u001b[0;34m'FALSE'\u001b[0m\u001b[0;34m:\u001b[0m \u001b[0;34m'false'\u001b[0m\u001b[0;34m}\u001b[0m\u001b[0;34m)\u001b[0m \u001b[0;31m#need this because of bug in reading from url\u001b[0m\u001b[0;34m\u001b[0m\u001b[0;34m\u001b[0m\u001b[0m\n",
            "\u001b[0;32m/usr/local/lib/python3.6/dist-packages/pandas/io/parsers.py\u001b[0m in \u001b[0;36mparser_f\u001b[0;34m(filepath_or_buffer, sep, delimiter, header, names, index_col, usecols, squeeze, prefix, mangle_dupe_cols, dtype, engine, converters, true_values, false_values, skipinitialspace, skiprows, skipfooter, nrows, na_values, keep_default_na, na_filter, verbose, skip_blank_lines, parse_dates, infer_datetime_format, keep_date_col, date_parser, dayfirst, cache_dates, iterator, chunksize, compression, thousands, decimal, lineterminator, quotechar, quoting, doublequote, escapechar, comment, encoding, dialect, error_bad_lines, warn_bad_lines, delim_whitespace, low_memory, memory_map, float_precision)\u001b[0m\n\u001b[1;32m    674\u001b[0m         )\n\u001b[1;32m    675\u001b[0m \u001b[0;34m\u001b[0m\u001b[0m\n\u001b[0;32m--> 676\u001b[0;31m         \u001b[0;32mreturn\u001b[0m \u001b[0m_read\u001b[0m\u001b[0;34m(\u001b[0m\u001b[0mfilepath_or_buffer\u001b[0m\u001b[0;34m,\u001b[0m \u001b[0mkwds\u001b[0m\u001b[0;34m)\u001b[0m\u001b[0;34m\u001b[0m\u001b[0;34m\u001b[0m\u001b[0m\n\u001b[0m\u001b[1;32m    677\u001b[0m \u001b[0;34m\u001b[0m\u001b[0m\n\u001b[1;32m    678\u001b[0m     \u001b[0mparser_f\u001b[0m\u001b[0;34m.\u001b[0m\u001b[0m__name__\u001b[0m \u001b[0;34m=\u001b[0m \u001b[0mname\u001b[0m\u001b[0;34m\u001b[0m\u001b[0;34m\u001b[0m\u001b[0m\n",
            "\u001b[0;32m/usr/local/lib/python3.6/dist-packages/pandas/io/parsers.py\u001b[0m in \u001b[0;36m_read\u001b[0;34m(filepath_or_buffer, kwds)\u001b[0m\n\u001b[1;32m    452\u001b[0m \u001b[0;34m\u001b[0m\u001b[0m\n\u001b[1;32m    453\u001b[0m     \u001b[0;32mtry\u001b[0m\u001b[0;34m:\u001b[0m\u001b[0;34m\u001b[0m\u001b[0;34m\u001b[0m\u001b[0m\n\u001b[0;32m--> 454\u001b[0;31m         \u001b[0mdata\u001b[0m \u001b[0;34m=\u001b[0m \u001b[0mparser\u001b[0m\u001b[0;34m.\u001b[0m\u001b[0mread\u001b[0m\u001b[0;34m(\u001b[0m\u001b[0mnrows\u001b[0m\u001b[0;34m)\u001b[0m\u001b[0;34m\u001b[0m\u001b[0;34m\u001b[0m\u001b[0m\n\u001b[0m\u001b[1;32m    455\u001b[0m     \u001b[0;32mfinally\u001b[0m\u001b[0;34m:\u001b[0m\u001b[0;34m\u001b[0m\u001b[0;34m\u001b[0m\u001b[0m\n\u001b[1;32m    456\u001b[0m         \u001b[0mparser\u001b[0m\u001b[0;34m.\u001b[0m\u001b[0mclose\u001b[0m\u001b[0;34m(\u001b[0m\u001b[0;34m)\u001b[0m\u001b[0;34m\u001b[0m\u001b[0;34m\u001b[0m\u001b[0m\n",
            "\u001b[0;32m/usr/local/lib/python3.6/dist-packages/pandas/io/parsers.py\u001b[0m in \u001b[0;36mread\u001b[0;34m(self, nrows)\u001b[0m\n\u001b[1;32m   1131\u001b[0m     \u001b[0;32mdef\u001b[0m \u001b[0mread\u001b[0m\u001b[0;34m(\u001b[0m\u001b[0mself\u001b[0m\u001b[0;34m,\u001b[0m \u001b[0mnrows\u001b[0m\u001b[0;34m=\u001b[0m\u001b[0;32mNone\u001b[0m\u001b[0;34m)\u001b[0m\u001b[0;34m:\u001b[0m\u001b[0;34m\u001b[0m\u001b[0;34m\u001b[0m\u001b[0m\n\u001b[1;32m   1132\u001b[0m         \u001b[0mnrows\u001b[0m \u001b[0;34m=\u001b[0m \u001b[0m_validate_integer\u001b[0m\u001b[0;34m(\u001b[0m\u001b[0;34m\"nrows\"\u001b[0m\u001b[0;34m,\u001b[0m \u001b[0mnrows\u001b[0m\u001b[0;34m)\u001b[0m\u001b[0;34m\u001b[0m\u001b[0;34m\u001b[0m\u001b[0m\n\u001b[0;32m-> 1133\u001b[0;31m         \u001b[0mret\u001b[0m \u001b[0;34m=\u001b[0m \u001b[0mself\u001b[0m\u001b[0;34m.\u001b[0m\u001b[0m_engine\u001b[0m\u001b[0;34m.\u001b[0m\u001b[0mread\u001b[0m\u001b[0;34m(\u001b[0m\u001b[0mnrows\u001b[0m\u001b[0;34m)\u001b[0m\u001b[0;34m\u001b[0m\u001b[0;34m\u001b[0m\u001b[0m\n\u001b[0m\u001b[1;32m   1134\u001b[0m \u001b[0;34m\u001b[0m\u001b[0m\n\u001b[1;32m   1135\u001b[0m         \u001b[0;31m# May alter columns / col_dict\u001b[0m\u001b[0;34m\u001b[0m\u001b[0;34m\u001b[0m\u001b[0;34m\u001b[0m\u001b[0m\n",
            "\u001b[0;32m/usr/local/lib/python3.6/dist-packages/pandas/io/parsers.py\u001b[0m in \u001b[0;36mread\u001b[0;34m(self, nrows)\u001b[0m\n\u001b[1;32m   2035\u001b[0m     \u001b[0;32mdef\u001b[0m \u001b[0mread\u001b[0m\u001b[0;34m(\u001b[0m\u001b[0mself\u001b[0m\u001b[0;34m,\u001b[0m \u001b[0mnrows\u001b[0m\u001b[0;34m=\u001b[0m\u001b[0;32mNone\u001b[0m\u001b[0;34m)\u001b[0m\u001b[0;34m:\u001b[0m\u001b[0;34m\u001b[0m\u001b[0;34m\u001b[0m\u001b[0m\n\u001b[1;32m   2036\u001b[0m         \u001b[0;32mtry\u001b[0m\u001b[0;34m:\u001b[0m\u001b[0;34m\u001b[0m\u001b[0;34m\u001b[0m\u001b[0m\n\u001b[0;32m-> 2037\u001b[0;31m             \u001b[0mdata\u001b[0m \u001b[0;34m=\u001b[0m \u001b[0mself\u001b[0m\u001b[0;34m.\u001b[0m\u001b[0m_reader\u001b[0m\u001b[0;34m.\u001b[0m\u001b[0mread\u001b[0m\u001b[0;34m(\u001b[0m\u001b[0mnrows\u001b[0m\u001b[0;34m)\u001b[0m\u001b[0;34m\u001b[0m\u001b[0;34m\u001b[0m\u001b[0m\n\u001b[0m\u001b[1;32m   2038\u001b[0m         \u001b[0;32mexcept\u001b[0m \u001b[0mStopIteration\u001b[0m\u001b[0;34m:\u001b[0m\u001b[0;34m\u001b[0m\u001b[0;34m\u001b[0m\u001b[0m\n\u001b[1;32m   2039\u001b[0m             \u001b[0;32mif\u001b[0m \u001b[0mself\u001b[0m\u001b[0;34m.\u001b[0m\u001b[0m_first_chunk\u001b[0m\u001b[0;34m:\u001b[0m\u001b[0;34m\u001b[0m\u001b[0;34m\u001b[0m\u001b[0m\n",
            "\u001b[0;32mpandas/_libs/parsers.pyx\u001b[0m in \u001b[0;36mpandas._libs.parsers.TextReader.read\u001b[0;34m()\u001b[0m\n",
            "\u001b[0;32mpandas/_libs/parsers.pyx\u001b[0m in \u001b[0;36mpandas._libs.parsers.TextReader._read_low_memory\u001b[0;34m()\u001b[0m\n",
            "\u001b[0;32mpandas/_libs/parsers.pyx\u001b[0m in \u001b[0;36mpandas._libs.parsers.TextReader._read_rows\u001b[0;34m()\u001b[0m\n",
            "\u001b[0;32mpandas/_libs/parsers.pyx\u001b[0m in \u001b[0;36mpandas._libs.parsers.TextReader._tokenize_rows\u001b[0;34m()\u001b[0m\n",
            "\u001b[0;32mpandas/_libs/parsers.pyx\u001b[0m in \u001b[0;36mpandas._libs.parsers.raise_parser_error\u001b[0;34m()\u001b[0m\n",
            "\u001b[0;31mParserError\u001b[0m: Error tokenizing data. C error: Expected 1 fields in line 6, saw 2\n"
          ]
        }
      ]
    },
    {
      "cell_type": "code",
      "metadata": {
        "id": "c6j6fjlk2zsP",
        "colab_type": "code",
        "outputId": "6634b23e-b600-4ebb-d0c6-59c548e5eb87",
        "colab": {
          "base_uri": "https://localhost:8080/",
          "height": 237
        }
      },
      "source": [
        "sorted_word_table.head()"
      ],
      "execution_count": 81,
      "outputs": [
        {
          "output_type": "execute_result",
          "data": {
            "text/html": [
              "<div>\n",
              "<style scoped>\n",
              "    .dataframe tbody tr th:only-of-type {\n",
              "        vertical-align: middle;\n",
              "    }\n",
              "\n",
              "    .dataframe tbody tr th {\n",
              "        vertical-align: top;\n",
              "    }\n",
              "\n",
              "    .dataframe thead th {\n",
              "        text-align: right;\n",
              "    }\n",
              "</style>\n",
              "<table border=\"1\" class=\"dataframe\">\n",
              "  <thead>\n",
              "    <tr style=\"text-align: right;\">\n",
              "      <th></th>\n",
              "      <th>0</th>\n",
              "      <th>1</th>\n",
              "    </tr>\n",
              "    <tr>\n",
              "      <th>word</th>\n",
              "      <th></th>\n",
              "      <th></th>\n",
              "    </tr>\n",
              "  </thead>\n",
              "  <tbody>\n",
              "    <tr>\n",
              "      <th>aaa</th>\n",
              "      <td>2</td>\n",
              "      <td>0</td>\n",
              "    </tr>\n",
              "    <tr>\n",
              "      <th>aaaaaand</th>\n",
              "      <td>1</td>\n",
              "      <td>0</td>\n",
              "    </tr>\n",
              "    <tr>\n",
              "      <th>aaahhhh</th>\n",
              "      <td>1</td>\n",
              "      <td>0</td>\n",
              "    </tr>\n",
              "    <tr>\n",
              "      <th>aaahhhhh</th>\n",
              "      <td>1</td>\n",
              "      <td>0</td>\n",
              "    </tr>\n",
              "    <tr>\n",
              "      <th>aaawwwww</th>\n",
              "      <td>1</td>\n",
              "      <td>0</td>\n",
              "    </tr>\n",
              "  </tbody>\n",
              "</table>\n",
              "</div>"
            ],
            "text/plain": [
              "          0  1\n",
              "word          \n",
              "aaa       2  0\n",
              "aaaaaand  1  0\n",
              "aaahhhh   1  0\n",
              "aaahhhhh  1  0\n",
              "aaawwwww  1  0"
            ]
          },
          "metadata": {
            "tags": []
          },
          "execution_count": 81
        }
      ]
    },
    {
      "cell_type": "markdown",
      "metadata": {
        "id": "qYPs36CoFoFL",
        "colab_type": "text"
      },
      "source": [
        "#Step 6.\n",
        "\n",
        "I am giving you the equivalent of bayes_gothic. New puddles function is called bayes_tweet. Works the same as bayes_gothic. It produces a list of values, but only 2 this time; we only have 2 authors.\n",
        "\n",
        "Go ahead and use it to produce a list of pairs called `result_list`."
      ]
    },
    {
      "cell_type": "code",
      "metadata": {
        "id": "sO5xyPxeul7O",
        "colab_type": "code",
        "outputId": "f5bb8ee2-2de1-498e-cb55-cd501d3a847e",
        "colab": {
          "base_uri": "https://localhost:8080/",
          "height": 35
        }
      },
      "source": [
        "up.bayes_tweet(['media'], sorted_word_table, training_table)  #(0.0006422296090321772, 6.585456154064723e-05)"
      ],
      "execution_count": 82,
      "outputs": [
        {
          "output_type": "execute_result",
          "data": {
            "text/plain": [
              "(0.0010262950860910817, 5.2873515176483295e-05)"
            ]
          },
          "metadata": {
            "tags": []
          },
          "execution_count": 82
        }
      ]
    },
    {
      "cell_type": "code",
      "metadata": {
        "id": "fKHDQSfLu11-",
        "colab_type": "code",
        "outputId": "8a35b259-5a79-456e-ed1a-f8831e880c21",
        "colab": {
          "base_uri": "https://localhost:8080/",
          "height": 72
        }
      },
      "source": [
        "sorted_word_table.loc['media']"
      ],
      "execution_count": 83,
      "outputs": [
        {
          "output_type": "execute_result",
          "data": {
            "text/plain": [
              "0    53\n",
              "1    21\n",
              "Name: media, dtype: object"
            ]
          },
          "metadata": {
            "tags": []
          },
          "execution_count": 83
        }
      ]
    },
    {
      "cell_type": "code",
      "metadata": {
        "colab_type": "code",
        "id": "xKb6UKClTZKq",
        "colab": {}
      },
      "source": [
        "#your code\n",
        "\n",
        "result_list = []\n",
        "\n",
        "for i in range(len(testing_text)):\n",
        "  tweets = testing_text[i].lower()\n",
        "  \n",
        "  tweet_list = []\n",
        "  doc = nlp(tweets)\n",
        "\n",
        "  for i in range(len(doc)):\n",
        "    token = doc[i]\n",
        "    if token.is_alpha and not token.is_stop:\n",
        "      tweet_list.append(token.text)\n",
        "\n",
        "  result = up.bayes_tweet(tweet_list, sorted_word_table, training_table)\n",
        "  result_list.append(result)"
      ],
      "execution_count": 0,
      "outputs": []
    },
    {
      "cell_type": "code",
      "metadata": {
        "id": "QlVgyCF_DbOV",
        "colab_type": "code",
        "outputId": "3b985ba6-e237-4a0c-f498-ae8db0991ce6",
        "colab": {
          "base_uri": "https://localhost:8080/",
          "height": 108
        }
      },
      "source": [
        "result_list[:5]"
      ],
      "execution_count": 85,
      "outputs": [
        {
          "output_type": "execute_result",
          "data": {
            "text/plain": [
              "[(2.1375166087687074e-17, 3.096298772803711e-22),\n",
              " (1.1788667243745258e-26, 4.289033845647875e-36),\n",
              " (6.587850794430615e-08, 8.183713875166037e-15),\n",
              " (2.459648707899393e-19, 6.192597545607422e-24),\n",
              " (2.7226787528538115e-08, 8.096966508089277e-11)]"
            ]
          },
          "metadata": {
            "tags": []
          },
          "execution_count": 85
        }
      ]
    },
    {
      "cell_type": "markdown",
      "metadata": {
        "id": "S4jPWiwOEHeE",
        "colab_type": "text"
      },
      "source": [
        "<pre>\n",
        "[(1.13701053140327e-17, 1.2126976868876875e-21),\n",
        " (4.620940542069699e-29, 1.1810918673576957e-36),\n",
        " (1.1453358172342027e-08, 1.1423350301467696e-14),\n",
        " (2.269985532970149e-20, 6.737209371598264e-23),\n",
        " (3.0222693510234466e-08, 2.1036099580152762e-10)]\n",
        " </pre>"
      ]
    },
    {
      "cell_type": "markdown",
      "metadata": {
        "id": "sVstxsTVGWiR",
        "colab_type": "text"
      },
      "source": [
        "#Step 7.\n",
        "\n",
        "Now produce predictions. Should be a list of 0s and 1s."
      ]
    },
    {
      "cell_type": "code",
      "metadata": {
        "id": "7UiAaw1bbw8B",
        "colab_type": "code",
        "colab": {
          "base_uri": "https://localhost:8080/",
          "height": 35
        },
        "outputId": "e360535f-4de0-45d3-adc0-12407ad0a10b"
      },
      "source": [
        "authors = ['0','1']\n",
        "a_double = result_list[0]\n",
        "max(a_double)\n"
      ],
      "execution_count": 86,
      "outputs": [
        {
          "output_type": "execute_result",
          "data": {
            "text/plain": [
              "2.1375166087687074e-17"
            ]
          },
          "metadata": {
            "tags": []
          },
          "execution_count": 86
        }
      ]
    },
    {
      "cell_type": "code",
      "metadata": {
        "id": "Sf3VFhvLUtaI",
        "colab_type": "code",
        "colab": {}
      },
      "source": [
        "#your code\n",
        "authors = [0,1]\n",
        "\n",
        "predictions = []\n",
        "\n",
        "for i in range(len(result_list)):\n",
        "  result = result_list[i]\n",
        "\n",
        "  for i in range(len(result)):\n",
        "    m = max(result)\n",
        "    author_index = result.index(m)\n",
        "    author = authors[author_index]\n",
        "    pred = author\n",
        "\n",
        "  predictions.append(pred)"
      ],
      "execution_count": 0,
      "outputs": []
    },
    {
      "cell_type": "code",
      "metadata": {
        "id": "Uxhp8brGDjzV",
        "colab_type": "code",
        "outputId": "6973a010-896c-4b9f-f6ca-cc3b81a86027",
        "colab": {
          "base_uri": "https://localhost:8080/",
          "height": 35
        }
      },
      "source": [
        "predictions[:20]  #[0, 0, 0, 0, 0, 0, 0, 0, 0, 0, 0, 0, 0, 0, 0, 0, 0, 0, 0, 0]"
      ],
      "execution_count": 107,
      "outputs": [
        {
          "output_type": "execute_result",
          "data": {
            "text/plain": [
              "[0, 0, 0, 0, 0, 0, 0, 0, 0, 0, 0, 0, 0, 0, 0, 0, 0, 0, 0, 0]"
            ]
          },
          "metadata": {
            "tags": []
          },
          "execution_count": 107
        }
      ]
    },
    {
      "cell_type": "code",
      "metadata": {
        "id": "YY20ZE0DV0Kc",
        "colab_type": "code",
        "outputId": "f5a305bb-7893-4aa7-9538-479a0dee03cc",
        "colab": {
          "base_uri": "https://localhost:8080/",
          "height": 35
        }
      },
      "source": [
        "testing_labels[:20]  #reminder of where the \"answers\" are"
      ],
      "execution_count": 89,
      "outputs": [
        {
          "output_type": "execute_result",
          "data": {
            "text/plain": [
              "[0, 0, 0, 0, 0, 0, 0, 0, 0, 0, 0, 0, 1, 0, 0, 0, 0, 0, 0, 0]"
            ]
          },
          "metadata": {
            "tags": []
          },
          "execution_count": 89
        }
      ]
    },
    {
      "cell_type": "markdown",
      "metadata": {
        "id": "J4zqeiga4n8z",
        "colab_type": "text"
      },
      "source": [
        "#Step 8.\n",
        "\n",
        "Go ahead and compute accuracy. I got `0.9497340702888727`."
      ]
    },
    {
      "cell_type": "code",
      "metadata": {
        "id": "Lr6M5lynWG5O",
        "colab_type": "code",
        "colab": {
          "base_uri": "https://localhost:8080/",
          "height": 90
        },
        "outputId": "6ebb4753-f753-4a52-a055-517da40fadfa"
      },
      "source": [
        "#your code\n",
        "cases = list(zip(predictions,testing_labels))\n",
        "print(cases[:10])\n",
        "\n",
        "print('True positive:', cases.count((1,1)))\n",
        "print('True negative:', cases.count((0,0)))\n",
        "\n",
        "accuracy = (159+8941)/len(testing_labels)\n",
        "accuracy # .9490"
      ],
      "execution_count": 109,
      "outputs": [
        {
          "output_type": "stream",
          "text": [
            "[(0, 0), (0, 0), (0, 0), (0, 0), (0, 0), (0, 0), (0, 0), (0, 0), (0, 0), (0, 0)]\n",
            "True positive: 159\n",
            "True negative: 8941\n"
          ],
          "name": "stdout"
        },
        {
          "output_type": "execute_result",
          "data": {
            "text/plain": [
              "0.9490040671602878"
            ]
          },
          "metadata": {
            "tags": []
          },
          "execution_count": 109
        }
      ]
    },
    {
      "cell_type": "markdown",
      "metadata": {
        "id": "XstJn2IrGzgP",
        "colab_type": "text"
      },
      "source": [
        "Here is what we want to beat."
      ]
    },
    {
      "cell_type": "code",
      "metadata": {
        "id": "kZzZkM-Owyyb",
        "colab_type": "code",
        "outputId": "156fc808-9c6c-48d6-bf51-4fa909728526",
        "colab": {
          "base_uri": "https://localhost:8080/",
          "height": 35
        }
      },
      "source": [
        "testing_labels.count(0)/len(testing_labels)  #0.9326311398477422"
      ],
      "execution_count": 96,
      "outputs": [
        {
          "output_type": "execute_result",
          "data": {
            "text/plain": [
              "0.9326311398477422"
            ]
          },
          "metadata": {
            "tags": []
          },
          "execution_count": 96
        }
      ]
    },
    {
      "cell_type": "markdown",
      "metadata": {
        "id": "CQnlaJW4GulE",
        "colab_type": "text"
      },
      "source": [
        "Here is heat-map visualization of the 4 cases. You will need a zipped version to use this."
      ]
    },
    {
      "cell_type": "code",
      "metadata": {
        "id": "DATq4c8w-uMc",
        "colab_type": "code",
        "outputId": "a0bbf566-c552-49e1-c7cf-7d859623499c",
        "colab": {
          "base_uri": "https://localhost:8080/",
          "height": 627
        }
      },
      "source": [
        "up.heat_map(cases, [0,1])"
      ],
      "execution_count": 111,
      "outputs": [
        {
          "output_type": "display_data",
          "data": {
            "image/png": "[encoded data removed]",
            "text/plain": [
              "<Figure size 720x720 with 1 Axes>"
            ]
          },
          "metadata": {
            "tags": [],
            "needs_background": "light"
          }
        }
      ]
    },
    {
      "cell_type": "markdown",
      "metadata": {
        "id": "dE89NS1EG_Us",
        "colab_type": "text"
      },
      "source": [
        "#Discussion\n",
        "\n",
        "I'm kind of impressed. We almost bumped accuracy 2 percentage points from just always choosing 0. May not seem like much. But once we get into the 90s, I don't expect to see dramatic jumps. I'd claim that running NB on this problem is worth it.\n",
        "\n",
        "From a cost perspective, we only let through 40 false-negatives. So only 40 hateful tweets slipped past us. That will make those that are trying to clean up social media happy.\n",
        "\n",
        "We did also have 442 false-positives, tweets we labeled as hateful but were not. That would not make those who champion free-speech happy."
      ]
    }
  ]
}