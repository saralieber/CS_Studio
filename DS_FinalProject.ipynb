{
  "nbformat": 4,
  "nbformat_minor": 0,
  "metadata": {
    "colab": {
      "name": "DS_FinalProject.ipynb",
      "provenance": [],
      "authorship_tag": "ABX9TyMc89txzuJMe3q0dUVcp8bu",
      "include_colab_link": true
    },
    "kernelspec": {
      "name": "python3",
      "display_name": "Python 3"
    }
  },
  "cells": [
    {
      "cell_type": "markdown",
      "metadata": {
        "id": "view-in-github",
        "colab_type": "text"
      },
      "source": [
        "<a href=\"https://colab.research.google.com/github/saralieber/CS_Studio/blob/master/DS_FinalProject.ipynb\" target=\"_parent\"><img src=\"https://colab.research.google.com/assets/colab-badge.svg\" alt=\"Open In Colab\"/></a>"
      ]
    },
    {
      "cell_type": "markdown",
      "metadata": {
        "id": "9v3AFwkoE-UC",
        "colab_type": "text"
      },
      "source": [
        "# Background\n",
        "\n",
        "I am a psychology PhD student, and for my dissertation I recently collected data in which I asked participants to tell me:\n",
        "\n",
        "*   1) What motivated them to get the last clothing item they purchased (*called Motivation_Description*)\n",
        "*   2) How likely they are to get a new clothing item in the future, even if it is already similar to something they already have in their closet (*called author*)\n",
        "\n",
        "# Planned Analysis \n",
        "\n",
        "The purpose of this project is to analyze people's motivation to engage in hyperconsumption in regards to clothing, which is consuming material goods that go beyond one's needs. \n",
        "\n",
        "Specifically, in the analysis below, I use Naive Bayes to test whether people's responses to 1) above could be used to predict their responses to 2) above. \n",
        "\n",
        "In other words, can people's descriptions of their motivation for making their last clothing item purchase be used to predict how likely they are to hyperconsume in the clothing domain in the future?\n",
        "\n",
        "For determining the size of the training and testing set, I put 70% of the data into the training set and 30% into the testing set. I used this ratio because it's desirable to use a generous amount of data for building the model from the training set.\n",
        "\n",
        "# Interpretation of Results\n",
        "\n",
        "At bottom of document."
      ]
    },
    {
      "cell_type": "markdown",
      "metadata": {
        "id": "AdOrY_60ExT7",
        "colab_type": "text"
      },
      "source": [
        "## Importing Libraries"
      ]
    },
    {
      "cell_type": "code",
      "metadata": {
        "id": "mQ2qPT69fe73",
        "colab_type": "code",
        "colab": {}
      },
      "source": [
        "import numpy as np\n",
        "from numpy.linalg import norm\n",
        "import pandas as pd\n",
        "import matplotlib.pyplot as plt\n",
        "import numpy\n",
        "from typing import TypeVar, Callable\n",
        "dframe = TypeVar('pd.core.frame.DataFrame')\n",
        "narray = TypeVar('numpy.ndarray')\n",
        "import math"
      ],
      "execution_count": 0,
      "outputs": []
    },
    {
      "cell_type": "markdown",
      "metadata": {
        "id": "ckHGjle3EzuS",
        "colab_type": "text"
      },
      "source": [
        "## Importing Spacy"
      ]
    },
    {
      "cell_type": "code",
      "metadata": {
        "id": "qeH3yVIIpsCy",
        "colab_type": "code",
        "colab": {}
      },
      "source": [
        "import spacy\n",
        "!python -m spacy download en_core_web_md # download the dictionary\n",
        "import en_core_web_md\n",
        "nlp = en_core_web_md.load()"
      ],
      "execution_count": 0,
      "outputs": []
    },
    {
      "cell_type": "markdown",
      "metadata": {
        "id": "Q_RGYP2NE079",
        "colab_type": "text"
      },
      "source": [
        "## Importing UO Puddles"
      ]
    },
    {
      "cell_type": "code",
      "metadata": {
        "id": "lUb8m2MKfgiG",
        "colab_type": "code",
        "colab": {}
      },
      "source": [
        "!rm -r 'uo_puddles'\n",
        "my_github_name = 'uo-puddles' # can replace with your account name\n",
        "clone_url = f'https://github.com/{my_github_name}/uo_puddles.git'\n",
        "!git clone $clone_url\n",
        "import uo_puddles.uo_puddles as up"
      ],
      "execution_count": 0,
      "outputs": []
    },
    {
      "cell_type": "markdown",
      "metadata": {
        "id": "mW2RfKb9E3sv",
        "colab_type": "text"
      },
      "source": [
        "## Importing Dataset from Github"
      ]
    },
    {
      "cell_type": "code",
      "metadata": {
        "id": "GtJnUBUjfnZG",
        "colab_type": "code",
        "colab": {}
      },
      "source": [
        "url = 'https://raw.githubusercontent.com/saralieber/CS_Studio/master/Short_GS_Data_for_DS_Proj_new.csv'\n",
        "\n",
        "df1 = pd.read_csv(url)"
      ],
      "execution_count": 0,
      "outputs": []
    },
    {
      "cell_type": "code",
      "metadata": {
        "id": "aRoWaTM1njbI",
        "colab_type": "code",
        "colab": {
          "base_uri": "https://localhost:8080/",
          "height": 206
        },
        "outputId": "61330571-c86a-4444-bb96-a4dbcea3a680"
      },
      "source": [
        "df1.head()"
      ],
      "execution_count": 51,
      "outputs": [
        {
          "output_type": "execute_result",
          "data": {
            "text/html": [
              "<div>\n",
              "<style scoped>\n",
              "    .dataframe tbody tr th:only-of-type {\n",
              "        vertical-align: middle;\n",
              "    }\n",
              "\n",
              "    .dataframe tbody tr th {\n",
              "        vertical-align: top;\n",
              "    }\n",
              "\n",
              "    .dataframe thead th {\n",
              "        text-align: right;\n",
              "    }\n",
              "</style>\n",
              "<table border=\"1\" class=\"dataframe\">\n",
              "  <thead>\n",
              "    <tr style=\"text-align: right;\">\n",
              "      <th></th>\n",
              "      <th>Motivation_Description</th>\n",
              "      <th>author</th>\n",
              "    </tr>\n",
              "  </thead>\n",
              "  <tbody>\n",
              "    <tr>\n",
              "      <th>0</th>\n",
              "      <td>I wanted to start running and needed a way to ...</td>\n",
              "      <td>3</td>\n",
              "    </tr>\n",
              "    <tr>\n",
              "      <th>1</th>\n",
              "      <td>I had lost some weight and needed new pants to...</td>\n",
              "      <td>3</td>\n",
              "    </tr>\n",
              "    <tr>\n",
              "      <th>2</th>\n",
              "      <td>I really like the movie it portrays, I like we...</td>\n",
              "      <td>2</td>\n",
              "    </tr>\n",
              "    <tr>\n",
              "      <th>3</th>\n",
              "      <td>My mom was going to get rid of it and I though...</td>\n",
              "      <td>3</td>\n",
              "    </tr>\n",
              "    <tr>\n",
              "      <th>4</th>\n",
              "      <td>I got this item because it looked warm and sof...</td>\n",
              "      <td>4</td>\n",
              "    </tr>\n",
              "  </tbody>\n",
              "</table>\n",
              "</div>"
            ],
            "text/plain": [
              "                              Motivation_Description  author\n",
              "0  I wanted to start running and needed a way to ...       3\n",
              "1  I had lost some weight and needed new pants to...       3\n",
              "2  I really like the movie it portrays, I like we...       2\n",
              "3  My mom was going to get rid of it and I though...       3\n",
              "4  I got this item because it looked warm and sof...       4"
            ]
          },
          "metadata": {
            "tags": []
          },
          "execution_count": 51
        }
      ]
    },
    {
      "cell_type": "code",
      "metadata": {
        "id": "z5sb6YllnyYN",
        "colab_type": "code",
        "colab": {
          "base_uri": "https://localhost:8080/",
          "height": 35
        },
        "outputId": "ff9534d5-829d-4122-afe5-2e66bb4b37da"
      },
      "source": [
        "len(df1)"
      ],
      "execution_count": 6,
      "outputs": [
        {
          "output_type": "execute_result",
          "data": {
            "text/plain": [
              "351"
            ]
          },
          "metadata": {
            "tags": []
          },
          "execution_count": 6
        }
      ]
    },
    {
      "cell_type": "markdown",
      "metadata": {
        "id": "3J_eSdLzQSTb",
        "colab_type": "text"
      },
      "source": [
        "## Randomly Shuffle the Data Set"
      ]
    },
    {
      "cell_type": "code",
      "metadata": {
        "id": "lYwhdxzun1mw",
        "colab_type": "code",
        "colab": {
          "base_uri": "https://localhost:8080/",
          "height": 35
        },
        "outputId": "652b3a30-4233-496b-d2ff-4bf494d589d7"
      },
      "source": [
        "set_seed = 1234\n",
        "\n",
        "rsgen = np.random.RandomState(set_seed)\n",
        "\n",
        "# Shuffled Dataset\n",
        "shuffled_df1 = df1.sample(frac=1, random_state = rsgen).reset_index(drop=True)\n",
        "len(shuffled_df1)"
      ],
      "execution_count": 52,
      "outputs": [
        {
          "output_type": "execute_result",
          "data": {
            "text/plain": [
              "348"
            ]
          },
          "metadata": {
            "tags": []
          },
          "execution_count": 52
        }
      ]
    },
    {
      "cell_type": "markdown",
      "metadata": {
        "id": "1lDtp6hmQXpi",
        "colab_type": "text"
      },
      "source": [
        "## Calculate Size of Training Set and Testing Set\n",
        "\n",
        "Note: Training set is 70% of the data, testing set is 30%."
      ]
    },
    {
      "cell_type": "code",
      "metadata": {
        "id": "gjskdceNoAnn",
        "colab_type": "code",
        "colab": {
          "base_uri": "https://localhost:8080/",
          "height": 35
        },
        "outputId": "23364da1-78f3-45db-dfcc-b72aec389b85"
      },
      "source": [
        "# Calculating n's for Testing and Training Tables\n",
        "n_testing = (len(shuffled_df1))*.3\n",
        "n_testing # 104"
      ],
      "execution_count": 53,
      "outputs": [
        {
          "output_type": "execute_result",
          "data": {
            "text/plain": [
              "104.39999999999999"
            ]
          },
          "metadata": {
            "tags": []
          },
          "execution_count": 53
        }
      ]
    },
    {
      "cell_type": "code",
      "metadata": {
        "id": "Zs0VnvZUoNf_",
        "colab_type": "code",
        "colab": {
          "base_uri": "https://localhost:8080/",
          "height": 35
        },
        "outputId": "e54742e0-130c-4333-d334-63198d7d8308"
      },
      "source": [
        "n_training = (len(shuffled_df1)) - n_testing\n",
        "n_training # 244"
      ],
      "execution_count": 54,
      "outputs": [
        {
          "output_type": "execute_result",
          "data": {
            "text/plain": [
              "243.60000000000002"
            ]
          },
          "metadata": {
            "tags": []
          },
          "execution_count": 54
        }
      ]
    },
    {
      "cell_type": "markdown",
      "metadata": {
        "id": "XwOBLTIrQkf3",
        "colab_type": "text"
      },
      "source": [
        "## Create the Training Set and Testing Set\n",
        "\n",
        "And pull out the columns for the predictor variable\n",
        "*   Called *Motivation_Description*, which is an explanation of what motivated each participant to get their last clothing item)\n",
        "\n",
        "and outcome variable \n",
        "*   Called *author*, which is participants' response to \"Indicate the extent to which you agree with each of the following statements from 1 (Strongly disagree) to 5 (Strongly agree): - If I desire a new piece of clothing this year, there is a good chance I will get it, even if it is already similar to something else that I have in my closet.\""
      ]
    },
    {
      "cell_type": "code",
      "metadata": {
        "id": "e81fTvieoIiE",
        "colab_type": "code",
        "colab": {}
      },
      "source": [
        "# Training Set\n",
        "training_table = shuffled_df1[:246].reset_index(drop=True)\n",
        "\n",
        "# Testing Set\n",
        "testing_table = shuffled_df1[246:].reset_index(drop=True)\n",
        "\n",
        "\n",
        "# Grab the Motivation_Description and Intent1 Columns from the Training and Testing Sets and Convert into Lists (easier to work with text data this way)\n",
        "training_text = training_table['Motivation_Description'].tolist()\n",
        "training_outcome = training_table['author'].tolist()\n",
        "\n",
        "testing_text = testing_table['Motivation_Description'].tolist()\n",
        "testing_outcome = testing_table['author'].tolist()"
      ],
      "execution_count": 0,
      "outputs": []
    },
    {
      "cell_type": "markdown",
      "metadata": {
        "id": "7STkttczRmfA",
        "colab_type": "text"
      },
      "source": [
        "## Convert the variables from lists to strings"
      ]
    },
    {
      "cell_type": "code",
      "metadata": {
        "id": "krdn6P_Ct4k5",
        "colab_type": "code",
        "colab": {}
      },
      "source": [
        "training_outcome_str = []\n",
        "for item in training_outcome:\n",
        "    training_outcome_str.append(str(item))"
      ],
      "execution_count": 0,
      "outputs": []
    },
    {
      "cell_type": "code",
      "metadata": {
        "id": "uV8wX0V4uAG4",
        "colab_type": "code",
        "colab": {}
      },
      "source": [
        "training_text_str = []\n",
        "for item in training_text:\n",
        "    training_text_str.append(str(item))"
      ],
      "execution_count": 0,
      "outputs": []
    },
    {
      "cell_type": "code",
      "metadata": {
        "id": "L13hQR8M8oSh",
        "colab_type": "code",
        "colab": {}
      },
      "source": [
        "testing_outcome_str = []\n",
        "for item in testing_outcome:\n",
        "    testing_outcome_str.append(str(item))"
      ],
      "execution_count": 0,
      "outputs": []
    },
    {
      "cell_type": "code",
      "metadata": {
        "id": "c96FCZsM8o1R",
        "colab_type": "code",
        "colab": {}
      },
      "source": [
        "testing_text_str = []\n",
        "for item in testing_text:\n",
        "    testing_text_str.append(str(item))"
      ],
      "execution_count": 0,
      "outputs": []
    },
    {
      "cell_type": "markdown",
      "metadata": {
        "id": "Zc7t2-o3Rp1K",
        "colab_type": "text"
      },
      "source": [
        "## Build a word-bag from the training set"
      ]
    },
    {
      "cell_type": "code",
      "metadata": {
        "id": "SN16wb2Iol4e",
        "colab_type": "code",
        "colab": {
          "base_uri": "https://localhost:8080/",
          "height": 49
        },
        "outputId": "4885b69a-6bd8-42b7-833b-cd983dd37443"
      },
      "source": [
        "word_table = pd.DataFrame(columns=['word', '1', '2', '3', '4', '5']) \n",
        "word_table.head() # currently empty"
      ],
      "execution_count": 61,
      "outputs": [
        {
          "output_type": "execute_result",
          "data": {
            "text/html": [
              "<div>\n",
              "<style scoped>\n",
              "    .dataframe tbody tr th:only-of-type {\n",
              "        vertical-align: middle;\n",
              "    }\n",
              "\n",
              "    .dataframe tbody tr th {\n",
              "        vertical-align: top;\n",
              "    }\n",
              "\n",
              "    .dataframe thead th {\n",
              "        text-align: right;\n",
              "    }\n",
              "</style>\n",
              "<table border=\"1\" class=\"dataframe\">\n",
              "  <thead>\n",
              "    <tr style=\"text-align: right;\">\n",
              "      <th></th>\n",
              "      <th>word</th>\n",
              "      <th>1</th>\n",
              "      <th>2</th>\n",
              "      <th>3</th>\n",
              "      <th>4</th>\n",
              "      <th>5</th>\n",
              "    </tr>\n",
              "  </thead>\n",
              "  <tbody>\n",
              "  </tbody>\n",
              "</table>\n",
              "</div>"
            ],
            "text/plain": [
              "Empty DataFrame\n",
              "Columns: [word, 1, 2, 3, 4, 5]\n",
              "Index: []"
            ]
          },
          "metadata": {
            "tags": []
          },
          "execution_count": 61
        }
      ]
    },
    {
      "cell_type": "code",
      "metadata": {
        "id": "ExS4in2mpQj2",
        "colab_type": "code",
        "colab": {}
      },
      "source": [
        "for i in range (len(training_text)): \n",
        "  training_sentences = training_text_str[i].lower()\n",
        "  doc = nlp(training_sentences) \n",
        "  author = training_outcome_str[i] \n",
        "\n",
        "  for token in doc: \n",
        "    if token.is_alpha and not token.is_stop:\n",
        "      up.update_gothic_row(word_table, token.text, author) "
      ],
      "execution_count": 0,
      "outputs": []
    },
    {
      "cell_type": "markdown",
      "metadata": {
        "id": "OJ0ynXjZRyAi",
        "colab_type": "text"
      },
      "source": [
        "## Sort the table alphabetically by word"
      ]
    },
    {
      "cell_type": "code",
      "metadata": {
        "id": "yRGXJ1n_795v",
        "colab_type": "code",
        "colab": {
          "base_uri": "https://localhost:8080/",
          "height": 206
        },
        "outputId": "e22f509c-38d6-43e8-e9e8-2eed54172632"
      },
      "source": [
        "sorted_word_table = word_table.sort_values(by=['word'])\n",
        "sorted_word_table = sorted_word_table.reset_index(drop=True)\n",
        "sorted_word_table.head()"
      ],
      "execution_count": 63,
      "outputs": [
        {
          "output_type": "execute_result",
          "data": {
            "text/html": [
              "<div>\n",
              "<style scoped>\n",
              "    .dataframe tbody tr th:only-of-type {\n",
              "        vertical-align: middle;\n",
              "    }\n",
              "\n",
              "    .dataframe tbody tr th {\n",
              "        vertical-align: top;\n",
              "    }\n",
              "\n",
              "    .dataframe thead th {\n",
              "        text-align: right;\n",
              "    }\n",
              "</style>\n",
              "<table border=\"1\" class=\"dataframe\">\n",
              "  <thead>\n",
              "    <tr style=\"text-align: right;\">\n",
              "      <th></th>\n",
              "      <th>word</th>\n",
              "      <th>1</th>\n",
              "      <th>2</th>\n",
              "      <th>3</th>\n",
              "      <th>4</th>\n",
              "      <th>5</th>\n",
              "    </tr>\n",
              "  </thead>\n",
              "  <tbody>\n",
              "    <tr>\n",
              "      <th>0</th>\n",
              "      <td>able</td>\n",
              "      <td>0</td>\n",
              "      <td>0</td>\n",
              "      <td>0</td>\n",
              "      <td>1</td>\n",
              "      <td>0</td>\n",
              "    </tr>\n",
              "    <tr>\n",
              "      <th>1</th>\n",
              "      <td>accepted</td>\n",
              "      <td>0</td>\n",
              "      <td>1</td>\n",
              "      <td>0</td>\n",
              "      <td>0</td>\n",
              "      <td>0</td>\n",
              "    </tr>\n",
              "    <tr>\n",
              "      <th>2</th>\n",
              "      <td>account</td>\n",
              "      <td>0</td>\n",
              "      <td>0</td>\n",
              "      <td>1</td>\n",
              "      <td>0</td>\n",
              "      <td>0</td>\n",
              "    </tr>\n",
              "    <tr>\n",
              "      <th>3</th>\n",
              "      <td>activities</td>\n",
              "      <td>0</td>\n",
              "      <td>0</td>\n",
              "      <td>1</td>\n",
              "      <td>0</td>\n",
              "      <td>1</td>\n",
              "    </tr>\n",
              "    <tr>\n",
              "      <th>4</th>\n",
              "      <td>actually</td>\n",
              "      <td>0</td>\n",
              "      <td>0</td>\n",
              "      <td>0</td>\n",
              "      <td>1</td>\n",
              "      <td>1</td>\n",
              "    </tr>\n",
              "  </tbody>\n",
              "</table>\n",
              "</div>"
            ],
            "text/plain": [
              "         word  1  2  3  4  5\n",
              "0        able  0  0  0  1  0\n",
              "1    accepted  0  1  0  0  0\n",
              "2     account  0  0  1  0  0\n",
              "3  activities  0  0  1  0  1\n",
              "4    actually  0  0  0  1  1"
            ]
          },
          "metadata": {
            "tags": []
          },
          "execution_count": 63
        }
      ]
    },
    {
      "cell_type": "markdown",
      "metadata": {
        "id": "GHe9eBAvS_E5",
        "colab_type": "text"
      },
      "source": [
        "## Set word column as the table index"
      ]
    },
    {
      "cell_type": "code",
      "metadata": {
        "id": "dXAADORU8Fac",
        "colab_type": "code",
        "colab": {
          "base_uri": "https://localhost:8080/",
          "height": 237
        },
        "outputId": "c665143c-6b9c-4161-d157-152e4e4e63a0"
      },
      "source": [
        "sorted_word_table = sorted_word_table.set_index('word')  \n",
        "sorted_word_table.head() "
      ],
      "execution_count": 64,
      "outputs": [
        {
          "output_type": "execute_result",
          "data": {
            "text/html": [
              "<div>\n",
              "<style scoped>\n",
              "    .dataframe tbody tr th:only-of-type {\n",
              "        vertical-align: middle;\n",
              "    }\n",
              "\n",
              "    .dataframe tbody tr th {\n",
              "        vertical-align: top;\n",
              "    }\n",
              "\n",
              "    .dataframe thead th {\n",
              "        text-align: right;\n",
              "    }\n",
              "</style>\n",
              "<table border=\"1\" class=\"dataframe\">\n",
              "  <thead>\n",
              "    <tr style=\"text-align: right;\">\n",
              "      <th></th>\n",
              "      <th>1</th>\n",
              "      <th>2</th>\n",
              "      <th>3</th>\n",
              "      <th>4</th>\n",
              "      <th>5</th>\n",
              "    </tr>\n",
              "    <tr>\n",
              "      <th>word</th>\n",
              "      <th></th>\n",
              "      <th></th>\n",
              "      <th></th>\n",
              "      <th></th>\n",
              "      <th></th>\n",
              "    </tr>\n",
              "  </thead>\n",
              "  <tbody>\n",
              "    <tr>\n",
              "      <th>able</th>\n",
              "      <td>0</td>\n",
              "      <td>0</td>\n",
              "      <td>0</td>\n",
              "      <td>1</td>\n",
              "      <td>0</td>\n",
              "    </tr>\n",
              "    <tr>\n",
              "      <th>accepted</th>\n",
              "      <td>0</td>\n",
              "      <td>1</td>\n",
              "      <td>0</td>\n",
              "      <td>0</td>\n",
              "      <td>0</td>\n",
              "    </tr>\n",
              "    <tr>\n",
              "      <th>account</th>\n",
              "      <td>0</td>\n",
              "      <td>0</td>\n",
              "      <td>1</td>\n",
              "      <td>0</td>\n",
              "      <td>0</td>\n",
              "    </tr>\n",
              "    <tr>\n",
              "      <th>activities</th>\n",
              "      <td>0</td>\n",
              "      <td>0</td>\n",
              "      <td>1</td>\n",
              "      <td>0</td>\n",
              "      <td>1</td>\n",
              "    </tr>\n",
              "    <tr>\n",
              "      <th>actually</th>\n",
              "      <td>0</td>\n",
              "      <td>0</td>\n",
              "      <td>0</td>\n",
              "      <td>1</td>\n",
              "      <td>1</td>\n",
              "    </tr>\n",
              "  </tbody>\n",
              "</table>\n",
              "</div>"
            ],
            "text/plain": [
              "            1  2  3  4  5\n",
              "word                     \n",
              "able        0  0  0  1  0\n",
              "accepted    0  1  0  0  0\n",
              "account     0  0  1  0  0\n",
              "activities  0  0  1  0  1\n",
              "actually    0  0  0  1  1"
            ]
          },
          "metadata": {
            "tags": []
          },
          "execution_count": 64
        }
      ]
    },
    {
      "cell_type": "markdown",
      "metadata": {
        "id": "QNWIrGVzR6HS",
        "colab_type": "text"
      },
      "source": [
        "## Perform Naive Bayes\n",
        "\n",
        "I had to slightly change the way the function was written to get it to perform with the way my data is formatted."
      ]
    },
    {
      "cell_type": "code",
      "metadata": {
        "id": "dtUglm3c9-fZ",
        "colab_type": "code",
        "colab": {}
      },
      "source": [
        "def bayes_gothic(evidence:list, evidence_bag:dframe, training_table:dframe, laplace:float=1.0) -> tuple:\n",
        "  assert isinstance(evidence, list), f'evidence not a list but instead a {type(evidence)}'\n",
        "  assert all([isinstance(item, str) for item in evidence]), f'evidence must be list of strings (not spacy tokens)'\n",
        "  assert isinstance(evidence_bag, pd.core.frame.DataFrame), f'evidence_bag not a dframe but instead a {type(evidence_bag)}'\n",
        "  assert isinstance(training_table, pd.core.frame.DataFrame), f'training_table not a dataframe but instead a {type(training_table)}'\n",
        "  assert 'author' in training_table, f'author column is not found in training_table'\n",
        "\n",
        "  author_list = set(training_outcome_str)\n",
        "  mapping = ['1', '2', '3', '4', '5']\n",
        "  label_list = [mapping.index(auth) for auth in author_list]\n",
        "  n_classes = len(set(label_list))\n",
        "  #assert len(list(evidence_bag.values())[0]) == n_classes, f'Values in evidence_bag do not match number of unique classes ({n_classes}) in labels.'\n",
        "\n",
        "  word_list = evidence_bag.index.values.tolist()\n",
        "\n",
        "  evidence = list(set(evidence))  #remove duplicates\n",
        "  counts = []\n",
        "  probs = []\n",
        "  for i in range(n_classes):\n",
        "    ct = label_list.count(i)\n",
        "    counts.append(ct)\n",
        "    probs.append(ct/len(label_list))\n",
        "\n",
        "  #now have counts and probs for all classes\n",
        "\n",
        "  #CONSIDER CHANGING TO LN OF PRODUCTS. END UP SUMMING LOGS OF EACH ITEM. AVOIDS UNDERFLOW.\n",
        "  results = []\n",
        "  for a_class in range(n_classes):\n",
        "    numerator = 1\n",
        "    for ei in evidence:\n",
        "      if ei not in word_list:\n",
        "        #did not see word in training set\n",
        "        the_value =  1/(counts[a_class] + len(evidence_bag))\n",
        "      else:\n",
        "        values = evidence_bag.loc[ei].tolist()\n",
        "        the_value = ((values[a_class]+laplace)/(counts[a_class] + laplace*len(evidence_bag)))\n",
        "      numerator *= the_value\n",
        "    #if (numerator * probs[a_class]) == 0: print(evidence)\n",
        "    results.append(max(numerator * probs[a_class], 2.2250738585072014e-308))\n",
        "\n",
        "  return tuple(results)"
      ],
      "execution_count": 0,
      "outputs": []
    },
    {
      "cell_type": "markdown",
      "metadata": {
        "id": "6t3cOHiESGzz",
        "colab_type": "text"
      },
      "source": [
        "### Build a result list that contains tuples made up of the probability that each word came from someone who responded 1 - strongly disagree, 2 - disagree, 3 - neither agree nor disagree, 4 - agree, or 5 - strongly agree on the outcome variable."
      ]
    },
    {
      "cell_type": "code",
      "metadata": {
        "id": "YqbB6_FR8OW4",
        "colab_type": "code",
        "colab": {}
      },
      "source": [
        "result_list = [] \n",
        "\n",
        "for i in range(len(testing_text_str)): \n",
        "  sentences = testing_text_str[i].lower() \n",
        "  \n",
        "  word_list = [] \n",
        "  doc = nlp(sentences) \n",
        "\n",
        "  for i in range(len(doc)): \n",
        "    token = doc[i]\n",
        "    if token.is_alpha and not token.is_stop:\n",
        "      word_list.append(token.text) \n",
        "\n",
        "  result = bayes_gothic(word_list, sorted_word_table, training_table) \n",
        "  result_list.append(result) "
      ],
      "execution_count": 0,
      "outputs": []
    },
    {
      "cell_type": "code",
      "metadata": {
        "id": "2xDnZvNxAFAw",
        "colab_type": "code",
        "colab": {}
      },
      "source": [
        "result_list[:30]"
      ],
      "execution_count": 0,
      "outputs": []
    },
    {
      "cell_type": "markdown",
      "metadata": {
        "id": "318QInm8SWSB",
        "colab_type": "text"
      },
      "source": [
        "## Make predictions\n",
        "\n",
        "That is, based on the probabilities assigned above, for each word in the word bag, which response on the outcome variable does our model predict that person gave?"
      ]
    },
    {
      "cell_type": "code",
      "metadata": {
        "id": "F-ZFKaKRAUgB",
        "colab_type": "code",
        "colab": {
          "base_uri": "https://localhost:8080/",
          "height": 35
        },
        "outputId": "1406fa10-0441-4462-bed8-0b8baaa47f35"
      },
      "source": [
        "authors = ['1', '2', '3', '4', '5']\n",
        "\n",
        "predictions = []\n",
        "\n",
        "for i in range(len(result_list)):\n",
        "  result = result_list[i] \n",
        "\n",
        "  for i in range(len(result)):\n",
        "    m = max(result)  \n",
        "    author_index = result.index(m) \n",
        "    author = authors[author_index] \n",
        "    pred = author \n",
        "\n",
        "  predictions.append(pred) \n",
        "\n",
        "predictions[:10] "
      ],
      "execution_count": 89,
      "outputs": [
        {
          "output_type": "execute_result",
          "data": {
            "text/plain": [
              "['4', '4', '4', '2', '3', '4', '4', '3', '4', '4']"
            ]
          },
          "metadata": {
            "tags": []
          },
          "execution_count": 89
        }
      ]
    },
    {
      "cell_type": "markdown",
      "metadata": {
        "id": "cmswPLavSi72",
        "colab_type": "text"
      },
      "source": [
        "## Line up the predictions with the actual scores on the outcome variable from the testing set"
      ]
    },
    {
      "cell_type": "code",
      "metadata": {
        "id": "wRtoqksaBI-m",
        "colab_type": "code",
        "colab": {
          "base_uri": "https://localhost:8080/",
          "height": 35
        },
        "outputId": "2132e6ce-edce-4b43-c0f4-64e60cd8bb5f"
      },
      "source": [
        "cases = list(zip(predictions,testing_outcome_str))\n",
        "print(cases[:10])"
      ],
      "execution_count": 94,
      "outputs": [
        {
          "output_type": "stream",
          "text": [
            "[('4', '5'), ('4', '2'), ('4', '4'), ('2', '4'), ('3', '4'), ('4', '4'), ('4', '2'), ('3', '3'), ('4', '3'), ('4', '2')]\n"
          ],
          "name": "stdout"
        }
      ]
    },
    {
      "cell_type": "markdown",
      "metadata": {
        "id": "nuNrVH5dSnFo",
        "colab_type": "text"
      },
      "source": [
        "## Calculate Correct Predictions"
      ]
    },
    {
      "cell_type": "code",
      "metadata": {
        "id": "LUJ7nz7SBQUu",
        "colab_type": "code",
        "colab": {
          "base_uri": "https://localhost:8080/",
          "height": 108
        },
        "outputId": "c6c972f0-44c3-4bfc-f12f-4291231104b4"
      },
      "source": [
        "print(cases.count(('1', '1')))\n",
        "print(cases.count(('2', '2')))\n",
        "print(cases.count(('3', '3')))\n",
        "print(cases.count(('4', '4')))\n",
        "print(cases.count(('5', '5')))"
      ],
      "execution_count": 95,
      "outputs": [
        {
          "output_type": "stream",
          "text": [
            "0\n",
            "1\n",
            "3\n",
            "38\n",
            "0\n"
          ],
          "name": "stdout"
        }
      ]
    },
    {
      "cell_type": "markdown",
      "metadata": {
        "id": "ueA1fIUvSsHZ",
        "colab_type": "text"
      },
      "source": [
        "## Calculate Accuracy"
      ]
    },
    {
      "cell_type": "code",
      "metadata": {
        "id": "mIaj4xHeBaSi",
        "colab_type": "code",
        "colab": {
          "base_uri": "https://localhost:8080/",
          "height": 35
        },
        "outputId": "41589579-5512-4387-a9e5-014a6efd81be"
      },
      "source": [
        "accuracy = (1+3+38)/len(testing_outcome_str)\n",
        "accuracy # .41"
      ],
      "execution_count": 96,
      "outputs": [
        {
          "output_type": "execute_result",
          "data": {
            "text/plain": [
              "0.4117647058823529"
            ]
          },
          "metadata": {
            "tags": []
          },
          "execution_count": 96
        }
      ]
    },
    {
      "cell_type": "markdown",
      "metadata": {
        "id": "y_G4F4y6S3w-",
        "colab_type": "text"
      },
      "source": [
        "# Interpreting Results\n",
        "\n",
        "The results indicated that our model was able to predict participants' responses from 1 to 5 regarding how likely they were to get new clothing in the future that they didn't need with 41% accuracy based on their responsesto what motivated them to get their last clothing item. \n",
        "\n",
        "We could possibly improve the accuracy of the model by using a different ML algorithm, like CNN, and/or by using cross-validation and tuning hyperparameters used when developing the model."
      ]
    }
  ]
}