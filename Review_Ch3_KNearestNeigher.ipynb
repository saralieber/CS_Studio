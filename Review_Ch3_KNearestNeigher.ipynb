{
  "nbformat": 4,
  "nbformat_minor": 0,
  "metadata": {
    "colab": {
      "name": "Review_Ch3_KNearestNeigher.ipynb",
      "provenance": [],
      "authorship_tag": "ABX9TyO2l8Y0Y6l49SEgE3n0ydls",
      "include_colab_link": true
    },
    "kernelspec": {
      "name": "python3",
      "display_name": "Python 3"
    }
  },
  "cells": [
    {
      "cell_type": "markdown",
      "metadata": {
        "id": "view-in-github",
        "colab_type": "text"
      },
      "source": [
        "<a href=\"https://colab.research.google.com/github/saralieber/CS_Studio/blob/master/Review_Ch3_KNearestNeigher.ipynb\" target=\"_parent\"><img src=\"https://colab.research.google.com/assets/colab-badge.svg\" alt=\"Open In Colab\"/></a>"
      ]
    },
    {
      "cell_type": "code",
      "metadata": {
        "id": "wbb9lv-7lvOx",
        "colab_type": "code",
        "colab": {
          "base_uri": "https://localhost:8080/",
          "height": 35
        },
        "outputId": "5a9b7e00-218f-4b8c-b7e6-aa9a7d744d6d"
      },
      "source": [
        "#Flush the old directory - if you get a \"cannot remove\" error that is ok - ignore it\n",
        "!rm -r  'uo_puddles'"
      ],
      "execution_count": 6,
      "outputs": [
        {
          "output_type": "stream",
          "text": [
            "rm: cannot remove 'uo_puddles': No such file or directory\n"
          ],
          "name": "stdout"
        }
      ]
    },
    {
      "cell_type": "code",
      "metadata": {
        "id": "FGN4uiFGl9iI",
        "colab_type": "code",
        "colab": {}
      },
      "source": [
        "# Import Steven's uo-puddles library\n",
        "my_github_name = 'uo-puddles' # Steven's github account\n",
        "my_library_name = 'uo_puddles' # Steven's repository that we want"
      ],
      "execution_count": 0,
      "outputs": []
    },
    {
      "cell_type": "code",
      "metadata": {
        "id": "ZjdiRoGmmLg9",
        "colab_type": "code",
        "colab": {
          "base_uri": "https://localhost:8080/",
          "height": 35
        },
        "outputId": "cc1c53cf-f0f4-4e07-c6dd-cf9fbb4d557d"
      },
      "source": [
        "clone_url = f'https://github.com/{my_github_name}/{my_library_name}.git'\n",
        "clone_url"
      ],
      "execution_count": 8,
      "outputs": [
        {
          "output_type": "execute_result",
          "data": {
            "text/plain": [
              "'https://github.com/uo-puddles/uo_puddles.git'"
            ]
          },
          "metadata": {
            "tags": []
          },
          "execution_count": 8
        }
      ]
    },
    {
      "cell_type": "code",
      "metadata": {
        "id": "FCFEIIyomU3R",
        "colab_type": "code",
        "colab": {
          "base_uri": "https://localhost:8080/",
          "height": 144
        },
        "outputId": "dfc39b25-3056-45d6-a61a-9615a197283f"
      },
      "source": [
        "# add the lirbary to the colab operating system\n",
        "!git clone $clone_url"
      ],
      "execution_count": 9,
      "outputs": [
        {
          "output_type": "stream",
          "text": [
            "Cloning into 'uo_puddles'...\n",
            "remote: Enumerating objects: 225, done.\u001b[K\n",
            "remote: Counting objects:   0% (1/225)\u001b[K\rremote: Counting objects:   1% (3/225)\u001b[K\rremote: Counting objects:   2% (5/225)\u001b[K\rremote: Counting objects:   3% (7/225)\u001b[K\rremote: Counting objects:   4% (9/225)\u001b[K\rremote: Counting objects:   5% (12/225)\u001b[K\rremote: Counting objects:   6% (14/225)\u001b[K\rremote: Counting objects:   7% (16/225)\u001b[K\rremote: Counting objects:   8% (18/225)\u001b[K\rremote: Counting objects:   9% (21/225)\u001b[K\rremote: Counting objects:  10% (23/225)\u001b[K\rremote: Counting objects:  11% (25/225)\u001b[K\rremote: Counting objects:  12% (27/225)\u001b[K\rremote: Counting objects:  13% (30/225)\u001b[K\rremote: Counting objects:  14% (32/225)\u001b[K\rremote: Counting objects:  15% (34/225)\u001b[K\rremote: Counting objects:  16% (36/225)\u001b[K\rremote: Counting objects:  17% (39/225)\u001b[K\rremote: Counting objects:  18% (41/225)\u001b[K\rremote: Counting objects:  19% (43/225)\u001b[K\rremote: Counting objects:  20% (45/225)\u001b[K\rremote: Counting objects:  21% (48/225)\u001b[K\rremote: Counting objects:  22% (50/225)\u001b[K\rremote: Counting objects:  23% (52/225)\u001b[K\rremote: Counting objects:  24% (54/225)\u001b[K\rremote: Counting objects:  25% (57/225)\u001b[K\rremote: Counting objects:  26% (59/225)\u001b[K\rremote: Counting objects:  27% (61/225)\u001b[K\rremote: Counting objects:  28% (63/225)\u001b[K\rremote: Counting objects:  29% (66/225)\u001b[K\rremote: Counting objects:  30% (68/225)\u001b[K\rremote: Counting objects:  31% (70/225)\u001b[K\rremote: Counting objects:  32% (72/225)\u001b[K\rremote: Counting objects:  33% (75/225)\u001b[K\rremote: Counting objects:  34% (77/225)\u001b[K\rremote: Counting objects:  35% (79/225)\u001b[K\rremote: Counting objects:  36% (81/225)\u001b[K\rremote: Counting objects:  37% (84/225)\u001b[K\rremote: Counting objects:  38% (86/225)\u001b[K\rremote: Counting objects:  39% (88/225)\u001b[K\rremote: Counting objects:  40% (90/225)\u001b[K\rremote: Counting objects:  41% (93/225)\u001b[K\rremote: Counting objects:  42% (95/225)\u001b[K\rremote: Counting objects:  43% (97/225)\u001b[K\rremote: Counting objects:  44% (99/225)\u001b[K\rremote: Counting objects:  45% (102/225)\u001b[K\rremote: Counting objects:  46% (104/225)\u001b[K\rremote: Counting objects:  47% (106/225)\u001b[K\rremote: Counting objects:  48% (108/225)\u001b[K\rremote: Counting objects:  49% (111/225)\u001b[K\rremote: Counting objects:  50% (113/225)\u001b[K\rremote: Counting objects:  51% (115/225)\u001b[K\rremote: Counting objects:  52% (117/225)\u001b[K\rremote: Counting objects:  53% (120/225)\u001b[K\rremote: Counting objects:  54% (122/225)\u001b[K\rremote: Counting objects:  55% (124/225)\u001b[K\rremote: Counting objects:  56% (126/225)\u001b[K\rremote: Counting objects:  57% (129/225)\u001b[K\rremote: Counting objects:  58% (131/225)\u001b[K\rremote: Counting objects:  59% (133/225)\u001b[K\rremote: Counting objects:  60% (135/225)\u001b[K\rremote: Counting objects:  61% (138/225)\u001b[K\rremote: Counting objects:  62% (140/225)\u001b[K\rremote: Counting objects:  63% (142/225)\u001b[K\rremote: Counting objects:  64% (144/225)\u001b[K\rremote: Counting objects:  65% (147/225)\u001b[K\rremote: Counting objects:  66% (149/225)\u001b[K\rremote: Counting objects:  67% (151/225)\u001b[K\rremote: Counting objects:  68% (153/225)\u001b[K\rremote: Counting objects:  69% (156/225)\u001b[K\rremote: Counting objects:  70% (158/225)\u001b[K\rremote: Counting objects:  71% (160/225)\u001b[K\rremote: Counting objects:  72% (162/225)\u001b[K\rremote: Counting objects:  73% (165/225)\u001b[K\rremote: Counting objects:  74% (167/225)\u001b[K\rremote: Counting objects:  75% (169/225)\u001b[K\rremote: Counting objects:  76% (171/225)\u001b[K\rremote: Counting objects:  77% (174/225)\u001b[K\rremote: Counting objects:  78% (176/225)\u001b[K\rremote: Counting objects:  79% (178/225)\u001b[K\rremote: Counting objects:  80% (180/225)\u001b[K\rremote: Counting objects:  81% (183/225)\u001b[K\rremote: Counting objects:  82% (185/225)\u001b[K\rremote: Counting objects:  83% (187/225)\u001b[K\rremote: Counting objects:  84% (189/225)\u001b[K\rremote: Counting objects:  85% (192/225)\u001b[K\rremote: Counting objects:  86% (194/225)\u001b[K\rremote: Counting objects:  87% (196/225)\u001b[K\rremote: Counting objects:  88% (198/225)\u001b[K\rremote: Counting objects:  89% (201/225)\u001b[K\rremote: Counting objects:  90% (203/225)\u001b[K\rremote: Counting objects:  91% (205/225)\u001b[K\rremote: Counting objects:  92% (207/225)\u001b[K\rremote: Counting objects:  93% (210/225)\u001b[K\rremote: Counting objects:  94% (212/225)\u001b[K\rremote: Counting objects:  95% (214/225)\u001b[K\rremote: Counting objects:  96% (216/225)\u001b[K\rremote: Counting objects:  97% (219/225)\u001b[K\rremote: Counting objects:  98% (221/225)\u001b[K\rremote: Counting objects:  99% (223/225)\u001b[K\rremote: Counting objects: 100% (225/225)\u001b[K\rremote: Counting objects: 100% (225/225), done.\u001b[K\n",
            "remote: Compressing objects:   0% (1/189)\u001b[K\rremote: Compressing objects:   1% (2/189)\u001b[K\rremote: Compressing objects:   2% (4/189)\u001b[K\rremote: Compressing objects:   3% (6/189)\u001b[K\rremote: Compressing objects:   4% (8/189)\u001b[K\rremote: Compressing objects:   5% (10/189)\u001b[K\rremote: Compressing objects:   6% (12/189)\u001b[K\rremote: Compressing objects:   7% (14/189)\u001b[K\rremote: Compressing objects:   8% (16/189)\u001b[K\rremote: Compressing objects:   9% (18/189)\u001b[K\rremote: Compressing objects:  10% (19/189)\u001b[K\rremote: Compressing objects:  11% (21/189)\u001b[K\rremote: Compressing objects:  12% (23/189)\u001b[K\rremote: Compressing objects:  13% (25/189)\u001b[K\rremote: Compressing objects:  14% (27/189)\u001b[K\rremote: Compressing objects:  15% (29/189)\u001b[K\rremote: Compressing objects:  16% (31/189)\u001b[K\rremote: Compressing objects:  17% (33/189)\u001b[K\rremote: Compressing objects:  18% (35/189)\u001b[K\rremote: Compressing objects:  19% (36/189)\u001b[K\rremote: Compressing objects:  20% (38/189)\u001b[K\rremote: Compressing objects:  21% (40/189)\u001b[K\rremote: Compressing objects:  22% (42/189)\u001b[K\rremote: Compressing objects:  23% (44/189)\u001b[K\rremote: Compressing objects:  24% (46/189)\u001b[K\rremote: Compressing objects:  25% (48/189)\u001b[K\rremote: Compressing objects:  26% (50/189)\u001b[K\rremote: Compressing objects:  27% (52/189)\u001b[K\rremote: Compressing objects:  28% (53/189)\u001b[K\rremote: Compressing objects:  29% (55/189)\u001b[K\rremote: Compressing objects:  30% (57/189)\u001b[K\rremote: Compressing objects:  31% (59/189)\u001b[K\rremote: Compressing objects:  32% (61/189)\u001b[K\rremote: Compressing objects:  33% (63/189)\u001b[K\rremote: Compressing objects:  34% (65/189)\u001b[K\rremote: Compressing objects:  35% (67/189)\u001b[K\rremote: Compressing objects:  36% (69/189)\u001b[K\rremote: Compressing objects:  37% (70/189)\u001b[K\rremote: Compressing objects:  38% (72/189)\u001b[K\rremote: Compressing objects:  39% (74/189)\u001b[K\rremote: Compressing objects:  40% (76/189)\u001b[K\rremote: Compressing objects:  41% (78/189)\u001b[K\rremote: Compressing objects:  42% (80/189)\u001b[K\rremote: Compressing objects:  43% (82/189)\u001b[K\rremote: Compressing objects:  44% (84/189)\u001b[K\rremote: Compressing objects:  45% (86/189)\u001b[K\rremote: Compressing objects:  46% (87/189)\u001b[K\rremote: Compressing objects:  47% (89/189)\u001b[K\rremote: Compressing objects:  48% (91/189)\u001b[K\rremote: Compressing objects:  49% (93/189)\u001b[K\rremote: Compressing objects:  50% (95/189)\u001b[K\rremote: Compressing objects:  51% (97/189)\u001b[K\rremote: Compressing objects:  52% (99/189)\u001b[K\rremote: Compressing objects:  53% (101/189)\u001b[K\rremote: Compressing objects:  54% (103/189)\u001b[K\rremote: Compressing objects:  55% (104/189)\u001b[K\rremote: Compressing objects:  56% (106/189)\u001b[K\rremote: Compressing objects:  57% (108/189)\u001b[K\rremote: Compressing objects:  58% (110/189)\u001b[K\rremote: Compressing objects:  59% (112/189)\u001b[K\rremote: Compressing objects:  60% (114/189)\u001b[K\rremote: Compressing objects:  61% (116/189)\u001b[K\rremote: Compressing objects:  62% (118/189)\u001b[K\rremote: Compressing objects:  63% (120/189)\u001b[K\rremote: Compressing objects:  64% (121/189)\u001b[K\rremote: Compressing objects:  65% (123/189)\u001b[K\rremote: Compressing objects:  66% (125/189)\u001b[K\rremote: Compressing objects:  67% (127/189)\u001b[K\rremote: Compressing objects:  68% (129/189)\u001b[K\rremote: Compressing objects:  69% (131/189)\u001b[K\rremote: Compressing objects:  70% (133/189)\u001b[K\rremote: Compressing objects:  71% (135/189)\u001b[K\rremote: Compressing objects:  72% (137/189)\u001b[K\rremote: Compressing objects:  73% (138/189)\u001b[K\rremote: Compressing objects:  74% (140/189)\u001b[K\rremote: Compressing objects:  75% (142/189)\u001b[K\rremote: Compressing objects:  76% (144/189)\u001b[K\rremote: Compressing objects:  77% (146/189)\u001b[K\rremote: Compressing objects:  78% (148/189)\u001b[K\rremote: Compressing objects:  79% (150/189)\u001b[K\rremote: Compressing objects:  80% (152/189)\u001b[K\rremote: Compressing objects:  81% (154/189)\u001b[K\rremote: Compressing objects:  82% (155/189)\u001b[K\rremote: Compressing objects:  83% (157/189)\u001b[K\rremote: Compressing objects:  84% (159/189)\u001b[K\rremote: Compressing objects:  85% (161/189)\u001b[K\rremote: Compressing objects:  86% (163/189)\u001b[K\rremote: Compressing objects:  87% (165/189)\u001b[K\rremote: Compressing objects:  88% (167/189)\u001b[K\rremote: Compressing objects:  89% (169/189)\u001b[K\rremote: Compressing objects:  90% (171/189)\u001b[K\rremote: Compressing objects:  91% (172/189)\u001b[K\rremote: Compressing objects:  92% (174/189)\u001b[K\rremote: Compressing objects:  93% (176/189)\u001b[K\rremote: Compressing objects:  94% (178/189)\u001b[K\rremote: Compressing objects:  95% (180/189)\u001b[K\rremote: Compressing objects:  96% (182/189)\u001b[K\rremote: Compressing objects:  97% (184/189)\u001b[K\rremote: Compressing objects:  98% (186/189)\u001b[K\rremote: Compressing objects:  99% (188/189)\u001b[K\rremote: Compressing objects: 100% (189/189)\u001b[K\rremote: Compressing objects: 100% (189/189), done.\u001b[K\n",
            "Receiving objects:   0% (1/225)   \rReceiving objects:   1% (3/225)   \rReceiving objects:   2% (5/225)   \rReceiving objects:   3% (7/225)   \rReceiving objects:   4% (9/225)   \rReceiving objects:   5% (12/225)   \rReceiving objects:   6% (14/225)   \rReceiving objects:   7% (16/225)   \rReceiving objects:   8% (18/225)   \rReceiving objects:   9% (21/225)   \rReceiving objects:  10% (23/225)   \rReceiving objects:  11% (25/225)   \rReceiving objects:  12% (27/225)   \rReceiving objects:  13% (30/225)   \rReceiving objects:  14% (32/225)   \rReceiving objects:  15% (34/225)   \rReceiving objects:  16% (36/225)   \rReceiving objects:  17% (39/225)   \rReceiving objects:  18% (41/225)   \rReceiving objects:  19% (43/225)   \rReceiving objects:  20% (45/225)   \rremote: Total 225 (delta 133), reused 64 (delta 33), pack-reused 0\u001b[K\n",
            "Receiving objects:  21% (48/225)   \rReceiving objects:  22% (50/225)   \rReceiving objects:  23% (52/225)   \rReceiving objects:  24% (54/225)   \rReceiving objects:  25% (57/225)   \rReceiving objects:  26% (59/225)   \rReceiving objects:  27% (61/225)   \rReceiving objects:  28% (63/225)   \rReceiving objects:  29% (66/225)   \rReceiving objects:  30% (68/225)   \rReceiving objects:  31% (70/225)   \rReceiving objects:  32% (72/225)   \rReceiving objects:  33% (75/225)   \rReceiving objects:  34% (77/225)   \rReceiving objects:  35% (79/225)   \rReceiving objects:  36% (81/225)   \rReceiving objects:  37% (84/225)   \rReceiving objects:  38% (86/225)   \rReceiving objects:  39% (88/225)   \rReceiving objects:  40% (90/225)   \rReceiving objects:  41% (93/225)   \rReceiving objects:  42% (95/225)   \rReceiving objects:  43% (97/225)   \rReceiving objects:  44% (99/225)   \rReceiving objects:  45% (102/225)   \rReceiving objects:  46% (104/225)   \rReceiving objects:  47% (106/225)   \rReceiving objects:  48% (108/225)   \rReceiving objects:  49% (111/225)   \rReceiving objects:  50% (113/225)   \rReceiving objects:  51% (115/225)   \rReceiving objects:  52% (117/225)   \rReceiving objects:  53% (120/225)   \rReceiving objects:  54% (122/225)   \rReceiving objects:  55% (124/225)   \rReceiving objects:  56% (126/225)   \rReceiving objects:  57% (129/225)   \rReceiving objects:  58% (131/225)   \rReceiving objects:  59% (133/225)   \rReceiving objects:  60% (135/225)   \rReceiving objects:  61% (138/225)   \rReceiving objects:  62% (140/225)   \rReceiving objects:  63% (142/225)   \rReceiving objects:  64% (144/225)   \rReceiving objects:  65% (147/225)   \rReceiving objects:  66% (149/225)   \rReceiving objects:  67% (151/225)   \rReceiving objects:  68% (153/225)   \rReceiving objects:  69% (156/225)   \rReceiving objects:  70% (158/225)   \rReceiving objects:  71% (160/225)   \rReceiving objects:  72% (162/225)   \rReceiving objects:  73% (165/225)   \rReceiving objects:  74% (167/225)   \rReceiving objects:  75% (169/225)   \rReceiving objects:  76% (171/225)   \rReceiving objects:  77% (174/225)   \rReceiving objects:  78% (176/225)   \rReceiving objects:  79% (178/225)   \rReceiving objects:  80% (180/225)   \rReceiving objects:  81% (183/225)   \rReceiving objects:  82% (185/225)   \rReceiving objects:  83% (187/225)   \rReceiving objects:  84% (189/225)   \rReceiving objects:  85% (192/225)   \rReceiving objects:  86% (194/225)   \rReceiving objects:  87% (196/225)   \rReceiving objects:  88% (198/225)   \rReceiving objects:  89% (201/225)   \rReceiving objects:  90% (203/225)   \rReceiving objects:  91% (205/225)   \rReceiving objects:  92% (207/225)   \rReceiving objects:  93% (210/225)   \rReceiving objects:  94% (212/225)   \rReceiving objects:  95% (214/225)   \rReceiving objects:  96% (216/225)   \rReceiving objects:  97% (219/225)   \rReceiving objects:  98% (221/225)   \rReceiving objects:  99% (223/225)   \rReceiving objects: 100% (225/225)   \rReceiving objects: 100% (225/225), 56.74 KiB | 9.46 MiB/s, done.\n",
            "Resolving deltas:   0% (0/133)   \rResolving deltas:  38% (51/133)   \rResolving deltas:  41% (55/133)   \rResolving deltas:  46% (62/133)   \rResolving deltas:  59% (79/133)   \rResolving deltas:  60% (80/133)   \rResolving deltas: 100% (133/133)   \rResolving deltas: 100% (133/133), done.\n"
          ],
          "name": "stdout"
        }
      ]
    },
    {
      "cell_type": "code",
      "metadata": {
        "id": "v4XW7hmqmYOY",
        "colab_type": "code",
        "colab": {}
      },
      "source": [
        "# Import Steven's library (up)\n",
        "import uo_puddles.uo_puddles as up"
      ],
      "execution_count": 0,
      "outputs": []
    },
    {
      "cell_type": "code",
      "metadata": {
        "id": "2ZGODaB7mtEa",
        "colab_type": "code",
        "colab": {}
      },
      "source": [
        "# Import the pandas library (pd)\n",
        "import pandas as pd"
      ],
      "execution_count": 0,
      "outputs": []
    },
    {
      "cell_type": "code",
      "metadata": {
        "id": "d7PVWlEsmyEC",
        "colab_type": "code",
        "colab": {
          "base_uri": "https://localhost:8080/",
          "height": 504
        },
        "outputId": "5c75e23b-1959-40e5-ce6b-306b4b10d84d"
      },
      "source": [
        "# The URL where the updated dataset from Ch.2 is stored\n",
        "url = 'https://docs.google.com/spreadsheets/d/e/2PACX-1vShZZ4EVYQQKWcdQ1JzXxIFj8PER0zk9LwF67YY1BR3iXkWBopwFrGS8-VL1bSACKCRBgOsnY3rAqHU/pub?output=csv'\n",
        "letters_table = pd.read_csv(url)\n",
        "letters_table.head()"
      ],
      "execution_count": 15,
      "outputs": [
        {
          "output_type": "execute_result",
          "data": {
            "text/html": [
              "<div>\n",
              "<style scoped>\n",
              "    .dataframe tbody tr th:only-of-type {\n",
              "        vertical-align: middle;\n",
              "    }\n",
              "\n",
              "    .dataframe tbody tr th {\n",
              "        vertical-align: top;\n",
              "    }\n",
              "\n",
              "    .dataframe thead th {\n",
              "        text-align: right;\n",
              "    }\n",
              "</style>\n",
              "<table border=\"1\" class=\"dataframe\">\n",
              "  <thead>\n",
              "    <tr style=\"text-align: right;\">\n",
              "      <th></th>\n",
              "      <th>Survived</th>\n",
              "      <th>Name</th>\n",
              "      <th>Length</th>\n",
              "      <th>a</th>\n",
              "      <th>b</th>\n",
              "      <th>c</th>\n",
              "      <th>d</th>\n",
              "      <th>e</th>\n",
              "      <th>f</th>\n",
              "      <th>g</th>\n",
              "      <th>h</th>\n",
              "      <th>i</th>\n",
              "      <th>j</th>\n",
              "      <th>k</th>\n",
              "      <th>l</th>\n",
              "      <th>m</th>\n",
              "      <th>n</th>\n",
              "      <th>o</th>\n",
              "      <th>p</th>\n",
              "      <th>q</th>\n",
              "      <th>r</th>\n",
              "      <th>s</th>\n",
              "      <th>t</th>\n",
              "      <th>u</th>\n",
              "      <th>v</th>\n",
              "      <th>w</th>\n",
              "      <th>x</th>\n",
              "      <th>y</th>\n",
              "      <th>z</th>\n",
              "    </tr>\n",
              "  </thead>\n",
              "  <tbody>\n",
              "    <tr>\n",
              "      <th>0</th>\n",
              "      <td>0</td>\n",
              "      <td>Braund, Mr. Owen Harris</td>\n",
              "      <td>23</td>\n",
              "      <td>2</td>\n",
              "      <td>1</td>\n",
              "      <td>0</td>\n",
              "      <td>1</td>\n",
              "      <td>1</td>\n",
              "      <td>0</td>\n",
              "      <td>0</td>\n",
              "      <td>1</td>\n",
              "      <td>1</td>\n",
              "      <td>0</td>\n",
              "      <td>0</td>\n",
              "      <td>0</td>\n",
              "      <td>1</td>\n",
              "      <td>2</td>\n",
              "      <td>1</td>\n",
              "      <td>0</td>\n",
              "      <td>0</td>\n",
              "      <td>4</td>\n",
              "      <td>1</td>\n",
              "      <td>0</td>\n",
              "      <td>1</td>\n",
              "      <td>0</td>\n",
              "      <td>1</td>\n",
              "      <td>0</td>\n",
              "      <td>0</td>\n",
              "      <td>0</td>\n",
              "    </tr>\n",
              "    <tr>\n",
              "      <th>1</th>\n",
              "      <td>1</td>\n",
              "      <td>Cumings, Mrs. John Bradley (Florence Briggs Th...</td>\n",
              "      <td>51</td>\n",
              "      <td>2</td>\n",
              "      <td>2</td>\n",
              "      <td>2</td>\n",
              "      <td>1</td>\n",
              "      <td>4</td>\n",
              "      <td>1</td>\n",
              "      <td>3</td>\n",
              "      <td>2</td>\n",
              "      <td>2</td>\n",
              "      <td>1</td>\n",
              "      <td>0</td>\n",
              "      <td>2</td>\n",
              "      <td>2</td>\n",
              "      <td>3</td>\n",
              "      <td>2</td>\n",
              "      <td>0</td>\n",
              "      <td>0</td>\n",
              "      <td>5</td>\n",
              "      <td>3</td>\n",
              "      <td>1</td>\n",
              "      <td>1</td>\n",
              "      <td>0</td>\n",
              "      <td>0</td>\n",
              "      <td>0</td>\n",
              "      <td>2</td>\n",
              "      <td>0</td>\n",
              "    </tr>\n",
              "    <tr>\n",
              "      <th>2</th>\n",
              "      <td>1</td>\n",
              "      <td>Heikkinen, Miss. Laina</td>\n",
              "      <td>22</td>\n",
              "      <td>2</td>\n",
              "      <td>0</td>\n",
              "      <td>0</td>\n",
              "      <td>0</td>\n",
              "      <td>2</td>\n",
              "      <td>0</td>\n",
              "      <td>0</td>\n",
              "      <td>1</td>\n",
              "      <td>4</td>\n",
              "      <td>0</td>\n",
              "      <td>2</td>\n",
              "      <td>1</td>\n",
              "      <td>1</td>\n",
              "      <td>3</td>\n",
              "      <td>0</td>\n",
              "      <td>0</td>\n",
              "      <td>0</td>\n",
              "      <td>0</td>\n",
              "      <td>2</td>\n",
              "      <td>0</td>\n",
              "      <td>0</td>\n",
              "      <td>0</td>\n",
              "      <td>0</td>\n",
              "      <td>0</td>\n",
              "      <td>0</td>\n",
              "      <td>0</td>\n",
              "    </tr>\n",
              "    <tr>\n",
              "      <th>3</th>\n",
              "      <td>1</td>\n",
              "      <td>Futrelle, Mrs. Jacques Heath (Lily May Peel)</td>\n",
              "      <td>44</td>\n",
              "      <td>3</td>\n",
              "      <td>0</td>\n",
              "      <td>1</td>\n",
              "      <td>0</td>\n",
              "      <td>6</td>\n",
              "      <td>1</td>\n",
              "      <td>0</td>\n",
              "      <td>2</td>\n",
              "      <td>1</td>\n",
              "      <td>1</td>\n",
              "      <td>0</td>\n",
              "      <td>5</td>\n",
              "      <td>2</td>\n",
              "      <td>0</td>\n",
              "      <td>0</td>\n",
              "      <td>1</td>\n",
              "      <td>1</td>\n",
              "      <td>2</td>\n",
              "      <td>2</td>\n",
              "      <td>2</td>\n",
              "      <td>2</td>\n",
              "      <td>0</td>\n",
              "      <td>0</td>\n",
              "      <td>0</td>\n",
              "      <td>2</td>\n",
              "      <td>0</td>\n",
              "    </tr>\n",
              "    <tr>\n",
              "      <th>4</th>\n",
              "      <td>0</td>\n",
              "      <td>Allen, Mr. William Henry</td>\n",
              "      <td>24</td>\n",
              "      <td>2</td>\n",
              "      <td>0</td>\n",
              "      <td>0</td>\n",
              "      <td>0</td>\n",
              "      <td>2</td>\n",
              "      <td>0</td>\n",
              "      <td>0</td>\n",
              "      <td>1</td>\n",
              "      <td>2</td>\n",
              "      <td>0</td>\n",
              "      <td>0</td>\n",
              "      <td>4</td>\n",
              "      <td>2</td>\n",
              "      <td>2</td>\n",
              "      <td>0</td>\n",
              "      <td>0</td>\n",
              "      <td>0</td>\n",
              "      <td>2</td>\n",
              "      <td>0</td>\n",
              "      <td>0</td>\n",
              "      <td>0</td>\n",
              "      <td>0</td>\n",
              "      <td>1</td>\n",
              "      <td>0</td>\n",
              "      <td>1</td>\n",
              "      <td>0</td>\n",
              "    </tr>\n",
              "  </tbody>\n",
              "</table>\n",
              "</div>"
            ],
            "text/plain": [
              "   Survived                                               Name  Length  ...  x  y  z\n",
              "0         0                            Braund, Mr. Owen Harris      23  ...  0  0  0\n",
              "1         1  Cumings, Mrs. John Bradley (Florence Briggs Th...      51  ...  0  2  0\n",
              "2         1                             Heikkinen, Miss. Laina      22  ...  0  0  0\n",
              "3         1       Futrelle, Mrs. Jacques Heath (Lily May Peel)      44  ...  0  2  0\n",
              "4         0                           Allen, Mr. William Henry      24  ...  0  1  0\n",
              "\n",
              "[5 rows x 29 columns]"
            ]
          },
          "metadata": {
            "tags": []
          },
          "execution_count": 15
        }
      ]
    },
    {
      "cell_type": "code",
      "metadata": {
        "id": "ZBDuIRpnnNpX",
        "colab_type": "code",
        "colab": {
          "base_uri": "https://localhost:8080/",
          "height": 73
        },
        "outputId": "657a5c5f-ba2f-465f-ebaa-1eb2b31eb197"
      },
      "source": [
        "# K Nearest Neighbor - A way of calculating the similarity between passengers based on their name lengths & the letters contained in their names\n",
        "\n",
        "# Say you want to compare Mr. Braund to Mr. Allen\n",
        "## Pull these two out from the dataset\n",
        "\n",
        "\n",
        "# Obtaining rows from a dataset - use .iloc[index]\n",
        "mr_braund = letters_table.iloc[0].tolist()\n",
        "print(mr_braund)\n",
        "\n",
        "mr_allen = letters_table.iloc[4].tolist()\n",
        "print(mr_allen) # First number is from 'Survived', Second string is 'Name'\n",
        "\n",
        "\n",
        "# Isolate just the name lengths & which letters are in each name \n",
        "## Slice off everything before column three\n",
        "mr_braund_numeric = mr_braund[2:] # remember indexing starts with 0, so this is column column 3 and on\n",
        "mr_allen_numeric = mr_allen[2:]"
      ],
      "execution_count": 20,
      "outputs": [
        {
          "output_type": "stream",
          "text": [
            "[0, 'Braund, Mr. Owen Harris', 23, 2, 1, 0, 1, 1, 0, 0, 1, 1, 0, 0, 0, 1, 2, 1, 0, 0, 4, 1, 0, 1, 0, 1, 0, 0, 0]\n",
            "[0, 'Allen, Mr. William Henry', 24, 2, 0, 0, 0, 2, 0, 0, 1, 2, 0, 0, 4, 2, 2, 0, 0, 0, 2, 0, 0, 0, 0, 1, 0, 1, 0]\n"
          ],
          "name": "stdout"
        }
      ]
    },
    {
      "cell_type": "markdown",
      "metadata": {
        "id": "o18ofSpmoczR",
        "colab_type": "text"
      },
      "source": [
        "Use geometric distance between two points as a measure of their similarity\n",
        "- A distance of 0 means two points are the same point\n",
        "\n",
        "Calculate distance between points using the formula:\n",
        "\n",
        "<img src='https://www.dropbox.com/s/9wao0kf3u32i3e9/euclidian.png?raw=1'>\n"
      ]
    },
    {
      "cell_type": "code",
      "metadata": {
        "id": "VhQJSIZwoq_j",
        "colab_type": "code",
        "colab": {
          "base_uri": "https://localhost:8080/",
          "height": 35
        },
        "outputId": "a242e3be-2767-4fa1-eea4-80a19578f63a"
      },
      "source": [
        "# Example with two simple points\n",
        "\n",
        "p = [1,3]\n",
        "q = [3,2]\n",
        "n = 2\n",
        "\n",
        "d = ((p[0]-q[0])**2 + (p[1]-q[1])**2)**.5\n",
        "d"
      ],
      "execution_count": 21,
      "outputs": [
        {
          "output_type": "execute_result",
          "data": {
            "text/plain": [
              "2.23606797749979"
            ]
          },
          "metadata": {
            "tags": []
          },
          "execution_count": 21
        }
      ]
    },
    {
      "cell_type": "code",
      "metadata": {
        "id": "ouR6Qv63uzEG",
        "colab_type": "code",
        "colab": {
          "base_uri": "https://localhost:8080/",
          "height": 53
        },
        "outputId": "7d16c757-b2bb-4a67-88a9-a94e26abda47"
      },
      "source": [
        "# Practice - Lists within Lists\n",
        "other_points = [[2,3,4],\n",
        "                [4,5,6],\n",
        "                [7,8,9]] # 3 other points\n",
        "\n",
        "\n",
        "## Calculate the sum of the second column, other_points[1] - which would be the sum of 3, 5, and 8\n",
        "# New List from Old List\n",
        "new_list = []\n",
        "n = len(other_points) # we're treating other_points as the old list\n",
        "\n",
        "for i in range(n):\n",
        "  lists = other_points[i]  # this will be pulling out each list from other_points - for instance, [0] will be the list [2,3,4]\n",
        "  column_1 = lists[1]      # we want the sum of the second column, which would be the list at index 1\n",
        "  new_list.append(column_1)\n",
        "\n",
        "print(new_list)\n",
        "sum(new_list)"
      ],
      "execution_count": 32,
      "outputs": [
        {
          "output_type": "stream",
          "text": [
            "[3, 5, 8]\n"
          ],
          "name": "stdout"
        },
        {
          "output_type": "execute_result",
          "data": {
            "text/plain": [
              "16"
            ]
          },
          "metadata": {
            "tags": []
          },
          "execution_count": 32
        }
      ]
    },
    {
      "cell_type": "code",
      "metadata": {
        "id": "svLhir1Swncx",
        "colab_type": "code",
        "colab": {
          "base_uri": "https://localhost:8080/",
          "height": 35
        },
        "outputId": "66d168f0-aeec-4598-cfe0-e9b7912e2ac3"
      },
      "source": [
        "## Practice - Lists within Lists\n",
        "\n",
        "old_list = [1,2,3]\n",
        "# desired new list = [[1],[2],[3]]\n",
        "\n",
        "new_list = []\n",
        "n = len(old_list)\n",
        "\n",
        "for i in range(n):\n",
        "  item = old_list[i]\n",
        "  new_item = [item] # took each item from old list and made it its own list\n",
        "  new_list.append(new_item)\n",
        "print(new_list)"
      ],
      "execution_count": 33,
      "outputs": [
        {
          "output_type": "stream",
          "text": [
            "[[1], [2], [3]]\n"
          ],
          "name": "stdout"
        }
      ]
    },
    {
      "cell_type": "code",
      "metadata": {
        "id": "_RniWHM5pArJ",
        "colab_type": "code",
        "colab": {
          "base_uri": "https://localhost:8080/",
          "height": 35
        },
        "outputId": "ae2b4d11-4cae-4159-9233-3b8aacfad9ae"
      },
      "source": [
        "# Chapter 3 Exercises\n",
        "\n",
        "## Calculate the distance between Mr. Braund and Mr. Allen using the formula above\n",
        "\n",
        "squared_distances = []\n",
        "\n",
        "for i in range(len(mr_braund_numeric)):\n",
        "  b = mr_braund_numeric[i]\n",
        "  a = mr_allen_numeric[i]\n",
        "  difference = (b-a)\n",
        "  diff_squared = (b-a)**2\n",
        "  squared_distances.append(diff_squared)\n",
        "\n",
        "euclidean_distance = (sum(squared_distances))**.5\n",
        "euclidean_distance "
      ],
      "execution_count": 22,
      "outputs": [
        {
          "output_type": "execute_result",
          "data": {
            "text/plain": [
              "5.477225575051661"
            ]
          },
          "metadata": {
            "tags": []
          },
          "execution_count": 22
        }
      ]
    },
    {
      "cell_type": "code",
      "metadata": {
        "id": "LUdeyLntrpLI",
        "colab_type": "code",
        "colab": {
          "base_uri": "https://localhost:8080/",
          "height": 128
        },
        "outputId": "2ade5d90-e70d-4c72-ad18-489a2fcb5ce9"
      },
      "source": [
        "## Convert letters_table into a list containing all the rows of data (from column 3 to the end)\n",
        "\n",
        "all_passengers_matrix = []\n",
        "\n",
        "for i in range(len(letters_table)):\n",
        "  rows = letters_table.iloc[i].tolist()\n",
        "  sliced_rows = rows[2:]\n",
        "  all_passengers_matrix.append(sliced_rows)\n",
        "\n",
        "for i in range(5):\n",
        "  print(all_passengers_matrix[i])"
      ],
      "execution_count": 25,
      "outputs": [
        {
          "output_type": "stream",
          "text": [
            "[23, 2, 1, 0, 1, 1, 0, 0, 1, 1, 0, 0, 0, 1, 2, 1, 0, 0, 4, 1, 0, 1, 0, 1, 0, 0, 0]\n",
            "[51, 2, 2, 2, 1, 4, 1, 3, 2, 2, 1, 0, 2, 2, 3, 2, 0, 0, 5, 3, 1, 1, 0, 0, 0, 2, 0]\n",
            "[22, 2, 0, 0, 0, 2, 0, 0, 1, 4, 0, 2, 1, 1, 3, 0, 0, 0, 0, 2, 0, 0, 0, 0, 0, 0, 0]\n",
            "[44, 3, 0, 1, 0, 6, 1, 0, 2, 1, 1, 0, 5, 2, 0, 0, 1, 1, 2, 2, 2, 2, 0, 0, 0, 2, 0]\n",
            "[24, 2, 0, 0, 0, 2, 0, 0, 1, 2, 0, 0, 4, 2, 2, 0, 0, 0, 2, 0, 0, 0, 0, 1, 0, 1, 0]\n"
          ],
          "name": "stdout"
        }
      ]
    },
    {
      "cell_type": "code",
      "metadata": {
        "id": "gqgeV5pbsVsb",
        "colab_type": "code",
        "colab": {
          "base_uri": "https://localhost:8080/",
          "height": 108
        },
        "outputId": "2fd5d88d-788d-47ec-9fe5-d25b87763240"
      },
      "source": [
        "# Calculate which passenger is MOST similar to Mr. Braund\n",
        "## This means calculating euclidean distance between Mr. Braund and all other passengers\n",
        "### Helpful tip - Steven wrote a function for calculating euclidean distances\n",
        "\n",
        "# up.euclidean_distance(person_1_numeric, person_2_numeric) \n",
        "## the up. is calling the function from Steven's library\n",
        "\n",
        "\n",
        "all_distances_matrix = []\n",
        "\n",
        "for i in range(len(all_passengers_matrix)):\n",
        "  distances = up.euclidean_distance(all_passengers_matrix[0], all_passengers_matrix[i])\n",
        "  all_distances_matrix.append([i,distances]) # Include the row index so can identify which passenger goes with each distance\n",
        "\n",
        "all_distances_matrix[:5]"
      ],
      "execution_count": 36,
      "outputs": [
        {
          "output_type": "execute_result",
          "data": {
            "text/plain": [
              "[[0, 0.0],\n",
              " [1, 28.792360097775937],\n",
              " [2, 6.244997998398398],\n",
              " [3, 22.825424421026653],\n",
              " [4, 5.477225575051661]]"
            ]
          },
          "metadata": {
            "tags": []
          },
          "execution_count": 36
        }
      ]
    },
    {
      "cell_type": "code",
      "metadata": {
        "id": "0h5hrTACzLKR",
        "colab_type": "code",
        "colab": {
          "base_uri": "https://localhost:8080/",
          "height": 73
        },
        "outputId": "f7e56207-92c0-4e8f-a0b7-9541f710ce8f"
      },
      "source": [
        "# Sort the list of all distances from Braund from lowest to highest to identify person who is most similar (shortest distance)\n",
        "\n",
        "sorted_distances_matrix = sorted(all_distances_matrix, key = lambda x:x[1]) # the key = lambda x:x[1] sorts based on second column (the distances)\n",
        "print(sorted_distances_matrix[:10]) # Look at first 10 rows\n",
        "\n",
        "## Passenger 477 is closest to Mr. Braund. Who is this?\n",
        "\n",
        "passenger_477 = letters_table.iloc[477].tolist()\n",
        "print(passenger_477) # It's Mr. Lewis Richard"
      ],
      "execution_count": 41,
      "outputs": [
        {
          "output_type": "stream",
          "text": [
            "[[0, 0.0], [477, 3.1622776601683795], [482, 3.1622776601683795], [804, 3.1622776601683795], [806, 3.1622776601683795], [75, 3.4641016151377544], [93, 3.4641016151377544], [508, 3.4641016151377544], [698, 3.4641016151377544], [766, 3.4641016151377544]]\n",
            "[0, 'Braund, Mr. Lewis Richard', 25, 2, 1, 1, 2, 1, 0, 0, 1, 2, 0, 0, 1, 1, 1, 0, 0, 0, 4, 1, 0, 1, 0, 1, 0, 0, 0]\n"
          ],
          "name": "stdout"
        }
      ]
    },
    {
      "cell_type": "code",
      "metadata": {
        "id": "R7xHrqPH0gPv",
        "colab_type": "code",
        "colab": {
          "base_uri": "https://localhost:8080/",
          "height": 35
        },
        "outputId": "c9f28577-46da-492a-e973-ee897e0b5e1a"
      },
      "source": [
        "# How similar were the survival outcomes for the top 4 people with closest names to Mr. Braund?\n",
        "\n",
        "top_four_passengers = [477, 482, 804, 806]\n",
        "outcomes = []\n",
        "\n",
        "for i in range(4):\n",
        "  passenger_index = top_four_passengers[i]\n",
        "  passenger_rows = letters_table.iloc[passenger_index].tolist()\n",
        "  survival_outcome = passenger_rows[0]\n",
        "  outcomes.append(survival_outcome)\n",
        "print(outcomes)"
      ],
      "execution_count": 43,
      "outputs": [
        {
          "output_type": "stream",
          "text": [
            "[0, 0, 1, 0]\n"
          ],
          "name": "stdout"
        }
      ]
    }
  ]
}