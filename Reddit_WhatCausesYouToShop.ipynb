{
  "nbformat": 4,
  "nbformat_minor": 0,
  "metadata": {
    "colab": {
      "name": "Reddit_WhatCausesYouToShop.ipynb",
      "provenance": [],
      "authorship_tag": "ABX9TyPs3Voe7hXt8jdZ0Tdo0OGJ",
      "include_colab_link": true
    },
    "kernelspec": {
      "name": "python3",
      "display_name": "Python 3"
    }
  },
  "cells": [
    {
      "cell_type": "markdown",
      "metadata": {
        "id": "view-in-github",
        "colab_type": "text"
      },
      "source": [
        "<a href=\"https://colab.research.google.com/github/saralieber/CS_Studio/blob/master/Reddit_WhatCausesYouToShop.ipynb\" target=\"_parent\"><img src=\"https://colab.research.google.com/assets/colab-badge.svg\" alt=\"Open In Colab\"/></a>"
      ]
    },
    {
      "cell_type": "markdown",
      "metadata": {
        "id": "s--lxl7sJ0_1",
        "colab_type": "text"
      },
      "source": [
        "# Web Scraping"
      ]
    },
    {
      "cell_type": "code",
      "metadata": {
        "id": "IS2MIcU5J43T",
        "colab_type": "code",
        "outputId": "399fe029-e2df-4e87-b899-5ee0fd02ddbf",
        "colab": {
          "base_uri": "https://localhost:8080/",
          "height": 222
        }
      },
      "source": [
        "pip install praw"
      ],
      "execution_count": 12,
      "outputs": [
        {
          "output_type": "stream",
          "text": [
            "Requirement already satisfied: praw in /usr/local/lib/python3.6/dist-packages (7.0.0)\n",
            "Requirement already satisfied: prawcore<2.0,>=1.3.0 in /usr/local/lib/python3.6/dist-packages (from praw) (1.3.0)\n",
            "Requirement already satisfied: update-checker>=0.16 in /usr/local/lib/python3.6/dist-packages (from praw) (0.17)\n",
            "Requirement already satisfied: websocket-client>=0.54.0 in /usr/local/lib/python3.6/dist-packages (from praw) (0.57.0)\n",
            "Requirement already satisfied: requests<3.0,>=2.6.0 in /usr/local/lib/python3.6/dist-packages (from prawcore<2.0,>=1.3.0->praw) (2.23.0)\n",
            "Requirement already satisfied: six in /usr/local/lib/python3.6/dist-packages (from websocket-client>=0.54.0->praw) (1.12.0)\n",
            "Requirement already satisfied: certifi>=2017.4.17 in /usr/local/lib/python3.6/dist-packages (from requests<3.0,>=2.6.0->prawcore<2.0,>=1.3.0->praw) (2020.4.5.1)\n",
            "Requirement already satisfied: chardet<4,>=3.0.2 in /usr/local/lib/python3.6/dist-packages (from requests<3.0,>=2.6.0->prawcore<2.0,>=1.3.0->praw) (3.0.4)\n",
            "Requirement already satisfied: idna<3,>=2.5 in /usr/local/lib/python3.6/dist-packages (from requests<3.0,>=2.6.0->prawcore<2.0,>=1.3.0->praw) (2.9)\n",
            "Requirement already satisfied: urllib3!=1.25.0,!=1.25.1,<1.26,>=1.21.1 in /usr/local/lib/python3.6/dist-packages (from requests<3.0,>=2.6.0->prawcore<2.0,>=1.3.0->praw) (1.24.3)\n"
          ],
          "name": "stdout"
        }
      ]
    },
    {
      "cell_type": "code",
      "metadata": {
        "id": "XrD6VUNccGtW",
        "colab_type": "code",
        "colab": {}
      },
      "source": [
        "import praw\n",
        "import pandas as pd\n",
        "\n",
        "my_client_id = 'Jbow2fXurn00og'\n",
        "my_client_secret = 'OqTPW2Bo1sMKmZurQ2LpOZLAkjc'\n",
        "my_user_agent = 'scrapescrape'\n",
        "\n",
        "reddit = praw.Reddit(client_id=my_client_id, client_secret=my_client_secret, user_agent=my_user_agent)"
      ],
      "execution_count": 0,
      "outputs": []
    },
    {
      "cell_type": "code",
      "metadata": {
        "id": "LyND9pdAJ7LT",
        "colab_type": "code",
        "colab": {}
      },
      "source": [
        "url = reddit.submission(url=\"https://www.reddit.com/r/femalefashionadvice/comments/f3bmf0/ffa_lowno_buy_week_7_what_causes_you_to_shop/\")\n",
        "\n",
        "from praw.models import MoreComments\n",
        "\n",
        "for top_level_comment in url.comments:\n",
        "  if isinstance(top_level_comment, MoreComments):\n",
        "    continue\n",
        "\n",
        "comments = []\n",
        "\n",
        "url.comments.replace_more(limit=0)\n",
        "for top_level_comment in url.comments:\n",
        "  comments.append(top_level_comment.body)\n",
        "  # print(top_level_comment.body)"
      ],
      "execution_count": 0,
      "outputs": []
    },
    {
      "cell_type": "markdown",
      "metadata": {
        "id": "bSHaE1YcKPdg",
        "colab_type": "text"
      },
      "source": [
        "# String Cleaning"
      ]
    },
    {
      "cell_type": "code",
      "metadata": {
        "id": "N1lDtT4LKIDk",
        "colab_type": "code",
        "colab": {}
      },
      "source": [
        "str_comments = str(comments)"
      ],
      "execution_count": 0,
      "outputs": []
    },
    {
      "cell_type": "code",
      "metadata": {
        "id": "ydLMn7dpKJue",
        "colab_type": "code",
        "colab": {}
      },
      "source": [
        "str_comments = str_comments.replace(\",\",\"\")\n",
        "str_comments = str_comments.replace(\".\",\"\")\n",
        "str_comments = str_comments.replace('\"',\"\")\n",
        "str_comments = str_comments.replace(\"’\",\"\")\n",
        "str_comments = str_comments.replace(\"(\",\"\")\n",
        "str_comments = str_comments.replace(\")\",\"\")\n",
        "str_comments = str_comments.replace(\"'\",\"\")"
      ],
      "execution_count": 0,
      "outputs": []
    },
    {
      "cell_type": "markdown",
      "metadata": {
        "id": "KblrXhxvKM_w",
        "colab_type": "text"
      },
      "source": [
        "# Text Analysis"
      ]
    },
    {
      "cell_type": "code",
      "metadata": {
        "id": "xCKbAXXWKSNi",
        "colab_type": "code",
        "outputId": "4724780d-2cb3-4a3c-de8f-e4c06614628b",
        "colab": {
          "base_uri": "https://localhost:8080/",
          "height": 202
        }
      },
      "source": [
        "import nltk\n",
        "import matplotlib.pyplot as plt\n",
        "\n",
        "nltk.download('punkt')\n",
        "nltk.download('stopwords')\n",
        "nltk.download('averaged_perceptron_tagger')\n",
        "nltk.download('wordnet')\n",
        "\n",
        "from nltk.tokenize import sent_tokenize # tokenizes text into sentences\n",
        "from nltk.tokenize import word_tokenize # tokenizes text into words\n",
        "from nltk.probability import FreqDist\n",
        "from nltk.corpus import stopwords\n",
        "from nltk.stem.wordnet import WordNetLemmatizer # Lemmatizing\n",
        "lem = WordNetLemmatizer()\n",
        "from nltk.stem.porter import PorterStemmer # stemming\n",
        "stem = PorterStemmer()"
      ],
      "execution_count": 17,
      "outputs": [
        {
          "output_type": "stream",
          "text": [
            "[nltk_data] Downloading package punkt to /root/nltk_data...\n",
            "[nltk_data]   Package punkt is already up-to-date!\n",
            "[nltk_data] Downloading package stopwords to /root/nltk_data...\n",
            "[nltk_data]   Package stopwords is already up-to-date!\n",
            "[nltk_data] Downloading package averaged_perceptron_tagger to\n",
            "[nltk_data]     /root/nltk_data...\n",
            "[nltk_data]   Package averaged_perceptron_tagger is already up-to-\n",
            "[nltk_data]       date!\n",
            "[nltk_data] Downloading package wordnet to /root/nltk_data...\n",
            "[nltk_data]   Package wordnet is already up-to-date!\n"
          ],
          "name": "stdout"
        }
      ]
    },
    {
      "cell_type": "code",
      "metadata": {
        "id": "1BX6VimOKlNY",
        "colab_type": "code",
        "outputId": "36f84c8c-10fe-49b3-8cde-c4dc945708e7",
        "colab": {
          "base_uri": "https://localhost:8080/",
          "height": 387
        }
      },
      "source": [
        "tokenized_text = word_tokenize(str_comments)\n",
        "tokenized_text[:20]"
      ],
      "execution_count": 18,
      "outputs": [
        {
          "output_type": "execute_result",
          "data": {
            "text/plain": [
              "['[',\n",
              " 'I',\n",
              " 'shop',\n",
              " 'when',\n",
              " 'Im',\n",
              " 'bored',\n",
              " 'sad',\n",
              " 'and',\n",
              " 'feel',\n",
              " 'fat',\n",
              " 'Im',\n",
              " 'having',\n",
              " 'difficulties',\n",
              " 'with',\n",
              " 'finding',\n",
              " 'other',\n",
              " 'things',\n",
              " 'to',\n",
              " 'do',\n",
              " 'since']"
            ]
          },
          "metadata": {
            "tags": []
          },
          "execution_count": 18
        }
      ]
    },
    {
      "cell_type": "code",
      "metadata": {
        "id": "4_0_4pKlKlxr",
        "colab_type": "code",
        "outputId": "4b82b220-6a1e-4f1d-b149-08e19857de8e",
        "colab": {
          "base_uri": "https://localhost:8080/",
          "height": 202
        }
      },
      "source": [
        "# Word list of most common words\n",
        "fdist = FreqDist(tokenized_text)\n",
        "fdist.most_common(10)"
      ],
      "execution_count": 19,
      "outputs": [
        {
          "output_type": "execute_result",
          "data": {
            "text/plain": [
              "[('I', 444),\n",
              " ('to', 238),\n",
              " ('and', 189),\n",
              " ('a', 182),\n",
              " ('the', 168),\n",
              " ('of', 128),\n",
              " ('my', 119),\n",
              " ('that', 90),\n",
              " ('in', 76),\n",
              " ('it', 71)]"
            ]
          },
          "metadata": {
            "tags": []
          },
          "execution_count": 19
        }
      ]
    },
    {
      "cell_type": "code",
      "metadata": {
        "id": "xQ8Gb02AKr3X",
        "colab_type": "code",
        "outputId": "f9b9dadd-6f8a-49f6-ff9a-6a4429ed84dd",
        "colab": {
          "base_uri": "https://localhost:8080/",
          "height": 297
        }
      },
      "source": [
        "# Graph of most common words\n",
        "fdist.plot(30, cumulative=False)\n",
        "plt.show()"
      ],
      "execution_count": 20,
      "outputs": [
        {
          "output_type": "display_data",
          "data": {
            "image/png": "[encoded data removed]",
            "text/plain": [
              "<Figure size 432x288 with 1 Axes>"
            ]
          },
          "metadata": {
            "tags": [],
            "needs_background": "light"
          }
        }
      ]
    },
    {
      "cell_type": "markdown",
      "metadata": {
        "id": "5bnoD4vDK8p7",
        "colab_type": "text"
      },
      "source": [
        "# More Text Cleaning"
      ]
    },
    {
      "cell_type": "code",
      "metadata": {
        "id": "I0HvrOECK5sk",
        "colab_type": "code",
        "colab": {}
      },
      "source": [
        "# Remove Stop Words\n",
        "stop_words = set(stopwords.words(\"english\"))\n",
        "\n",
        "filtered_words = []\n",
        "\n",
        "for w in tokenized_text:\n",
        "  if w not in stop_words:\n",
        "    filtered_words.append(w)"
      ],
      "execution_count": 0,
      "outputs": []
    },
    {
      "cell_type": "code",
      "metadata": {
        "id": "78jg-QuZLRDZ",
        "colab_type": "code",
        "outputId": "50ad9929-f5ed-48cc-ab15-704967e0bc0b",
        "colab": {
          "base_uri": "https://localhost:8080/",
          "height": 573
        }
      },
      "source": [
        "# Re-perform Frequency Analysis\n",
        "fdist = FreqDist(filtered_words)\n",
        "fdist.most_common(30)"
      ],
      "execution_count": 23,
      "outputs": [
        {
          "output_type": "execute_result",
          "data": {
            "text/plain": [
              "[('I', 444),\n",
              " ('like', 61),\n",
              " ('Im', 54),\n",
              " ('shop', 49),\n",
              " ('buy', 45),\n",
              " ('feel', 42),\n",
              " ('want', 40),\n",
              " ('really', 36),\n",
              " ('clothes', 34),\n",
              " ('I\\\\m', 32),\n",
              " ('need', 31),\n",
              " ('shopping', 29),\n",
              " ('new', 29),\n",
              " ('something', 27),\n",
              " ('get', 26),\n",
              " ('things', 24),\n",
              " ('work', 23),\n",
              " ('Ive', 23),\n",
              " ('one', 23),\n",
              " ('trying', 21),\n",
              " ('item', 21),\n",
              " ('good', 20),\n",
              " ('also', 18),\n",
              " ('wardrobe', 18),\n",
              " ('time', 18),\n",
              " ('dont', 18),\n",
              " ('bored', 17),\n",
              " ('go', 17),\n",
              " ('?', 17),\n",
              " ('money', 17)]"
            ]
          },
          "metadata": {
            "tags": []
          },
          "execution_count": 23
        }
      ]
    },
    {
      "cell_type": "code",
      "metadata": {
        "id": "waVl2kbNLVSs",
        "colab_type": "code",
        "outputId": "8d3a1d5b-32ea-41b5-8217-4d3f850fe34f",
        "colab": {
          "base_uri": "https://localhost:8080/",
          "height": 322
        }
      },
      "source": [
        "fdist.plot(30, cumulative=False)\n",
        "plt.show()"
      ],
      "execution_count": 24,
      "outputs": [
        {
          "output_type": "display_data",
          "data": {
            "image/png": "[encoded data removed]",
            "text/plain": [
              "<Figure size 432x288 with 1 Axes>"
            ]
          },
          "metadata": {
            "tags": [],
            "needs_background": "light"
          }
        }
      ]
    },
    {
      "cell_type": "code",
      "metadata": {
        "id": "zayyT0UELGPq",
        "colab_type": "code",
        "colab": {}
      },
      "source": [
        "# Part-of-speech Tagging and Lemmatization\n",
        "\n",
        "nltk.pos_tag(filtered_words)\n",
        "\n",
        "lemma_words = []\n",
        "\n",
        "for word, tag in nltk.pos_tag(filtered_words):\n",
        "  wtag = tag[0].lower()\n",
        "  wtag = wtag if wtag in ['a', 'r', 'n', 'v'] else None \n",
        "  if not wtag:\n",
        "    lemma = word\n",
        "  else:\n",
        "    lemma = lem.lemmatize(word, wtag)\n",
        "  lemma_words.append(lemma)\n",
        "  print(lemma)"
      ],
      "execution_count": 0,
      "outputs": []
    },
    {
      "cell_type": "code",
      "metadata": {
        "id": "Qgnqr3SmLdrE",
        "colab_type": "code",
        "colab": {}
      },
      "source": [
        "# Frequency Analysis\n",
        "fdist = FreqDist(lemma_words)\n",
        "fdist.most_common(100)\n",
        "fdist.plot(30, cumulative=False)\n",
        "plt.show()"
      ],
      "execution_count": 0,
      "outputs": []
    }
  ]
}