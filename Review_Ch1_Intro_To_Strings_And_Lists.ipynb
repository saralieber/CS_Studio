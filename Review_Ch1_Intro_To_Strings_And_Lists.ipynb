{
  "nbformat": 4,
  "nbformat_minor": 0,
  "metadata": {
    "colab": {
      "name": "Review_Ch1_Intro_To_Strings_And_Lists.ipynb",
      "provenance": [],
      "authorship_tag": "ABX9TyMJrge6ipBMEeFR5IwzJ/St",
      "include_colab_link": true
    },
    "kernelspec": {
      "name": "python3",
      "display_name": "Python 3"
    }
  },
  "cells": [
    {
      "cell_type": "markdown",
      "metadata": {
        "id": "view-in-github",
        "colab_type": "text"
      },
      "source": [
        "<a href=\"https://colab.research.google.com/github/saralieber/CS_Studio/blob/master/Review_Ch1_Intro_To_Strings_And_Lists.ipynb\" target=\"_parent\"><img src=\"https://colab.research.google.com/assets/colab-badge.svg\" alt=\"Open In Colab\"/></a>"
      ]
    },
    {
      "cell_type": "code",
      "metadata": {
        "id": "YmSZaa7FDMxh",
        "colab_type": "code",
        "colab": {}
      },
      "source": [
        "# Review of Chapter 1"
      ],
      "execution_count": 0,
      "outputs": []
    },
    {
      "cell_type": "code",
      "metadata": {
        "id": "9QVrYj07DWUL",
        "colab_type": "code",
        "colab": {
          "base_uri": "https://localhost:8080/",
          "height": 454
        },
        "outputId": "908c1b4a-1e6b-4d2e-ba8c-809e9a115227"
      },
      "source": [
        "# Example String\n",
        "frost_text = 'Two roads diverged in a yellow wood,\\nAnd sorry I could not travel both\\nAnd be one traveler, long I stood\\nAnd looked down one as far as I could\\nTo where it bent in the undergrowth;\\n\\nThen took the other, as just as fair,\\nAnd having perhaps the better claim,\\nBecause it was grassy and wanted wear;\\nThough as for that the passing there\\nHad worn them really about the same,\\n\\nAnd both that morning equally lay\\nIn leaves no step had trodden black.\\nOh, I kept the first for another day!\\nYet knowing how way leads on to way,\\nI doubted if I should ever come back.\\n\\nI shall be telling this with a sigh\\nSomewhere ages and ages hence:\\nTwo roads diverged in a wood, and I---\\nI took the one less travelled by,\\nAnd that has made all the difference.\\n'\n",
        "print(frost_text)"
      ],
      "execution_count": 3,
      "outputs": [
        {
          "output_type": "stream",
          "text": [
            "Two roads diverged in a yellow wood,\n",
            "And sorry I could not travel both\n",
            "And be one traveler, long I stood\n",
            "And looked down one as far as I could\n",
            "To where it bent in the undergrowth;\n",
            "\n",
            "Then took the other, as just as fair,\n",
            "And having perhaps the better claim,\n",
            "Because it was grassy and wanted wear;\n",
            "Though as for that the passing there\n",
            "Had worn them really about the same,\n",
            "\n",
            "And both that morning equally lay\n",
            "In leaves no step had trodden black.\n",
            "Oh, I kept the first for another day!\n",
            "Yet knowing how way leads on to way,\n",
            "I doubted if I should ever come back.\n",
            "\n",
            "I shall be telling this with a sigh\n",
            "Somewhere ages and ages hence:\n",
            "Two roads diverged in a wood, and I---\n",
            "I took the one less travelled by,\n",
            "And that has made all the difference.\n",
            "\n"
          ],
          "name": "stdout"
        }
      ]
    },
    {
      "cell_type": "code",
      "metadata": {
        "id": "IbIB1S7SD3GO",
        "colab_type": "code",
        "colab": {
          "base_uri": "https://localhost:8080/",
          "height": 53
        },
        "outputId": "a9397451-5ab0-413a-ac97-6d48a89a5feb"
      },
      "source": [
        "# First sentence of example string\n",
        "FF = 'Two roads diverged in a yellow wood,'\n",
        "print(FF)\n",
        "len(FF)"
      ],
      "execution_count": 4,
      "outputs": [
        {
          "output_type": "stream",
          "text": [
            "Two roads diverged in a yellow wood,\n"
          ],
          "name": "stdout"
        },
        {
          "output_type": "execute_result",
          "data": {
            "text/plain": [
              "36"
            ]
          },
          "metadata": {
            "tags": []
          },
          "execution_count": 4
        }
      ]
    },
    {
      "cell_type": "code",
      "metadata": {
        "id": "qLKeuU4eDtbg",
        "colab_type": "code",
        "colab": {
          "base_uri": "https://localhost:8080/",
          "height": 35
        },
        "outputId": "81b804df-859e-4ac7-92b1-dedc7c494140"
      },
      "source": [
        "# String Methods\n",
        "\n",
        "# Count Number of Time a Character or Phrase Occurs in a String\n",
        "FF.count('n') # count the number of times a specific character occurs in a string\n",
        "\n",
        "\n",
        "# Replace a Character or Phrase in a String with Another Character or Phrase\n",
        "FF.replace('diverged', 'coalesced') # replaces a character or word with a new character or word\n",
        "\n",
        "\n",
        "# Change Formatting of Characters in a String\n",
        "FF.capitalize() # capitalizes first character\n",
        "FF.casefold() # converts string to lower case\n",
        "FF.lower() # returns lower case version of string\n",
        "FF.upper() # converts string to upper case\n",
        "FF.swapcase() # changes lower case characters to upper case and vice versa\n",
        "FF.title() # converts first character of each word to upper case\n",
        "\n",
        "# Indexing Characters or Phrases in a String\n",
        "FF.index('v') # returns index of a character or phrase based on its FIRST instance in the string\n",
        "FF.rindex('v') # returns index of a character or phrase based on its LAST instance in the string\n",
        "FF.find('l') # returns the FIRST instance of a specific character by giving its index\n",
        "FF.rfind('l') # returns the LAST instance in the string where a character is found by giving its index\n",
        "\n",
        "\n",
        "# Checking Nature of the String\n",
        "FF.isalnum() # returns True if all characters in the string are alphanumeric\n",
        "FF.isalpha() # retruns True if all characters in the string are in the alphabet\n",
        "FF.isdecimal() # returns True if all characters in the string are decimals\n",
        "FF.isdigit() # returns True if all characters in the string are digits\n",
        "FF.isidentifier() # returns True if the string is an identifier (a string that contains only alphanumeric characters or underscores; cannot start with a number or contain any spaces)\n",
        "FF.islower() # returns True if all characters in the string are lower case\n",
        "FF.isnumeric() # returns True if all characters in the string are numeric\n",
        "FF.isprintable() # returns True if all characters in the string are printable\n",
        "FF.isspace() # returns True if all characters in the string are whitespaces\n",
        "FF.istitle() # returns True if the string follows the rules of a title (all words start with an upper case letter and the rest of the letters in the words are lower case; symbols and numbers are ignored)\n",
        "FF.isupper() # returns True if all characters in the string are upper case\n",
        "FF.endswith(\",\") # returns True/False for whether the string ends with the specified value\n",
        "FF.startswith(\"T\")\n",
        "\n",
        "\n",
        "# String Alignment\n",
        "FF.ljust(36) # returns left-aligned string; requires length of string argument\n",
        "FF.rjust(36) # returns right-aligned string; requires length of string argument\n",
        "FF.center(36) # center align a string; requires a length of string argument\n",
        "\n",
        "\n",
        "# Partition a String into Parts Based on a Given Keyword\n",
        "FF.partition('diverged') # returns a tuple based on the FIRST instance of the specified word in a string: 1) everything before the specific word, 2) the specified word, 3) everything after the specified word\n",
        "FF.rpartition('diverged') # same as partition but it bases the separation on the LAST instance of the specified word\n",
        "\n",
        "\n",
        "# Split a String into Parts Based on a Given Keyword\n",
        "FF.split('diverged') # Splits the string at the specified separator and returns a list based on FIRST instance of given word\n",
        "FF.rsplit('diverged') # Splits the string at the specified separator and returns a list based on LAST instance of given word\n",
        "\n",
        "\n",
        "# Strip Character(s) from Beginning or End of a String\n",
        "FF_for_lstrip = (',,,,,Two roads diverged in a yellow wood,')\n",
        "FF_for_lstrip.lstrip(',') # removes specified leading characters from the string\n",
        "FF_for_lstrip.rstrip(',') # trims from the right (notice no change in sentence occurred for the lstrip version of the string)\n",
        "\n",
        "\n",
        "# Joining Items in a Dictionary with a Given Separator\n",
        "Dict = {\"name\": \"John\", \"country\": \"Normway\"}\n",
        "Separator = \";\"\n",
        "Separator.join(Dict) # join items in a dictionary into a string using a given separator \n",
        "\n",
        "\n",
        "# Other Formatting Changes\n",
        "FF_for_format = 'Two {object} diverged in a {color} wood,' # the {word} are placeholders that can be modified with the format method\n",
        "FF_for_format.format(object = \"pandas\", color = \"pink\")\n",
        "  # Inside the placeholders, you can add formatting specifics, some examples:\n",
        "  ## :< left aligns the result\n",
        "  ## :e scientific format with a lowercase e\n",
        "  ## :n number format\n",
        "FF.encode() # encodes the string; default encoding is UTF-8\n",
        "FF.expandtabs() # Sets the tab size of the string\n",
        "\n",
        "\n",
        "# Fill the String with a Sepcified Number of 0 Values at the Beginning\n",
        "FF.zfill(50) # fill the string with zeros at the beginning until it is a given number of characters long"
      ],
      "execution_count": 5,
      "outputs": [
        {
          "output_type": "execute_result",
          "data": {
            "text/plain": [
              "'00000000000000Two roads diverged in a yellow wood,'"
            ]
          },
          "metadata": {
            "tags": []
          },
          "execution_count": 5
        }
      ]
    },
    {
      "cell_type": "code",
      "metadata": {
        "id": "6n96tLg8ILbf",
        "colab_type": "code",
        "colab": {
          "base_uri": "https://localhost:8080/",
          "height": 35
        },
        "outputId": "c5e22b08-c776-4724-c9e7-59d445ef963a"
      },
      "source": [
        "# Chapter 1 Exercises - Part 1\n",
        "\n",
        "test_string = 'The letter \"a\" appears 3 times in this sentence.'  #your starting string\n",
        "\n",
        "# Determine if all characters in test_string are in the alphabet. Should be False given we have a \"3\", a period and double-quotes in the string.\n",
        "test_string.isalpha()\n",
        "\n",
        "# Change all characters to lower case\n",
        "test_string.lower()\n",
        "\n",
        "# Determine if all characters in test_string are in the alphabet or are numbers\n",
        "test_string.isalnum()\n",
        "\n",
        "# Delete the period. This is a bit tricky unless you know you can replace one string with the empty string, e.g., ''. In essence, same as deleting every occurcene of the first argument. This can be used to remove characters that are not useful, a typical thing to do.\n",
        "test_string.replace('.', '')\n",
        "\n",
        "# Replace the \"3\" with \"three\". And remember that rhe replace method only accepts strings as arguments. No integers please.\n",
        "test_string.replace('3', 'three')\n",
        "\n",
        "# Find the first location that the letter p appears. You should get back an integer value of 16. And remember that indexing starts at 0!\n",
        "test_string.index('p')\n",
        "test_string.find('p')\n",
        "\n",
        "# What happens if you ask to find a character that is not in the string? You get the value -1.\n",
        "test_string.find('z')\n",
        "\n",
        "# If you simply want to know if the letter p appears in the string, but don't care where, I'll show you a cool short-cut below.\n",
        "'p' in test_string\n",
        "'z' in test_string"
      ],
      "execution_count": 6,
      "outputs": [
        {
          "output_type": "execute_result",
          "data": {
            "text/plain": [
              "False"
            ]
          },
          "metadata": {
            "tags": []
          },
          "execution_count": 6
        }
      ]
    },
    {
      "cell_type": "code",
      "metadata": {
        "id": "dwlhZtDWOpZ2",
        "colab_type": "code",
        "colab": {
          "base_uri": "https://localhost:8080/",
          "height": 35
        },
        "outputId": "93a9e51f-9f7c-4883-f56c-50d14fec4f38"
      },
      "source": [
        "# Using the 'f string'\n",
        "\n",
        "f'The letter \"a\" appears {1+2} times in this sentence.'\n",
        "\n",
        "a_variable = 3\n",
        "f'The letter \"a\" appears {a_variable} times in this sentence.' "
      ],
      "execution_count": 7,
      "outputs": [
        {
          "output_type": "execute_result",
          "data": {
            "text/plain": [
              "'The letter \"a\" appears 3 times in this sentence.'"
            ]
          },
          "metadata": {
            "tags": []
          },
          "execution_count": 7
        }
      ]
    },
    {
      "cell_type": "code",
      "metadata": {
        "id": "QXnvf0PSzJ-E",
        "colab_type": "code",
        "colab": {
          "base_uri": "https://localhost:8080/",
          "height": 110
        },
        "outputId": "ffe08d75-f262-4a01-fcd9-bfbb418e152f"
      },
      "source": [
        "# Transforming String into Lists\n",
        "## When working with datasets, you will have raw text delivered as really long strings.\n",
        "## What you really want, though, is a list of words from the text.\n",
        "\n",
        "# Transform string into a list of words\n",
        "list_of_words = frost_text.split() # by default, split will split on spaces and \\n (line breaks)\n",
        "list_of_words\n",
        "\n",
        "\n",
        "# Transform string into a list of each line\n",
        "frost_text.split(\"\\n\")\n",
        "\n",
        "\n",
        "# Transform string into a list of each sentence\n",
        "frost_text.split('.')"
      ],
      "execution_count": 8,
      "outputs": [
        {
          "output_type": "execute_result",
          "data": {
            "text/plain": [
              "['Two roads diverged in a yellow wood,\\nAnd sorry I could not travel both\\nAnd be one traveler, long I stood\\nAnd looked down one as far as I could\\nTo where it bent in the undergrowth;\\n\\nThen took the other, as just as fair,\\nAnd having perhaps the better claim,\\nBecause it was grassy and wanted wear;\\nThough as for that the passing there\\nHad worn them really about the same,\\n\\nAnd both that morning equally lay\\nIn leaves no step had trodden black',\n",
              " '\\nOh, I kept the first for another day!\\nYet knowing how way leads on to way,\\nI doubted if I should ever come back',\n",
              " '\\n\\nI shall be telling this with a sigh\\nSomewhere ages and ages hence:\\nTwo roads diverged in a wood, and I---\\nI took the one less travelled by,\\nAnd that has made all the difference',\n",
              " '\\n']"
            ]
          },
          "metadata": {
            "tags": []
          },
          "execution_count": 8
        }
      ]
    },
    {
      "cell_type": "markdown",
      "metadata": {
        "id": "wdh0UgrYnVSc",
        "colab_type": "text"
      },
      "source": [
        "Indexing in Python\n",
        "\n",
        "<img src='https://cdn.programiz.com/sites/tutorial2program/files/python-list-index.png'>"
      ]
    },
    {
      "cell_type": "code",
      "metadata": {
        "id": "c2yKvlUknt_v",
        "colab_type": "code",
        "colab": {
          "base_uri": "https://localhost:8080/",
          "height": 126
        },
        "outputId": "0090db7e-e6db-4eda-b56c-30385f93c67f"
      },
      "source": [
        "# Indexing with lists\n",
        "\n",
        "# Left to right, indexing starts with 0\n",
        "# Right to left, indexing starts with -1\n",
        "\n",
        "# Index options\n",
        "## list[#]    (indexing)\n",
        "## list[#:#]  (slicing) # The FIRST number is INCLUDED; the SECOND number is NOT INCLUDED\n",
        "\n",
        "\n",
        "# Taken first sentence from frost_text and split it into a word list (just to make this manageable to look at)\n",
        "first_frost_sent = frost_text.split(\";\")[0]\n",
        "print(first_frost_sent)\n",
        "\n",
        "word_list = first_frost_sent.split() # by default, will split at any space\n",
        "word_list\n",
        "\n",
        "\n",
        "# Get the item at index 5\n",
        "word_list[5] # this is the 6th word\n",
        "\n",
        "# Get items at index 0 through 9\n",
        "word_list[0:9]\n",
        "word_list[:9]\n",
        "\n",
        "# Get the last item in the list\n",
        "word_list[-1]\n",
        "\n",
        "# Get the last two items in the list\n",
        "word_list[-2:]\n",
        "\n",
        "# Get the last three items in the list\n",
        "word_list[-3:]\n",
        "\n",
        "# Get the second to last item\n",
        "word_list[-2:-1]"
      ],
      "execution_count": 29,
      "outputs": [
        {
          "output_type": "stream",
          "text": [
            "Two roads diverged in a yellow wood,\n",
            "And sorry I could not travel both\n",
            "And be one traveler, long I stood\n",
            "And looked down one as far as I could\n",
            "To where it bent in the undergrowth\n"
          ],
          "name": "stdout"
        },
        {
          "output_type": "execute_result",
          "data": {
            "text/plain": [
              "['the']"
            ]
          },
          "metadata": {
            "tags": []
          },
          "execution_count": 29
        }
      ]
    },
    {
      "cell_type": "code",
      "metadata": {
        "id": "Dz8x8vo5rPtm",
        "colab_type": "code",
        "colab": {
          "base_uri": "https://localhost:8080/",
          "height": 163
        },
        "outputId": "a3432cff-747d-4a34-ddc3-ed496b9f9b48"
      },
      "source": [
        "# Lists\n",
        "\n",
        "int_list = [1,2,3,4]\n",
        "\n",
        "\n",
        "# Adding items to a list\n",
        "int_list + [5,6] # output: [1,2,3,4,5,6]\n",
        "int_list # BUT, the original list hasn't changed (because didn't use =)\n",
        "\n",
        "int_list += [7] # This WILL update the original list with the added items\n",
        "int_list\n",
        "\n",
        "int_list.append(9) # This is the same as using +=\n",
        "int_list\n",
        "\n",
        "# int_list + 5; this won't work because the item you want to add has to be contained in a list\n",
        "\n",
        "\n",
        "# Can do the same thing with a list of strings\n",
        "short_list = word_list[0:6]\n",
        "short_list\n",
        "\n",
        "short_list + [\"submarine\"]\n",
        "short_list\n",
        "\n",
        "short_list += [\"submarine\"]\n",
        "short_list\n",
        "\n",
        "short_list.append(\"a yellow submarine\")\n",
        "short_list"
      ],
      "execution_count": 46,
      "outputs": [
        {
          "output_type": "execute_result",
          "data": {
            "text/plain": [
              "['Two',\n",
              " 'roads',\n",
              " 'diverged',\n",
              " 'in',\n",
              " 'a',\n",
              " 'yellow',\n",
              " 'submarine',\n",
              " 'a yellow submarine']"
            ]
          },
          "metadata": {
            "tags": []
          },
          "execution_count": 46
        }
      ]
    },
    {
      "cell_type": "code",
      "metadata": {
        "id": "kxdabTzMwshG",
        "colab_type": "code",
        "colab": {}
      },
      "source": [
        "# Chapter 1 Exercise - Part 2"
      ],
      "execution_count": 0,
      "outputs": []
    },
    {
      "cell_type": "markdown",
      "metadata": {
        "id": "9oq3vImIw4Zt",
        "colab_type": "text"
      },
      "source": [
        "1. Grab some text off the web with a copy command (command-c on my mac).\n",
        "\n",
        "2. Paste it into where I show below.\n",
        "\n",
        "3. Split it into sentences.\n",
        "\n",
        "4. Grab the first sentence.\n",
        "\n",
        "5. Split it into words.\n",
        "\n",
        "6. Slice off the first 3 words.\n",
        "\n",
        "7. Add or append \"Whoopee\" on to the slice."
      ]
    },
    {
      "cell_type": "code",
      "metadata": {
        "id": "Od2eGW2Lw8De",
        "colab_type": "code",
        "colab": {
          "base_uri": "https://localhost:8080/",
          "height": 35
        },
        "outputId": "6d0408c0-938d-4bd8-992d-459dd93a211c"
      },
      "source": [
        "hp = ''' \"Fancy seeing you here, Professor McGonagall. \"\n",
        "I have turned to smile at the tabby, but Item had gone. Instead I have was smiling\n",
        "at to rather severe-looking woman quien was wearing square glasses exactly\n",
        "the shape of the markings the cat had had around its eyes. She, too, was\n",
        "wearing to cloak, an emerald one. Her black hair was drawn into to tight\n",
        "bun. She looked distinctly ruffled.\n",
        "\"How did you know Item was me? \" she asked.\n",
        "\"My dear Professor, I've never seen a cat sit so stiffly. \"\n",
        "\"You'd be stiff if you'd been sitting on to brick wall all day, \" said\n",
        "Professor McGonagall.\n",
        "\"All day? When you could have been Entering the day by delivering it by delivering it by making a difference? I must have passed to\n",
        "dozen feasts and parties on my way here. \"\n",
        "Professor McGonagall sniffed angrily. '''\n",
        "\n",
        "hp = hp.replace('\"','')\n",
        "hp_sentences = hp.split('.')\n",
        "hp_sentences\n",
        "\n",
        "hp_first_sent = hp_sentences[0]\n",
        "hp_first_sent\n",
        "\n",
        "hp_first_words = hp_first_sent.split()\n",
        "hp_first_words\n",
        "\n",
        "hp_first_three_words = hp_first_words[0:3]\n",
        "hp_first_three_words\n",
        "\n",
        "hp_first_three_words.append('Whoopee!')\n",
        "hp_first_three_words\n",
        "\n",
        "hp_whoopee = hp_first_three_words + ['Whoopee!']\n",
        "hp_whoopee"
      ],
      "execution_count": 66,
      "outputs": [
        {
          "output_type": "execute_result",
          "data": {
            "text/plain": [
              "['Fancy', 'seeing', 'you', 'Whoopee!', 'Whoopee!']"
            ]
          },
          "metadata": {
            "tags": []
          },
          "execution_count": 66
        }
      ]
    },
    {
      "cell_type": "code",
      "metadata": {
        "id": "xHab4Q_p0Fil",
        "colab_type": "code",
        "colab": {
          "base_uri": "https://localhost:8080/",
          "height": 35
        },
        "outputId": "6eed85d4-3310-4c5e-dd5c-4a5c0ccf7cfd"
      },
      "source": [
        "# Length of a List\n",
        "\n",
        "len(hp_first_three_words)"
      ],
      "execution_count": 70,
      "outputs": [
        {
          "output_type": "execute_result",
          "data": {
            "text/plain": [
              "4"
            ]
          },
          "metadata": {
            "tags": []
          },
          "execution_count": 70
        }
      ]
    }
  ]
}