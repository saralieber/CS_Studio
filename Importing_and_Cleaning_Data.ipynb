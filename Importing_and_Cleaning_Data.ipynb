{
  "nbformat": 4,
  "nbformat_minor": 0,
  "metadata": {
    "colab": {
      "name": "Importing_and_Cleaning_Data.ipynb",
      "provenance": [],
      "authorship_tag": "ABX9TyNJpIRy/2leU3GNajompaV8",
      "include_colab_link": true
    },
    "kernelspec": {
      "name": "python3",
      "display_name": "Python 3"
    }
  },
  "cells": [
    {
      "cell_type": "markdown",
      "metadata": {
        "id": "view-in-github",
        "colab_type": "text"
      },
      "source": [
        "<a href=\"https://colab.research.google.com/github/saralieber/CS_Studio/blob/master/Importing_and_Cleaning_Data.ipynb\" target=\"_parent\"><img src=\"https://colab.research.google.com/assets/colab-badge.svg\" alt=\"Open In Colab\"/></a>"
      ]
    },
    {
      "cell_type": "markdown",
      "metadata": {
        "id": "h0FMYpp_wgfI",
        "colab_type": "text"
      },
      "source": [
        "# Importing and Cleaning Data in Python\n",
        "\n",
        "\n",
        "## Importing Text Files (.txt)\n",
        "filename = 'file_name.txt'\n",
        "\n",
        "file = open(filename, mode = 'r') # 'r' is to read (means you can only read it)\n",
        "\n",
        "text = file.read() # assign the text from the file to a variable by applying the .read() method\n",
        "\n",
        "file.close() # close connection to the file\n",
        "\n",
        "## Writing to a file\n",
        "file = open(filename, mode = 'w') # 'w' is to write\n",
        "\n",
        "## Avoid having to close a file by opening it with the with statement\n",
        "with open('file_name.txt', 'r') as file: \n",
        "  print(file.read())"
      ]
    },
    {
      "cell_type": "markdown",
      "metadata": {
        "id": "st5X4_WOBNiE",
        "colab_type": "text"
      },
      "source": [
        "# Set working directory to google drive "
      ]
    },
    {
      "cell_type": "code",
      "metadata": {
        "id": "1nUOjtkl_cEu",
        "colab_type": "code",
        "colab": {}
      },
      "source": [
        "# Conncet google colab to google drive\n",
        "from google.colab import drive \n",
        "drive.mount('/content/gdrive')"
      ],
      "execution_count": 0,
      "outputs": []
    },
    {
      "cell_type": "code",
      "metadata": {
        "id": "BPFIqrMwBFsJ",
        "colab_type": "code",
        "colab": {}
      },
      "source": [
        "# Set working directory to google drive\n",
        "%cd /content/gdrive/My\\ Drive/"
      ],
      "execution_count": 0,
      "outputs": []
    },
    {
      "cell_type": "code",
      "metadata": {
        "id": "tat8UXigBG0z",
        "colab_type": "code",
        "colab": {}
      },
      "source": [
        "# Check working directory\n",
        "!pwd"
      ],
      "execution_count": 0,
      "outputs": []
    },
    {
      "cell_type": "code",
      "metadata": {
        "id": "z7iVhc2d9UCu",
        "colab_type": "code",
        "colab": {}
      },
      "source": [
        "# Display contents of your working directory\n",
        "! ls"
      ],
      "execution_count": 0,
      "outputs": []
    },
    {
      "cell_type": "code",
      "metadata": {
        "id": "Oxp-MNNE9g6q",
        "colab_type": "code",
        "colab": {}
      },
      "source": [
        "# Opening a file as read-only\n",
        "file = open('mobydick.txt', mode = 'r')"
      ],
      "execution_count": 0,
      "outputs": []
    },
    {
      "cell_type": "code",
      "metadata": {
        "id": "RUgYa5rSBs5p",
        "colab_type": "code",
        "colab": {}
      },
      "source": [
        "# Print the file\n",
        "print(file.read())"
      ],
      "execution_count": 0,
      "outputs": []
    },
    {
      "cell_type": "code",
      "metadata": {
        "id": "nhZXWMNLBykR",
        "colab_type": "code",
        "colab": {}
      },
      "source": [
        "# Read and print the first 3 lines\n",
        "with open('mobydick.txt') as file:\n",
        "  print(file.readline()) # print first line\n",
        "  print(file.readline()) # print second line\n",
        "  print(file.readline()) # print third line"
      ],
      "execution_count": 0,
      "outputs": []
    }
  ]
}