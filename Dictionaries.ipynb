{
  "nbformat": 4,
  "nbformat_minor": 0,
  "metadata": {
    "colab": {
      "name": "Dictionaries.ipynb",
      "provenance": [],
      "authorship_tag": "ABX9TyMeHWoOL8xoig13t3uiHFF+",
      "include_colab_link": true
    },
    "kernelspec": {
      "name": "python3",
      "display_name": "Python 3"
    }
  },
  "cells": [
    {
      "cell_type": "markdown",
      "metadata": {
        "id": "view-in-github",
        "colab_type": "text"
      },
      "source": [
        "<a href=\"https://colab.research.google.com/github/saralieber/CS_Studio/blob/master/Dictionaries.ipynb\" target=\"_parent\"><img src=\"https://colab.research.google.com/assets/colab-badge.svg\" alt=\"Open In Colab\"/></a>"
      ]
    },
    {
      "cell_type": "code",
      "metadata": {
        "id": "Uc0ccvA8mrTL",
        "colab_type": "code",
        "colab": {
          "base_uri": "https://localhost:8080/",
          "height": 55
        },
        "outputId": "b7204619-cd18-4a17-92c7-9d9b9afe6d9a"
      },
      "source": [
        "# A dictionary is a type of data that associates a key with a value\n",
        "## Every key in a dictionary is unique (no repeats of keys)\n",
        "## The general format for a dictionary is:\n",
        "\n",
        "# my_dict = {\n",
        "#    \"key1\":\"value1\",\n",
        "#    \"key2\",\"value2\",\n",
        "# }\n",
        "\n",
        "# Example - take these two separate lists of countries and capitals and combine into a dictionary\n",
        "countries = ['spain', 'france', 'germany', 'norway']\n",
        "capitals = ['madrid', 'paris', 'berlin', 'oslo']\n",
        "\n",
        "europe = {\n",
        "    'spain':'madrid', # the first item before the colon is the key: the second item after the colon is the value\n",
        "    'france':'paris',\n",
        "    'germany':'berlin',\n",
        "    'norway':'olso',\n",
        "}\n",
        "\n",
        "print(europe)"
      ],
      "execution_count": 2,
      "outputs": [
        {
          "output_type": "stream",
          "text": [
            "{'spain': 'madrid', 'france': 'paris', 'germany': 'berlin', 'norway': 'olso'}\n"
          ],
          "name": "stdout"
        }
      ]
    },
    {
      "cell_type": "code",
      "metadata": {
        "id": "YQI9MtCcoG9f",
        "colab_type": "code",
        "colab": {
          "base_uri": "https://localhost:8080/",
          "height": 53
        },
        "outputId": "34b6d96f-ffec-448b-aebb-52ee35e97c5e"
      },
      "source": [
        "# Accessing values in the dictionary\n",
        "## USe indexing of a key to get its corresponding value\n",
        "\n",
        "# Example: get the capital of france\n",
        "print(europe['france'])\n",
        "\n",
        "# the .keys method prints out all the keys\n",
        "print(europe.keys())"
      ],
      "execution_count": 3,
      "outputs": [
        {
          "output_type": "stream",
          "text": [
            "paris\n",
            "dict_keys(['spain', 'france', 'germany', 'norway'])\n"
          ],
          "name": "stdout"
        }
      ]
    },
    {
      "cell_type": "code",
      "metadata": {
        "id": "epA6lSRIow8O",
        "colab_type": "code",
        "colab": {
          "base_uri": "https://localhost:8080/",
          "height": 55
        },
        "outputId": "f62f4b4c-95de-4d7b-bc6f-af80cc777fa2"
      },
      "source": [
        "# Adding key:value pairs to a dictionary\n",
        "europe['romania'] = 'bucharest'\n",
        "print(europe)"
      ],
      "execution_count": 4,
      "outputs": [
        {
          "output_type": "stream",
          "text": [
            "{'spain': 'madrid', 'france': 'paris', 'germany': 'berlin', 'norway': 'olso', 'romania': 'bucharest'}\n"
          ],
          "name": "stdout"
        }
      ]
    },
    {
      "cell_type": "code",
      "metadata": {
        "id": "vmzE39mwpL46",
        "colab_type": "code",
        "colab": {
          "base_uri": "https://localhost:8080/",
          "height": 55
        },
        "outputId": "3f50a15f-a88e-4087-aef9-de49027b2fde"
      },
      "source": [
        "# Deleting key:value pairs from a dictionary\n",
        "del(europe['norway'])\n",
        "print(europe)"
      ],
      "execution_count": 5,
      "outputs": [
        {
          "output_type": "stream",
          "text": [
            "{'spain': 'madrid', 'france': 'paris', 'germany': 'berlin', 'romania': 'bucharest'}\n"
          ],
          "name": "stdout"
        }
      ]
    },
    {
      "cell_type": "code",
      "metadata": {
        "id": "vvMRKm_UpVbz",
        "colab_type": "code",
        "colab": {
          "base_uri": "https://localhost:8080/",
          "height": 55
        },
        "outputId": "9ef57ca9-202b-4c17-9a16-aa6d0a96c2f4"
      },
      "source": [
        "# Updating a value in a dictionary\n",
        "europe['romania'] = 'transylvania'\n",
        "print(europe)"
      ],
      "execution_count": 6,
      "outputs": [
        {
          "output_type": "stream",
          "text": [
            "{'spain': 'madrid', 'france': 'paris', 'germany': 'berlin', 'romania': 'transylvania'}\n"
          ],
          "name": "stdout"
        }
      ]
    },
    {
      "cell_type": "code",
      "metadata": {
        "id": "X73NpBQywg2E",
        "colab_type": "code",
        "colab": {
          "base_uri": "https://localhost:8080/",
          "height": 35
        },
        "outputId": "f3c26e5b-c09c-49df-dc5e-4206b05a91a3"
      },
      "source": [
        "# Testing logical for whether a key exists in the dictionary\n",
        "print('romania' in europe)"
      ],
      "execution_count": 7,
      "outputs": [
        {
          "output_type": "stream",
          "text": [
            "True\n"
          ],
          "name": "stdout"
        }
      ]
    },
    {
      "cell_type": "markdown",
      "metadata": {
        "id": "7bt5U_KOpxrl",
        "colab_type": "text"
      },
      "source": [
        "Lists vs Dictionaries\n",
        "\n",
        "Lists: indexed by range of numbers\n",
        "Dictionary: indexed by unique keys\n",
        "\n",
        "Use a list when you have a collection of values for which order matters and you want to be able to select an entire subset of the data\n",
        "\n",
        "Use a dictionary when you want to be able to look up values from a table using unique keys\n",
        "\n"
      ]
    },
    {
      "cell_type": "code",
      "metadata": {
        "id": "fNQBY1fuxeYp",
        "colab_type": "code",
        "colab": {}
      },
      "source": [
        "# Dictionary in a dictionary\n",
        "## You can place dictionaries within other dictionaries (same as lists in lists)\n",
        "\n",
        "# Example\n",
        "europe = { 'spain': { 'capital':'madrid', 'population':46.77 },\n",
        "           'france': { 'capital':'paris', 'population':66.03 },\n",
        "           'germany': { 'capital':'berlin', 'population':80.62 },\n",
        "           'norway': { 'capital':'oslo', 'population':5.084 } }\n",
        "\n",
        "## Obtain the population of france\n",
        "print(europe['france']['population']) # dic['key1']['key2']"
      ],
      "execution_count": 0,
      "outputs": []
    }
  ]
}