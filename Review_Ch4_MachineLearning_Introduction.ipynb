{
  "nbformat": 4,
  "nbformat_minor": 0,
  "metadata": {
    "colab": {
      "name": "Review_Ch4_MachineLearning_Introduction.ipynb",
      "provenance": [],
      "authorship_tag": "ABX9TyOClimKCQ+8nqv8efkL9R6I",
      "include_colab_link": true
    },
    "kernelspec": {
      "name": "python3",
      "display_name": "Python 3"
    }
  },
  "cells": [
    {
      "cell_type": "markdown",
      "metadata": {
        "id": "view-in-github",
        "colab_type": "text"
      },
      "source": [
        "<a href=\"https://colab.research.google.com/github/saralieber/CS_Studio/blob/master/Review_Ch4_MachineLearning_Introduction.ipynb\" target=\"_parent\"><img src=\"https://colab.research.google.com/assets/colab-badge.svg\" alt=\"Open In Colab\"/></a>"
      ]
    },
    {
      "cell_type": "code",
      "metadata": {
        "id": "4_DqbVNc1xkW",
        "colab_type": "code",
        "colab": {}
      },
      "source": [
        "import pandas as pd"
      ],
      "execution_count": 0,
      "outputs": []
    },
    {
      "cell_type": "code",
      "metadata": {
        "id": "tQykoCVucaEy",
        "colab_type": "code",
        "colab": {}
      },
      "source": [
        "url = 'https://docs.google.com/spreadsheets/d/e/2PACX-1vShZZ4EVYQQKWcdQ1JzXxIFj8PER0zk9LwF67YY1BR3iXkWBopwFrGS8-VL1bSACKCRBgOsnY3rAqHU/pub?output=csv'"
      ],
      "execution_count": 0,
      "outputs": []
    },
    {
      "cell_type": "code",
      "metadata": {
        "id": "HkJKYxuvca66",
        "colab_type": "code",
        "colab": {
          "base_uri": "https://localhost:8080/",
          "height": 504
        },
        "outputId": "4d9a6184-f89b-4e75-ab9c-f8cff0ebbb29"
      },
      "source": [
        "letters_table = pd.read_csv(url)\n",
        "letters_table.head()"
      ],
      "execution_count": 3,
      "outputs": [
        {
          "output_type": "execute_result",
          "data": {
            "text/html": [
              "<div>\n",
              "<style scoped>\n",
              "    .dataframe tbody tr th:only-of-type {\n",
              "        vertical-align: middle;\n",
              "    }\n",
              "\n",
              "    .dataframe tbody tr th {\n",
              "        vertical-align: top;\n",
              "    }\n",
              "\n",
              "    .dataframe thead th {\n",
              "        text-align: right;\n",
              "    }\n",
              "</style>\n",
              "<table border=\"1\" class=\"dataframe\">\n",
              "  <thead>\n",
              "    <tr style=\"text-align: right;\">\n",
              "      <th></th>\n",
              "      <th>Survived</th>\n",
              "      <th>Name</th>\n",
              "      <th>Length</th>\n",
              "      <th>a</th>\n",
              "      <th>b</th>\n",
              "      <th>c</th>\n",
              "      <th>d</th>\n",
              "      <th>e</th>\n",
              "      <th>f</th>\n",
              "      <th>g</th>\n",
              "      <th>h</th>\n",
              "      <th>i</th>\n",
              "      <th>j</th>\n",
              "      <th>k</th>\n",
              "      <th>l</th>\n",
              "      <th>m</th>\n",
              "      <th>n</th>\n",
              "      <th>o</th>\n",
              "      <th>p</th>\n",
              "      <th>q</th>\n",
              "      <th>r</th>\n",
              "      <th>s</th>\n",
              "      <th>t</th>\n",
              "      <th>u</th>\n",
              "      <th>v</th>\n",
              "      <th>w</th>\n",
              "      <th>x</th>\n",
              "      <th>y</th>\n",
              "      <th>z</th>\n",
              "    </tr>\n",
              "  </thead>\n",
              "  <tbody>\n",
              "    <tr>\n",
              "      <th>0</th>\n",
              "      <td>0</td>\n",
              "      <td>Braund, Mr. Owen Harris</td>\n",
              "      <td>23</td>\n",
              "      <td>2</td>\n",
              "      <td>1</td>\n",
              "      <td>0</td>\n",
              "      <td>1</td>\n",
              "      <td>1</td>\n",
              "      <td>0</td>\n",
              "      <td>0</td>\n",
              "      <td>1</td>\n",
              "      <td>1</td>\n",
              "      <td>0</td>\n",
              "      <td>0</td>\n",
              "      <td>0</td>\n",
              "      <td>1</td>\n",
              "      <td>2</td>\n",
              "      <td>1</td>\n",
              "      <td>0</td>\n",
              "      <td>0</td>\n",
              "      <td>4</td>\n",
              "      <td>1</td>\n",
              "      <td>0</td>\n",
              "      <td>1</td>\n",
              "      <td>0</td>\n",
              "      <td>1</td>\n",
              "      <td>0</td>\n",
              "      <td>0</td>\n",
              "      <td>0</td>\n",
              "    </tr>\n",
              "    <tr>\n",
              "      <th>1</th>\n",
              "      <td>1</td>\n",
              "      <td>Cumings, Mrs. John Bradley (Florence Briggs Th...</td>\n",
              "      <td>51</td>\n",
              "      <td>2</td>\n",
              "      <td>2</td>\n",
              "      <td>2</td>\n",
              "      <td>1</td>\n",
              "      <td>4</td>\n",
              "      <td>1</td>\n",
              "      <td>3</td>\n",
              "      <td>2</td>\n",
              "      <td>2</td>\n",
              "      <td>1</td>\n",
              "      <td>0</td>\n",
              "      <td>2</td>\n",
              "      <td>2</td>\n",
              "      <td>3</td>\n",
              "      <td>2</td>\n",
              "      <td>0</td>\n",
              "      <td>0</td>\n",
              "      <td>5</td>\n",
              "      <td>3</td>\n",
              "      <td>1</td>\n",
              "      <td>1</td>\n",
              "      <td>0</td>\n",
              "      <td>0</td>\n",
              "      <td>0</td>\n",
              "      <td>2</td>\n",
              "      <td>0</td>\n",
              "    </tr>\n",
              "    <tr>\n",
              "      <th>2</th>\n",
              "      <td>1</td>\n",
              "      <td>Heikkinen, Miss. Laina</td>\n",
              "      <td>22</td>\n",
              "      <td>2</td>\n",
              "      <td>0</td>\n",
              "      <td>0</td>\n",
              "      <td>0</td>\n",
              "      <td>2</td>\n",
              "      <td>0</td>\n",
              "      <td>0</td>\n",
              "      <td>1</td>\n",
              "      <td>4</td>\n",
              "      <td>0</td>\n",
              "      <td>2</td>\n",
              "      <td>1</td>\n",
              "      <td>1</td>\n",
              "      <td>3</td>\n",
              "      <td>0</td>\n",
              "      <td>0</td>\n",
              "      <td>0</td>\n",
              "      <td>0</td>\n",
              "      <td>2</td>\n",
              "      <td>0</td>\n",
              "      <td>0</td>\n",
              "      <td>0</td>\n",
              "      <td>0</td>\n",
              "      <td>0</td>\n",
              "      <td>0</td>\n",
              "      <td>0</td>\n",
              "    </tr>\n",
              "    <tr>\n",
              "      <th>3</th>\n",
              "      <td>1</td>\n",
              "      <td>Futrelle, Mrs. Jacques Heath (Lily May Peel)</td>\n",
              "      <td>44</td>\n",
              "      <td>3</td>\n",
              "      <td>0</td>\n",
              "      <td>1</td>\n",
              "      <td>0</td>\n",
              "      <td>6</td>\n",
              "      <td>1</td>\n",
              "      <td>0</td>\n",
              "      <td>2</td>\n",
              "      <td>1</td>\n",
              "      <td>1</td>\n",
              "      <td>0</td>\n",
              "      <td>5</td>\n",
              "      <td>2</td>\n",
              "      <td>0</td>\n",
              "      <td>0</td>\n",
              "      <td>1</td>\n",
              "      <td>1</td>\n",
              "      <td>2</td>\n",
              "      <td>2</td>\n",
              "      <td>2</td>\n",
              "      <td>2</td>\n",
              "      <td>0</td>\n",
              "      <td>0</td>\n",
              "      <td>0</td>\n",
              "      <td>2</td>\n",
              "      <td>0</td>\n",
              "    </tr>\n",
              "    <tr>\n",
              "      <th>4</th>\n",
              "      <td>0</td>\n",
              "      <td>Allen, Mr. William Henry</td>\n",
              "      <td>24</td>\n",
              "      <td>2</td>\n",
              "      <td>0</td>\n",
              "      <td>0</td>\n",
              "      <td>0</td>\n",
              "      <td>2</td>\n",
              "      <td>0</td>\n",
              "      <td>0</td>\n",
              "      <td>1</td>\n",
              "      <td>2</td>\n",
              "      <td>0</td>\n",
              "      <td>0</td>\n",
              "      <td>4</td>\n",
              "      <td>2</td>\n",
              "      <td>2</td>\n",
              "      <td>0</td>\n",
              "      <td>0</td>\n",
              "      <td>0</td>\n",
              "      <td>2</td>\n",
              "      <td>0</td>\n",
              "      <td>0</td>\n",
              "      <td>0</td>\n",
              "      <td>0</td>\n",
              "      <td>1</td>\n",
              "      <td>0</td>\n",
              "      <td>1</td>\n",
              "      <td>0</td>\n",
              "    </tr>\n",
              "  </tbody>\n",
              "</table>\n",
              "</div>"
            ],
            "text/plain": [
              "   Survived                                               Name  Length  ...  x  y  z\n",
              "0         0                            Braund, Mr. Owen Harris      23  ...  0  0  0\n",
              "1         1  Cumings, Mrs. John Bradley (Florence Briggs Th...      51  ...  0  2  0\n",
              "2         1                             Heikkinen, Miss. Laina      22  ...  0  0  0\n",
              "3         1       Futrelle, Mrs. Jacques Heath (Lily May Peel)      44  ...  0  2  0\n",
              "4         0                           Allen, Mr. William Henry      24  ...  0  1  0\n",
              "\n",
              "[5 rows x 29 columns]"
            ]
          },
          "metadata": {
            "tags": []
          },
          "execution_count": 3
        }
      ]
    },
    {
      "cell_type": "code",
      "metadata": {
        "id": "YYC1insZcfqv",
        "colab_type": "code",
        "colab": {
          "base_uri": "https://localhost:8080/",
          "height": 35
        },
        "outputId": "e521b781-69f2-4cb1-8bf6-205c369c3a49"
      },
      "source": [
        "# Machine Learning\n",
        "## Set up Training and Testing Sets\n",
        "\n",
        "# For this example, say you want 30% of the sample to be in the training set and 70% to be in the testing set\n",
        "n_for_test_set = int(len(letters_table)/3) # using int() rounds the result to the nearest whole number\n",
        "n_for_test_set # 297\n",
        "\n",
        "n_for_train_set = len(letters_table) - n_for_test_set # the other 70% goes in the training set\n",
        "n_for_train_set # 594"
      ],
      "execution_count": 4,
      "outputs": [
        {
          "output_type": "execute_result",
          "data": {
            "text/plain": [
              "594"
            ]
          },
          "metadata": {
            "tags": []
          },
          "execution_count": 4
        }
      ]
    },
    {
      "cell_type": "code",
      "metadata": {
        "id": "BTTwYwkndEQO",
        "colab_type": "code",
        "colab": {
          "base_uri": "https://localhost:8080/",
          "height": 436
        },
        "outputId": "9b8fbebe-7bdf-4b99-9bc8-6433619ddc7e"
      },
      "source": [
        "# Creating a Holdout Sample\n",
        "## First, shuffle the rows in the table randomly\n",
        "## Second, split the shuffled table into training & testing sets based on n's above\n",
        "\n",
        "set_seed = 1234 # to be able to replicate random shuffling\n",
        "\n",
        "import numpy as np\n",
        "rsgen = np.random.RandomState(set_seed) # numpy's random number generator\n",
        "print(rsgen)\n",
        "\n",
        "# Use the .sample() method to randomly shuffle the rows of the original table\n",
        "shuffled_table = letters_table.sample(frac=1, random_state = rsgen) # frac=1 means shuffle the entire table\n",
        "shuffled_table.head()"
      ],
      "execution_count": 5,
      "outputs": [
        {
          "output_type": "stream",
          "text": [
            "RandomState(MT19937)\n"
          ],
          "name": "stdout"
        },
        {
          "output_type": "execute_result",
          "data": {
            "text/html": [
              "<div>\n",
              "<style scoped>\n",
              "    .dataframe tbody tr th:only-of-type {\n",
              "        vertical-align: middle;\n",
              "    }\n",
              "\n",
              "    .dataframe tbody tr th {\n",
              "        vertical-align: top;\n",
              "    }\n",
              "\n",
              "    .dataframe thead th {\n",
              "        text-align: right;\n",
              "    }\n",
              "</style>\n",
              "<table border=\"1\" class=\"dataframe\">\n",
              "  <thead>\n",
              "    <tr style=\"text-align: right;\">\n",
              "      <th></th>\n",
              "      <th>Survived</th>\n",
              "      <th>Name</th>\n",
              "      <th>Length</th>\n",
              "      <th>a</th>\n",
              "      <th>b</th>\n",
              "      <th>c</th>\n",
              "      <th>d</th>\n",
              "      <th>e</th>\n",
              "      <th>f</th>\n",
              "      <th>g</th>\n",
              "      <th>h</th>\n",
              "      <th>i</th>\n",
              "      <th>j</th>\n",
              "      <th>k</th>\n",
              "      <th>l</th>\n",
              "      <th>m</th>\n",
              "      <th>n</th>\n",
              "      <th>o</th>\n",
              "      <th>p</th>\n",
              "      <th>q</th>\n",
              "      <th>r</th>\n",
              "      <th>s</th>\n",
              "      <th>t</th>\n",
              "      <th>u</th>\n",
              "      <th>v</th>\n",
              "      <th>w</th>\n",
              "      <th>x</th>\n",
              "      <th>y</th>\n",
              "      <th>z</th>\n",
              "    </tr>\n",
              "  </thead>\n",
              "  <tbody>\n",
              "    <tr>\n",
              "      <th>523</th>\n",
              "      <td>1</td>\n",
              "      <td>Hippach, Mrs. Louis Albert (Ida Sophia Fischer)</td>\n",
              "      <td>47</td>\n",
              "      <td>4</td>\n",
              "      <td>1</td>\n",
              "      <td>2</td>\n",
              "      <td>1</td>\n",
              "      <td>2</td>\n",
              "      <td>1</td>\n",
              "      <td>0</td>\n",
              "      <td>4</td>\n",
              "      <td>5</td>\n",
              "      <td>0</td>\n",
              "      <td>0</td>\n",
              "      <td>2</td>\n",
              "      <td>1</td>\n",
              "      <td>0</td>\n",
              "      <td>2</td>\n",
              "      <td>3</td>\n",
              "      <td>0</td>\n",
              "      <td>3</td>\n",
              "      <td>4</td>\n",
              "      <td>1</td>\n",
              "      <td>1</td>\n",
              "      <td>0</td>\n",
              "      <td>0</td>\n",
              "      <td>0</td>\n",
              "      <td>0</td>\n",
              "      <td>0</td>\n",
              "    </tr>\n",
              "    <tr>\n",
              "      <th>778</th>\n",
              "      <td>0</td>\n",
              "      <td>Kilgannon, Mr. Thomas J</td>\n",
              "      <td>23</td>\n",
              "      <td>2</td>\n",
              "      <td>0</td>\n",
              "      <td>0</td>\n",
              "      <td>0</td>\n",
              "      <td>0</td>\n",
              "      <td>0</td>\n",
              "      <td>1</td>\n",
              "      <td>1</td>\n",
              "      <td>1</td>\n",
              "      <td>1</td>\n",
              "      <td>1</td>\n",
              "      <td>1</td>\n",
              "      <td>2</td>\n",
              "      <td>3</td>\n",
              "      <td>2</td>\n",
              "      <td>0</td>\n",
              "      <td>0</td>\n",
              "      <td>1</td>\n",
              "      <td>1</td>\n",
              "      <td>1</td>\n",
              "      <td>0</td>\n",
              "      <td>0</td>\n",
              "      <td>0</td>\n",
              "      <td>0</td>\n",
              "      <td>0</td>\n",
              "      <td>0</td>\n",
              "    </tr>\n",
              "    <tr>\n",
              "      <th>760</th>\n",
              "      <td>0</td>\n",
              "      <td>Garfirth, Mr. John</td>\n",
              "      <td>18</td>\n",
              "      <td>1</td>\n",
              "      <td>0</td>\n",
              "      <td>0</td>\n",
              "      <td>0</td>\n",
              "      <td>0</td>\n",
              "      <td>1</td>\n",
              "      <td>1</td>\n",
              "      <td>2</td>\n",
              "      <td>1</td>\n",
              "      <td>1</td>\n",
              "      <td>0</td>\n",
              "      <td>0</td>\n",
              "      <td>1</td>\n",
              "      <td>1</td>\n",
              "      <td>1</td>\n",
              "      <td>0</td>\n",
              "      <td>0</td>\n",
              "      <td>3</td>\n",
              "      <td>0</td>\n",
              "      <td>1</td>\n",
              "      <td>0</td>\n",
              "      <td>0</td>\n",
              "      <td>0</td>\n",
              "      <td>0</td>\n",
              "      <td>0</td>\n",
              "      <td>0</td>\n",
              "    </tr>\n",
              "    <tr>\n",
              "      <th>496</th>\n",
              "      <td>1</td>\n",
              "      <td>Eustis, Miss. Elizabeth Mussey</td>\n",
              "      <td>30</td>\n",
              "      <td>1</td>\n",
              "      <td>1</td>\n",
              "      <td>0</td>\n",
              "      <td>0</td>\n",
              "      <td>4</td>\n",
              "      <td>0</td>\n",
              "      <td>0</td>\n",
              "      <td>1</td>\n",
              "      <td>3</td>\n",
              "      <td>0</td>\n",
              "      <td>0</td>\n",
              "      <td>1</td>\n",
              "      <td>2</td>\n",
              "      <td>0</td>\n",
              "      <td>0</td>\n",
              "      <td>0</td>\n",
              "      <td>0</td>\n",
              "      <td>0</td>\n",
              "      <td>6</td>\n",
              "      <td>2</td>\n",
              "      <td>2</td>\n",
              "      <td>0</td>\n",
              "      <td>0</td>\n",
              "      <td>0</td>\n",
              "      <td>1</td>\n",
              "      <td>1</td>\n",
              "    </tr>\n",
              "    <tr>\n",
              "      <th>583</th>\n",
              "      <td>0</td>\n",
              "      <td>Ross, Mr. John Hugo</td>\n",
              "      <td>19</td>\n",
              "      <td>0</td>\n",
              "      <td>0</td>\n",
              "      <td>0</td>\n",
              "      <td>0</td>\n",
              "      <td>0</td>\n",
              "      <td>0</td>\n",
              "      <td>1</td>\n",
              "      <td>2</td>\n",
              "      <td>0</td>\n",
              "      <td>1</td>\n",
              "      <td>0</td>\n",
              "      <td>0</td>\n",
              "      <td>1</td>\n",
              "      <td>1</td>\n",
              "      <td>3</td>\n",
              "      <td>0</td>\n",
              "      <td>0</td>\n",
              "      <td>2</td>\n",
              "      <td>2</td>\n",
              "      <td>0</td>\n",
              "      <td>1</td>\n",
              "      <td>0</td>\n",
              "      <td>0</td>\n",
              "      <td>0</td>\n",
              "      <td>0</td>\n",
              "      <td>0</td>\n",
              "    </tr>\n",
              "  </tbody>\n",
              "</table>\n",
              "</div>"
            ],
            "text/plain": [
              "     Survived                                             Name  Length  ...  x  y  z\n",
              "523         1  Hippach, Mrs. Louis Albert (Ida Sophia Fischer)      47  ...  0  0  0\n",
              "778         0                          Kilgannon, Mr. Thomas J      23  ...  0  0  0\n",
              "760         0                               Garfirth, Mr. John      18  ...  0  0  0\n",
              "496         1                   Eustis, Miss. Elizabeth Mussey      30  ...  0  1  1\n",
              "583         0                              Ross, Mr. John Hugo      19  ...  0  0  0\n",
              "\n",
              "[5 rows x 29 columns]"
            ]
          },
          "metadata": {
            "tags": []
          },
          "execution_count": 5
        }
      ]
    },
    {
      "cell_type": "code",
      "metadata": {
        "id": "zCc0LPt_eIqc",
        "colab_type": "code",
        "colab": {}
      },
      "source": [
        "# Split the randomly shuffled table into the training and testing set\n",
        "\n",
        "testing_table = shuffled_table[:n_for_test_set]\n",
        "testing_table = testing_table.reset_index(drop=True) # reset the indices \n",
        "\n",
        "training_table = shuffled_table[n_for_test_set:]\n",
        "training_table = training_table.reset_index(drop=True)"
      ],
      "execution_count": 0,
      "outputs": []
    },
    {
      "cell_type": "code",
      "metadata": {
        "id": "OkNtcL6ymoFj",
        "colab_type": "code",
        "colab": {
          "base_uri": "https://localhost:8080/",
          "height": 109
        },
        "outputId": "fac19c60-3a6a-4df7-da90-295aa9428653"
      },
      "source": [
        "## Convert the training set into a list containing all the rows of data (from column 3 to the end)\n",
        "\n",
        "training_passengers_matrix = []\n",
        "\n",
        "# Training Table\n",
        "for i in range(len(training_table)):\n",
        "  rows = training_table.iloc[i].tolist()\n",
        "  sliced_rows = rows[2:]\n",
        "  training_passengers_matrix.append(sliced_rows)\n",
        "\n",
        "for i in range(5):\n",
        "  print(training_passengers_matrix[i])\n",
        "\n",
        "#\n",
        "training_outcomes = training_table['Survived'].tolist()"
      ],
      "execution_count": 7,
      "outputs": [
        {
          "output_type": "stream",
          "text": [
            "[35, 1, 2, 1, 0, 2, 1, 0, 0, 2, 0, 0, 3, 2, 2, 4, 0, 0, 2, 4, 1, 2, 0, 0, 0, 0, 0]\n",
            "[25, 1, 0, 0, 2, 2, 1, 0, 0, 0, 1, 0, 1, 1, 1, 2, 0, 0, 2, 3, 3, 0, 0, 0, 0, 0, 0]\n",
            "[18, 2, 0, 0, 0, 1, 0, 0, 0, 1, 0, 0, 1, 1, 2, 1, 0, 0, 1, 2, 1, 1, 0, 0, 0, 0, 0]\n",
            "[21, 2, 0, 0, 3, 2, 0, 0, 2, 0, 0, 0, 0, 1, 1, 1, 0, 0, 2, 0, 0, 0, 0, 2, 0, 0, 0]\n",
            "[22, 1, 0, 0, 0, 3, 0, 0, 0, 2, 1, 0, 2, 2, 1, 1, 0, 0, 2, 2, 0, 0, 0, 1, 0, 0, 0]\n"
          ],
          "name": "stdout"
        }
      ]
    },
    {
      "cell_type": "code",
      "metadata": {
        "id": "-_hmkZsvm5Ay",
        "colab_type": "code",
        "colab": {
          "base_uri": "https://localhost:8080/",
          "height": 146
        },
        "outputId": "6581f17c-b8f5-4fb2-b4fc-ffbede7bac92"
      },
      "source": [
        "# Prepping for the ML part\n",
        "!rm -r 'uo_puddles'\n",
        "my_github_name = 'uo-puddles'\n",
        "clone_url = f'https://github.com/{my_github_name}/uo_puddles.git'\n",
        "!git clone $clone_url  \n",
        "import uo_puddles.uo_puddles as up"
      ],
      "execution_count": 8,
      "outputs": [
        {
          "output_type": "stream",
          "text": [
            "Cloning into 'uo_puddles'...\n",
            "remote: Enumerating objects: 225, done.\u001b[K\n",
            "remote: Counting objects: 100% (225/225), done.\u001b[K\n",
            "remote: Compressing objects: 100% (189/189), done.\u001b[K\n",
            "remote: Total 225 (delta 133), reused 64 (delta 33), pack-reused 0\u001b[K\n",
            "Receiving objects: 100% (225/225), 56.74 KiB | 691.00 KiB/s, done.\n",
            "Resolving deltas: 100% (133/133), done.\n"
          ],
          "name": "stdout"
        }
      ]
    },
    {
      "cell_type": "code",
      "metadata": {
        "id": "jSBYE3qHnpy-",
        "colab_type": "code",
        "colab": {
          "base_uri": "https://localhost:8080/",
          "height": 54
        },
        "outputId": "d4737c24-92e6-49ff-9784-c5bad52f903b"
      },
      "source": [
        "# An example version using one row from the testing set\n",
        "\n",
        "test_row_0 = testing_table.iloc[0].tolist()\n",
        "test_values_0 = test_row_0[2:] # slice off columns 1 and 2\n",
        "print(test_values_0)\n",
        "\n",
        "# Now, use the ordered_distancex_matrix to get the equivlant of the sorted_passengers_matrix from Ch.3\n",
        "## Which is the calculated euclidean distance between a reference (in this case, the one person from the test set) and everyone else in the training set, and sort the distances from lowest to highest\n",
        "ordered_crowd = up.ordered_distances_matrix(test_values_0, training_passengers_matrix) # this is measuring similarity based on euclidean distances calculated from alphabet scores for each person's name\n",
        "ordered_crowd[:5] # check out first 5\n",
        "\n",
        "\n",
        "# Choose a value for K\n",
        "k = 5\n",
        "\n",
        "# Get the row indexes for the top five people in the ordered_crowd (the top five people most similar to the sample test participant)\n",
        "expert_list = []\n",
        "\n",
        "for i in range(k):\n",
        "  pair = ordered_crowd[i] # [index, distance] - the index for the first five people in ordered_crowd & distance of each from the test participant\n",
        "  index = pair[0] # the first item in pair (the index for each participant)\n",
        "  expert_list.append(index) # store the indexes\n",
        "expert_list # 51, 154, 491, 396, 24, by \"expert\" we mean the people most similar to the test subject\n",
        "\n",
        "\n",
        "# Next, see how the outcome of the five people most similar to the test subject compare to the outcome of the test subject\n",
        "expert_outcomes = []\n",
        "\n",
        "for i in range(k):\n",
        "  index = expert_list[i]\n",
        "  outcome = training_outcomes[index] # this is the 'Survived' score for the 'expert' participants\n",
        "  expert_outcomes.append(outcome)\n",
        "expert_outcomes # 1, 1, 0, 1, 1 \n",
        "# 4 people survived (1), 1 person perished (0)\n",
        "\n",
        "\n",
        "# The above are saved as functions in uo_puddles\n",
        "## training_passengers_matrix - a list of rows (each row is a list itself) representing the length and counts of the 26 letters of the alphabet\n",
        "## traininglabels - the is the survived column from letters_table in list form"
      ],
      "execution_count": 9,
      "outputs": [
        {
          "output_type": "stream",
          "text": [
            "[47, 4, 1, 2, 1, 2, 1, 0, 4, 5, 0, 0, 2, 1, 0, 2, 3, 0, 3, 4, 1, 1, 0, 0, 0, 0, 0]\n"
          ],
          "name": "stdout"
        },
        {
          "output_type": "execute_result",
          "data": {
            "text/plain": [
              "[1, 1, 0, 1, 1]"
            ]
          },
          "metadata": {
            "tags": []
          },
          "execution_count": 9
        }
      ]
    },
    {
      "cell_type": "code",
      "metadata": {
        "id": "ik3cTXcmtkXD",
        "colab_type": "code",
        "colab": {
          "base_uri": "https://localhost:8080/",
          "height": 55
        },
        "outputId": "34bb95c9-bf3e-4015-c7aa-9cfed3074f02"
      },
      "source": [
        "# Shortcut way of doing what we did in code above using the built-in functions from up\n",
        "## Using the knn function from uo_puddles (up)\n",
        "\n",
        "training_labels = letters_table['Survived'].tolist()\n",
        "\n",
        "up.knn(test_values_0, training_passengers_matrix, training_labels, 5, 'euclidean')\n",
        "# up.knn(reference_person, all_other_people, outcomes_for_all_other_people, value_of_k, similarity_measure)\n",
        "## Our model predicts 1 for the test_row subject (because a majority of people similar to the test_row subject scored 1 on the outcome variable)\n",
        "\n",
        "# Were we correct?\n",
        "print(test_row_0) # Yes! This person scored 1 on 'Survived' (the first column value)"
      ],
      "execution_count": 10,
      "outputs": [
        {
          "output_type": "stream",
          "text": [
            "[1, 'Hippach, Mrs. Louis Albert (Ida Sophia Fischer)', 47, 4, 1, 2, 1, 2, 1, 0, 4, 5, 0, 0, 2, 1, 0, 2, 3, 0, 3, 4, 1, 1, 0, 0, 0, 0, 0]\n"
          ],
          "name": "stdout"
        }
      ]
    },
    {
      "cell_type": "code",
      "metadata": {
        "id": "po0rokWQuba8",
        "colab_type": "code",
        "colab": {}
      },
      "source": [
        "# Cosine Similarity\n",
        "## Another way of measuring similarity besides euclidean distance"
      ],
      "execution_count": 0,
      "outputs": []
    },
    {
      "cell_type": "markdown",
      "metadata": {
        "id": "RopeiwprutkK",
        "colab_type": "text"
      },
      "source": [
        "<img src='https://www.dropbox.com/s/7rtuzw37hgl1oi8/ed_vs_cos.png?raw=1' height=300>"
      ]
    },
    {
      "cell_type": "code",
      "metadata": {
        "id": "ETlw2-DBuw5W",
        "colab_type": "code",
        "colab": {}
      },
      "source": [
        "# Euclidean distance is d (the distance between two points)\n",
        "# Cosine similarity is cosine(theta) - the cosine of the angle formed by vectors connecting the origin to each of the points"
      ],
      "execution_count": 0,
      "outputs": []
    },
    {
      "cell_type": "markdown",
      "metadata": {
        "id": "-nAAoIbTvAg3",
        "colab_type": "text"
      },
      "source": [
        "The formula for calculating cosine similarity:\n",
        "\n",
        "<img src='https://www.dropbox.com/s/oi1ttx99hf0uejn/cosine.png?raw=1'>"
      ]
    },
    {
      "cell_type": "code",
      "metadata": {
        "id": "kQ9RIXzUvev0",
        "colab_type": "code",
        "colab": {
          "base_uri": "https://localhost:8080/",
          "height": 35
        },
        "outputId": "217514e9-0b57-43ea-dd0e-48619129d397"
      },
      "source": [
        "# Calculating cosine similarity\n",
        "## For this example, use the test_row subject as A, and use the first person from the training_passengers_matrix as B\n",
        "\n",
        "A = test_values_0\n",
        "B = training_passengers_matrix[0]\n",
        "\n",
        "\n",
        "# Compute the numerator \n",
        "\n",
        "A_cross_B = []\n",
        "\n",
        "for i in range(len(A)):\n",
        "  A_times_B = A[i]*B[i]\n",
        "  A_cross_B.append(A_times_B)\n",
        "\n",
        "numerator = sum(A_cross_B)\n",
        "numerator\n",
        "\n",
        "\n",
        "# Computer the denominator\n",
        "\n",
        "A_squared_list = []\n",
        "B_squared_list = []\n",
        "\n",
        "for i in range(len(A)):\n",
        "  A_sqaured = (A[i])**2\n",
        "  B_squared = (B[i])**2\n",
        "  A_squared_list.append(A_sqaured)\n",
        "  B_squared_list.append(B_squared)\n",
        "\n",
        "denominator = ((sum(A_squared_list))**0.5)*((sum(B_squared_list))**0.5)\n",
        "denominator\n",
        "\n",
        "\n",
        "# Compute cosine \n",
        "cosine = numerator/denominator\n",
        "cosine\n",
        "\n",
        "\n",
        "# Interpreting Cosine\n",
        "## Cosine gives a value between 0 and 1\n",
        "## The smaller the cosine value, the more dissimlar the two vectors are\n",
        "## The best value (most similar) is a cosine of 1; the worst value (most dissimilar) is a cosine of 0\n",
        "\n",
        "\n",
        "# The above process has been written as a function in uo_puddles\n",
        "## up.cosine_similarity(vector1, vector2)\n",
        "up.cosine_similarity(A,B)"
      ],
      "execution_count": 14,
      "outputs": [
        {
          "output_type": "execute_result",
          "data": {
            "text/plain": [
              "0.9844045418547783"
            ]
          },
          "metadata": {
            "tags": []
          },
          "execution_count": 14
        }
      ]
    },
    {
      "cell_type": "code",
      "metadata": {
        "id": "toJkpU-VxuHe",
        "colab_type": "code",
        "outputId": "668d2502-57ee-41eb-8528-1ef106ff2110",
        "colab": {
          "base_uri": "https://localhost:8080/",
          "height": 35
        }
      },
      "source": [
        "# Chapter 4 Exercises\n",
        "\n",
        "## See how well you can predict the outcome of the people in the testing table from using the training table as the \"crowd\" that you build your predictions based on\n",
        "### For each row in the testing table, call up.knn to get a prediction using k = 5 and similarity measure 'cosine'\n",
        "### Store the predictions in a new list\n",
        "\n",
        "n = len(testing_table)\n",
        "\n",
        "predictions = []\n",
        "\n",
        "for i in range(n):\n",
        "  rows_to_lists = testing_table.iloc[i].tolist()\n",
        "  test_values = rows_to_lists[2:]\n",
        "  preds = up.knn(test_values, training_passengers_matrix, training_labels, 5, 'cosine')\n",
        "  predictions.append(preds)\n",
        "\n",
        "print(predictions[:20])"
      ],
      "execution_count": 18,
      "outputs": [
        {
          "output_type": "stream",
          "text": [
            "[0, 0, 1, 1, 0, 0, 0, 0, 0, 0, 0, 0, 0, 0, 0, 0, 1, 0, 0, 0]\n"
          ],
          "name": "stdout"
        }
      ]
    }
  ]
}